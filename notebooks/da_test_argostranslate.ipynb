{
 "cells": [
  {
   "cell_type": "code",
   "execution_count": 1,
   "id": "f4535341-4cd4-4536-9365-5dc209715dee",
   "metadata": {},
   "outputs": [],
   "source": [
    "# !pip install argostranslate\n",
    "# !argospm update"
   ]
  },
  {
   "cell_type": "code",
   "execution_count": 5,
   "id": "d040431c-11fd-4bd6-a714-a1dd02f9c289",
   "metadata": {},
   "outputs": [],
   "source": [
    "import argostranslate.package, argostranslate.translate"
   ]
  },
  {
   "cell_type": "code",
   "execution_count": 9,
   "id": "9f4f1133-8d1f-4ef1-97dc-34286ff190ef",
   "metadata": {},
   "outputs": [
    {
     "name": "stdout",
     "output_type": "stream",
     "text": [
      "I'm healthy!\n"
     ]
    }
   ],
   "source": [
    "from_code = \"de\"\n",
    "to_code = \"en\"\n",
    "\n",
    "# Download and install Argos Translate package\n",
    "available_packages = argostranslate.package.get_available_packages()\n",
    "\n",
    "available_package = list(\n",
    "    filter(\n",
    "        lambda x: x.from_code == from_code and x.to_code == to_code, available_packages\n",
    "    )\n",
    ")[0]\n",
    "download_path = available_package.download()\n",
    "argostranslate.package.install_from_path(download_path)\n",
    "\n",
    "# Translate\n",
    "installed_languages = argostranslate.translate.get_installed_languages()\n",
    "from_lang = list(filter(\n",
    "\tlambda x: x.code == from_code,\n",
    "\tinstalled_languages))[0]\n",
    "to_lang = list(filter(\n",
    "\tlambda x: x.code == to_code,\n",
    "\tinstalled_languages))[0]\n",
    "translation = from_lang.get_translation(to_lang)\n",
    "translatedText = translation.translate(\"ich bin gesund!\")\n",
    "print(translatedText)"
   ]
  }
 ],
 "metadata": {
  "kernelspec": {
   "display_name": "Python 3 (ipykernel)",
   "language": "python",
   "name": "python3"
  },
  "language_info": {
   "codemirror_mode": {
    "name": "ipython",
    "version": 3
   },
   "file_extension": ".py",
   "mimetype": "text/x-python",
   "name": "python",
   "nbconvert_exporter": "python",
   "pygments_lexer": "ipython3",
   "version": "3.8.12"
  }
 },
 "nbformat": 4,
 "nbformat_minor": 5
}
