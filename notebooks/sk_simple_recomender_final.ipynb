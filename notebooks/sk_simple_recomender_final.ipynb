{
 "cells": [
  {
   "cell_type": "markdown",
   "id": "e30b4f55",
   "metadata": {},
   "source": [
    "# importing data from database"
   ]
  },
  {
   "cell_type": "code",
   "execution_count": 1,
   "id": "f24eedd9",
   "metadata": {},
   "outputs": [],
   "source": [
    "import numpy as np\n",
    "import pandas as pd\n",
    "from SportsExperiencePlatform.data import connect_db, get_data\n",
    "import nltk\n",
    "from nltk.corpus import stopwords\n",
    "from nltk.tokenize import word_tokenize\n",
    "from nltk.stem import WordNetLemmatizer\n",
    "import string\n",
    "from sklearn.feature_extraction.text import TfidfVectorizer, CountVectorizer\n",
    "from scipy.sparse import save_npz, load_npz"
   ]
  },
  {
   "cell_type": "code",
   "execution_count": null,
   "id": "497125d6",
   "metadata": {},
   "outputs": [],
   "source": []
  },
  {
   "cell_type": "code",
   "execution_count": 8,
   "id": "15cb4996",
   "metadata": {},
   "outputs": [
    {
     "name": "stderr",
     "output_type": "stream",
     "text": [
      "/home/daniel/.pyenv/versions/3.8.12/envs/SportsExperiencePlatform/lib/python3.8/site-packages/pandas/io/sql.py:761: UserWarning: pandas only support SQLAlchemy connectable(engine/connection) ordatabase string URI or sqlite3 DBAPI2 connectionother DBAPI2 objects are not tested, please consider using SQLAlchemy\n",
      "  warnings.warn(\n",
      "/home/daniel/.pyenv/versions/3.8.12/envs/SportsExperiencePlatform/lib/python3.8/site-packages/pandas/io/sql.py:761: UserWarning: pandas only support SQLAlchemy connectable(engine/connection) ordatabase string URI or sqlite3 DBAPI2 connectionother DBAPI2 objects are not tested, please consider using SQLAlchemy\n",
      "  warnings.warn(\n",
      "/home/daniel/.pyenv/versions/3.8.12/envs/SportsExperiencePlatform/lib/python3.8/site-packages/pandas/io/sql.py:761: UserWarning: pandas only support SQLAlchemy connectable(engine/connection) ordatabase string URI or sqlite3 DBAPI2 connectionother DBAPI2 objects are not tested, please consider using SQLAlchemy\n",
      "  warnings.warn(\n"
     ]
    }
   ],
   "source": [
    "conn = connect_db()\n",
    "\n",
    "if conn:\n",
    "    users_df, events_df, ahoy_events_df = get_data(conn)"
   ]
  },
  {
   "cell_type": "code",
   "execution_count": 3,
   "id": "265479b4",
   "metadata": {},
   "outputs": [
    {
     "data": {
      "text/plain": [
       "((9, 17), (904, 17), (53, 6))"
      ]
     },
     "execution_count": 3,
     "metadata": {},
     "output_type": "execute_result"
    }
   ],
   "source": [
    "users_df.shape, events_df.shape, ahoy_events_df.shape"
   ]
  },
  {
   "cell_type": "code",
   "execution_count": 15,
   "id": "890ea5f6-4cab-47a2-9466-004297e8416a",
   "metadata": {},
   "outputs": [
    {
     "data": {
      "text/plain": [
       "{'user': 70, 'offer': 4393}"
      ]
     },
     "execution_count": 15,
     "metadata": {},
     "output_type": "execute_result"
    }
   ],
   "source": [
    "ahoy_events_df[ahoy_events_df['user_id'] == 70].properties.values[0]"
   ]
  },
  {
   "cell_type": "markdown",
   "id": "bf9f1642",
   "metadata": {},
   "source": [
    "# advanced cleaning of data"
   ]
  },
  {
   "cell_type": "code",
   "execution_count": 16,
   "id": "5c4acc8f",
   "metadata": {},
   "outputs": [],
   "source": [
    "import pandas as pd\n",
    "import re\n",
    "import string\n",
    "from bs4 import BeautifulSoup\n",
    "import nltk\n",
    "from nltk.stem import PorterStemmer\n",
    "from nltk.stem.wordnet import WordNetLemmatizer\n",
    "import spacy\n",
    "from googletrans import Translator"
   ]
  },
  {
   "cell_type": "code",
   "execution_count": 17,
   "id": "07a5bac1",
   "metadata": {},
   "outputs": [],
   "source": [
    "# load spacy\n",
    "nlp = spacy.load('en_core_web_sm')\n",
    "\n",
    "def clean_string(text,stem=\"None\"):\n",
    "\n",
    "    final_string = \"\"\n",
    "\n",
    "    # make lower\n",
    "    text = text.lower()\n",
    "    \n",
    "    # remove http\n",
    "    text = re.sub(r\"http.*\\.[a-z]{2,3}\",\"\",text)\n",
    "\n",
    "    # remove www\n",
    "    text = re.sub(r\"www.*\\.[a-z]{2,3}\",\"\",text)\n",
    "    \n",
    "    # remove line breaks\n",
    "    text = re.sub(r'\\n','',text)\n",
    "\n",
    "    # remove puncuation\n",
    "    translator = str.maketrans('','',string.punctuation)\n",
    "    text = text.translate(translator)\n",
    "\n",
    "    # remove stop words\n",
    "    text = text.split()\n",
    "    useless_words = nltk.corpus.stopwords.words(\"english\")\n",
    "    text_filtered = [word for word in text if not word in useless_words]\n",
    "\n",
    "    # remove numbers\n",
    "    text_filtered = [re.sub(r'\\w*\\d\\w*','',w) for w in text_filtered]\n",
    "\n",
    "    # stem or lemmatize\n",
    "    if stem == 'Stem':\n",
    "        stemmer = PorterStemmer() \n",
    "        text_stemmed = [stemmer.stem(y) for y in text_filtered]\n",
    "    elif stem == 'Lem':\n",
    "        lem = WordNetLemmatizer()\n",
    "        text_stemmed = [lem.lemmatize(y) for y in text_filtered]\n",
    "    elif stem == 'Spacy':\n",
    "        text_filtered = nlp(' '.join(text_filtered))\n",
    "        text_stemmed = [y.lemma_ for y in text_filtered]\n",
    "    else:\n",
    "        text_stemmed = text_filtered\n",
    "\n",
    "    final_string = ' '.join(text_stemmed)\n",
    "\n",
    "    return final_string\n",
    "        \n",
    "        "
   ]
  },
  {
   "cell_type": "code",
   "execution_count": 18,
   "id": "ce3152ff",
   "metadata": {},
   "outputs": [],
   "source": [
    "events_df['clean_description'] = events_df['description'].apply(lambda x: clean_string(x))\n",
    "events_df['clean_title'] = events_df['title'].apply(lambda x: clean_string(x))"
   ]
  },
  {
   "cell_type": "code",
   "execution_count": 19,
   "id": "835c1b02",
   "metadata": {},
   "outputs": [],
   "source": [
    "events_df['combined'] = events_df['clean_title'] + events_df['clean_description']\n"
   ]
  },
  {
   "cell_type": "code",
   "execution_count": 20,
   "id": "4368bba2",
   "metadata": {},
   "outputs": [],
   "source": [
    "def generate_list(x):\n",
    "    val = list(x.split())\n",
    "    val = \" \".join(val[:300])\n",
    "    return val"
   ]
  },
  {
   "cell_type": "code",
   "execution_count": 21,
   "id": "2e801959",
   "metadata": {},
   "outputs": [],
   "source": [
    "events_df['combined_pruned'] = events_df['combined'].apply(lambda x: generate_list(x))"
   ]
  },
  {
   "cell_type": "code",
   "execution_count": 22,
   "id": "b6114cae",
   "metadata": {},
   "outputs": [],
   "source": [
    "from googletrans import Translator\n",
    "def language_translation(string):\n",
    "    \n",
    "    translator = Translator()\n",
    "    if translator.detect(string).lang != 'en':\n",
    "        result = translator.translate(string)\n",
    "        return result.text\n",
    "    else:\n",
    "        return string"
   ]
  },
  {
   "cell_type": "code",
   "execution_count": 23,
   "id": "0406d46d",
   "metadata": {},
   "outputs": [
    {
     "name": "stdout",
     "output_type": "stream",
     "text": [
      "CPU times: user 23.7 s, sys: 637 ms, total: 24.3 s\n",
      "Wall time: 3min 44s\n"
     ]
    }
   ],
   "source": [
    "%%time\n",
    "events_df['translated'] = events_df['combined_pruned'].apply(lambda x: language_translation(x))"
   ]
  },
  {
   "cell_type": "code",
   "execution_count": 24,
   "id": "825604a0",
   "metadata": {},
   "outputs": [
    {
     "data": {
      "text/plain": [
       "'kickerworld berlinberlins modern hall indoor soccer unique blue artificial turf latest generation offers optimal conditions incomparable playing experience soccer courts extend area meters separated professional barrier system beach court outdoor area perfect thrilling game beach soccer volleyball summer long refreshing drink snack sporting activities welcome beach bar garden restaurant depending weather'"
      ]
     },
     "execution_count": 24,
     "metadata": {},
     "output_type": "execute_result"
    }
   ],
   "source": [
    "events_df['translated'][0]"
   ]
  },
  {
   "cell_type": "code",
   "execution_count": 25,
   "id": "108eceec",
   "metadata": {},
   "outputs": [
    {
     "data": {
      "text/plain": [
       "array([66, 70])"
      ]
     },
     "execution_count": 25,
     "metadata": {},
     "output_type": "execute_result"
    }
   ],
   "source": [
    "ahoy_events_df.user_id.unique()"
   ]
  },
  {
   "cell_type": "markdown",
   "id": "57cbba7a",
   "metadata": {},
   "source": [
    "## tfidf on clean data"
   ]
  },
  {
   "cell_type": "code",
   "execution_count": 26,
   "id": "09dd9571",
   "metadata": {},
   "outputs": [],
   "source": [
    "from sklearn.feature_extraction.text import TfidfVectorizer, CountVectorizer\n",
    "\n",
    "tfidf = TfidfVectorizer(stop_words=\"english\")"
   ]
  },
  {
   "cell_type": "code",
   "execution_count": 27,
   "id": "fe129670",
   "metadata": {},
   "outputs": [
    {
     "data": {
      "text/plain": [
       "(904, 7622)"
      ]
     },
     "execution_count": 27,
     "metadata": {},
     "output_type": "execute_result"
    }
   ],
   "source": [
    "tfidf_matrix = tfidf.fit_transform(events_df[\"translated\"])\n",
    "tfidf_matrix.shape"
   ]
  },
  {
   "cell_type": "code",
   "execution_count": 28,
   "id": "302cb92e",
   "metadata": {},
   "outputs": [],
   "source": [
    "cosine_sim = tfidf_matrix.dot(tfidf_matrix.T)"
   ]
  },
  {
   "cell_type": "code",
   "execution_count": 29,
   "id": "f974adf6",
   "metadata": {},
   "outputs": [
    {
     "data": {
      "text/plain": [
       "(904, 904)"
      ]
     },
     "execution_count": 29,
     "metadata": {},
     "output_type": "execute_result"
    }
   ],
   "source": [
    "cosine_sim.shape"
   ]
  },
  {
   "cell_type": "markdown",
   "id": "7f30f6bf",
   "metadata": {},
   "source": [
    "# updating event prediction: finalizing stuff"
   ]
  },
  {
   "cell_type": "code",
   "execution_count": 30,
   "id": "62e1f277",
   "metadata": {},
   "outputs": [],
   "source": [
    "def haversine_vectorized(user_lat,\n",
    "                         user_lon,\n",
    "                         event_lat,\n",
    "                         event_lon):\n",
    "    \"\"\"\n",
    "        Calculate the great circle distance between two points\n",
    "        on the earth (specified in decimal degrees).\n",
    "        Vectorized version of the haversine distance for pandas df\n",
    "        Computes distance in kms\n",
    "    \"\"\"\n",
    "\n",
    "    lat_1_rad, lon_1_rad = np.radians(user_lat), np.radians(user_lon)\n",
    "    lat_2_rad, lon_2_rad = np.radians(event_lat), np.radians(event_lon)\n",
    "    dlon = lon_2_rad - lon_1_rad\n",
    "    dlat = lat_2_rad - lat_1_rad\n",
    "\n",
    "    a = np.sin(dlat / 2.0) ** 2 + np.cos(lat_1_rad) * np.cos(lat_2_rad) * np.sin(dlon / 2.0) ** 2\n",
    "    c = 2 * np.arcsin(np.sqrt(a))\n",
    "    return 6371 * c"
   ]
  },
  {
   "cell_type": "code",
   "execution_count": 31,
   "id": "5c91513a",
   "metadata": {},
   "outputs": [],
   "source": [
    "def get_event_id(user_id):\n",
    "    ''' this finction grabs the title of an event used by an user from ahoy_events dataset'''\n",
    "    \n",
    "    event_id = ahoy_events_df[ahoy_events_df['user_id']== user_id].iloc[-1].properties['offer']\n",
    "    # now we get the title of the event\n",
    "    #event_id = events_df[events_df['id']==event_idx].title\n",
    "    \n",
    "    return event_id \n",
    "\n"
   ]
  },
  {
   "cell_type": "code",
   "execution_count": 33,
   "id": "58778c33",
   "metadata": {},
   "outputs": [
    {
     "data": {
      "text/plain": [
       "4555"
      ]
     },
     "execution_count": 33,
     "metadata": {},
     "output_type": "execute_result"
    }
   ],
   "source": [
    "get_event_id(66)"
   ]
  },
  {
   "cell_type": "code",
   "execution_count": 34,
   "id": "cb6f46bb",
   "metadata": {},
   "outputs": [],
   "source": [
    "import datetime\n",
    "from datetime import date\n",
    "\n",
    "def get_event_id(user_id, df = ahoy_events_df):\n",
    "    ''' this finction grabs the title of an event used by an user from ahoy_events dataset'''\n",
    "    \n",
    "    event_id = ahoy_events_df[ahoy_events_df['user_id']== user_id].iloc[-1].properties['offer']\n",
    "    # now we get the title of the event\n",
    "    #event_id = events_df[events_df['id']==event_idx].title\n",
    "    \n",
    "    return event_id \n",
    "\n",
    "def get_user_loc(user_id, df = users_df):   \n",
    "    ''' this finction grabs the location of an user from ahoy_events dataset'''\n",
    "    \n",
    "    users_idx = users_df[users_df['id']== user_id]\n",
    "    # now we get the user's latitude and longitude\n",
    "    \n",
    "    location_dict = {'user_latitude' : float(users_idx.latitude.values), \n",
    "                     \n",
    "                     'user_longitude' : float(users_idx.longitude.values)\n",
    "                        }\n",
    "     \n",
    "    return location_dict\n",
    "\n",
    "\n",
    "def content_recommender(user_id, cosine_sim = cosine_sim, df = events_df):\n",
    "    '''This recommender finds out 100 closest matches with a given event'''\n",
    "    \n",
    "    #calling user id from ahoy_events\n",
    "    \n",
    "    event_id = get_event_id(user_id, df = ahoy_events_df)\n",
    "    \n",
    "    event_idx = events_df[events_df['id']== get_event_id(user_id)].index\n",
    "\n",
    "    \n",
    "    sim_scores = list(enumerate(cosine_sim[event_idx].todense().tolist()[0]))\n",
    "    # list of set [(index, sim score), (index, sim score), ...]\n",
    "    \n",
    "    sim_scores = sorted(sim_scores, key = lambda x: x[1], reverse = True)\n",
    "    # Sort the list of set by sim score, index with highest simlirarity\n",
    "    # Will be at the beginning of the list\n",
    "    \n",
    "    sim_scores = sim_scores[1:101] # top 100 events (first one is our input events so we ignore it)\n",
    "    \n",
    "    sport_indices = [i[0] for i in sim_scores] # we grab the indices of those 10 events\n",
    "    \n",
    "    df_all_recommendations = df.iloc[sport_indices][[ 'id','title', 'latitude', 'longitude', 'offer_date']]\n",
    "    \n",
    "    df_date_filter = df_all_recommendations[df_all_recommendations['offer_date'] >= datetime.date.today()]\n",
    "    \n",
    "    #calcullation of haversine distance for users:\n",
    "    user_latitude = get_user_loc(user_id, df = users_df)['user_latitude']\n",
    "    user_longitude = get_user_loc(user_id, df = users_df)['user_longitude']\n",
    "    \n",
    "    df_date_filter['user_latitude'] = user_latitude\n",
    "    df_date_filter['user_longitude'] = user_longitude\n",
    "    \n",
    "    df_date_filter[\"distance\"] = haversine_vectorized(df_date_filter.latitude, df_date_filter.longitude,\n",
    "                                                      df_date_filter.user_latitude, df_date_filter.user_longitude)\n",
    "            \n",
    "    df_location_filter = df_date_filter[df_date_filter['distance'] <= 200.0]\n",
    "    \n",
    "    \n",
    "                                                \n",
    "    return df_location_filter\n",
    "#     return user_latitude"
   ]
  },
  {
   "cell_type": "code",
   "execution_count": 38,
   "id": "6afc835c",
   "metadata": {},
   "outputs": [
    {
     "data": {
      "text/html": [
       "<div>\n",
       "<style scoped>\n",
       "    .dataframe tbody tr th:only-of-type {\n",
       "        vertical-align: middle;\n",
       "    }\n",
       "\n",
       "    .dataframe tbody tr th {\n",
       "        vertical-align: top;\n",
       "    }\n",
       "\n",
       "    .dataframe thead th {\n",
       "        text-align: right;\n",
       "    }\n",
       "</style>\n",
       "<table border=\"1\" class=\"dataframe\">\n",
       "  <thead>\n",
       "    <tr style=\"text-align: right;\">\n",
       "      <th></th>\n",
       "      <th>id</th>\n",
       "      <th>title</th>\n",
       "      <th>latitude</th>\n",
       "      <th>longitude</th>\n",
       "      <th>offer_date</th>\n",
       "      <th>user_latitude</th>\n",
       "      <th>user_longitude</th>\n",
       "      <th>distance</th>\n",
       "    </tr>\n",
       "  </thead>\n",
       "  <tbody>\n",
       "    <tr>\n",
       "      <th>263</th>\n",
       "      <td>4395</td>\n",
       "      <td>+FREE  Meditation &amp; Yoga  (vor Ort und Online)...</td>\n",
       "      <td>47.861961</td>\n",
       "      <td>12.126140</td>\n",
       "      <td>2022-06-09</td>\n",
       "      <td>48.135124</td>\n",
       "      <td>11.581981</td>\n",
       "      <td>50.615362</td>\n",
       "    </tr>\n",
       "    <tr>\n",
       "      <th>322</th>\n",
       "      <td>4397</td>\n",
       "      <td>+FREE  Meditation &amp; Yoga  (vor Ort und Online)...</td>\n",
       "      <td>47.861961</td>\n",
       "      <td>12.126140</td>\n",
       "      <td>2022-06-16</td>\n",
       "      <td>48.135124</td>\n",
       "      <td>11.581981</td>\n",
       "      <td>50.615362</td>\n",
       "    </tr>\n",
       "    <tr>\n",
       "      <th>323</th>\n",
       "      <td>4398</td>\n",
       "      <td>+FREE  Meditation &amp; Yoga  (vor Ort und Online)...</td>\n",
       "      <td>47.861961</td>\n",
       "      <td>12.126140</td>\n",
       "      <td>2022-06-23</td>\n",
       "      <td>48.135124</td>\n",
       "      <td>11.581981</td>\n",
       "      <td>50.615362</td>\n",
       "    </tr>\n",
       "    <tr>\n",
       "      <th>854</th>\n",
       "      <td>4942</td>\n",
       "      <td>Online: Meditation - Zeit für Dich</td>\n",
       "      <td>48.773899</td>\n",
       "      <td>9.160990</td>\n",
       "      <td>2022-06-08</td>\n",
       "      <td>48.135124</td>\n",
       "      <td>11.581981</td>\n",
       "      <td>192.137549</td>\n",
       "    </tr>\n",
       "    <tr>\n",
       "      <th>855</th>\n",
       "      <td>4943</td>\n",
       "      <td>Online: Meditation - Zeit für Dich</td>\n",
       "      <td>48.773899</td>\n",
       "      <td>9.160990</td>\n",
       "      <td>2022-06-09</td>\n",
       "      <td>48.135124</td>\n",
       "      <td>11.581981</td>\n",
       "      <td>192.137549</td>\n",
       "    </tr>\n",
       "    <tr>\n",
       "      <th>857</th>\n",
       "      <td>4945</td>\n",
       "      <td>Online: Meditation - Zeit für Dich</td>\n",
       "      <td>48.773899</td>\n",
       "      <td>9.160990</td>\n",
       "      <td>2022-06-16</td>\n",
       "      <td>48.135124</td>\n",
       "      <td>11.581981</td>\n",
       "      <td>192.137549</td>\n",
       "    </tr>\n",
       "    <tr>\n",
       "      <th>858</th>\n",
       "      <td>4946</td>\n",
       "      <td>Online: Meditation - Zeit für Dich</td>\n",
       "      <td>48.773899</td>\n",
       "      <td>9.160990</td>\n",
       "      <td>2022-06-17</td>\n",
       "      <td>48.135124</td>\n",
       "      <td>11.581981</td>\n",
       "      <td>192.137549</td>\n",
       "    </tr>\n",
       "    <tr>\n",
       "      <th>860</th>\n",
       "      <td>4948</td>\n",
       "      <td>Online: Meditation - Zeit für Dich</td>\n",
       "      <td>48.773899</td>\n",
       "      <td>9.160990</td>\n",
       "      <td>2022-06-21</td>\n",
       "      <td>48.135124</td>\n",
       "      <td>11.581981</td>\n",
       "      <td>192.137549</td>\n",
       "    </tr>\n",
       "    <tr>\n",
       "      <th>861</th>\n",
       "      <td>4949</td>\n",
       "      <td>Online: Meditation - Zeit für Dich</td>\n",
       "      <td>48.773899</td>\n",
       "      <td>9.160990</td>\n",
       "      <td>2022-06-14</td>\n",
       "      <td>48.135124</td>\n",
       "      <td>11.581981</td>\n",
       "      <td>192.137549</td>\n",
       "    </tr>\n",
       "    <tr>\n",
       "      <th>862</th>\n",
       "      <td>4950</td>\n",
       "      <td>Online: Meditation - Zeit für Dich</td>\n",
       "      <td>48.773899</td>\n",
       "      <td>9.160990</td>\n",
       "      <td>2022-06-20</td>\n",
       "      <td>48.135124</td>\n",
       "      <td>11.581981</td>\n",
       "      <td>192.137549</td>\n",
       "    </tr>\n",
       "    <tr>\n",
       "      <th>863</th>\n",
       "      <td>4951</td>\n",
       "      <td>Online: Meditation - Zeit für Dich</td>\n",
       "      <td>48.773899</td>\n",
       "      <td>9.160990</td>\n",
       "      <td>2022-06-22</td>\n",
       "      <td>48.135124</td>\n",
       "      <td>11.581981</td>\n",
       "      <td>192.137549</td>\n",
       "    </tr>\n",
       "    <tr>\n",
       "      <th>865</th>\n",
       "      <td>4953</td>\n",
       "      <td>Online: Meditation - Zeit für Dich</td>\n",
       "      <td>48.773899</td>\n",
       "      <td>9.160990</td>\n",
       "      <td>2022-06-15</td>\n",
       "      <td>48.135124</td>\n",
       "      <td>11.581981</td>\n",
       "      <td>192.137549</td>\n",
       "    </tr>\n",
       "    <tr>\n",
       "      <th>868</th>\n",
       "      <td>4955</td>\n",
       "      <td>Online: Meditation - Zeit für Dich</td>\n",
       "      <td>48.773899</td>\n",
       "      <td>9.160990</td>\n",
       "      <td>2022-06-10</td>\n",
       "      <td>48.135124</td>\n",
       "      <td>11.581981</td>\n",
       "      <td>192.137549</td>\n",
       "    </tr>\n",
       "    <tr>\n",
       "      <th>870</th>\n",
       "      <td>4957</td>\n",
       "      <td>Online: Meditation - Zeit für Dich</td>\n",
       "      <td>48.773899</td>\n",
       "      <td>9.160990</td>\n",
       "      <td>2022-06-13</td>\n",
       "      <td>48.135124</td>\n",
       "      <td>11.581981</td>\n",
       "      <td>192.137549</td>\n",
       "    </tr>\n",
       "    <tr>\n",
       "      <th>871</th>\n",
       "      <td>4958</td>\n",
       "      <td>Online: Meditation - Zeit für Dich</td>\n",
       "      <td>48.773899</td>\n",
       "      <td>9.160990</td>\n",
       "      <td>2022-06-23</td>\n",
       "      <td>48.135124</td>\n",
       "      <td>11.581981</td>\n",
       "      <td>192.137549</td>\n",
       "    </tr>\n",
       "    <tr>\n",
       "      <th>872</th>\n",
       "      <td>4959</td>\n",
       "      <td>Online: Meditation - Zeit für Dich</td>\n",
       "      <td>48.773899</td>\n",
       "      <td>9.160990</td>\n",
       "      <td>2022-06-24</td>\n",
       "      <td>48.135124</td>\n",
       "      <td>11.581981</td>\n",
       "      <td>192.137549</td>\n",
       "    </tr>\n",
       "    <tr>\n",
       "      <th>856</th>\n",
       "      <td>4944</td>\n",
       "      <td>Online: Meditate to regenerate (EN)</td>\n",
       "      <td>48.773625</td>\n",
       "      <td>9.161062</td>\n",
       "      <td>2022-06-16</td>\n",
       "      <td>48.135124</td>\n",
       "      <td>11.581981</td>\n",
       "      <td>192.121775</td>\n",
       "    </tr>\n",
       "    <tr>\n",
       "      <th>859</th>\n",
       "      <td>4947</td>\n",
       "      <td>Online: Meditate to regenerate (EN)</td>\n",
       "      <td>48.773625</td>\n",
       "      <td>9.161062</td>\n",
       "      <td>2022-06-19</td>\n",
       "      <td>48.135124</td>\n",
       "      <td>11.581981</td>\n",
       "      <td>192.121775</td>\n",
       "    </tr>\n",
       "    <tr>\n",
       "      <th>864</th>\n",
       "      <td>4952</td>\n",
       "      <td>Online: Meditate to regenerate (EN)</td>\n",
       "      <td>48.773625</td>\n",
       "      <td>9.161062</td>\n",
       "      <td>2022-06-23</td>\n",
       "      <td>48.135124</td>\n",
       "      <td>11.581981</td>\n",
       "      <td>192.121775</td>\n",
       "    </tr>\n",
       "    <tr>\n",
       "      <th>866</th>\n",
       "      <td>4954</td>\n",
       "      <td>Online: Meditate to regenerate (EN)</td>\n",
       "      <td>48.773625</td>\n",
       "      <td>9.161062</td>\n",
       "      <td>2022-06-09</td>\n",
       "      <td>48.135124</td>\n",
       "      <td>11.581981</td>\n",
       "      <td>192.121775</td>\n",
       "    </tr>\n",
       "    <tr>\n",
       "      <th>869</th>\n",
       "      <td>4956</td>\n",
       "      <td>Online: Meditate to regenerate (EN)</td>\n",
       "      <td>48.773625</td>\n",
       "      <td>9.161062</td>\n",
       "      <td>2022-06-12</td>\n",
       "      <td>48.135124</td>\n",
       "      <td>11.581981</td>\n",
       "      <td>192.121775</td>\n",
       "    </tr>\n",
       "    <tr>\n",
       "      <th>873</th>\n",
       "      <td>4960</td>\n",
       "      <td>Online: Meditate to regenerate (EN)</td>\n",
       "      <td>48.773625</td>\n",
       "      <td>9.161062</td>\n",
       "      <td>2022-06-26</td>\n",
       "      <td>48.135124</td>\n",
       "      <td>11.581981</td>\n",
       "      <td>192.121775</td>\n",
       "    </tr>\n",
       "    <tr>\n",
       "      <th>238</th>\n",
       "      <td>4320</td>\n",
       "      <td>Kundalini meditation</td>\n",
       "      <td>48.096770</td>\n",
       "      <td>11.513542</td>\n",
       "      <td>2022-06-08</td>\n",
       "      <td>48.135124</td>\n",
       "      <td>11.581981</td>\n",
       "      <td>6.633364</td>\n",
       "    </tr>\n",
       "    <tr>\n",
       "      <th>239</th>\n",
       "      <td>4321</td>\n",
       "      <td>Kundalini meditation</td>\n",
       "      <td>48.096770</td>\n",
       "      <td>11.513542</td>\n",
       "      <td>2022-06-22</td>\n",
       "      <td>48.135124</td>\n",
       "      <td>11.581981</td>\n",
       "      <td>6.633364</td>\n",
       "    </tr>\n",
       "    <tr>\n",
       "      <th>240</th>\n",
       "      <td>4322</td>\n",
       "      <td>Kundalini meditation</td>\n",
       "      <td>48.096770</td>\n",
       "      <td>11.513542</td>\n",
       "      <td>2022-06-15</td>\n",
       "      <td>48.135124</td>\n",
       "      <td>11.581981</td>\n",
       "      <td>6.633364</td>\n",
       "    </tr>\n",
       "    <tr>\n",
       "      <th>312</th>\n",
       "      <td>4387</td>\n",
       "      <td>Thai Yoga Massage Workshop</td>\n",
       "      <td>48.158232</td>\n",
       "      <td>11.579644</td>\n",
       "      <td>2022-06-21</td>\n",
       "      <td>48.135124</td>\n",
       "      <td>11.581981</td>\n",
       "      <td>2.575300</td>\n",
       "    </tr>\n",
       "    <tr>\n",
       "      <th>250</th>\n",
       "      <td>4331</td>\n",
       "      <td>Yoga by the Sea &amp; HIke in the mountains , Outd...</td>\n",
       "      <td>48.139774</td>\n",
       "      <td>11.560959</td>\n",
       "      <td>2022-06-25</td>\n",
       "      <td>48.135124</td>\n",
       "      <td>11.581981</td>\n",
       "      <td>1.643406</td>\n",
       "    </tr>\n",
       "  </tbody>\n",
       "</table>\n",
       "</div>"
      ],
      "text/plain": [
       "       id                                              title   latitude  \\\n",
       "263  4395  +FREE  Meditation & Yoga  (vor Ort und Online)...  47.861961   \n",
       "322  4397  +FREE  Meditation & Yoga  (vor Ort und Online)...  47.861961   \n",
       "323  4398  +FREE  Meditation & Yoga  (vor Ort und Online)...  47.861961   \n",
       "854  4942                 Online: Meditation - Zeit für Dich  48.773899   \n",
       "855  4943                 Online: Meditation - Zeit für Dich  48.773899   \n",
       "857  4945                 Online: Meditation - Zeit für Dich  48.773899   \n",
       "858  4946                 Online: Meditation - Zeit für Dich  48.773899   \n",
       "860  4948                 Online: Meditation - Zeit für Dich  48.773899   \n",
       "861  4949                 Online: Meditation - Zeit für Dich  48.773899   \n",
       "862  4950                 Online: Meditation - Zeit für Dich  48.773899   \n",
       "863  4951                 Online: Meditation - Zeit für Dich  48.773899   \n",
       "865  4953                 Online: Meditation - Zeit für Dich  48.773899   \n",
       "868  4955                 Online: Meditation - Zeit für Dich  48.773899   \n",
       "870  4957                 Online: Meditation - Zeit für Dich  48.773899   \n",
       "871  4958                 Online: Meditation - Zeit für Dich  48.773899   \n",
       "872  4959                 Online: Meditation - Zeit für Dich  48.773899   \n",
       "856  4944                Online: Meditate to regenerate (EN)  48.773625   \n",
       "859  4947                Online: Meditate to regenerate (EN)  48.773625   \n",
       "864  4952                Online: Meditate to regenerate (EN)  48.773625   \n",
       "866  4954                Online: Meditate to regenerate (EN)  48.773625   \n",
       "869  4956                Online: Meditate to regenerate (EN)  48.773625   \n",
       "873  4960                Online: Meditate to regenerate (EN)  48.773625   \n",
       "238  4320                               Kundalini meditation  48.096770   \n",
       "239  4321                               Kundalini meditation  48.096770   \n",
       "240  4322                               Kundalini meditation  48.096770   \n",
       "312  4387                         Thai Yoga Massage Workshop  48.158232   \n",
       "250  4331  Yoga by the Sea & HIke in the mountains , Outd...  48.139774   \n",
       "\n",
       "     longitude  offer_date  user_latitude  user_longitude    distance  \n",
       "263  12.126140  2022-06-09      48.135124       11.581981   50.615362  \n",
       "322  12.126140  2022-06-16      48.135124       11.581981   50.615362  \n",
       "323  12.126140  2022-06-23      48.135124       11.581981   50.615362  \n",
       "854   9.160990  2022-06-08      48.135124       11.581981  192.137549  \n",
       "855   9.160990  2022-06-09      48.135124       11.581981  192.137549  \n",
       "857   9.160990  2022-06-16      48.135124       11.581981  192.137549  \n",
       "858   9.160990  2022-06-17      48.135124       11.581981  192.137549  \n",
       "860   9.160990  2022-06-21      48.135124       11.581981  192.137549  \n",
       "861   9.160990  2022-06-14      48.135124       11.581981  192.137549  \n",
       "862   9.160990  2022-06-20      48.135124       11.581981  192.137549  \n",
       "863   9.160990  2022-06-22      48.135124       11.581981  192.137549  \n",
       "865   9.160990  2022-06-15      48.135124       11.581981  192.137549  \n",
       "868   9.160990  2022-06-10      48.135124       11.581981  192.137549  \n",
       "870   9.160990  2022-06-13      48.135124       11.581981  192.137549  \n",
       "871   9.160990  2022-06-23      48.135124       11.581981  192.137549  \n",
       "872   9.160990  2022-06-24      48.135124       11.581981  192.137549  \n",
       "856   9.161062  2022-06-16      48.135124       11.581981  192.121775  \n",
       "859   9.161062  2022-06-19      48.135124       11.581981  192.121775  \n",
       "864   9.161062  2022-06-23      48.135124       11.581981  192.121775  \n",
       "866   9.161062  2022-06-09      48.135124       11.581981  192.121775  \n",
       "869   9.161062  2022-06-12      48.135124       11.581981  192.121775  \n",
       "873   9.161062  2022-06-26      48.135124       11.581981  192.121775  \n",
       "238  11.513542  2022-06-08      48.135124       11.581981    6.633364  \n",
       "239  11.513542  2022-06-22      48.135124       11.581981    6.633364  \n",
       "240  11.513542  2022-06-15      48.135124       11.581981    6.633364  \n",
       "312  11.579644  2022-06-21      48.135124       11.581981    2.575300  \n",
       "250  11.560959  2022-06-25      48.135124       11.581981    1.643406  "
      ]
     },
     "execution_count": 38,
     "metadata": {},
     "output_type": "execute_result"
    }
   ],
   "source": [
    "content_recommender(70)"
   ]
  },
  {
   "cell_type": "code",
   "execution_count": null,
   "id": "f524500c",
   "metadata": {},
   "outputs": [],
   "source": []
  },
  {
   "cell_type": "code",
   "execution_count": null,
   "id": "f8b5cf5e",
   "metadata": {},
   "outputs": [],
   "source": []
  },
  {
   "cell_type": "code",
   "execution_count": null,
   "id": "d18a73e0",
   "metadata": {},
   "outputs": [],
   "source": []
  },
  {
   "cell_type": "code",
   "execution_count": null,
   "id": "f7af1ad9",
   "metadata": {},
   "outputs": [],
   "source": []
  },
  {
   "cell_type": "markdown",
   "id": "ad648f35",
   "metadata": {},
   "source": []
  },
  {
   "cell_type": "code",
   "execution_count": null,
   "id": "eead4081",
   "metadata": {},
   "outputs": [],
   "source": []
  },
  {
   "cell_type": "code",
   "execution_count": null,
   "id": "a6ece3cd",
   "metadata": {},
   "outputs": [],
   "source": []
  },
  {
   "cell_type": "code",
   "execution_count": null,
   "id": "2a1a33f7",
   "metadata": {},
   "outputs": [],
   "source": []
  },
  {
   "cell_type": "code",
   "execution_count": null,
   "id": "1673bc22",
   "metadata": {},
   "outputs": [],
   "source": []
  },
  {
   "cell_type": "markdown",
   "id": "27f518a8",
   "metadata": {},
   "source": []
  },
  {
   "cell_type": "code",
   "execution_count": null,
   "id": "ee35009a",
   "metadata": {},
   "outputs": [],
   "source": []
  },
  {
   "cell_type": "code",
   "execution_count": null,
   "id": "bef611f3",
   "metadata": {},
   "outputs": [],
   "source": []
  },
  {
   "cell_type": "code",
   "execution_count": null,
   "id": "fb2e0c09",
   "metadata": {},
   "outputs": [],
   "source": []
  }
 ],
 "metadata": {
  "kernelspec": {
   "display_name": "Python 3 (ipykernel)",
   "language": "python",
   "name": "python3"
  },
  "language_info": {
   "codemirror_mode": {
    "name": "ipython",
    "version": 3
   },
   "file_extension": ".py",
   "mimetype": "text/x-python",
   "name": "python",
   "nbconvert_exporter": "python",
   "pygments_lexer": "ipython3",
   "version": "3.8.12"
  },
  "toc": {
   "base_numbering": 1,
   "nav_menu": {},
   "number_sections": true,
   "sideBar": true,
   "skip_h1_title": false,
   "title_cell": "Table of Contents",
   "title_sidebar": "Contents",
   "toc_cell": false,
   "toc_position": {},
   "toc_section_display": true,
   "toc_window_display": false
  }
 },
 "nbformat": 4,
 "nbformat_minor": 5
}
