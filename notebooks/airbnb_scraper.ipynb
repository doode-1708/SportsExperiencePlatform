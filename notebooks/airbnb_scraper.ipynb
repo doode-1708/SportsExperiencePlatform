{
 "cells": [
  {
   "cell_type": "code",
   "execution_count": 1,
   "id": "1de23acb",
   "metadata": {},
   "outputs": [],
   "source": [
    "import requests\n",
    "from bs4 import BeautifulSoup\n",
    "import pandas as pd"
   ]
  },
  {
   "cell_type": "code",
   "execution_count": 3,
   "id": "ae8a7d9b",
   "metadata": {},
   "outputs": [],
   "source": [
    "url = 'https://www.airbnb.com/s/berlin/experiences?tab_id=experience_tab&flexible_trip_lengths%5B%5D=one_week&rank_mode=default&kg_or_tags%5B%5D=Tag%3A459&search_type=unknown&refinement_paths%5B%5D=%2Fexperiences'\n",
    "city_list = ['Berlin', 'Cologne', 'Munich', 'Frankfurt']"
   ]
  },
  {
   "cell_type": "code",
   "execution_count": 53,
   "id": "dde0ca60",
   "metadata": {},
   "outputs": [
    {
     "data": {
      "text/plain": [
       "<a aria-label=\"Canoe Kreuzberg\" class=\"l4a2xp4 dir dir-ltr\" data-check-info-section=\"true\" href=\"/experiences/45303?location=berlin&amp;currentTab=experience_tab&amp;federatedSearchId=39998768-144a-4a35-a612-07e058c554ef&amp;searchId=&amp;sectionId=2ae59c48-ea59-4f9e-9ada-09de490b8c4a&amp;source=p2\" rel=\"noopener noreferrer nofollow\" target=\"_blank\"></a>"
      ]
     },
     "execution_count": 53,
     "metadata": {},
     "output_type": "execute_result"
    }
   ],
   "source": [
    "r = soup.find_all('a', class_ = 'l4a2xp4 dir dir-ltr')\n",
    "r[0]"
   ]
  },
  {
   "cell_type": "code",
   "execution_count": 54,
   "id": "4cfeb858",
   "metadata": {},
   "outputs": [
    {
     "name": "stdout",
     "output_type": "stream",
     "text": [
      "['Canoe Kreuzberg', 'Your Berlin Running Buddy', 'Canoe Berlin', 'Access to the most difficult clubs', 'FOTOBOOT photo safari boat tour on river Spree']\n"
     ]
    }
   ],
   "source": [
    "\n",
    "response = requests.get(url).content\n",
    "soup = BeautifulSoup(response, \"html.parser\")\n",
    "event_title = []\n",
    "event_link = []\n",
    "for event in soup.find_all('a', class_ = 'l4a2xp4 dir dir-ltr'):\n",
    "    event_title.append(event.get('aria-label'))\n",
    "    event_link.append(event.get('href'))\n",
    "    \n",
    "print(event_title)\n",
    "\n"
   ]
  },
  {
   "cell_type": "code",
   "execution_count": 57,
   "id": "ff3eaf3b",
   "metadata": {},
   "outputs": [
    {
     "data": {
      "text/plain": [
       "[]"
      ]
     },
     "execution_count": 57,
     "metadata": {},
     "output_type": "execute_result"
    }
   ],
   "source": [
    "cities = soup.find_all('div', class_ = 'i1hupcay dir dir-ltr')\n",
    "cities"
   ]
  },
  {
   "cell_type": "code",
   "execution_count": 48,
   "id": "7802e45a",
   "metadata": {},
   "outputs": [
    {
     "data": {
      "text/plain": [
       "bs4.element.ResultSet"
      ]
     },
     "execution_count": 48,
     "metadata": {},
     "output_type": "execute_result"
    }
   ],
   "source": [
    "<div class=\"i1hupcay dir dir-ltr\"><span class=\"c120lmsc dir dir-ltr\">Berlin</span></div>"
   ]
  },
  {
   "cell_type": "code",
   "execution_count": 47,
   "id": "95652ada",
   "metadata": {},
   "outputs": [
    {
     "ename": "TypeError",
     "evalue": "'int' object is not iterable",
     "output_type": "error",
     "traceback": [
      "\u001b[0;31m---------------------------------------------------------------------------\u001b[0m",
      "\u001b[0;31mTypeError\u001b[0m                                 Traceback (most recent call last)",
      "Input \u001b[0;32mIn [47]\u001b[0m, in \u001b[0;36m<cell line: 2>\u001b[0;34m()\u001b[0m\n\u001b[1;32m      1\u001b[0m event_link \u001b[38;5;241m=\u001b[39m []\n\u001b[0;32m----> 2\u001b[0m \u001b[38;5;28;01mfor\u001b[39;00m i \u001b[38;5;129;01min\u001b[39;00m \u001b[38;5;28mlen\u001b[39m(r):\n\u001b[1;32m      3\u001b[0m     event_link \u001b[38;5;241m=\u001b[39m r[\u001b[38;5;241m0\u001b[39m]\u001b[38;5;241m.\u001b[39mget(\u001b[38;5;124m'\u001b[39m\u001b[38;5;124mhref\u001b[39m\u001b[38;5;124m'\u001b[39m)\n\u001b[1;32m      4\u001b[0m \u001b[38;5;28mprint\u001b[39m(event_link)\n",
      "\u001b[0;31mTypeError\u001b[0m: 'int' object is not iterable"
     ]
    }
   ],
   "source": [
    "event_link = []\n",
    "for i in len(r):\n",
    "    event_link = r[0].get('href')\n",
    "print(event_link)"
   ]
  },
  {
   "cell_type": "code",
   "execution_count": 14,
   "id": "b2e421bc",
   "metadata": {},
   "outputs": [
    {
     "ename": "ValueError",
     "evalue": "not enough values to unpack (expected 2, got 0)",
     "output_type": "error",
     "traceback": [
      "\u001b[0;31m---------------------------------------------------------------------------\u001b[0m",
      "\u001b[0;31mValueError\u001b[0m                                Traceback (most recent call last)",
      "Input \u001b[0;32mIn [14]\u001b[0m, in \u001b[0;36m<cell line: 1>\u001b[0;34m()\u001b[0m\n\u001b[0;32m----> 1\u001b[0m \u001b[38;5;28;01mfor\u001b[39;00m event_titles, event_details \u001b[38;5;129;01min\u001b[39;00m soup\u001b[38;5;241m.\u001b[39mfind_all(\u001b[38;5;124m\"\u001b[39m\u001b[38;5;124ma\u001b[39m\u001b[38;5;124m\"\u001b[39m, class_\u001b[38;5;241m=\u001b[39m\u001b[38;5;124m\"\u001b[39m\u001b[38;5;124ml4a2xp4 dir dir-ltr\u001b[39m\u001b[38;5;124m\"\u001b[39m):\n\u001b[1;32m      2\u001b[0m         title \u001b[38;5;241m=\u001b[39m event_titles\u001b[38;5;241m.\u001b[39mfind(\u001b[38;5;124m'\u001b[39m\u001b[38;5;124ma\u001b[39m\u001b[38;5;124m'\u001b[39m)\n\u001b[1;32m      3\u001b[0m         event_title \u001b[38;5;241m=\u001b[39m title\u001b[38;5;241m.\u001b[39mcontents[\u001b[38;5;241m2\u001b[39m]\u001b[38;5;241m.\u001b[39mstrip()\n",
      "\u001b[0;31mValueError\u001b[0m: not enough values to unpack (expected 2, got 0)"
     ]
    }
   ],
   "source": [
    "for event_titles, event_details in soup.find_all(\"a\", class_=\"l4a2xp4 dir dir-ltr\"):\n",
    "        title = event_titles.find('a')\n",
    "        event_title = title.contents[2].strip()\n",
    "        event_link = title['href']\n",
    "        event_location, event_date = event_details.find(\"h2\").contents[0].strip().split(',')\n",
    "        event_description = event_details.find(\"p\").contents[0].strip()"
   ]
  },
  {
   "cell_type": "code",
   "execution_count": null,
   "id": "4ab3c5f4",
   "metadata": {},
   "outputs": [],
   "source": []
  },
  {
   "cell_type": "code",
   "execution_count": null,
   "id": "f22894d0",
   "metadata": {},
   "outputs": [],
   "source": [
    "<div aria-label=\"Canoe Kreuzberg\" class=\"c26ov08 dir dir-ltr\" role=\"group\" style=\"--theme_typography-color-primary:var(--f-k-smk-x); --theme_typography-color-secondary:var(--fo-jk-r-s);\"><a aria-label=\"Canoe Kreuzberg\" class=\"l4a2xp4 dir dir-ltr\" data-check-info-section=\"true\" href=\"/experiences/45303?location=berlin&amp;federatedSearchId=92de8e84-b54e-4eac-860d-21a5c4560af2&amp;searchId=301df28e-ffbc-4818-bed1-f66cdf10fe29&amp;sectionId=634c35f9-59a0-4553-a26a-96a4a921f4c0&amp;source=p2\" rel=\"noopener noreferrer nofollow\" target=\"_self\"></a><div class=\"mienw4b dir dir-ltr\"><div class=\"cza9200 cf0wwk1 cccwndf cof42p7 c1ex7ql7 c1lah4g9 dir dir-ltr\" style=\"--media-container_border-radius:var(--i-g-gvoq);\"><div class=\"c1x635tr dir dir-ltr\"><div class=\"_v0gz4uz\" style=\"--dls-liteimage-padding-top:133.333%;\"><div class=\"_4626ulj\"><picture><source srcset=\"https://a0.muscache.com/im/pictures/lombard/MtTemplate-45303-poster/original/0cfa4f1d-ed7e-4c56-979c-5c696f215a79.jpeg?im_w=720 2x\" media=\"(max-width: 743px)\"><source srcset=\"https://a0.muscache.com/im/pictures/lombard/MtTemplate-45303-poster/original/0cfa4f1d-ed7e-4c56-979c-5c696f215a79.jpeg?im_w=1440 2x\" media=\"(min-width: 743.1px) and (max-width: 1127px)\"><source srcset=\"https://a0.muscache.com/im/pictures/lombard/MtTemplate-45303-poster/original/0cfa4f1d-ed7e-4c56-979c-5c696f215a79.jpeg?im_w=2560 2x\" media=\"(min-width: 1127.1px) and (max-width: 1439px)\"><source srcset=\"https://a0.muscache.com/im/pictures/lombard/MtTemplate-45303-poster/original/0cfa4f1d-ed7e-4c56-979c-5c696f215a79.jpeg?im_w=2560 2x\" media=\"(min-width: 1439.1px)\"><img class=\"_1cb9q3xq\" aria-hidden=\"true\" alt=\"\" decoding=\"async\" elementtiming=\"LCP-target\" loading=\"lazy\" src=\"https://a0.muscache.com/im/pictures/lombard/MtTemplate-45303-poster/original/0cfa4f1d-ed7e-4c56-979c-5c696f215a79.jpeg?im_w=720\" data-original-uri=\"https://a0.muscache.com/im/pictures/lombard/MtTemplate-45303-poster/original/0cfa4f1d-ed7e-4c56-979c-5c696f215a79.jpeg?aki_policy=poster\" style=\"object-fit: cover;\"></picture><div class=\"_10xjrv2u\" style=\"background-image: url(&quot;https://a0.muscache.com/im/pictures/lombard/MtTemplate-45303-poster/original/0cfa4f1d-ed7e-4c56-979c-5c696f215a79.jpeg?im_w=720&quot;); background-size: cover;\"></div></div></div></div><div class=\"oqfm1x2 dir dir-ltr\" style=\"--media-overlay_top-row-padding:var(--fgg-f-l-a);\"><div class=\"t9qxf6 dir dir-ltr\"><div></div><div class=\"wpz67sv dir dir-ltr\"><button aria-label=\"Save this Experience\" type=\"button\" class=\"b1vr1agd vlzgbic dir dir-ltr\"><svg viewBox=\"0 0 32 32\" xmlns=\"http://www.w3.org/2000/svg\" aria-hidden=\"true\" role=\"presentation\" focusable=\"false\" style=\"display: block; fill: rgba(0, 0, 0, 0.5); height: 24px; width: 24px; stroke: var(--f-mkcy-f); stroke-width: 2; overflow: visible;\"><path d=\"m16 28c7-4.733 14-10 14-17 0-1.792-.683-3.583-2.05-4.95-1.367-1.366-3.158-2.05-4.95-2.05-1.791 0-3.583.684-4.949 2.05l-2.051 2.051-2.05-2.051c-1.367-1.366-3.158-2.05-4.95-2.05-1.791 0-3.583.684-4.949 2.05-1.367 1.367-2.051 3.158-2.051 4.95 0 7 7 12.267 14 17z\"></path></svg></button></div></div></div></div></div><div class=\"c1accnih c13dz2y3 dir dir-ltr\"><span aria-label=\"Rating 4.86 out of 5; 381 reviews\" class=\"sftrzuu s15vsdt dir dir-ltr\" role=\"img\"><span class=\"sfqq6w5 dir dir-ltr\"><svg viewBox=\"0 0 32 32\" xmlns=\"http://www.w3.org/2000/svg\" aria-hidden=\"true\" role=\"presentation\" focusable=\"false\" style=\"display: block; height: 10px; width: 10px; fill: currentcolor;\"><path d=\"M15.094 1.579l-4.124 8.885-9.86 1.27a1 1 0 0 0-.542 1.736l7.293 6.565-1.965 9.852a1 1 0 0 0 1.483 1.061L16 25.951l8.625 4.997a1 1 0 0 0 1.482-1.06l-1.965-9.853 7.293-6.565a1 1 0 0 0-.541-1.735l-9.86-1.271-4.127-8.885a1 1 0 0 0-1.814 0z\" fill-rule=\"evenodd\"></path></svg></span><span aria-hidden=\"true\" class=\"rpz7y38 dir dir-ltr\">4.86</span><span aria-hidden=\"true\" class=\"r1xr6rtg dir dir-ltr\">&nbsp;(381)</span></span><div aria-hidden=\"true\" class=\"ststif dir dir-ltr\">·</div><div class=\"mivm6tg mig889x dir dir-ltr\">Berlin</div></div><div class=\"c1bx80b8 dir dir-ltr\" style=\"--margin-top:6px;\"><span class=\"ts5gl90 t1e6bw26 dir dir-ltr\" style=\"--title_font-weight:var(--e-y-j-d-v-j); --title_num-lines:2;\">Canoe Kreuzberg</span></div><div class=\"p1gc5i7n p1te2i6m dir dir-ltr\" style=\"--margin-top:6px;\"><span><span class=\"f15hpjxs dir dir-ltr\">From <span class=\"p1rwcrd9 dir dir-ltr\"><span class=\"a8jt5op dir dir-ltr\">Price:</span>€39</span></span> / person</span></div></div>"
   ]
  }
 ],
 "metadata": {
  "kernelspec": {
   "display_name": "Python 3 (ipykernel)",
   "language": "python",
   "name": "python3"
  },
  "language_info": {
   "codemirror_mode": {
    "name": "ipython",
    "version": 3
   },
   "file_extension": ".py",
   "mimetype": "text/x-python",
   "name": "python",
   "nbconvert_exporter": "python",
   "pygments_lexer": "ipython3",
   "version": "3.8.13"
  },
  "toc": {
   "base_numbering": 1,
   "nav_menu": {},
   "number_sections": true,
   "sideBar": true,
   "skip_h1_title": false,
   "title_cell": "Table of Contents",
   "title_sidebar": "Contents",
   "toc_cell": false,
   "toc_position": {},
   "toc_section_display": true,
   "toc_window_display": false
  }
 },
 "nbformat": 4,
 "nbformat_minor": 5
}
