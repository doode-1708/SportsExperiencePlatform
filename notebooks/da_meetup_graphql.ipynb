{
 "cells": [
  {
   "cell_type": "code",
   "execution_count": 2,
   "id": "7774f552-8648-40bb-80c8-abdd2062f131",
   "metadata": {},
   "outputs": [],
   "source": [
    "import requests"
   ]
  },
  {
   "cell_type": "code",
   "execution_count": 3,
   "id": "20d0b30a-8ba0-4340-98c8-e2af734eb59d",
   "metadata": {},
   "outputs": [
    {
     "name": "stdout",
     "output_type": "stream",
     "text": [
      "Serving HTTP on 0.0.0.0 port 8000 (http://0.0.0.0:8000/) ...\n",
      "^C\n",
      "\n",
      "Keyboard interrupt received, exiting.\n"
     ]
    }
   ],
   "source": [
    "#!python -m http.server"
   ]
  },
  {
   "cell_type": "code",
   "execution_count": 17,
   "id": "8edbfa01-9a2d-4327-9f4b-212fd9525ce1",
   "metadata": {},
   "outputs": [],
   "source": [
    "consumer_key = 'i3vceldog8736e0nrc1b2ve886'\n",
    "\n",
    "auth_url = f'https://secure.meetup.com/oauth2/authorize?client_id={consumer_key}&response_type=code&redirect_uri=http://127.0.0.1:8000/'"
   ]
  },
  {
   "cell_type": "code",
   "execution_count": 18,
   "id": "3e399c70-d6e8-4136-9a8c-a72377f5add4",
   "metadata": {},
   "outputs": [],
   "source": [
    "auth_response = requests.get(auth_url)"
   ]
  },
  {
   "cell_type": "code",
   "execution_count": 19,
   "id": "4f1a40a9-22c9-4a76-b82b-6509ceec34a4",
   "metadata": {},
   "outputs": [
    {
     "data": {
      "text/plain": [
       "<Response [403]>"
      ]
     },
     "execution_count": 19,
     "metadata": {},
     "output_type": "execute_result"
    }
   ],
   "source": [
    "auth_response"
   ]
  },
  {
   "cell_type": "code",
   "execution_count": null,
   "id": "f0fb7314-c254-4d43-920d-6688fbb4cf69",
   "metadata": {},
   "outputs": [],
   "source": []
  }
 ],
 "metadata": {
  "kernelspec": {
   "display_name": "Python 3 (ipykernel)",
   "language": "python",
   "name": "python3"
  },
  "language_info": {
   "codemirror_mode": {
    "name": "ipython",
    "version": 3
   },
   "file_extension": ".py",
   "mimetype": "text/x-python",
   "name": "python",
   "nbconvert_exporter": "python",
   "pygments_lexer": "ipython3",
   "version": "3.8.12"
  }
 },
 "nbformat": 4,
 "nbformat_minor": 5
}
