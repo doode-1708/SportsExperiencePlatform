{
 "cells": [
  {
   "cell_type": "code",
   "execution_count": 6,
   "id": "7774f552-8648-40bb-80c8-abdd2062f131",
   "metadata": {},
   "outputs": [],
   "source": [
    "import requests"
   ]
  },
  {
   "cell_type": "code",
   "execution_count": 3,
   "id": "20d0b30a-8ba0-4340-98c8-e2af734eb59d",
   "metadata": {},
   "outputs": [
    {
     "name": "stdout",
     "output_type": "stream",
     "text": [
      "Serving HTTP on 0.0.0.0 port 8000 (http://0.0.0.0:8000/) ...\n",
      "^C\n",
      "\n",
      "Keyboard interrupt received, exiting.\n"
     ]
    }
   ],
   "source": [
    "#!python -m http.server"
   ]
  },
  {
   "cell_type": "code",
   "execution_count": 56,
   "id": "8edbfa01-9a2d-4327-9f4b-212fd9525ce1",
   "metadata": {},
   "outputs": [],
   "source": [
    "client_id = '1fvo2c155aknlf8i37h7p6qeri'\n",
    "client_secret = 'oqm61c2725jpfbo2i4s18t12c0'\n",
    "base_api_url = 'https://api.meetup.com/gql'\n",
    "redirect_uri = 'https://event-collector-api.herokuapp.com/'\n",
    "\n",
    "auth_url = f'https://secure.meetup.com/oauth2/authorize'\n",
    "access_url = f'https://secure.meetup.com/oauth2/access'"
   ]
  },
  {
   "cell_type": "code",
   "execution_count": 44,
   "id": "9e679ec2-519f-4a02-9570-14a10a8c0f7f",
   "metadata": {},
   "outputs": [],
   "source": [
    "grant_type = 'anonymous_code'\n",
    "headers = {'Accept': 'application/json'}\n",
    "auth_params = {'client_id': client_id,\n",
    "               'response_type': grant_type,\n",
    "               'redirect_uri': redirect_uri}"
   ]
  },
  {
   "cell_type": "code",
   "execution_count": 45,
   "id": "3e399c70-d6e8-4136-9a8c-a72377f5add4",
   "metadata": {},
   "outputs": [],
   "source": [
    "auth_response = requests.get(auth_url, params=auth_params, headers=headers)"
   ]
  },
  {
   "cell_type": "code",
   "execution_count": 46,
   "id": "0845101a-80ee-4931-9f8c-3d925d626a47",
   "metadata": {},
   "outputs": [
    {
     "data": {
      "text/plain": [
       "{'code': '801d2ccbeae6b9998bce98758a81d187'}"
      ]
     },
     "execution_count": 46,
     "metadata": {},
     "output_type": "execute_result"
    }
   ],
   "source": [
    "auth_response.json()"
   ]
  },
  {
   "cell_type": "code",
   "execution_count": null,
   "id": "6eff59b6-bbfb-441f-9dd6-51e1d8b842cb",
   "metadata": {},
   "outputs": [],
   "source": []
  },
  {
   "cell_type": "code",
   "execution_count": 47,
   "id": "9f5ac64d-d3f3-464b-888d-61a37cefed69",
   "metadata": {},
   "outputs": [],
   "source": [
    "auth_token = auth_response.json()[\"code\"]"
   ]
  },
  {
   "cell_type": "code",
   "execution_count": 48,
   "id": "4f1a40a9-22c9-4a76-b82b-6509ceec34a4",
   "metadata": {},
   "outputs": [],
   "source": [
    "access_params = {'client_id': client_id,\n",
    "                         'client_secret': client_secret,\n",
    "                         'grant_type': grant_type,\n",
    "                         'redirect_uri': redirect_uri,\n",
    "                         'code': auth_token}"
   ]
  },
  {
   "cell_type": "code",
   "execution_count": 49,
   "id": "f0fb7314-c254-4d43-920d-6688fbb4cf69",
   "metadata": {},
   "outputs": [],
   "source": [
    "access_response = requests.post(access_url, params=access_params, headers=headers)"
   ]
  },
  {
   "cell_type": "code",
   "execution_count": 50,
   "id": "d7b94e3c-97b8-47da-a705-679776663799",
   "metadata": {},
   "outputs": [],
   "source": [
    "access_token = access_response.json()\n",
    "auth_string = 'Bearer %s' % access_token\n",
    "oauth_headers = {'Accept': 'application/json', 'Authorization': auth_string}"
   ]
  },
  {
   "cell_type": "code",
   "execution_count": 54,
   "id": "ccad0af8-4258-4192-bddc-184b1f879fca",
   "metadata": {},
   "outputs": [
    {
     "data": {
      "text/plain": [
       "{'Accept': 'application/json',\n",
       " 'Authorization': \"Bearer {'access_token': 'a406572e929965c5707dcaa9486e878a', 'refresh_token': 'fd14e5d6ea168ace11bad3543179372b', 'member': {'country': 'at', 'city': 'Vienna', 'name': 'prereg_member_5768072516400', 'lon': 16.372696, 'id': 362296471, 'state': '09', 'lat': 48.1933}, 'token_type': 'bearer', 'expires_in': 3600}\"}"
      ]
     },
     "execution_count": 54,
     "metadata": {},
     "output_type": "execute_result"
    }
   ],
   "source": [
    "oauth_headers"
   ]
  },
  {
   "cell_type": "code",
   "execution_count": 107,
   "id": "8d5d48a8-cc7e-4db1-939e-5a964ddb12cb",
   "metadata": {},
   "outputs": [],
   "source": [
    "activity = 'fitness'"
   ]
  },
  {
   "cell_type": "code",
   "execution_count": 108,
   "id": "f93adacf-7908-4772-bd0c-936f19dae6c4",
   "metadata": {},
   "outputs": [],
   "source": [
    "lat = 52.520008\n",
    "lon = 13.404954\n",
    "radius = 50\n",
    "\n",
    "query = \"\"\"query {\n",
    "    keywordSearch(filter: { query: \"%s\", lat: %s, lon: %s, radius: %s, source: EVENTS }) {\n",
    "        count\n",
    "        pageInfo {\n",
    "            endCursor\n",
    "        }\n",
    "        edges {\n",
    "            node {\n",
    "                id\n",
    "            }\n",
    "        }\n",
    "    }   \n",
    "}\"\"\" % (activity, lat, lon, radius)\n",
    "res = requests.post(base_api_url, json={'query': query}, headers=oauth_headers)"
   ]
  },
  {
   "cell_type": "code",
   "execution_count": 110,
   "id": "90bb2da5-ad4c-4894-9adf-1180a6f4e8c8",
   "metadata": {},
   "outputs": [
    {
     "name": "stdout",
     "output_type": "stream",
     "text": [
      "{'title': 'Berlin Outdoor Fitness Volkspark Wilmersdorf', 'description': 'Diese Gruppe ist für alle gedacht, die gerne draußen Sport treiben', 'dateTime': '2022-05-28T11:00+02:00', 'eventUrl': 'https://www.meetup.com/Berlin-Outdoor-Fitness-Volkspark-Wilmersdorf/events/285775643'}\n",
      "{'title': 'Berlin Outdoor Fitness Volkspark Wilmersdorf', 'description': 'Diese Gruppe ist für alle gedacht, die gerne draußen Sport treiben', 'dateTime': '2022-05-18T18:30+02:00', 'eventUrl': 'https://www.meetup.com/Berlin-Outdoor-Fitness-Volkspark-Wilmersdorf/events/285570491'}\n",
      "{'title': 'Berlin Outdoor Fitness Volkspark Wilmersdorf', 'description': 'Diese Gruppe ist für alle gedacht, die gerne draußen Sport treiben', 'dateTime': '2022-05-21T11:00+02:00', 'eventUrl': 'https://www.meetup.com/Berlin-Outdoor-Fitness-Volkspark-Wilmersdorf/events/285626483'}\n",
      "{'title': 'Berlin Outdoor Fitness Volkspark Wilmersdorf', 'description': 'Diese Gruppe ist für alle gedacht, die gerne draußen Sport treiben', 'dateTime': '2022-06-01T18:30+02:00', 'eventUrl': 'https://www.meetup.com/Berlin-Outdoor-Fitness-Volkspark-Wilmersdorf/events/285865106'}\n",
      "{'title': 'Berlin Outdoor Fitness Volkspark Wilmersdorf', 'description': 'Diese Gruppe ist für alle gedacht, die gerne draußen Sport treiben', 'dateTime': '2022-05-25T18:30+02:00', 'eventUrl': 'https://www.meetup.com/Berlin-Outdoor-Fitness-Volkspark-Wilmersdorf/events/285721134'}\n",
      "{'title': 'Berlin Outdoor Fitness Volkspark Wilmersdorf', 'description': 'Diese Gruppe ist für alle gedacht, die gerne draußen Sport treiben', 'dateTime': '2022-06-04T11:00+02:00', 'eventUrl': 'https://www.meetup.com/Berlin-Outdoor-Fitness-Volkspark-Wilmersdorf/events/285920486'}\n",
      "{'title': 'Total Body Fit - Online über Zoom', 'description': 'Total Body Fit ist ein Ganzkörpertraining und für alle Fitness Level geeignet, da es immer Alternativen zu den meist funktionellen Übungen gibt. Dieses Programm bietet Dir eine gute Mischung aus Kraftausdauer- und Ausdauerübungen. Jeder Kurs wird neu gestaltet, damit keine Langeweile aufkommt und Dein Körper sich nicht an die Übungen gewöhnt.\\nEs sind keine Koordinationsfähigkeiten notwendig.\\n\\nBuche Deine kostenlose Probestunde jetzt (für Neukunden) bei nadia@befitinlife.com oder kaufe Dein Drop in direkt hier. Für die Zukunft kannst Du eine 10er Karte für 130 in unsere Shop kaufen.\\n\\nRichte dir Deinen Platz in Deiner Wohnung ein und lege Dir Handtuch, Wasser und Hanteln/Wasserflaschen zurecht.\\n\\nWir freuen uns auf Dich!\\nHerzliche Grüße Nadia\\n\\nBei Fragen kontaktiere uns gerne: Sobald Du Dich angemeldet hast sende ich Dir Deinen Link.\\n\\nMöchtest Du lieber in Person trainieren, dann buche ein Personal Training mit Nadia oder besuche unsere Website, um die Termin für Specials zu sehen.\\nnadia@befitinlife.com\\nwww.befitinlife.com\\n\\nDie Teilnahme an unseren Kursen unterliegt unseren AGBs auf unserer Website.', 'dateTime': '2022-05-26T20:00+02:00', 'eventUrl': 'https://www.meetup.com/BeFitinLife-Berlin/events/285746491'}\n",
      "{'title': 'Total Body Fit - Online über Zoom', 'description': 'Total Body Fit ist ein Ganzkörpertraining und für alle Fitness Level geeignet, da es immer Alternativen zu den meist funktionellen Übungen gibt. Dieses Programm bietet Dir eine gute Mischung aus Kraftausdauer- und Ausdauerübungen. Jeder Kurs wird neu gestaltet, damit keine Langeweile aufkommt und Dein Körper sich nicht an die Übungen gewöhnt.\\nEs sind keine Koordinationsfähigkeiten notwendig.\\n\\nBuche Deine kostenlose Probestunde jetzt (für Neukunden) bei nadia@befitinlife.com oder kaufe Dein Drop in direkt hier. Für die Zukunft kannst Du eine 10er Karte für 130 in unsere Shop kaufen.\\n\\nRichte dir Deinen Platz in Deiner Wohnung ein und lege Dir Handtuch, Wasser und Hanteln/Wasserflaschen zurecht.\\n\\nWir freuen uns auf Dich!\\nHerzliche Grüße Nadia\\n\\nBei Fragen kontaktiere uns gerne: Sobald Du Dich angemeldet hast sende ich Dir Deinen Link.\\n\\nMöchtest Du lieber in Person trainieren, dann buche ein Personal Training mit Nadia oder besuche unsere Website, um die Termin für Specials zu sehen.\\nnadia@befitinlife.com\\nwww.befitinlife.com\\n\\nDie Teilnahme an unseren Kursen unterliegt unseren AGBs auf unserer Website.', 'dateTime': '2022-05-19T20:00+02:00', 'eventUrl': 'https://www.meetup.com/BeFitinLife-Berlin/events/285597499'}\n",
      "{'title': 'Total Body Fit - Online über Zoom', 'description': 'Total Body Fit ist ein Ganzkörpertraining und für alle Fitness Level geeignet, da es immer Alternativen zu den meist funktionellen Übungen gibt. Dieses Programm bietet Dir eine gute Mischung aus Kraftausdauer- und Ausdauerübungen. Jeder Kurs wird neu gestaltet, damit keine Langeweile aufkommt und Dein Körper sich nicht an die Übungen gewöhnt.\\nEs sind keine Koordinationsfähigkeiten notwendig.\\n\\nBuche Deine kostenlose Probestunde jetzt (für Neukunden) bei nadia@befitinlife.com oder kaufe Dein Drop in direkt hier. Für die Zukunft kannst Du eine 10er Karte für 130 in unsere Shop kaufen.\\n\\nRichte dir Deinen Platz in Deiner Wohnung ein und lege Dir Handtuch, Wasser und Hanteln/Wasserflaschen zurecht.\\n\\nWir freuen uns auf Dich!\\nHerzliche Grüße Nadia\\n\\nBei Fragen kontaktiere uns gerne: Sobald Du Dich angemeldet hast sende ich Dir Deinen Link.\\n\\nMöchtest Du lieber in Person trainieren, dann buche ein Personal Training mit Nadia oder besuche unsere Website, um die Termin für Specials zu sehen.\\nnadia@befitinlife.com\\nwww.befitinlife.com\\n\\nDie Teilnahme an unseren Kursen unterliegt unseren AGBs auf unserer Website.', 'dateTime': '2022-06-02T20:00+02:00', 'eventUrl': 'https://www.meetup.com/BeFitinLife-Berlin/events/285893152'}\n",
      "{'title': 'High-Intensity Interval Training (Cardio & Strength) - All Fitness Levels', 'description': 'Book all trainings in advance at www.gritspot.de and receive a heart rate monitor to wear while you workout. IT’S FREE FOR 2 WEEKS!\\n\\nClasses in English and German. Eine Deutsche Version findest du unten.\\n\\nThe Gritspot Method:\\n\\n45-minute, high-intensity interval training (HIIT) group workouts propel your heart into its optimal training zone - your Gritspot. Intervals of cardiovascular and strength training - burpees, push-ups, battle ropes, lunges, crunches and more - keep you there.\\n\\nWhat’s YOUR Gritspot?\\n\\nHeart rate monitors worn during workouts analyze exactly how your heart responds to every squat, sit-up and sprint in real-time. Adjust your intensity based on your heart rate and fitness level, then watch on a large screen as you push yourself into the Gritspot - turning sweat into success!\\n\\nHave Fun Reaching Your Goals:\\n\\nNo matter your fitness level, you’ll see and feel results fast. Build lean muscle, improve cardiovascular fitness, increase speed, burn fat and calories – and have fun while you’re doing it!\\n\\nWe Get There Together:\\n\\nReaching your Gritspot requires sweat and perseverance BUT you’re not alone! Our expert coaches guide you through every workout + our large and diverse community of all fitness levels is with you every step of the way. Getting fit in Berlin has never been more interactive and exciting!\\n\\nLooking forward to seeing you soon!\\n\\nTry us FREE for 2 weeks\\n\\nSign up for 2 weeks of FREE training at www.gritspot.de right now.\\n\\nYou can also learn more about our pricing, workout locations and how to prepare for your first Gritspot experience.', 'dateTime': '2022-05-24T19:30+02:00', 'eventUrl': 'https://www.meetup.com/Outdoor-Fitness-Training-Berlin-Nordbahnhof/events/285699366'}\n",
      "{'title': 'High-Intensity Interval Training (Cardio & Strength) - All Fitness Levels', 'description': 'Book all trainings in advance at www.gritspot.de and receive a heart rate monitor to wear while you workout. IT’S FREE FOR 2 WEEKS!\\n\\nClasses in English and German. Eine Deutsche Version findest du unten.\\n\\nThe Gritspot Method:\\n\\n45-minute, high-intensity interval training (HIIT) group workouts propel your heart into its optimal training zone - your Gritspot. Intervals of cardiovascular and strength training - burpees, push-ups, battle ropes, lunges, crunches and more - keep you there.\\n\\nWhat’s YOUR Gritspot?\\n\\nHeart rate monitors worn during workouts analyze exactly how your heart responds to every squat, sit-up and sprint in real-time. Adjust your intensity based on your heart rate and fitness level, then watch on a large screen as you push yourself into the Gritspot - turning sweat into success!\\n\\nHave Fun Reaching Your Goals:\\n\\nNo matter your fitness level, you’ll see and feel results fast. Build lean muscle, improve cardiovascular fitness, increase speed, burn fat and calories – and have fun while you’re doing it!\\n\\nWe Get There Together:\\n\\nReaching your Gritspot requires sweat and perseverance BUT you’re not alone! Our expert coaches guide you through every workout + our large and diverse community of all fitness levels is with you every step of the way. Getting fit in Berlin has never been more interactive and exciting!\\n\\nLooking forward to seeing you soon!\\n\\nTry us FREE for 2 weeks\\n\\nSign up for 2 weeks of FREE training at www.gritspot.de right now.\\n\\nYou can also learn more about our pricing, workout locations and how to prepare for your first Gritspot experience.', 'dateTime': '2022-05-21T11:00+02:00', 'eventUrl': 'https://www.meetup.com/Outdoor-Fitness-Training-Berlin-Nordbahnhof/events/285626485'}\n",
      "{'title': 'High-Intensity Interval Training (Cardio & Strength) - All Fitness Levels', 'description': 'Book all trainings in advance at www.gritspot.de and receive a heart rate monitor to wear while you workout. IT’S FREE FOR 2 WEEKS!\\n\\nClasses in English and German. Eine Deutsche Version findest du unten.\\n\\nThe Gritspot Method:\\n\\n45-minute, high-intensity interval training (HIIT) group workouts propel your heart into its optimal training zone - your Gritspot. Intervals of cardiovascular and strength training - burpees, push-ups, battle ropes, lunges, crunches and more - keep you there.\\n\\nWhat’s YOUR Gritspot?\\n\\nHeart rate monitors worn during workouts analyze exactly how your heart responds to every squat, sit-up and sprint in real-time. Adjust your intensity based on your heart rate and fitness level, then watch on a large screen as you push yourself into the Gritspot - turning sweat into success!\\n\\nHave Fun Reaching Your Goals:\\n\\nNo matter your fitness level, you’ll see and feel results fast. Build lean muscle, improve cardiovascular fitness, increase speed, burn fat and calories – and have fun while you’re doing it!\\n\\nWe Get There Together:\\n\\nReaching your Gritspot requires sweat and perseverance BUT you’re not alone! Our expert coaches guide you through every workout + our large and diverse community of all fitness levels is with you every step of the way. Getting fit in Berlin has never been more interactive and exciting!\\n\\nLooking forward to seeing you soon!\\n\\nTry us FREE for 2 weeks\\n\\nSign up for 2 weeks of FREE training at www.gritspot.de right now.\\n\\nYou can also learn more about our pricing, workout locations and how to prepare for your first Gritspot experience.', 'dateTime': '2022-05-25T19:30+02:00', 'eventUrl': 'https://www.meetup.com/Outdoor-Fitness-Training-Berlin-Nordbahnhof/events/285722973'}\n",
      "{'title': 'High-Intensity Interval Training (Cardio & Strength) - All Fitness Levels', 'description': 'Book all trainings in advance at www.gritspot.de and receive a heart rate monitor to wear while you workout. IT’S FREE FOR 2 WEEKS!\\n\\nClasses in English and German. Eine Deutsche Version findest du unten.\\n\\nThe Gritspot Method:\\n\\n45-minute, high-intensity interval training (HIIT) group workouts propel your heart into its optimal training zone - your Gritspot. Intervals of cardiovascular and strength training - burpees, push-ups, battle ropes, lunges, crunches and more - keep you there.\\n\\nWhat’s YOUR Gritspot?\\n\\nHeart rate monitors worn during workouts analyze exactly how your heart responds to every squat, sit-up and sprint in real-time. Adjust your intensity based on your heart rate and fitness level, then watch on a large screen as you push yourself into the Gritspot - turning sweat into success!\\n\\nHave Fun Reaching Your Goals:\\n\\nNo matter your fitness level, you’ll see and feel results fast. Build lean muscle, improve cardiovascular fitness, increase speed, burn fat and calories – and have fun while you’re doing it!\\n\\nWe Get There Together:\\n\\nReaching your Gritspot requires sweat and perseverance BUT you’re not alone! Our expert coaches guide you through every workout + our large and diverse community of all fitness levels is with you every step of the way. Getting fit in Berlin has never been more interactive and exciting!\\n\\nLooking forward to seeing you soon!\\n\\nTry us FREE for 2 weeks\\n\\nSign up for 2 weeks of FREE training at www.gritspot.de right now.\\n\\nYou can also learn more about our pricing, workout locations and how to prepare for your first Gritspot experience.', 'dateTime': '2022-06-04T11:00+02:00', 'eventUrl': 'https://www.meetup.com/Outdoor-Fitness-Training-Berlin-Nordbahnhof/events/285920488'}\n",
      "{'title': 'High-Intensity Interval Training (Cardio & Strength) - All Fitness Levels', 'description': 'Book all trainings in advance at www.gritspot.de and receive a heart rate monitor to wear while you workout. IT’S FREE FOR 2 WEEKS!\\n\\nClasses in English and German. Eine Deutsche Version findest du unten.\\n\\nThe Gritspot Method:\\n\\n45-minute, high-intensity interval training (HIIT) group workouts propel your heart into its optimal training zone - your Gritspot. Intervals of cardiovascular and strength training - burpees, push-ups, battle ropes, lunges, crunches and more - keep you there.\\n\\nWhat’s YOUR Gritspot?\\n\\nHeart rate monitors worn during workouts analyze exactly how your heart responds to every squat, sit-up and sprint in real-time. Adjust your intensity based on your heart rate and fitness level, then watch on a large screen as you push yourself into the Gritspot - turning sweat into success!\\n\\nHave Fun Reaching Your Goals:\\n\\nNo matter your fitness level, you’ll see and feel results fast. Build lean muscle, improve cardiovascular fitness, increase speed, burn fat and calories – and have fun while you’re doing it!\\n\\nWe Get There Together:\\n\\nReaching your Gritspot requires sweat and perseverance BUT you’re not alone! Our expert coaches guide you through every workout + our large and diverse community of all fitness levels is with you every step of the way. Getting fit in Berlin has never been more interactive and exciting!\\n\\nLooking forward to seeing you soon!\\n\\nTry us FREE for 2 weeks\\n\\nSign up for 2 weeks of FREE training at www.gritspot.de right now.\\n\\nYou can also learn more about our pricing, workout locations and how to prepare for your first Gritspot experience.', 'dateTime': '2022-05-18T19:30+02:00', 'eventUrl': 'https://www.meetup.com/Outdoor-Fitness-Training-Berlin-Nordbahnhof/events/285572191'}\n",
      "{'title': 'High-Intensity Interval Training (Cardio & Strength) - All Fitness Levels', 'description': 'Book all trainings in advance at www.gritspot.de and receive a heart rate monitor to wear while you workout. IT’S FREE FOR 2 WEEKS!\\n\\nClasses in English and German. Eine Deutsche Version findest du unten.\\n\\nThe Gritspot Method:\\n\\n45-minute, high-intensity interval training (HIIT) group workouts propel your heart into its optimal training zone - your Gritspot. Intervals of cardiovascular and strength training - burpees, push-ups, battle ropes, lunges, crunches and more - keep you there.\\n\\nWhat’s YOUR Gritspot?\\n\\nHeart rate monitors worn during workouts analyze exactly how your heart responds to every squat, sit-up and sprint in real-time. Adjust your intensity based on your heart rate and fitness level, then watch on a large screen as you push yourself into the Gritspot - turning sweat into success!\\n\\nHave Fun Reaching Your Goals:\\n\\nNo matter your fitness level, you’ll see and feel results fast. Build lean muscle, improve cardiovascular fitness, increase speed, burn fat and calories – and have fun while you’re doing it!\\n\\nWe Get There Together:\\n\\nReaching your Gritspot requires sweat and perseverance BUT you’re not alone! Our expert coaches guide you through every workout + our large and diverse community of all fitness levels is with you every step of the way. Getting fit in Berlin has never been more interactive and exciting!\\n\\nLooking forward to seeing you soon!\\n\\nTry us FREE for 2 weeks\\n\\nSign up for 2 weeks of FREE training at www.gritspot.de right now.\\n\\nYou can also learn more about our pricing, workout locations and how to prepare for your first Gritspot experience.', 'dateTime': '2022-05-21T10:00+02:00', 'eventUrl': 'https://www.meetup.com/Outdoor-Fitness-Training-Berlin-Nordbahnhof/events/285625997'}\n",
      "{'title': 'High-Intensity Interval Training (Cardio & Strength) - All Fitness Levels', 'description': 'Book all trainings in advance at www.gritspot.de and receive a heart rate monitor to wear while you workout. IT’S FREE FOR 2 WEEKS!\\n\\nClasses in English and German. Eine Deutsche Version findest du unten.\\n\\nThe Gritspot Method:\\n\\n45-minute, high-intensity interval training (HIIT) group workouts propel your heart into its optimal training zone - your Gritspot. Intervals of cardiovascular and strength training - burpees, push-ups, battle ropes, lunges, crunches and more - keep you there.\\n\\nWhat’s YOUR Gritspot?\\n\\nHeart rate monitors worn during workouts analyze exactly how your heart responds to every squat, sit-up and sprint in real-time. Adjust your intensity based on your heart rate and fitness level, then watch on a large screen as you push yourself into the Gritspot - turning sweat into success!\\n\\nHave Fun Reaching Your Goals:\\n\\nNo matter your fitness level, you’ll see and feel results fast. Build lean muscle, improve cardiovascular fitness, increase speed, burn fat and calories – and have fun while you’re doing it!\\n\\nWe Get There Together:\\n\\nReaching your Gritspot requires sweat and perseverance BUT you’re not alone! Our expert coaches guide you through every workout + our large and diverse community of all fitness levels is with you every step of the way. Getting fit in Berlin has never been more interactive and exciting!\\n\\nLooking forward to seeing you soon!\\n\\nTry us FREE for 2 weeks\\n\\nSign up for 2 weeks of FREE training at www.gritspot.de right now.\\n\\nYou can also learn more about our pricing, workout locations and how to prepare for your first Gritspot experience.', 'dateTime': '2022-05-23T19:30+02:00', 'eventUrl': 'https://www.meetup.com/Outdoor-Fitness-Training-Berlin-Nordbahnhof/events/285677950'}\n",
      "{'title': 'High-Intensity Interval Training (Cardio & Strength) - All Fitness Levels', 'description': 'Book all trainings in advance at www.gritspot.de and receive a heart rate monitor to wear while you workout. IT’S FREE FOR 2 WEEKS!\\n\\nClasses in English and German. Eine Deutsche Version findest du unten.\\n\\nThe Gritspot Method:\\n\\n45-minute, high-intensity interval training (HIIT) group workouts propel your heart into its optimal training zone - your Gritspot. Intervals of cardiovascular and strength training - burpees, push-ups, battle ropes, lunges, crunches and more - keep you there.\\n\\nWhat’s YOUR Gritspot?\\n\\nHeart rate monitors worn during workouts analyze exactly how your heart responds to every squat, sit-up and sprint in real-time. Adjust your intensity based on your heart rate and fitness level, then watch on a large screen as you push yourself into the Gritspot - turning sweat into success!\\n\\nHave Fun Reaching Your Goals:\\n\\nNo matter your fitness level, you’ll see and feel results fast. Build lean muscle, improve cardiovascular fitness, increase speed, burn fat and calories – and have fun while you’re doing it!\\n\\nWe Get There Together:\\n\\nReaching your Gritspot requires sweat and perseverance BUT you’re not alone! Our expert coaches guide you through every workout + our large and diverse community of all fitness levels is with you every step of the way. Getting fit in Berlin has never been more interactive and exciting!\\n\\nLooking forward to seeing you soon!\\n\\nTry us FREE for 2 weeks\\n\\nSign up for 2 weeks of FREE training at www.gritspot.de right now.\\n\\nYou can also learn more about our pricing, workout locations and how to prepare for your first Gritspot experience.', 'dateTime': '2022-05-28T10:00+02:00', 'eventUrl': 'https://www.meetup.com/Outdoor-Fitness-Training-Berlin-Nordbahnhof/events/285775044'}\n",
      "{'title': 'High-Intensity Interval Training (Cardio & Strength) - All Fitness Levels', 'description': 'Book all trainings in advance at www.gritspot.de and receive a heart rate monitor to wear while you workout. IT’S FREE FOR 2 WEEKS!\\n\\nClasses in English and German. Eine Deutsche Version findest du unten.\\n\\nThe Gritspot Method:\\n\\n45-minute, high-intensity interval training (HIIT) group workouts propel your heart into its optimal training zone - your Gritspot. Intervals of cardiovascular and strength training - burpees, push-ups, battle ropes, lunges, crunches and more - keep you there.\\n\\nWhat’s YOUR Gritspot?\\n\\nHeart rate monitors worn during workouts analyze exactly how your heart responds to every squat, sit-up and sprint in real-time. Adjust your intensity based on your heart rate and fitness level, then watch on a large screen as you push yourself into the Gritspot - turning sweat into success!\\n\\nHave Fun Reaching Your Goals:\\n\\nNo matter your fitness level, you’ll see and feel results fast. Build lean muscle, improve cardiovascular fitness, increase speed, burn fat and calories – and have fun while you’re doing it!\\n\\nWe Get There Together:\\n\\nReaching your Gritspot requires sweat and perseverance BUT you’re not alone! Our expert coaches guide you through every workout + our large and diverse community of all fitness levels is with you every step of the way. Getting fit in Berlin has never been more interactive and exciting!\\n\\nLooking forward to seeing you soon!\\n\\nTry us FREE for 2 weeks\\n\\nSign up for 2 weeks of FREE training at www.gritspot.de right now.\\n\\nYou can also learn more about our pricing, workout locations and how to prepare for your first Gritspot experience.', 'dateTime': '2022-05-29T11:00+02:00', 'eventUrl': 'https://www.meetup.com/Outdoor-Fitness-Training-Berlin-Nordbahnhof/events/285795830'}\n",
      "{'title': 'High-Intensity Interval Training (Cardio & Strength) - All Fitness Levels', 'description': 'Book all trainings in advance at www.gritspot.de and receive a heart rate monitor to wear while you workout. IT’S FREE FOR 2 WEEKS!\\n\\nClasses in English and German. Eine Deutsche Version findest du unten.\\n\\nThe Gritspot Method:\\n\\n45-minute, high-intensity interval training (HIIT) group workouts propel your heart into its optimal training zone - your Gritspot. Intervals of cardiovascular and strength training - burpees, push-ups, battle ropes, lunges, crunches and more - keep you there.\\n\\nWhat’s YOUR Gritspot?\\n\\nHeart rate monitors worn during workouts analyze exactly how your heart responds to every squat, sit-up and sprint in real-time. Adjust your intensity based on your heart rate and fitness level, then watch on a large screen as you push yourself into the Gritspot - turning sweat into success!\\n\\nHave Fun Reaching Your Goals:\\n\\nNo matter your fitness level, you’ll see and feel results fast. Build lean muscle, improve cardiovascular fitness, increase speed, burn fat and calories – and have fun while you’re doing it!\\n\\nWe Get There Together:\\n\\nReaching your Gritspot requires sweat and perseverance BUT you’re not alone! Our expert coaches guide you through every workout + our large and diverse community of all fitness levels is with you every step of the way. Getting fit in Berlin has never been more interactive and exciting!\\n\\nLooking forward to seeing you soon!\\n\\nTry us FREE for 2 weeks\\n\\nSign up for 2 weeks of FREE training at www.gritspot.de right now.\\n\\nYou can also learn more about our pricing, workout locations and how to prepare for your first Gritspot experience.', 'dateTime': '2022-05-19T19:30+02:00', 'eventUrl': 'https://www.meetup.com/Outdoor-Fitness-Training-Berlin-Nordbahnhof/events/285597391'}\n",
      "{'title': 'High-Intensity Interval Training (Cardio & Strength) - All Fitness Levels', 'description': 'Book all trainings in advance at www.gritspot.de and receive a heart rate monitor to wear while you workout. IT’S FREE FOR 2 WEEKS!\\n\\nClasses in English and German. Eine Deutsche Version findest du unten.\\n\\nThe Gritspot Method:\\n\\n45-minute, high-intensity interval training (HIIT) group workouts propel your heart into its optimal training zone - your Gritspot. Intervals of cardiovascular and strength training - burpees, push-ups, battle ropes, lunges, crunches and more - keep you there.\\n\\nWhat’s YOUR Gritspot?\\n\\nHeart rate monitors worn during workouts analyze exactly how your heart responds to every squat, sit-up and sprint in real-time. Adjust your intensity based on your heart rate and fitness level, then watch on a large screen as you push yourself into the Gritspot - turning sweat into success!\\n\\nHave Fun Reaching Your Goals:\\n\\nNo matter your fitness level, you’ll see and feel results fast. Build lean muscle, improve cardiovascular fitness, increase speed, burn fat and calories – and have fun while you’re doing it!\\n\\nWe Get There Together:\\n\\nReaching your Gritspot requires sweat and perseverance BUT you’re not alone! Our expert coaches guide you through every workout + our large and diverse community of all fitness levels is with you every step of the way. Getting fit in Berlin has never been more interactive and exciting!\\n\\nLooking forward to seeing you soon!\\n\\nTry us FREE for 2 weeks\\n\\nSign up for 2 weeks of FREE training at www.gritspot.de right now.\\n\\nYou can also learn more about our pricing, workout locations and how to prepare for your first Gritspot experience.', 'dateTime': '2022-05-22T10:00+02:00', 'eventUrl': 'https://www.meetup.com/Outdoor-Fitness-Training-Berlin-Nordbahnhof/events/285646230'}\n"
     ]
    }
   ],
   "source": [
    "for events in res.json()['data']['keywordSearch']['edges']:\n",
    "    event_id = events['node']['id']\n",
    "    query_event = \"\"\"\n",
    "        query { \n",
    "            event(id: %s) { \n",
    "                title \n",
    "                description \n",
    "                dateTime \n",
    "                eventUrl\n",
    "            } \n",
    "        } \n",
    "        \"\"\" % (event_id)\n",
    "    res_event = requests.post(base_api_url, json={'query': query_event}, headers=oauth_headers)\n",
    "    print(res_event.json()['data']['event'])"
   ]
  },
  {
   "cell_type": "code",
   "execution_count": 73,
   "id": "8789ce35-2e03-4136-aebd-0be4420e622a",
   "metadata": {},
   "outputs": [],
   "source": [
    "query_id = '''\n",
    "query {\n",
    "    event(id: 285856492) {\n",
    "      title\n",
    "      description\n",
    "      dateTime\n",
    "    }\n",
    "  }\n",
    "'''"
   ]
  },
  {
   "cell_type": "code",
   "execution_count": 74,
   "id": "3e599407-ea2c-4505-86b5-2339cb4b9ebf",
   "metadata": {},
   "outputs": [],
   "source": [
    "res_id = requests.post(base_api_url, json={'query': query_id}, headers=oauth_headers)"
   ]
  },
  {
   "cell_type": "code",
   "execution_count": 75,
   "id": "67203d2f-0aba-424f-bb3e-c031af5e3942",
   "metadata": {},
   "outputs": [
    {
     "data": {
      "text/plain": [
       "{'data': {'event': {'title': 'The First Multipotentialite Meetup Berlin',\n",
       "   'description': '\\\\*\\\\* English Below \\\\*\\\\*\\nBei unserem ersten Treffen wollen wir über unsere Schwierigkeiten als Vielbegabte sprechen und uns gegenseitig inspirieren. Erzähl uns, woran du gerade arbeitest, was du in deiner Freizeit machst und welchen Hindernissen du begegnest. Du darfst gern für deine Projekte werben, Kontakte knüpfen und auf neue Gedanken kommen.\\n\\nDas Meetup wird im Tiergarten stattfinden. Der genaue Treffpunkt wird rechtzeitig bekannt gegeben. Bringt eine Decke mit, Drinks und Snacks (wenn du magst) und dann machen wir es uns gemütlich.\\n\\n\\\\*\\\\*English\\\\*\\\\*\\nAt our first meetup we want to discuss our difficulties as multitalented persons and inspire each other. Tell us what you are working on at the moment, what you do in your leisure time and what obstacles you encounter. You are welcome to present your projects, make contacts and come up with new ideas.\\n\\nThe Meetup will take place in Tiergarten. The exact location will be shared in advance. Please bring a blanket, drinks and snacks (if you wish) and make yourself comfortable.',\n",
       "   'dateTime': '2022-05-28T16:00+02:00'}}}"
      ]
     },
     "execution_count": 75,
     "metadata": {},
     "output_type": "execute_result"
    }
   ],
   "source": [
    "res_id.json()"
   ]
  }
 ],
 "metadata": {
  "kernelspec": {
   "display_name": "Python 3 (ipykernel)",
   "language": "python",
   "name": "python3"
  },
  "language_info": {
   "codemirror_mode": {
    "name": "ipython",
    "version": 3
   },
   "file_extension": ".py",
   "mimetype": "text/x-python",
   "name": "python",
   "nbconvert_exporter": "python",
   "pygments_lexer": "ipython3",
   "version": "3.8.12"
  }
 },
 "nbformat": 4,
 "nbformat_minor": 5
}
