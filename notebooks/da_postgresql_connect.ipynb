{
 "cells": [
  {
   "cell_type": "code",
   "execution_count": 7,
   "id": "43fde6bd-4914-4f00-a4d6-64c39fd1b35b",
   "metadata": {},
   "outputs": [],
   "source": [
    "import psycopg2\n",
    "from dotenv import load_dotenv, find_dotenv\n",
    "import os"
   ]
  },
  {
   "cell_type": "code",
   "execution_count": 14,
   "id": "f0fd3eb2-8f19-4dfd-ae8a-9b9377b6025a",
   "metadata": {},
   "outputs": [],
   "source": [
    "env_path = find_dotenv()\n",
    "load_dotenv(env_path)\n",
    "POSTGRE_HOST = os.getenv('POSTGRE_HOST')\n",
    "POSTGRE_DATABASE = os.getenv('POSTGRE_DATABASE')\n",
    "POSTGRE_DB_USER = os.getenv('POSTGRE_DB_USER')\n",
    "POSTGRE_DB_PW = os.getenv('POSTGRE_DB_PW')"
   ]
  },
  {
   "cell_type": "code",
   "execution_count": 15,
   "id": "cb676eda-d5ed-4b47-99cb-56dffd016786",
   "metadata": {},
   "outputs": [
    {
     "name": "stdout",
     "output_type": "stream",
     "text": [
      "ec2-99-80-170-190.eu-west-1.compute.amazonaws.com\n"
     ]
    }
   ],
   "source": [
    "print(POSTGRE_HOST)"
   ]
  },
  {
   "cell_type": "code",
   "execution_count": 16,
   "id": "0861dab6-6b04-4f98-863d-761de60ecda3",
   "metadata": {},
   "outputs": [],
   "source": [
    "conn = psycopg2.connect(\n",
    "    host=\"ec2-99-80-170-190.eu-west-1.compute.amazonaws.com\",\n",
    "    database=\"ddtk2k5k93bmvq\",\n",
    "    user=\"kduklvpsdgpxvk\",\n",
    "    password=\"826ee6f275e4103d22f2903ebadadba8c23907d564ac5c791619b8e8b7d471fa\")"
   ]
  },
  {
   "cell_type": "code",
   "execution_count": 17,
   "id": "6ee1e0b8-ee27-4c9e-8d2d-965878de160c",
   "metadata": {},
   "outputs": [
    {
     "name": "stdout",
     "output_type": "stream",
     "text": [
      "PostgreSQL database version:\n",
      "('PostgreSQL 14.2 (Ubuntu 14.2-1.pgdg20.04+1+b1) on x86_64-pc-linux-gnu, compiled by gcc (Ubuntu 9.4.0-1ubuntu1~20.04.1) 9.4.0, 64-bit',)\n"
     ]
    }
   ],
   "source": [
    "cur = conn.cursor()\n",
    "        \n",
    "# execute a statement\n",
    "print('PostgreSQL database version:')\n",
    "cur.execute('SELECT version()')\n",
    "\n",
    "# display the PostgreSQL database server version\n",
    "db_version = cur.fetchone()\n",
    "print(db_version)\n",
    "\n",
    "# close the communication with the PostgreSQL\n",
    "cur.close()"
   ]
  }
 ],
 "metadata": {
  "kernelspec": {
   "display_name": "Python 3 (ipykernel)",
   "language": "python",
   "name": "python3"
  },
  "language_info": {
   "codemirror_mode": {
    "name": "ipython",
    "version": 3
   },
   "file_extension": ".py",
   "mimetype": "text/x-python",
   "name": "python",
   "nbconvert_exporter": "python",
   "pygments_lexer": "ipython3",
   "version": "3.8.12"
  }
 },
 "nbformat": 4,
 "nbformat_minor": 5
}
