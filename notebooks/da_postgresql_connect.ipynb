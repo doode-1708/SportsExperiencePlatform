{
 "cells": [
  {
   "cell_type": "code",
   "execution_count": 1,
   "id": "43fde6bd-4914-4f00-a4d6-64c39fd1b35b",
   "metadata": {},
   "outputs": [],
   "source": [
    "import psycopg2\n",
    "from dotenv import load_dotenv, find_dotenv\n",
    "import os\n",
    "import pandas as pd"
   ]
  },
  {
   "cell_type": "code",
   "execution_count": 2,
   "id": "f0fd3eb2-8f19-4dfd-ae8a-9b9377b6025a",
   "metadata": {},
   "outputs": [],
   "source": [
    "env_path = find_dotenv()\n",
    "load_dotenv(env_path)\n",
    "POSTGRE_HOST = os.getenv('POSTGRE_HOST')\n",
    "POSTGRE_DATABASE = os.getenv('POSTGRE_DATABASE')\n",
    "POSTGRE_DB_USER = os.getenv('POSTGRE_DB_USER')\n",
    "POSTGRE_DB_PW = os.getenv('POSTGRE_DB_PW')"
   ]
  },
  {
   "cell_type": "code",
   "execution_count": 3,
   "id": "cb676eda-d5ed-4b47-99cb-56dffd016786",
   "metadata": {},
   "outputs": [
    {
     "name": "stdout",
     "output_type": "stream",
     "text": [
      "ec2-99-80-170-190.eu-west-1.compute.amazonaws.com\n"
     ]
    }
   ],
   "source": [
    "print(POSTGRE_HOST)"
   ]
  },
  {
   "cell_type": "code",
   "execution_count": 18,
   "id": "0861dab6-6b04-4f98-863d-761de60ecda3",
   "metadata": {},
   "outputs": [],
   "source": [
    "conn = psycopg2.connect(\n",
    "    host=POSTGRE_HOST,\n",
    "    database=POSTGRE_DATABASE,\n",
    "    user=POSTGRE_DB_USER,\n",
    "    password=POSTGRE_DB_PW)"
   ]
  },
  {
   "cell_type": "code",
   "execution_count": 21,
   "id": "6ee1e0b8-ee27-4c9e-8d2d-965878de160c",
   "metadata": {},
   "outputs": [
    {
     "name": "stderr",
     "output_type": "stream",
     "text": [
      "/home/daniel/.pyenv/versions/3.8.12/envs/SportsExperiencePlatform/lib/python3.8/site-packages/pandas/io/sql.py:761: UserWarning: pandas only support SQLAlchemy connectable(engine/connection) ordatabase string URI or sqlite3 DBAPI2 connectionother DBAPI2 objects are not tested, please consider using SQLAlchemy\n",
      "  warnings.warn(\n"
     ]
    }
   ],
   "source": [
    "#cur = conn.cursor()\n",
    "\n",
    "query = \"select * from offers\"\n",
    "\n",
    "df = pd.read_sql(query, conn)\n",
    "        \n",
    "# execute a statement\n",
    "#print('PostgreSQL database version:')\n",
    "#cur.execute('SELECT version()')\n",
    "\n",
    "# display the PostgreSQL database server version\n",
    "#db_version = cur.fetchone()\n",
    "#print(db_version)\n",
    "\n",
    "# close the communication with the PostgreSQL\n",
    "\n",
    "df.to_csv(\"offers.csv\")"
   ]
  },
  {
   "cell_type": "code",
   "execution_count": null,
   "id": "b4b9e86e-2971-4884-a0ae-29f413414d28",
   "metadata": {},
   "outputs": [],
   "source": [
    "conn.close()"
   ]
  }
 ],
 "metadata": {
  "kernelspec": {
   "display_name": "Python 3 (ipykernel)",
   "language": "python",
   "name": "python3"
  },
  "language_info": {
   "codemirror_mode": {
    "name": "ipython",
    "version": 3
   },
   "file_extension": ".py",
   "mimetype": "text/x-python",
   "name": "python",
   "nbconvert_exporter": "python",
   "pygments_lexer": "ipython3",
   "version": "3.8.12"
  }
 },
 "nbformat": 4,
 "nbformat_minor": 5
}
