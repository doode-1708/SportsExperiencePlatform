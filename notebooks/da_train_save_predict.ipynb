{
 "cells": [
  {
   "cell_type": "code",
   "execution_count": null,
   "id": "7004220d-25f5-46fc-b232-a19ca42ab5ae",
   "metadata": {},
   "outputs": [],
   "source": [
    "#!pip install nltk"
   ]
  },
  {
   "cell_type": "code",
   "execution_count": 82,
   "id": "a0ef8cb7-c7c8-41b6-9c24-9c5f31248d3e",
   "metadata": {},
   "outputs": [],
   "source": [
    "import numpy as np\n",
    "import pandas as pd\n",
    "from SportsExperiencePlatform.data import connect_db, get_data\n",
    "import nltk\n",
    "from nltk.corpus import stopwords\n",
    "from nltk.tokenize import word_tokenize\n",
    "from nltk.stem import WordNetLemmatizer\n",
    "import string\n",
    "from sklearn.feature_extraction.text import TfidfVectorizer, CountVectorizer\n",
    "from scipy.sparse import save_npz, load_npz"
   ]
  },
  {
   "cell_type": "code",
   "execution_count": 22,
   "id": "a472bd7c-dfb4-4050-ab6c-a9089d07f090",
   "metadata": {},
   "outputs": [
    {
     "name": "stderr",
     "output_type": "stream",
     "text": [
      "[nltk_data] Downloading package omw-1.4 to /home/daniel/nltk_data...\n",
      "[nltk_data]   Package omw-1.4 is already up-to-date!\n"
     ]
    },
    {
     "data": {
      "text/plain": [
       "True"
      ]
     },
     "execution_count": 22,
     "metadata": {},
     "output_type": "execute_result"
    }
   ],
   "source": [
    "#nltk.download('stopwords')\n",
    "#nltk.download('punkt')\n",
    "#nltk.download('wordnet')\n",
    "#nltk.download('omw-1.4')"
   ]
  },
  {
   "cell_type": "code",
   "execution_count": null,
   "id": "9f5b7886-e8fd-42a5-bc26-ed6383a8a85d",
   "metadata": {},
   "outputs": [],
   "source": [
    "conn = connect_db()\n",
    "\n",
    "if conn:\n",
    "    users_df, events_df = get_data(conn)"
   ]
  },
  {
   "cell_type": "code",
   "execution_count": 4,
   "id": "5d098e85-3f95-442d-acc7-cca1d2b49131",
   "metadata": {},
   "outputs": [
    {
     "data": {
      "text/plain": [
       "((9, 13), (155, 17))"
      ]
     },
     "execution_count": 4,
     "metadata": {},
     "output_type": "execute_result"
    }
   ],
   "source": [
    "users_df.shape, events_df.shape"
   ]
  },
  {
   "cell_type": "code",
   "execution_count": 6,
   "id": "38b79540-9350-4272-85a3-ef250d2172f7",
   "metadata": {},
   "outputs": [
    {
     "data": {
      "text/html": [
       "<div>\n",
       "<style scoped>\n",
       "    .dataframe tbody tr th:only-of-type {\n",
       "        vertical-align: middle;\n",
       "    }\n",
       "\n",
       "    .dataframe tbody tr th {\n",
       "        vertical-align: top;\n",
       "    }\n",
       "\n",
       "    .dataframe thead th {\n",
       "        text-align: right;\n",
       "    }\n",
       "</style>\n",
       "<table border=\"1\" class=\"dataframe\">\n",
       "  <thead>\n",
       "    <tr style=\"text-align: right;\">\n",
       "      <th></th>\n",
       "      <th>id</th>\n",
       "      <th>title</th>\n",
       "      <th>description</th>\n",
       "      <th>price_per_person</th>\n",
       "      <th>capacity</th>\n",
       "      <th>address</th>\n",
       "      <th>latitude</th>\n",
       "      <th>longitude</th>\n",
       "      <th>is_external</th>\n",
       "      <th>url</th>\n",
       "      <th>offer_date</th>\n",
       "      <th>offer_time</th>\n",
       "      <th>created_at</th>\n",
       "      <th>updated_at</th>\n",
       "      <th>user_id</th>\n",
       "      <th>tag_id</th>\n",
       "      <th>external_image_url</th>\n",
       "    </tr>\n",
       "  </thead>\n",
       "  <tbody>\n",
       "    <tr>\n",
       "      <th>65</th>\n",
       "      <td>171</td>\n",
       "      <td>Soccer (Wollishofen or Allmand)</td>\n",
       "      <td>We play every Tuesday inside at the moment. Th...</td>\n",
       "      <td>5</td>\n",
       "      <td>NaN</td>\n",
       "      <td>no address provided</td>\n",
       "      <td>47.354008</td>\n",
       "      <td>8.520648</td>\n",
       "      <td>True</td>\n",
       "      <td>https://www.meetup.com/Outdoor-Soccer-spring-a...</td>\n",
       "      <td>2022-05-31</td>\n",
       "      <td>18:30:00</td>\n",
       "      <td>2022-05-24 19:25:59.417797</td>\n",
       "      <td>2022-05-24 19:25:59.417797</td>\n",
       "      <td>None</td>\n",
       "      <td>36</td>\n",
       "      <td>https://secure-content.meetupstatic.com/images...</td>\n",
       "    </tr>\n",
       "    <tr>\n",
       "      <th>64</th>\n",
       "      <td>154</td>\n",
       "      <td>2022 UEFA Champions League Final Home Viewing</td>\n",
       "      <td>Home Viewing Party for the 2022 UEFA Champions...</td>\n",
       "      <td>0</td>\n",
       "      <td>NaN</td>\n",
       "      <td>no address provided</td>\n",
       "      <td>52.571514</td>\n",
       "      <td>13.380952</td>\n",
       "      <td>True</td>\n",
       "      <td>https://www.meetup.com/berlin-pankow-european-...</td>\n",
       "      <td>2022-05-28</td>\n",
       "      <td>20:00:00</td>\n",
       "      <td>2022-05-24 19:25:59.321958</td>\n",
       "      <td>2022-05-24 19:25:59.321958</td>\n",
       "      <td>None</td>\n",
       "      <td>36</td>\n",
       "      <td>https://secure-content.meetupstatic.com/images...</td>\n",
       "    </tr>\n",
       "    <tr>\n",
       "      <th>125</th>\n",
       "      <td>216</td>\n",
       "      <td>Tennis Personal Coaching</td>\n",
       "      <td>no description</td>\n",
       "      <td>40</td>\n",
       "      <td>NaN</td>\n",
       "      <td>no address provided</td>\n",
       "      <td>0.000000</td>\n",
       "      <td>0.000000</td>\n",
       "      <td>True</td>\n",
       "      <td>https://www.meetup.com/Mainz-Tennis-Meetup/eve...</td>\n",
       "      <td>2022-05-29</td>\n",
       "      <td>11:00:00</td>\n",
       "      <td>2022-05-24 19:26:32.022300</td>\n",
       "      <td>2022-05-24 19:26:32.022300</td>\n",
       "      <td>None</td>\n",
       "      <td>39</td>\n",
       "      <td>https://secure-content.meetupstatic.com/images...</td>\n",
       "    </tr>\n",
       "    <tr>\n",
       "      <th>30</th>\n",
       "      <td>121</td>\n",
       "      <td>Monday Night Basketball at Hubelmatt</td>\n",
       "      <td>Throughout winter we meet on Mondays at the sp...</td>\n",
       "      <td>0</td>\n",
       "      <td>5.0</td>\n",
       "      <td>Zihlmattweg 2</td>\n",
       "      <td>47.035850</td>\n",
       "      <td>8.307271</td>\n",
       "      <td>True</td>\n",
       "      <td>https://www.meetup.com/Luzern-and-Central-Swit...</td>\n",
       "      <td>2022-05-30</td>\n",
       "      <td>20:00:00</td>\n",
       "      <td>2022-05-24 19:25:38.277613</td>\n",
       "      <td>2022-05-24 19:25:38.277613</td>\n",
       "      <td>None</td>\n",
       "      <td>32</td>\n",
       "      <td>https://secure-content.meetupstatic.com/images...</td>\n",
       "    </tr>\n",
       "    <tr>\n",
       "      <th>41</th>\n",
       "      <td>131</td>\n",
       "      <td>Climbing/Bouldering in Smichov</td>\n",
       "      <td>no description</td>\n",
       "      <td>0</td>\n",
       "      <td>5.0</td>\n",
       "      <td>no address provided</td>\n",
       "      <td>0.000000</td>\n",
       "      <td>0.000000</td>\n",
       "      <td>True</td>\n",
       "      <td>https://www.meetup.com/Getting-Active-in-Pragu...</td>\n",
       "      <td>2022-06-11</td>\n",
       "      <td>16:45:00</td>\n",
       "      <td>2022-05-24 19:25:43.940314</td>\n",
       "      <td>2022-05-24 19:25:43.940314</td>\n",
       "      <td>None</td>\n",
       "      <td>33</td>\n",
       "      <td>https://secure-content.meetupstatic.com/images...</td>\n",
       "    </tr>\n",
       "    <tr>\n",
       "      <th>20</th>\n",
       "      <td>110</td>\n",
       "      <td>Half-court Pick-up Basketball</td>\n",
       "      <td>Half-court pick-up basketball at Het Marnix. F...</td>\n",
       "      <td>4</td>\n",
       "      <td>1.0</td>\n",
       "      <td>Marnixplein 1</td>\n",
       "      <td>52.378002</td>\n",
       "      <td>4.878494</td>\n",
       "      <td>True</td>\n",
       "      <td>https://www.meetup.com/Pick-up-Basketball-Amst...</td>\n",
       "      <td>2022-06-08</td>\n",
       "      <td>18:00:00</td>\n",
       "      <td>2022-05-24 19:25:38.203449</td>\n",
       "      <td>2022-05-24 19:25:38.203449</td>\n",
       "      <td>None</td>\n",
       "      <td>32</td>\n",
       "      <td>https://secure-content.meetupstatic.com/images...</td>\n",
       "    </tr>\n",
       "    <tr>\n",
       "      <th>19</th>\n",
       "      <td>109</td>\n",
       "      <td>Half-court Pick-up Basketball</td>\n",
       "      <td>Half-court pick-up basketball at Het Marnix. F...</td>\n",
       "      <td>4</td>\n",
       "      <td>1.0</td>\n",
       "      <td>Marnixplein 1</td>\n",
       "      <td>52.378002</td>\n",
       "      <td>4.878494</td>\n",
       "      <td>True</td>\n",
       "      <td>https://www.meetup.com/Pick-up-Basketball-Amst...</td>\n",
       "      <td>2022-06-01</td>\n",
       "      <td>18:00:00</td>\n",
       "      <td>2022-05-24 19:25:38.198900</td>\n",
       "      <td>2022-05-24 19:25:38.198900</td>\n",
       "      <td>None</td>\n",
       "      <td>32</td>\n",
       "      <td>https://secure-content.meetupstatic.com/images...</td>\n",
       "    </tr>\n",
       "    <tr>\n",
       "      <th>116</th>\n",
       "      <td>205</td>\n",
       "      <td>Learning how to swim in Diemen ( private pool)</td>\n",
       "      <td>If you are living in The Netherlands, by now, ...</td>\n",
       "      <td>27</td>\n",
       "      <td>NaN</td>\n",
       "      <td>Kriekenoord 17</td>\n",
       "      <td>52.336560</td>\n",
       "      <td>4.975146</td>\n",
       "      <td>True</td>\n",
       "      <td>https://www.meetup.com/your-personal-swim-coac...</td>\n",
       "      <td>2022-06-02</td>\n",
       "      <td>19:15:00</td>\n",
       "      <td>2022-05-24 19:26:10.828434</td>\n",
       "      <td>2022-05-24 19:26:10.828434</td>\n",
       "      <td>None</td>\n",
       "      <td>38</td>\n",
       "      <td>https://secure-content.meetupstatic.com/images...</td>\n",
       "    </tr>\n",
       "    <tr>\n",
       "      <th>66</th>\n",
       "      <td>155</td>\n",
       "      <td>Real Madrid v Liverpool (Champions League Fina...</td>\n",
       "      <td>The next event is ready. It's a big one. The C...</td>\n",
       "      <td>0</td>\n",
       "      <td>NaN</td>\n",
       "      <td>Börsenbrücke 10</td>\n",
       "      <td>53.548550</td>\n",
       "      <td>9.992379</td>\n",
       "      <td>True</td>\n",
       "      <td>https://www.meetup.com/hamburg-watching-footba...</td>\n",
       "      <td>2022-05-28</td>\n",
       "      <td>20:00:00</td>\n",
       "      <td>2022-05-24 19:25:59.329197</td>\n",
       "      <td>2022-05-24 19:25:59.329197</td>\n",
       "      <td>None</td>\n",
       "      <td>36</td>\n",
       "      <td>https://secure-content.meetupstatic.com/images...</td>\n",
       "    </tr>\n",
       "    <tr>\n",
       "      <th>105</th>\n",
       "      <td>195</td>\n",
       "      <td>Swimming in the Limmat</td>\n",
       "      <td>https://secure.meetupstatic.com/photos/event/a...</td>\n",
       "      <td>0</td>\n",
       "      <td>2.0</td>\n",
       "      <td>Lettensteg 10</td>\n",
       "      <td>47.385654</td>\n",
       "      <td>8.534333</td>\n",
       "      <td>True</td>\n",
       "      <td>https://www.meetup.com/HealthCube/events/28605...</td>\n",
       "      <td>2022-06-10</td>\n",
       "      <td>12:30:00</td>\n",
       "      <td>2022-05-24 19:26:10.774350</td>\n",
       "      <td>2022-05-24 19:26:10.774350</td>\n",
       "      <td>None</td>\n",
       "      <td>38</td>\n",
       "      <td>https://secure-content.meetupstatic.com/images...</td>\n",
       "    </tr>\n",
       "  </tbody>\n",
       "</table>\n",
       "</div>"
      ],
      "text/plain": [
       "      id  ...                                 external_image_url\n",
       "65   171  ...  https://secure-content.meetupstatic.com/images...\n",
       "64   154  ...  https://secure-content.meetupstatic.com/images...\n",
       "125  216  ...  https://secure-content.meetupstatic.com/images...\n",
       "30   121  ...  https://secure-content.meetupstatic.com/images...\n",
       "41   131  ...  https://secure-content.meetupstatic.com/images...\n",
       "20   110  ...  https://secure-content.meetupstatic.com/images...\n",
       "19   109  ...  https://secure-content.meetupstatic.com/images...\n",
       "116  205  ...  https://secure-content.meetupstatic.com/images...\n",
       "66   155  ...  https://secure-content.meetupstatic.com/images...\n",
       "105  195  ...  https://secure-content.meetupstatic.com/images...\n",
       "\n",
       "[10 rows x 17 columns]"
      ]
     },
     "execution_count": 6,
     "metadata": {},
     "output_type": "execute_result"
    }
   ],
   "source": [
    "events_df.sample(10)"
   ]
  },
  {
   "cell_type": "code",
   "execution_count": 11,
   "id": "42ae78d1-4545-4d1f-b16a-7f17acc89376",
   "metadata": {},
   "outputs": [],
   "source": [
    "def remove_punctuation(text):\n",
    "    for s in text:\n",
    "        if s in string.punctuation:\n",
    "            text = text.replace(s, '')\n",
    "\n",
    "    return text"
   ]
  },
  {
   "cell_type": "code",
   "execution_count": 15,
   "id": "11ea07d0-47ee-4062-95e5-017b25bb9ce8",
   "metadata": {},
   "outputs": [],
   "source": [
    "def lower_text(text):\n",
    "    return text.lower()"
   ]
  },
  {
   "cell_type": "code",
   "execution_count": 17,
   "id": "173da419-43f4-492a-af3a-c6b6f26cc263",
   "metadata": {},
   "outputs": [],
   "source": [
    "def remove_numbers(text):\n",
    "    return ''.join(word for word in text  if not word.isdigit())"
   ]
  },
  {
   "cell_type": "code",
   "execution_count": 20,
   "id": "334da725-a768-41eb-b14f-585b3b7b3fab",
   "metadata": {},
   "outputs": [],
   "source": [
    "def remove_stop_words(text, language='english'):\n",
    "    stop_words = set(stopwords.words(language))\n",
    "    word_tokens = word_tokenize(text)\n",
    "    \n",
    "    return ' '.join([w for w in word_tokens if not w in stop_words])"
   ]
  },
  {
   "cell_type": "code",
   "execution_count": 24,
   "id": "c0dd70c2-97e2-4796-9c3d-d8c5aa951d2b",
   "metadata": {},
   "outputs": [],
   "source": [
    "def lemmatize_text(text):\n",
    "    lemmatizer = WordNetLemmatizer()\n",
    "\n",
    "    return ' '.join([lemmatizer.lemmatize(word) for word in text.split(' ')])"
   ]
  },
  {
   "cell_type": "code",
   "execution_count": 14,
   "id": "3adc6b10-9523-4bf1-ba2b-83a2d2fde8cd",
   "metadata": {},
   "outputs": [
    {
     "data": {
      "text/html": [
       "<div>\n",
       "<style scoped>\n",
       "    .dataframe tbody tr th:only-of-type {\n",
       "        vertical-align: middle;\n",
       "    }\n",
       "\n",
       "    .dataframe tbody tr th {\n",
       "        vertical-align: top;\n",
       "    }\n",
       "\n",
       "    .dataframe thead th {\n",
       "        text-align: right;\n",
       "    }\n",
       "</style>\n",
       "<table border=\"1\" class=\"dataframe\">\n",
       "  <thead>\n",
       "    <tr style=\"text-align: right;\">\n",
       "      <th></th>\n",
       "      <th>description</th>\n",
       "      <th>description_punct</th>\n",
       "    </tr>\n",
       "  </thead>\n",
       "  <tbody>\n",
       "    <tr>\n",
       "      <th>0</th>\n",
       "      <td>Plutarch | Pleasure in the job puts perfection...</td>\n",
       "      <td>Plutarch  Pleasure in the job puts perfection ...</td>\n",
       "    </tr>\n",
       "    <tr>\n",
       "      <th>1</th>\n",
       "      <td>Pythagoras | It's not what happens to you, but...</td>\n",
       "      <td>Pythagoras  Its not what happens to you but ho...</td>\n",
       "    </tr>\n",
       "    <tr>\n",
       "      <th>2</th>\n",
       "      <td>Pythagoras | Rhetoric is the art of ruling the...</td>\n",
       "      <td>Pythagoras  Rhetoric is the art of ruling the ...</td>\n",
       "    </tr>\n",
       "    <tr>\n",
       "      <th>3</th>\n",
       "      <td>Posidonius | The virtue of justice consists in...</td>\n",
       "      <td>Posidonius  The virtue of justice consists in ...</td>\n",
       "    </tr>\n",
       "    <tr>\n",
       "      <th>4</th>\n",
       "      <td>Parmenides | Only the educated are free.</td>\n",
       "      <td>Parmenides  Only the educated are free</td>\n",
       "    </tr>\n",
       "  </tbody>\n",
       "</table>\n",
       "</div>"
      ],
      "text/plain": [
       "                                         description                                  description_punct\n",
       "0  Plutarch | Pleasure in the job puts perfection...  Plutarch  Pleasure in the job puts perfection ...\n",
       "1  Pythagoras | It's not what happens to you, but...  Pythagoras  Its not what happens to you but ho...\n",
       "2  Pythagoras | Rhetoric is the art of ruling the...  Pythagoras  Rhetoric is the art of ruling the ...\n",
       "3  Posidonius | The virtue of justice consists in...  Posidonius  The virtue of justice consists in ...\n",
       "4           Parmenides | Only the educated are free.             Parmenides  Only the educated are free"
      ]
     },
     "execution_count": 14,
     "metadata": {},
     "output_type": "execute_result"
    }
   ],
   "source": [
    "events_df['description_punct'] = events_df.description.apply(remove_punctuation)\n",
    "events_df[['description', 'description_punct']].head()"
   ]
  },
  {
   "cell_type": "code",
   "execution_count": 16,
   "id": "1e135ef8-52bc-4a72-9663-7af0106087e3",
   "metadata": {},
   "outputs": [
    {
     "data": {
      "text/html": [
       "<div>\n",
       "<style scoped>\n",
       "    .dataframe tbody tr th:only-of-type {\n",
       "        vertical-align: middle;\n",
       "    }\n",
       "\n",
       "    .dataframe tbody tr th {\n",
       "        vertical-align: top;\n",
       "    }\n",
       "\n",
       "    .dataframe thead th {\n",
       "        text-align: right;\n",
       "    }\n",
       "</style>\n",
       "<table border=\"1\" class=\"dataframe\">\n",
       "  <thead>\n",
       "    <tr style=\"text-align: right;\">\n",
       "      <th></th>\n",
       "      <th>description</th>\n",
       "      <th>description_lower</th>\n",
       "    </tr>\n",
       "  </thead>\n",
       "  <tbody>\n",
       "    <tr>\n",
       "      <th>0</th>\n",
       "      <td>Plutarch | Pleasure in the job puts perfection...</td>\n",
       "      <td>plutarch  pleasure in the job puts perfection ...</td>\n",
       "    </tr>\n",
       "    <tr>\n",
       "      <th>1</th>\n",
       "      <td>Pythagoras | It's not what happens to you, but...</td>\n",
       "      <td>pythagoras  its not what happens to you but ho...</td>\n",
       "    </tr>\n",
       "    <tr>\n",
       "      <th>2</th>\n",
       "      <td>Pythagoras | Rhetoric is the art of ruling the...</td>\n",
       "      <td>pythagoras  rhetoric is the art of ruling the ...</td>\n",
       "    </tr>\n",
       "    <tr>\n",
       "      <th>3</th>\n",
       "      <td>Posidonius | The virtue of justice consists in...</td>\n",
       "      <td>posidonius  the virtue of justice consists in ...</td>\n",
       "    </tr>\n",
       "    <tr>\n",
       "      <th>4</th>\n",
       "      <td>Parmenides | Only the educated are free.</td>\n",
       "      <td>parmenides  only the educated are free</td>\n",
       "    </tr>\n",
       "  </tbody>\n",
       "</table>\n",
       "</div>"
      ],
      "text/plain": [
       "                                         description                                  description_lower\n",
       "0  Plutarch | Pleasure in the job puts perfection...  plutarch  pleasure in the job puts perfection ...\n",
       "1  Pythagoras | It's not what happens to you, but...  pythagoras  its not what happens to you but ho...\n",
       "2  Pythagoras | Rhetoric is the art of ruling the...  pythagoras  rhetoric is the art of ruling the ...\n",
       "3  Posidonius | The virtue of justice consists in...  posidonius  the virtue of justice consists in ...\n",
       "4           Parmenides | Only the educated are free.             parmenides  only the educated are free"
      ]
     },
     "execution_count": 16,
     "metadata": {},
     "output_type": "execute_result"
    }
   ],
   "source": [
    "events_df['description_lower'] = events_df.description_punct.apply(lower_text)\n",
    "events_df[['description', 'description_lower']].head()"
   ]
  },
  {
   "cell_type": "code",
   "execution_count": 18,
   "id": "4da3ee00-c2d2-495a-9892-8f21e6c2eca8",
   "metadata": {},
   "outputs": [
    {
     "data": {
      "text/html": [
       "<div>\n",
       "<style scoped>\n",
       "    .dataframe tbody tr th:only-of-type {\n",
       "        vertical-align: middle;\n",
       "    }\n",
       "\n",
       "    .dataframe tbody tr th {\n",
       "        vertical-align: top;\n",
       "    }\n",
       "\n",
       "    .dataframe thead th {\n",
       "        text-align: right;\n",
       "    }\n",
       "</style>\n",
       "<table border=\"1\" class=\"dataframe\">\n",
       "  <thead>\n",
       "    <tr style=\"text-align: right;\">\n",
       "      <th></th>\n",
       "      <th>description</th>\n",
       "      <th>description_numbers</th>\n",
       "    </tr>\n",
       "  </thead>\n",
       "  <tbody>\n",
       "    <tr>\n",
       "      <th>0</th>\n",
       "      <td>Plutarch | Pleasure in the job puts perfection...</td>\n",
       "      <td>plutarch  pleasure in the job puts perfection ...</td>\n",
       "    </tr>\n",
       "    <tr>\n",
       "      <th>1</th>\n",
       "      <td>Pythagoras | It's not what happens to you, but...</td>\n",
       "      <td>pythagoras  its not what happens to you but ho...</td>\n",
       "    </tr>\n",
       "    <tr>\n",
       "      <th>2</th>\n",
       "      <td>Pythagoras | Rhetoric is the art of ruling the...</td>\n",
       "      <td>pythagoras  rhetoric is the art of ruling the ...</td>\n",
       "    </tr>\n",
       "    <tr>\n",
       "      <th>3</th>\n",
       "      <td>Posidonius | The virtue of justice consists in...</td>\n",
       "      <td>posidonius  the virtue of justice consists in ...</td>\n",
       "    </tr>\n",
       "    <tr>\n",
       "      <th>4</th>\n",
       "      <td>Parmenides | Only the educated are free.</td>\n",
       "      <td>parmenides  only the educated are free</td>\n",
       "    </tr>\n",
       "  </tbody>\n",
       "</table>\n",
       "</div>"
      ],
      "text/plain": [
       "                                         description                                description_numbers\n",
       "0  Plutarch | Pleasure in the job puts perfection...  plutarch  pleasure in the job puts perfection ...\n",
       "1  Pythagoras | It's not what happens to you, but...  pythagoras  its not what happens to you but ho...\n",
       "2  Pythagoras | Rhetoric is the art of ruling the...  pythagoras  rhetoric is the art of ruling the ...\n",
       "3  Posidonius | The virtue of justice consists in...  posidonius  the virtue of justice consists in ...\n",
       "4           Parmenides | Only the educated are free.             parmenides  only the educated are free"
      ]
     },
     "execution_count": 18,
     "metadata": {},
     "output_type": "execute_result"
    }
   ],
   "source": [
    "events_df['description_numbers'] = events_df.description_lower.apply(remove_numbers)\n",
    "events_df[['description', 'description_numbers']].head()"
   ]
  },
  {
   "cell_type": "code",
   "execution_count": 21,
   "id": "76bab42c-d250-435d-bda8-3d71fd849184",
   "metadata": {},
   "outputs": [
    {
     "data": {
      "text/html": [
       "<div>\n",
       "<style scoped>\n",
       "    .dataframe tbody tr th:only-of-type {\n",
       "        vertical-align: middle;\n",
       "    }\n",
       "\n",
       "    .dataframe tbody tr th {\n",
       "        vertical-align: top;\n",
       "    }\n",
       "\n",
       "    .dataframe thead th {\n",
       "        text-align: right;\n",
       "    }\n",
       "</style>\n",
       "<table border=\"1\" class=\"dataframe\">\n",
       "  <thead>\n",
       "    <tr style=\"text-align: right;\">\n",
       "      <th></th>\n",
       "      <th>description</th>\n",
       "      <th>description_stopwords</th>\n",
       "    </tr>\n",
       "  </thead>\n",
       "  <tbody>\n",
       "    <tr>\n",
       "      <th>0</th>\n",
       "      <td>Plutarch | Pleasure in the job puts perfection...</td>\n",
       "      <td>plutarch pleasure job puts perfection work</td>\n",
       "    </tr>\n",
       "    <tr>\n",
       "      <th>1</th>\n",
       "      <td>Pythagoras | It's not what happens to you, but...</td>\n",
       "      <td>pythagoras happens react matters</td>\n",
       "    </tr>\n",
       "    <tr>\n",
       "      <th>2</th>\n",
       "      <td>Pythagoras | Rhetoric is the art of ruling the...</td>\n",
       "      <td>pythagoras rhetoric art ruling minds men</td>\n",
       "    </tr>\n",
       "    <tr>\n",
       "      <th>3</th>\n",
       "      <td>Posidonius | The virtue of justice consists in...</td>\n",
       "      <td>posidonius virtue justice consists moderation ...</td>\n",
       "    </tr>\n",
       "    <tr>\n",
       "      <th>4</th>\n",
       "      <td>Parmenides | Only the educated are free.</td>\n",
       "      <td>parmenides educated free</td>\n",
       "    </tr>\n",
       "  </tbody>\n",
       "</table>\n",
       "</div>"
      ],
      "text/plain": [
       "                                         description                              description_stopwords\n",
       "0  Plutarch | Pleasure in the job puts perfection...         plutarch pleasure job puts perfection work\n",
       "1  Pythagoras | It's not what happens to you, but...                   pythagoras happens react matters\n",
       "2  Pythagoras | Rhetoric is the art of ruling the...           pythagoras rhetoric art ruling minds men\n",
       "3  Posidonius | The virtue of justice consists in...  posidonius virtue justice consists moderation ...\n",
       "4           Parmenides | Only the educated are free.                           parmenides educated free"
      ]
     },
     "execution_count": 21,
     "metadata": {},
     "output_type": "execute_result"
    }
   ],
   "source": [
    "events_df['description_stopwords'] = events_df.description_numbers.apply(remove_stop_words, language='english')\n",
    "events_df[['description', 'description_stopwords']].head()"
   ]
  },
  {
   "cell_type": "code",
   "execution_count": 25,
   "id": "33ad7d39-9baa-461e-9e7e-ea182defb2b5",
   "metadata": {},
   "outputs": [
    {
     "data": {
      "text/html": [
       "<div>\n",
       "<style scoped>\n",
       "    .dataframe tbody tr th:only-of-type {\n",
       "        vertical-align: middle;\n",
       "    }\n",
       "\n",
       "    .dataframe tbody tr th {\n",
       "        vertical-align: top;\n",
       "    }\n",
       "\n",
       "    .dataframe thead th {\n",
       "        text-align: right;\n",
       "    }\n",
       "</style>\n",
       "<table border=\"1\" class=\"dataframe\">\n",
       "  <thead>\n",
       "    <tr style=\"text-align: right;\">\n",
       "      <th></th>\n",
       "      <th>description</th>\n",
       "      <th>description_lemmatize</th>\n",
       "    </tr>\n",
       "  </thead>\n",
       "  <tbody>\n",
       "    <tr>\n",
       "      <th>0</th>\n",
       "      <td>Plutarch | Pleasure in the job puts perfection...</td>\n",
       "      <td>plutarch pleasure job put perfection work</td>\n",
       "    </tr>\n",
       "    <tr>\n",
       "      <th>1</th>\n",
       "      <td>Pythagoras | It's not what happens to you, but...</td>\n",
       "      <td>pythagoras happens react matter</td>\n",
       "    </tr>\n",
       "    <tr>\n",
       "      <th>2</th>\n",
       "      <td>Pythagoras | Rhetoric is the art of ruling the...</td>\n",
       "      <td>pythagoras rhetoric art ruling mind men</td>\n",
       "    </tr>\n",
       "    <tr>\n",
       "      <th>3</th>\n",
       "      <td>Posidonius | The virtue of justice consists in...</td>\n",
       "      <td>posidonius virtue justice consists moderation ...</td>\n",
       "    </tr>\n",
       "    <tr>\n",
       "      <th>4</th>\n",
       "      <td>Parmenides | Only the educated are free.</td>\n",
       "      <td>parmenides educated free</td>\n",
       "    </tr>\n",
       "  </tbody>\n",
       "</table>\n",
       "</div>"
      ],
      "text/plain": [
       "                                         description                              description_lemmatize\n",
       "0  Plutarch | Pleasure in the job puts perfection...          plutarch pleasure job put perfection work\n",
       "1  Pythagoras | It's not what happens to you, but...                    pythagoras happens react matter\n",
       "2  Pythagoras | Rhetoric is the art of ruling the...            pythagoras rhetoric art ruling mind men\n",
       "3  Posidonius | The virtue of justice consists in...  posidonius virtue justice consists moderation ...\n",
       "4           Parmenides | Only the educated are free.                           parmenides educated free"
      ]
     },
     "execution_count": 25,
     "metadata": {},
     "output_type": "execute_result"
    }
   ],
   "source": [
    "events_df['description_lemmatize'] = events_df.description_stopwords.apply(lemmatize_text)\n",
    "events_df[['description', 'description_lemmatize']].head()"
   ]
  },
  {
   "cell_type": "code",
   "execution_count": 27,
   "id": "eda9d543-bc6a-464d-812b-bda8daf042be",
   "metadata": {},
   "outputs": [],
   "source": [
    "events_df[['description_lemmatize']].to_csv(\"test.csv\")"
   ]
  },
  {
   "cell_type": "code",
   "execution_count": 28,
   "id": "0d8e0760-7789-4700-baa3-4af33f69eceb",
   "metadata": {},
   "outputs": [],
   "source": [
    "tfidf = TfidfVectorizer(stop_words=\"english\")"
   ]
  },
  {
   "cell_type": "code",
   "execution_count": 29,
   "id": "c9b3576e-2c4f-423f-814e-135d1d768aa0",
   "metadata": {},
   "outputs": [
    {
     "data": {
      "text/plain": [
       "(155, 1690)"
      ]
     },
     "execution_count": 29,
     "metadata": {},
     "output_type": "execute_result"
    }
   ],
   "source": [
    "tfidf_matrix = tfidf.fit_transform(events_df[\"description_lemmatize\"])\n",
    "tfidf_matrix.shape"
   ]
  },
  {
   "cell_type": "code",
   "execution_count": 30,
   "id": "0b3db8aa-d8e1-4c31-87df-c77b2e3a8426",
   "metadata": {},
   "outputs": [],
   "source": [
    "cosine_sim = tfidf_matrix.dot(tfidf_matrix.T)"
   ]
  },
  {
   "cell_type": "code",
   "execution_count": 91,
   "id": "57ed0add-71bd-41d7-a6dd-d3dc21278137",
   "metadata": {},
   "outputs": [
    {
     "data": {
      "text/plain": [
       "<155x155 sparse matrix of type '<class 'numpy.float64'>'\n",
       "\twith 11741 stored elements in Compressed Sparse Row format>"
      ]
     },
     "execution_count": 91,
     "metadata": {},
     "output_type": "execute_result"
    }
   ],
   "source": [
    "cosine_sim"
   ]
  },
  {
   "cell_type": "code",
   "execution_count": 81,
   "id": "e359c97a-abd6-407b-a71d-fdde2398c406",
   "metadata": {},
   "outputs": [],
   "source": [
    "save_npz(\"model_cosine_sim\", cosine_sim)"
   ]
  },
  {
   "cell_type": "code",
   "execution_count": 83,
   "id": "485e3b4e-ee33-43b5-adf0-a0bbf99d3450",
   "metadata": {},
   "outputs": [],
   "source": [
    "matrix_reloaded = load_npz(\"model_cosine_sim.npz\")"
   ]
  },
  {
   "cell_type": "code",
   "execution_count": 84,
   "id": "bb7010fa-e9d5-4fdd-a118-46de7958da32",
   "metadata": {},
   "outputs": [
    {
     "data": {
      "text/plain": [
       "((155, 155), (155, 155))"
      ]
     },
     "execution_count": 84,
     "metadata": {},
     "output_type": "execute_result"
    }
   ],
   "source": [
    "matrix_reloaded.shape, cosine_sim.shape"
   ]
  },
  {
   "cell_type": "code",
   "execution_count": 42,
   "id": "614b482d-71ab-4d04-a0cc-acc5c51db5bf",
   "metadata": {},
   "outputs": [
    {
     "data": {
      "text/plain": [
       "79"
      ]
     },
     "execution_count": 42,
     "metadata": {},
     "output_type": "execute_result"
    }
   ],
   "source": [
    "events_df[['description']].duplicated().sum()"
   ]
  },
  {
   "cell_type": "code",
   "execution_count": 43,
   "id": "8037916d-5c65-4ff2-b453-8f560e1f572a",
   "metadata": {},
   "outputs": [],
   "source": [
    "title_to_index = pd.Series(events_df.index, index = events_df[\"title\"]).drop_duplicates()"
   ]
  },
  {
   "cell_type": "code",
   "execution_count": 45,
   "id": "64c42bac-d5dc-4f73-88b6-2b0a778971f1",
   "metadata": {},
   "outputs": [],
   "source": [
    "def content_recommender(title, cosine_sim = cosine_sim, df = events_df, title_to_index = title_to_index):\n",
    "    idx = title_to_index[title]\n",
    "    \n",
    "    sim_scores = list(enumerate(cosine_sim[idx].todense().tolist()[0]))\n",
    "    # list of set [(index, sim score), (index, sim score), ...]\n",
    "    \n",
    "    sim_scores = sorted(sim_scores, key = lambda x: x[1], reverse = True)\n",
    "    # Sort the list of set by sim score, index with highest simlirarity\n",
    "    # Will be at the beginning of the list\n",
    "    \n",
    "    sim_scores = sim_scores[1:11] # top 10 events (first one is our input events so we ignore it)\n",
    "    \n",
    "    sport_indices = [i[0] for i in sim_scores] # we grab the indices of those 10 events\n",
    "    \n",
    "    return df[\"title\"].iloc[sport_indices]"
   ]
  },
  {
   "cell_type": "code",
   "execution_count": 88,
   "id": "2b6ccee4-17aa-44a0-81a3-9cfe8a0d005b",
   "metadata": {},
   "outputs": [
    {
     "data": {
      "text/plain": [
       "array(['MLG Meadowlands', 'League All Stars', 'Serie A', 'ESL Cologne',\n",
       "       'GFinity London', 'DFB Pokal', 'Super League', 'Worlds', 'Ligue 1',\n",
       "       'Copa del Rey', 'Baseball @ Tempelhof',\n",
       "       'Full court indoor Saturday Basketball in the centre of Rotterdam',\n",
       "       \"Casual Pick-up Women's Basketball\",\n",
       "       'Monday evening Basketball at Bergstr in Berlin Mitte 10115',\n",
       "       'Basketball Sunday', 'Friday night basketball @ de Pijp',\n",
       "       'Half-court Pick-up Basketball',\n",
       "       'Sunday Basketball (INDOOR DOELENPLEIN) 🏀',\n",
       "       'SPORTEGRATION Basketball', 'Basketball (outdoor)',\n",
       "       'Monday Night Basketball at Hubelmatt',\n",
       "       'Bouldering at Boulderwelt Frankfurt',\n",
       "       'Bouldering at Boulderhaus DA',\n",
       "       'Bouldering at StudioBloc Darmstadt',\n",
       "       'Wednesday Evening Bouldering @BRIGHT SITE',\n",
       "       'Soccer (Wollishofen or Allmand)',\n",
       "       'Saturday Afternoon Bouldering @BRIGHT SITE',\n",
       "       'Bouldering at Urban Apes St. Pauli (3G)',\n",
       "       'Outside Bouldering in výstaviště',\n",
       "       'Climbing/Bouldering in Smichov', 'Monday climbs',\n",
       "       'Saturday afternoon Climbing at Magic Mountain',\n",
       "       'CANCELLED INDEFINITELY Bouldern und Leute kennenlernen/Boulder and socialise',\n",
       "       'Randa Boulder bouldering ', 'Tuesday Bouldering at Kunststof',\n",
       "       'Südsee-Camp Wietzendorf/Lüneburger Heide',\n",
       "       'TRADITIONAL kayaking in Utrecht town and Amelisweerd (more nature part)',\n",
       "       'Hike (17km) in Mertert/Wasserbillig', 'Kayaking around Utrecht',\n",
       "       'Canoeing on Ilmenau River',\n",
       "       'Hike in National Park the Loonse en Drunense Dunes ánd Picnic!',\n",
       "       'LUXEMBOURG: camping weekend together : Pentecost 2022',\n",
       "       'Hiking in Germany : Monschau ',\n",
       "       'BISC goes to Offshore Film Festival! ',\n",
       "       'Berlin Friday Football //// Friday 15:00 //// Poststadion upstairs',\n",
       "       '2022 UEFA Champions League Final Home Viewing',\n",
       "       'Real Madrid v Liverpool (Champions League Final) at The Fleetenkieker Irish Pub',\n",
       "       'Eimsbüttel Sunday, Gärtnerstr. 65, 8 aside astro turf',\n",
       "       'Sunday 8-a-side (Eimsbüttel) ',\n",
       "       'Wednesday Mixed Soccer @ Ostpark - 18:30',\n",
       "       'Sunday Football - CHANGE OF DATE',\n",
       "       'FC Urban Game at gymzaal Tuinstraat',\n",
       "       'FC Urban Game at gymzaal Klipperstraat', 'Weekend football',\n",
       "       'Terrible Thursday Football in Amsterdam',\n",
       "       'Surf & Salsa on the beach', 'Surf & BBQ Jam',\n",
       "       'Surf & Yoga Retreat Scheveningen',\n",
       "       'Surf & Salsa dancing on the beach :)', 'Tennis Personal Coaching',\n",
       "       'Surf & BBQ & Jam Session',\n",
       "       'Surf & Yoga Retreat Texel- learn to surf on Texel',\n",
       "       'Surf & Yoga Retreat Texel',\n",
       "       'Surfcamp Scheveningen. Get the ride of your life and learn to surf!',\n",
       "       'Surfcamp Scheveningen - learn/ improve your surf in 1 day! ',\n",
       "       'Surfcamp Scheveningen: learn to surf and get the ride of your ife!',\n",
       "       'Surfcamp Scheveningen. Learn to surf and get the ride of your life!',\n",
       "       'Surf & Yoga Retreat Texel- weekend getaway',\n",
       "       'Swim & chill @ Katjasee', 'Klimclassic',\n",
       "       'Ultimate Frisbee in the Park -- bring stuff to go swimming',\n",
       "       'Learn how to swim in Amsterdam', 'Heuvelrug Triathlon',\n",
       "       'ATAC Indoor Swim Session -  Purchase & sign up through webshop',\n",
       "       'Swimming in the Limmat', 'Witte weekend Limburg ',\n",
       "       'Cycle & swim Ruppiner Land', 'Xterra Belgium',\n",
       "       'Poeloversteek 2022',\n",
       "       '`Swimming Lessons for Adults: Beginners Only :)',\n",
       "       'Learning how to swim in Diemen ( private pool)',\n",
       "       '(Court Costs Shared) Terrible Beachvolleyball',\n",
       "       'Beach Volleyball at Branik - OUTSIDE!',\n",
       "       'Beach Volleyball (intermediates) at Olympiapark ',\n",
       "       'Beach Volleyball (Beginners 4v4) at Olympiapark ',\n",
       "       'Grass Volleyball in Hirschgarten Park (plus Spike Ball)',\n",
       "       'Beach volleyball ',\n",
       "       '☀️🐥 Thu 8:00pm - 2x2 Beach volley training BEGINNERS & LOW INTERMEDIATE 🏖️🏐',\n",
       "       '🐥🔜🦁 Wed 7:00pm - 2x2 Beach volley training INTERMEDIATES 🏖️',\n",
       "       'Come to play volleyball!',\n",
       "       \"FULL!!!Let's play volleyball and have fun! (DE PIJP AFTERNOON) !!!FULL!!!\",\n",
       "       'Wednesday - Smashing Expats: volleyball drills and game'],\n",
       "      dtype=object)"
      ]
     },
     "execution_count": 88,
     "metadata": {},
     "output_type": "execute_result"
    }
   ],
   "source": [
    "events_df.title.unique()"
   ]
  },
  {
   "cell_type": "code",
   "execution_count": 90,
   "id": "6a6c184a-d976-418b-aa14-26dbec08a28b",
   "metadata": {},
   "outputs": [
    {
     "data": {
      "text/plain": [
       "41                       Climbing/Bouldering in Smichov\n",
       "42                       Climbing/Bouldering in Smichov\n",
       "49                            Randa Boulder bouldering \n",
       "50                            Randa Boulder bouldering \n",
       "54    TRADITIONAL kayaking in Utrecht town and Ameli...\n",
       "55                  Hike (17km) in Mertert/Wasserbillig\n",
       "56    TRADITIONAL kayaking in Utrecht town and Ameli...\n",
       "59    Hike in National Park the Loonse en Drunense D...\n",
       "60    LUXEMBOURG: camping weekend together : Penteco...\n",
       "61                        Hiking in Germany : Monschau \n",
       "Name: title, dtype: object"
      ]
     },
     "execution_count": 90,
     "metadata": {},
     "output_type": "execute_result"
    }
   ],
   "source": [
    "#title = \"Surf & Yoga Retreat Scheveningen\"\n",
    "#title = 'Bouldering at StudioBloc Darmstadt'\n",
    "title = 'Beach Volleyball at Branik - OUTSIDE!'\n",
    "content_recommender(title, cosine_sim = matrix_reloaded, df = events_df, title_to_index = title_to_index)\n",
    "#content_recommender(title)"
   ]
  }
 ],
 "metadata": {
  "kernelspec": {
   "display_name": "Python 3 (ipykernel)",
   "language": "python",
   "name": "python3"
  },
  "language_info": {
   "codemirror_mode": {
    "name": "ipython",
    "version": 3
   },
   "file_extension": ".py",
   "mimetype": "text/x-python",
   "name": "python",
   "nbconvert_exporter": "python",
   "pygments_lexer": "ipython3",
   "version": "3.8.12"
  }
 },
 "nbformat": 4,
 "nbformat_minor": 5
}
