{
 "cells": [
  {
   "cell_type": "code",
   "execution_count": null,
   "id": "7004220d-25f5-46fc-b232-a19ca42ab5ae",
   "metadata": {},
   "outputs": [],
   "source": [
    "#!pip install nltk"
   ]
  },
  {
   "cell_type": "code",
   "execution_count": 86,
   "id": "a0ef8cb7-c7c8-41b6-9c24-9c5f31248d3e",
   "metadata": {},
   "outputs": [],
   "source": [
    "import numpy as np\n",
    "import pandas as pd\n",
    "from SportsExperiencePlatform.data import connect_db, get_data, upload_file_to_gs\n",
    "import nltk\n",
    "from nltk.corpus import stopwords\n",
    "from nltk.tokenize import word_tokenize\n",
    "from nltk.stem import WordNetLemmatizer\n",
    "import string\n",
    "from sklearn.feature_extraction.text import TfidfVectorizer, CountVectorizer\n",
    "from scipy.sparse import save_npz, load_npz\n",
    "import re\n",
    "from langdetect import detect\n",
    "from googletrans import Translator\n",
    "import random\n",
    "import datetime\n",
    "from datetime import date\n",
    "import argostranslate.package, argostranslate.translate\n",
    "import json"
   ]
  },
  {
   "cell_type": "code",
   "execution_count": null,
   "id": "a472bd7c-dfb4-4050-ab6c-a9089d07f090",
   "metadata": {
    "jupyter": {
     "source_hidden": true
    },
    "tags": []
   },
   "outputs": [],
   "source": [
    "nltk.download('stopwords')\n",
    "nltk.download('punkt')\n",
    "nltk.download('wordnet')\n",
    "nltk.download('omw-1.4')"
   ]
  },
  {
   "cell_type": "code",
   "execution_count": 27,
   "id": "9f5b7886-e8fd-42a5-bc26-ed6383a8a85d",
   "metadata": {},
   "outputs": [
    {
     "name": "stderr",
     "output_type": "stream",
     "text": [
      "/home/daniel/.pyenv/versions/3.8.12/envs/SportsExperiencePlatform/lib/python3.8/site-packages/pandas/io/sql.py:761: UserWarning: pandas only support SQLAlchemy connectable(engine/connection) ordatabase string URI or sqlite3 DBAPI2 connectionother DBAPI2 objects are not tested, please consider using SQLAlchemy\n",
      "  warnings.warn(\n",
      "/home/daniel/.pyenv/versions/3.8.12/envs/SportsExperiencePlatform/lib/python3.8/site-packages/pandas/io/sql.py:761: UserWarning: pandas only support SQLAlchemy connectable(engine/connection) ordatabase string URI or sqlite3 DBAPI2 connectionother DBAPI2 objects are not tested, please consider using SQLAlchemy\n",
      "  warnings.warn(\n",
      "/home/daniel/.pyenv/versions/3.8.12/envs/SportsExperiencePlatform/lib/python3.8/site-packages/pandas/io/sql.py:761: UserWarning: pandas only support SQLAlchemy connectable(engine/connection) ordatabase string URI or sqlite3 DBAPI2 connectionother DBAPI2 objects are not tested, please consider using SQLAlchemy\n",
      "  warnings.warn(\n"
     ]
    }
   ],
   "source": [
    "conn = connect_db()\n",
    "\n",
    "if conn:\n",
    "    users_df, events_df, ahoy_events_df = get_data(conn)"
   ]
  },
  {
   "cell_type": "code",
   "execution_count": 54,
   "id": "c5b4280c-b886-48c6-a3f9-91ebd0be6717",
   "metadata": {},
   "outputs": [
    {
     "name": "stderr",
     "output_type": "stream",
     "text": [
      "/home/daniel/.pyenv/versions/3.8.12/envs/SportsExperiencePlatform/lib/python3.8/site-packages/pandas/io/sql.py:761: UserWarning: pandas only support SQLAlchemy connectable(engine/connection) ordatabase string URI or sqlite3 DBAPI2 connectionother DBAPI2 objects are not tested, please consider using SQLAlchemy\n",
      "  warnings.warn(\n",
      "/home/daniel/.pyenv/versions/3.8.12/envs/SportsExperiencePlatform/lib/python3.8/site-packages/pandas/io/sql.py:761: UserWarning: pandas only support SQLAlchemy connectable(engine/connection) ordatabase string URI or sqlite3 DBAPI2 connectionother DBAPI2 objects are not tested, please consider using SQLAlchemy\n",
      "  warnings.warn(\n"
     ]
    }
   ],
   "source": [
    "conn = connect_db()\n",
    "users_df, _, _ = get_data(conn)"
   ]
  },
  {
   "cell_type": "code",
   "execution_count": 3,
   "id": "624410cc-15de-4734-a47c-c5eb310ffe52",
   "metadata": {},
   "outputs": [],
   "source": [
    "translator = Translator()"
   ]
  },
  {
   "cell_type": "code",
   "execution_count": 4,
   "id": "412ed5ac-877c-47bc-8626-b195a3a466b9",
   "metadata": {},
   "outputs": [
    {
     "data": {
      "text/plain": [
       "'I am healthy'"
      ]
     },
     "execution_count": 4,
     "metadata": {},
     "output_type": "execute_result"
    }
   ],
   "source": [
    "translator.translate(\"ich bin gesund\").text"
   ]
  },
  {
   "cell_type": "code",
   "execution_count": 25,
   "id": "d6d9ba95-3d2c-4215-9dc2-c5e14bd56472",
   "metadata": {},
   "outputs": [],
   "source": [
    "from_code = \"de\"\n",
    "to_code = \"en\"\n",
    "\n",
    "# Download and install Argos Translate package\n",
    "available_packages = argostranslate.package.get_available_packages()\n",
    "\n",
    "available_package = list(\n",
    "    filter(\n",
    "        lambda x: x.from_code == from_code and x.to_code == to_code, available_packages\n",
    "    )\n",
    ")[0]\n",
    "download_path = available_package.download()\n",
    "argostranslate.package.install_from_path(download_path)\n",
    "\n",
    "# Translate\n",
    "installed_languages = argostranslate.translate.get_installed_languages()\n",
    "from_lang = list(filter(\n",
    "    lambda x: x.code == from_code,\n",
    "    installed_languages))[0]\n",
    "to_lang = list(filter(\n",
    "    lambda x: x.code == to_code,\n",
    "    installed_languages))[0]\n",
    "translation = from_lang.get_translation(to_lang)"
   ]
  },
  {
   "cell_type": "code",
   "execution_count": 5,
   "id": "42ae78d1-4545-4d1f-b16a-7f17acc89376",
   "metadata": {},
   "outputs": [],
   "source": [
    "def remove_punctuation(text):\n",
    "    for s in text:\n",
    "        if s in string.punctuation:\n",
    "            text = text.replace(s, '')\n",
    "\n",
    "    return text"
   ]
  },
  {
   "cell_type": "code",
   "execution_count": 6,
   "id": "11ea07d0-47ee-4062-95e5-017b25bb9ce8",
   "metadata": {},
   "outputs": [],
   "source": [
    "def lower_text(text):\n",
    "    return text.lower()"
   ]
  },
  {
   "cell_type": "code",
   "execution_count": 7,
   "id": "173da419-43f4-492a-af3a-c6b6f26cc263",
   "metadata": {},
   "outputs": [],
   "source": [
    "def remove_numbers(text):\n",
    "    return ''.join(word for word in text  if not word.isdigit())"
   ]
  },
  {
   "cell_type": "code",
   "execution_count": 8,
   "id": "334da725-a768-41eb-b14f-585b3b7b3fab",
   "metadata": {},
   "outputs": [],
   "source": [
    "def remove_stop_words(text, language='english'):\n",
    "    lang = detect(text)\n",
    "    if lang != 'en':\n",
    "        language = 'german'\n",
    "    stop_words = set(stopwords.words(language))\n",
    "    word_tokens = word_tokenize(text)\n",
    "    \n",
    "    return ' '.join([w for w in word_tokens if not w in stop_words])"
   ]
  },
  {
   "cell_type": "code",
   "execution_count": 9,
   "id": "3ae51dae-4f81-4e85-8cf3-59264501f230",
   "metadata": {},
   "outputs": [],
   "source": [
    "def remove_other_stuff(text):\n",
    "    # remove http\n",
    "    text = re.sub(r\"http.*\\.[a-z]{2,3}\",\"\",text)\n",
    "\n",
    "    # remove www\n",
    "    text = re.sub(r\"www.*\\.[a-z]{2,3}\",\"\",text)\n",
    "    \n",
    "    # remove line breaks\n",
    "    text = re.sub(r'\\n','',text)\n",
    "    \n",
    "    return text"
   ]
  },
  {
   "cell_type": "code",
   "execution_count": 26,
   "id": "0463b923-27a6-4cb3-9ea5-948f31897904",
   "metadata": {},
   "outputs": [],
   "source": [
    "def language_translation(string, translator=translation):\n",
    "    if detect(string) != 'en':\n",
    "        translatedText = translation.translate(string)\n",
    "        return translatedText\n",
    "    else:\n",
    "        return string"
   ]
  },
  {
   "cell_type": "code",
   "execution_count": 11,
   "id": "c0dd70c2-97e2-4796-9c3d-d8c5aa951d2b",
   "metadata": {},
   "outputs": [],
   "source": [
    "def lemmatize_text(text):\n",
    "    lemmatizer = WordNetLemmatizer()\n",
    "\n",
    "    return ' '.join([lemmatizer.lemmatize(word) for word in text.split(' ')])"
   ]
  },
  {
   "cell_type": "code",
   "execution_count": 12,
   "id": "4b8fd6db-d851-4c25-8cd8-632e2ea33b1d",
   "metadata": {},
   "outputs": [],
   "source": [
    "def random_generate_list(x):\n",
    "    names = list(x.split())\n",
    "    random.shuffle(names)\n",
    "    if len(names) > 5:\n",
    "        names = names[:5]\n",
    "            \n",
    "    return names"
   ]
  },
  {
   "cell_type": "code",
   "execution_count": 13,
   "id": "0c2f96cb-1793-4f08-b127-5ebd58b675f4",
   "metadata": {},
   "outputs": [],
   "source": [
    "def random_generate_long_list(x):\n",
    "    names = list(x.split())\n",
    "    random.shuffle(names)\n",
    "    if len(names) > 200:\n",
    "        names = names[:200]\n",
    "            \n",
    "    return names"
   ]
  },
  {
   "cell_type": "code",
   "execution_count": 14,
   "id": "3c825c99-bf46-457d-9a4c-62ac40d69cc0",
   "metadata": {},
   "outputs": [],
   "source": [
    "def create_soup(x):\n",
    "    soup = (\" \".join(x[\"random_title\"]) + \" \" + \" \".join(x[\"random_description\"])).split()\n",
    "    random.shuffle(soup)\n",
    "    return ' '.join(soup)"
   ]
  },
  {
   "cell_type": "code",
   "execution_count": 15,
   "id": "e4f2de52-8b77-45f5-9989-1e6eb56dad65",
   "metadata": {},
   "outputs": [],
   "source": [
    "def haversine_vectorized(user_lat,\n",
    "                         user_lon,\n",
    "                         event_lat,\n",
    "                         event_lon):\n",
    "    \"\"\"\n",
    "        Calculate the great circle distance between two points\n",
    "        on the earth (specified in decimal degrees).\n",
    "        Vectorized version of the haversine distance for pandas df\n",
    "        Computes distance in kms\n",
    "    \"\"\"\n",
    "\n",
    "    lat_1_rad, lon_1_rad = np.radians(user_lat), np.radians(user_lon)\n",
    "    lat_2_rad, lon_2_rad = np.radians(event_lat), np.radians(event_lon)\n",
    "    dlon = lon_2_rad - lon_1_rad\n",
    "    dlat = lat_2_rad - lat_1_rad\n",
    "\n",
    "    a = np.sin(dlat / 2.0) ** 2 + np.cos(lat_1_rad) * np.cos(lat_2_rad) * np.sin(dlon / 2.0) ** 2\n",
    "    c = 2 * np.arcsin(np.sqrt(a))\n",
    "    return 6371 * c"
   ]
  },
  {
   "cell_type": "code",
   "execution_count": 28,
   "id": "c6844dd3-1a15-4ef8-8b30-469f9656bfd2",
   "metadata": {},
   "outputs": [
    {
     "data": {
      "text/html": [
       "<div>\n",
       "<style scoped>\n",
       "    .dataframe tbody tr th:only-of-type {\n",
       "        vertical-align: middle;\n",
       "    }\n",
       "\n",
       "    .dataframe tbody tr th {\n",
       "        vertical-align: top;\n",
       "    }\n",
       "\n",
       "    .dataframe thead th {\n",
       "        text-align: right;\n",
       "    }\n",
       "</style>\n",
       "<table border=\"1\" class=\"dataframe\">\n",
       "  <thead>\n",
       "    <tr style=\"text-align: right;\">\n",
       "      <th></th>\n",
       "      <th>description</th>\n",
       "      <th>description_translated</th>\n",
       "    </tr>\n",
       "  </thead>\n",
       "  <tbody>\n",
       "    <tr>\n",
       "      <th>0</th>\n",
       "      <td>no description</td>\n",
       "      <td>no description</td>\n",
       "    </tr>\n",
       "    <tr>\n",
       "      <th>1</th>\n",
       "      <td>no description</td>\n",
       "      <td>no description</td>\n",
       "    </tr>\n",
       "    <tr>\n",
       "      <th>2</th>\n",
       "      <td>Zwei Bahnen sind für uns ab 19 Uhr im Gilde-Bo...</td>\n",
       "      <td>Two lanes are reserved for us from 7 pm at the...</td>\n",
       "    </tr>\n",
       "    <tr>\n",
       "      <th>3</th>\n",
       "      <td>\"Jess X Goh guided me in a process that made m...</td>\n",
       "      <td>\"Jess X Goh guided me in a process that made m...</td>\n",
       "    </tr>\n",
       "    <tr>\n",
       "      <th>4</th>\n",
       "      <td>Beginners welcome to join Gaelic football trai...</td>\n",
       "      <td>Beginners welcome to join Gaelic football trai...</td>\n",
       "    </tr>\n",
       "  </tbody>\n",
       "</table>\n",
       "</div>"
      ],
      "text/plain": [
       "                                         description  \\\n",
       "0                                     no description   \n",
       "1                                     no description   \n",
       "2  Zwei Bahnen sind für uns ab 19 Uhr im Gilde-Bo...   \n",
       "3  \"Jess X Goh guided me in a process that made m...   \n",
       "4  Beginners welcome to join Gaelic football trai...   \n",
       "\n",
       "                              description_translated  \n",
       "0                                     no description  \n",
       "1                                     no description  \n",
       "2  Two lanes are reserved for us from 7 pm at the...  \n",
       "3  \"Jess X Goh guided me in a process that made m...  \n",
       "4  Beginners welcome to join Gaelic football trai...  "
      ]
     },
     "execution_count": 28,
     "metadata": {},
     "output_type": "execute_result"
    }
   ],
   "source": [
    "events_df['description_translated'] = events_df.description.apply(language_translation, translator=translation)\n",
    "events_df['title_translated'] = events_df.title.apply(language_translation, translator=translation)\n",
    "events_df[['description', 'description_translated']].head()"
   ]
  },
  {
   "cell_type": "code",
   "execution_count": 29,
   "id": "3adc6b10-9523-4bf1-ba2b-83a2d2fde8cd",
   "metadata": {},
   "outputs": [
    {
     "data": {
      "text/html": [
       "<div>\n",
       "<style scoped>\n",
       "    .dataframe tbody tr th:only-of-type {\n",
       "        vertical-align: middle;\n",
       "    }\n",
       "\n",
       "    .dataframe tbody tr th {\n",
       "        vertical-align: top;\n",
       "    }\n",
       "\n",
       "    .dataframe thead th {\n",
       "        text-align: right;\n",
       "    }\n",
       "</style>\n",
       "<table border=\"1\" class=\"dataframe\">\n",
       "  <thead>\n",
       "    <tr style=\"text-align: right;\">\n",
       "      <th></th>\n",
       "      <th>description</th>\n",
       "      <th>description_punct</th>\n",
       "    </tr>\n",
       "  </thead>\n",
       "  <tbody>\n",
       "    <tr>\n",
       "      <th>0</th>\n",
       "      <td>no description</td>\n",
       "      <td>no description</td>\n",
       "    </tr>\n",
       "    <tr>\n",
       "      <th>1</th>\n",
       "      <td>no description</td>\n",
       "      <td>no description</td>\n",
       "    </tr>\n",
       "    <tr>\n",
       "      <th>2</th>\n",
       "      <td>Zwei Bahnen sind für uns ab 19 Uhr im Gilde-Bo...</td>\n",
       "      <td>Two lanes are reserved for us from 7 pm at the...</td>\n",
       "    </tr>\n",
       "    <tr>\n",
       "      <th>3</th>\n",
       "      <td>\"Jess X Goh guided me in a process that made m...</td>\n",
       "      <td>Jess X Goh guided me in a process that made me...</td>\n",
       "    </tr>\n",
       "    <tr>\n",
       "      <th>4</th>\n",
       "      <td>Beginners welcome to join Gaelic football trai...</td>\n",
       "      <td>Beginners welcome to join Gaelic football trai...</td>\n",
       "    </tr>\n",
       "  </tbody>\n",
       "</table>\n",
       "</div>"
      ],
      "text/plain": [
       "                                         description  \\\n",
       "0                                     no description   \n",
       "1                                     no description   \n",
       "2  Zwei Bahnen sind für uns ab 19 Uhr im Gilde-Bo...   \n",
       "3  \"Jess X Goh guided me in a process that made m...   \n",
       "4  Beginners welcome to join Gaelic football trai...   \n",
       "\n",
       "                                   description_punct  \n",
       "0                                     no description  \n",
       "1                                     no description  \n",
       "2  Two lanes are reserved for us from 7 pm at the...  \n",
       "3  Jess X Goh guided me in a process that made me...  \n",
       "4  Beginners welcome to join Gaelic football trai...  "
      ]
     },
     "execution_count": 29,
     "metadata": {},
     "output_type": "execute_result"
    }
   ],
   "source": [
    "events_df['description_punct'] = events_df.description_translated.apply(remove_punctuation)\n",
    "events_df['title_punct'] = events_df.title_translated.apply(remove_punctuation)\n",
    "events_df[['description', 'description_punct']].head()"
   ]
  },
  {
   "cell_type": "code",
   "execution_count": 30,
   "id": "1e135ef8-52bc-4a72-9663-7af0106087e3",
   "metadata": {},
   "outputs": [
    {
     "data": {
      "text/html": [
       "<div>\n",
       "<style scoped>\n",
       "    .dataframe tbody tr th:only-of-type {\n",
       "        vertical-align: middle;\n",
       "    }\n",
       "\n",
       "    .dataframe tbody tr th {\n",
       "        vertical-align: top;\n",
       "    }\n",
       "\n",
       "    .dataframe thead th {\n",
       "        text-align: right;\n",
       "    }\n",
       "</style>\n",
       "<table border=\"1\" class=\"dataframe\">\n",
       "  <thead>\n",
       "    <tr style=\"text-align: right;\">\n",
       "      <th></th>\n",
       "      <th>description</th>\n",
       "      <th>description_lower</th>\n",
       "    </tr>\n",
       "  </thead>\n",
       "  <tbody>\n",
       "    <tr>\n",
       "      <th>0</th>\n",
       "      <td>no description</td>\n",
       "      <td>no description</td>\n",
       "    </tr>\n",
       "    <tr>\n",
       "      <th>1</th>\n",
       "      <td>no description</td>\n",
       "      <td>no description</td>\n",
       "    </tr>\n",
       "    <tr>\n",
       "      <th>2</th>\n",
       "      <td>Zwei Bahnen sind für uns ab 19 Uhr im Gilde-Bo...</td>\n",
       "      <td>two lanes are reserved for us from 7 pm at the...</td>\n",
       "    </tr>\n",
       "    <tr>\n",
       "      <th>3</th>\n",
       "      <td>\"Jess X Goh guided me in a process that made m...</td>\n",
       "      <td>jess x goh guided me in a process that made me...</td>\n",
       "    </tr>\n",
       "    <tr>\n",
       "      <th>4</th>\n",
       "      <td>Beginners welcome to join Gaelic football trai...</td>\n",
       "      <td>beginners welcome to join gaelic football trai...</td>\n",
       "    </tr>\n",
       "  </tbody>\n",
       "</table>\n",
       "</div>"
      ],
      "text/plain": [
       "                                         description  \\\n",
       "0                                     no description   \n",
       "1                                     no description   \n",
       "2  Zwei Bahnen sind für uns ab 19 Uhr im Gilde-Bo...   \n",
       "3  \"Jess X Goh guided me in a process that made m...   \n",
       "4  Beginners welcome to join Gaelic football trai...   \n",
       "\n",
       "                                   description_lower  \n",
       "0                                     no description  \n",
       "1                                     no description  \n",
       "2  two lanes are reserved for us from 7 pm at the...  \n",
       "3  jess x goh guided me in a process that made me...  \n",
       "4  beginners welcome to join gaelic football trai...  "
      ]
     },
     "execution_count": 30,
     "metadata": {},
     "output_type": "execute_result"
    }
   ],
   "source": [
    "events_df['description_lower'] = events_df.description_punct.apply(lower_text)\n",
    "events_df['title_lower'] = events_df.title_punct.apply(lower_text)\n",
    "events_df[['description', 'description_lower']].head()"
   ]
  },
  {
   "cell_type": "code",
   "execution_count": 31,
   "id": "4da3ee00-c2d2-495a-9892-8f21e6c2eca8",
   "metadata": {},
   "outputs": [
    {
     "data": {
      "text/html": [
       "<div>\n",
       "<style scoped>\n",
       "    .dataframe tbody tr th:only-of-type {\n",
       "        vertical-align: middle;\n",
       "    }\n",
       "\n",
       "    .dataframe tbody tr th {\n",
       "        vertical-align: top;\n",
       "    }\n",
       "\n",
       "    .dataframe thead th {\n",
       "        text-align: right;\n",
       "    }\n",
       "</style>\n",
       "<table border=\"1\" class=\"dataframe\">\n",
       "  <thead>\n",
       "    <tr style=\"text-align: right;\">\n",
       "      <th></th>\n",
       "      <th>description</th>\n",
       "      <th>description_numbers</th>\n",
       "    </tr>\n",
       "  </thead>\n",
       "  <tbody>\n",
       "    <tr>\n",
       "      <th>0</th>\n",
       "      <td>no description</td>\n",
       "      <td>no description</td>\n",
       "    </tr>\n",
       "    <tr>\n",
       "      <th>1</th>\n",
       "      <td>no description</td>\n",
       "      <td>no description</td>\n",
       "    </tr>\n",
       "    <tr>\n",
       "      <th>2</th>\n",
       "      <td>Zwei Bahnen sind für uns ab 19 Uhr im Gilde-Bo...</td>\n",
       "      <td>two lanes are reserved for us from  pm at the ...</td>\n",
       "    </tr>\n",
       "    <tr>\n",
       "      <th>3</th>\n",
       "      <td>\"Jess X Goh guided me in a process that made m...</td>\n",
       "      <td>jess x goh guided me in a process that made me...</td>\n",
       "    </tr>\n",
       "    <tr>\n",
       "      <th>4</th>\n",
       "      <td>Beginners welcome to join Gaelic football trai...</td>\n",
       "      <td>beginners welcome to join gaelic football trai...</td>\n",
       "    </tr>\n",
       "  </tbody>\n",
       "</table>\n",
       "</div>"
      ],
      "text/plain": [
       "                                         description  \\\n",
       "0                                     no description   \n",
       "1                                     no description   \n",
       "2  Zwei Bahnen sind für uns ab 19 Uhr im Gilde-Bo...   \n",
       "3  \"Jess X Goh guided me in a process that made m...   \n",
       "4  Beginners welcome to join Gaelic football trai...   \n",
       "\n",
       "                                 description_numbers  \n",
       "0                                     no description  \n",
       "1                                     no description  \n",
       "2  two lanes are reserved for us from  pm at the ...  \n",
       "3  jess x goh guided me in a process that made me...  \n",
       "4  beginners welcome to join gaelic football trai...  "
      ]
     },
     "execution_count": 31,
     "metadata": {},
     "output_type": "execute_result"
    }
   ],
   "source": [
    "events_df['description_numbers'] = events_df.description_lower.apply(remove_numbers)\n",
    "events_df['title_numbers'] = events_df.title_lower.apply(remove_numbers)\n",
    "events_df[['description', 'description_numbers']].head()"
   ]
  },
  {
   "cell_type": "code",
   "execution_count": 32,
   "id": "76bab42c-d250-435d-bda8-3d71fd849184",
   "metadata": {},
   "outputs": [
    {
     "data": {
      "text/html": [
       "<div>\n",
       "<style scoped>\n",
       "    .dataframe tbody tr th:only-of-type {\n",
       "        vertical-align: middle;\n",
       "    }\n",
       "\n",
       "    .dataframe tbody tr th {\n",
       "        vertical-align: top;\n",
       "    }\n",
       "\n",
       "    .dataframe thead th {\n",
       "        text-align: right;\n",
       "    }\n",
       "</style>\n",
       "<table border=\"1\" class=\"dataframe\">\n",
       "  <thead>\n",
       "    <tr style=\"text-align: right;\">\n",
       "      <th></th>\n",
       "      <th>description</th>\n",
       "      <th>description_stopwords</th>\n",
       "    </tr>\n",
       "  </thead>\n",
       "  <tbody>\n",
       "    <tr>\n",
       "      <th>0</th>\n",
       "      <td>no description</td>\n",
       "      <td>no description</td>\n",
       "    </tr>\n",
       "    <tr>\n",
       "      <th>1</th>\n",
       "      <td>no description</td>\n",
       "      <td>no description</td>\n",
       "    </tr>\n",
       "    <tr>\n",
       "      <th>2</th>\n",
       "      <td>Zwei Bahnen sind für uns ab 19 Uhr im Gilde-Bo...</td>\n",
       "      <td>two lanes reserved us pm gildebowling wandsbek...</td>\n",
       "    </tr>\n",
       "    <tr>\n",
       "      <th>3</th>\n",
       "      <td>\"Jess X Goh guided me in a process that made m...</td>\n",
       "      <td>jess x goh guided process made unleash suppres...</td>\n",
       "    </tr>\n",
       "    <tr>\n",
       "      <th>4</th>\n",
       "      <td>Beginners welcome to join Gaelic football trai...</td>\n",
       "      <td>beginners welcome join gaelic football trainin...</td>\n",
       "    </tr>\n",
       "  </tbody>\n",
       "</table>\n",
       "</div>"
      ],
      "text/plain": [
       "                                         description  \\\n",
       "0                                     no description   \n",
       "1                                     no description   \n",
       "2  Zwei Bahnen sind für uns ab 19 Uhr im Gilde-Bo...   \n",
       "3  \"Jess X Goh guided me in a process that made m...   \n",
       "4  Beginners welcome to join Gaelic football trai...   \n",
       "\n",
       "                               description_stopwords  \n",
       "0                                     no description  \n",
       "1                                     no description  \n",
       "2  two lanes reserved us pm gildebowling wandsbek...  \n",
       "3  jess x goh guided process made unleash suppres...  \n",
       "4  beginners welcome join gaelic football trainin...  "
      ]
     },
     "execution_count": 32,
     "metadata": {},
     "output_type": "execute_result"
    }
   ],
   "source": [
    "events_df['description_stopwords'] = events_df.description_numbers.apply(remove_stop_words, language='english')\n",
    "events_df['title_stopwords'] = events_df.title_numbers.apply(remove_stop_words, language='english')\n",
    "events_df[['description', 'description_stopwords']].head()"
   ]
  },
  {
   "cell_type": "code",
   "execution_count": 33,
   "id": "e0115d65-ab4b-4040-8e4f-c2934d56f0b9",
   "metadata": {},
   "outputs": [
    {
     "data": {
      "text/html": [
       "<div>\n",
       "<style scoped>\n",
       "    .dataframe tbody tr th:only-of-type {\n",
       "        vertical-align: middle;\n",
       "    }\n",
       "\n",
       "    .dataframe tbody tr th {\n",
       "        vertical-align: top;\n",
       "    }\n",
       "\n",
       "    .dataframe thead th {\n",
       "        text-align: right;\n",
       "    }\n",
       "</style>\n",
       "<table border=\"1\" class=\"dataframe\">\n",
       "  <thead>\n",
       "    <tr style=\"text-align: right;\">\n",
       "      <th></th>\n",
       "      <th>description</th>\n",
       "      <th>description_others</th>\n",
       "    </tr>\n",
       "  </thead>\n",
       "  <tbody>\n",
       "    <tr>\n",
       "      <th>0</th>\n",
       "      <td>no description</td>\n",
       "      <td>no description</td>\n",
       "    </tr>\n",
       "    <tr>\n",
       "      <th>1</th>\n",
       "      <td>no description</td>\n",
       "      <td>no description</td>\n",
       "    </tr>\n",
       "    <tr>\n",
       "      <th>2</th>\n",
       "      <td>Zwei Bahnen sind für uns ab 19 Uhr im Gilde-Bo...</td>\n",
       "      <td>two lanes reserved us pm gildebowling wandsbek...</td>\n",
       "    </tr>\n",
       "    <tr>\n",
       "      <th>3</th>\n",
       "      <td>\"Jess X Goh guided me in a process that made m...</td>\n",
       "      <td>jess x goh guided process made unleash suppres...</td>\n",
       "    </tr>\n",
       "    <tr>\n",
       "      <th>4</th>\n",
       "      <td>Beginners welcome to join Gaelic football trai...</td>\n",
       "      <td>beginners welcome join gaelic football trainin...</td>\n",
       "    </tr>\n",
       "  </tbody>\n",
       "</table>\n",
       "</div>"
      ],
      "text/plain": [
       "                                         description  \\\n",
       "0                                     no description   \n",
       "1                                     no description   \n",
       "2  Zwei Bahnen sind für uns ab 19 Uhr im Gilde-Bo...   \n",
       "3  \"Jess X Goh guided me in a process that made m...   \n",
       "4  Beginners welcome to join Gaelic football trai...   \n",
       "\n",
       "                                  description_others  \n",
       "0                                     no description  \n",
       "1                                     no description  \n",
       "2  two lanes reserved us pm gildebowling wandsbek...  \n",
       "3  jess x goh guided process made unleash suppres...  \n",
       "4  beginners welcome join gaelic football trainin...  "
      ]
     },
     "execution_count": 33,
     "metadata": {},
     "output_type": "execute_result"
    }
   ],
   "source": [
    "events_df['description_others'] = events_df.description_stopwords.apply(remove_other_stuff)\n",
    "events_df['title_others'] = events_df.title_stopwords.apply(remove_other_stuff)\n",
    "events_df[['description', 'description_others']].head()"
   ]
  },
  {
   "cell_type": "code",
   "execution_count": 34,
   "id": "247217df-4526-49f5-b98f-388d8ad8b95a",
   "metadata": {},
   "outputs": [],
   "source": [
    "events_df.to_csv(\"events_df_savepoint.csv\")"
   ]
  },
  {
   "cell_type": "code",
   "execution_count": 35,
   "id": "4ab3fed6-4641-4e08-8822-eeaa6583cac1",
   "metadata": {},
   "outputs": [],
   "source": [
    "events_df = pd.read_csv(\"events_df_savepoint.csv\")"
   ]
  },
  {
   "cell_type": "code",
   "execution_count": null,
   "id": "33ad7d39-9baa-461e-9e7e-ea182defb2b5",
   "metadata": {},
   "outputs": [],
   "source": [
    "#events_df['description_lemmatize'] = events_df.description_stopwords.apply(lemmatize_text)\n",
    "#events_df[['description', 'description_lemmatize']].head()"
   ]
  },
  {
   "cell_type": "code",
   "execution_count": 36,
   "id": "1e228a25-edf9-40fa-8416-8a0c6f8665cc",
   "metadata": {},
   "outputs": [],
   "source": [
    "events_df['random_title'] = events_df['title_others'].apply(lambda x: random_generate_list(x))\n",
    "events_df['random_description'] = events_df['description_others'].apply(lambda x: random_generate_long_list(x))"
   ]
  },
  {
   "cell_type": "code",
   "execution_count": 37,
   "id": "c9da07a8-70e3-4fd4-bbcd-f4cbdec9d934",
   "metadata": {},
   "outputs": [],
   "source": [
    "events_df['soup'] = events_df.apply(create_soup, axis = 1)"
   ]
  },
  {
   "cell_type": "code",
   "execution_count": 38,
   "id": "0d8e0760-7789-4700-baa3-4af33f69eceb",
   "metadata": {},
   "outputs": [],
   "source": [
    "tfidf = TfidfVectorizer(stop_words=\"english\")"
   ]
  },
  {
   "cell_type": "code",
   "execution_count": 39,
   "id": "c9b3576e-2c4f-423f-814e-135d1d768aa0",
   "metadata": {},
   "outputs": [
    {
     "data": {
      "text/plain": [
       "(882, 7183)"
      ]
     },
     "execution_count": 39,
     "metadata": {},
     "output_type": "execute_result"
    }
   ],
   "source": [
    "tfidf_matrix = tfidf.fit_transform(events_df[\"soup\"])\n",
    "tfidf_matrix.shape"
   ]
  },
  {
   "cell_type": "code",
   "execution_count": 40,
   "id": "0b3db8aa-d8e1-4c31-87df-c77b2e3a8426",
   "metadata": {},
   "outputs": [],
   "source": [
    "cosine_sim = tfidf_matrix.dot(tfidf_matrix.T)"
   ]
  },
  {
   "cell_type": "code",
   "execution_count": 41,
   "id": "d7108356-4196-4bf6-9895-a49867852b70",
   "metadata": {},
   "outputs": [],
   "source": [
    "def get_title(user_id, df):\n",
    "    ''' this finction grabs the title of an event used by an user from ahoy_events dataset'''\n",
    "    \n",
    "    searched_events = []\n",
    "    for event in df[df['user_id'] == user_id].properties.values:\n",
    "        searched_events.append(event['offer'])\n",
    "\n",
    "    searched_events = np.unique(searched_events)\n",
    "\n",
    "    titles = events_df[events_df['id'].isin(searched_events)].title\n",
    "    \n",
    "    return titles"
   ]
  },
  {
   "cell_type": "code",
   "execution_count": 55,
   "id": "e74ae520-44ed-4508-bbef-0ecddf8e91cc",
   "metadata": {},
   "outputs": [
    {
     "name": "stdout",
     "output_type": "stream",
     "text": [
      "202    Outdoor fitness and Irish hurling MeetUp. Begi...\n",
      "234                              Running for early Birds\n",
      "236         Berlin Outdoor Fitness Volkspark Wilmersdorf\n",
      "266    High-Intensity Interval Training (Cardio & Str...\n",
      "467                Monday expat social volleyball, 7:00.\n",
      "476    Let's play volleyball and have fun! (DE PIJP A...\n",
      "477    Let's play volleyball and have fun! (DE PIJP A...\n",
      "674                           Indoor football - Fussball\n",
      "677                                  Thursday Volleyball\n",
      "678        1 hour training and 1 hour playing volleyball\n",
      "851                           Indoor football - Fussball\n",
      "Name: title, dtype: object\n"
     ]
    }
   ],
   "source": [
    "print(get_title(59, ahoy_events_df))"
   ]
  },
  {
   "cell_type": "code",
   "execution_count": 43,
   "id": "ecd5f1f5-648f-413f-9e04-86d65db95b63",
   "metadata": {},
   "outputs": [],
   "source": [
    "def get_user_loc(user_id, df = users_df):   \n",
    "    ''' this finction grabs the location of an user from ahoy_events dataset'''\n",
    "    \n",
    "    users_idx = users_df[users_df['id']== user_id]\n",
    "    # now we get the user's latitude and longitude\n",
    "    \n",
    "    location_dict = {'user_latitude' : float(users_idx.latitude.values), \n",
    "                     \n",
    "                     'user_longitude' : float(users_idx.longitude.values)\n",
    "                        }\n",
    "     \n",
    "    return location_dict"
   ]
  },
  {
   "cell_type": "code",
   "execution_count": 97,
   "id": "9f6ce83e-1df0-4d99-a38a-520ecfb02f84",
   "metadata": {},
   "outputs": [],
   "source": [
    "titles = get_title(59, ahoy_events_df)\n",
    "sim_scores = []\n",
    "for idx in events_df[events_df['title'].isin(titles)].index.unique():\n",
    "    sim_scores.extend(list(enumerate(cosine_sim[idx].todense().tolist()[0])))\n",
    "\n",
    "sim_scores = sorted(sim_scores, key = lambda x: x[1], reverse = True)"
   ]
  },
  {
   "cell_type": "code",
   "execution_count": 105,
   "id": "50af1783-6351-4454-a7fd-a6ff8cbf7ae0",
   "metadata": {},
   "outputs": [
    {
     "data": {
      "text/plain": [
       "0      2022-06-16\n",
       "1      2022-07-07\n",
       "2      2022-06-25\n",
       "3      2022-07-22\n",
       "4      2022-06-08\n",
       "          ...    \n",
       "877    2022-06-17\n",
       "878    2022-06-19\n",
       "879    2022-06-22\n",
       "880    2022-06-08\n",
       "881    2022-06-22\n",
       "Name: offer_date, Length: 882, dtype: object"
      ]
     },
     "execution_count": 105,
     "metadata": {},
     "output_type": "execute_result"
    }
   ],
   "source": [
    "events_df.offer_date"
   ]
  },
  {
   "cell_type": "code",
   "execution_count": 59,
   "id": "991fddd8-e139-4a3b-a67c-386ad14a587b",
   "metadata": {},
   "outputs": [],
   "source": [
    "def content_recommender(user_id, cosine_sim, events_df):\n",
    "    '''This recommender finds out 20 closest matches with a given event'''\n",
    "    \n",
    "    #calling user id from ahoy_events\n",
    "    \n",
    "    titles = get_title(user_id, df = ahoy_events_df)\n",
    "    \n",
    "    sim_scores = []\n",
    "    for idx in events_df[events_df['title'].isin(titles)].index.unique():\n",
    "        sim_scores.extend(list(enumerate(cosine_sim[idx].todense().tolist()[0])))\n",
    "    \n",
    "    sim_scores = sorted(sim_scores, key = lambda x: x[1], reverse = True)\n",
    "    # Sort the list of set by sim score, index with highest simlirarity\n",
    "    # Will be at the beginning of the list\n",
    "    \n",
    "    sim_scores = sim_scores[1:101] # top 100 events (first one is our input events so we ignore it)\n",
    "    \n",
    "    sport_indices = [i[0] for i in sim_scores] # we grab the indices of those 10 events\n",
    "    \n",
    "    df_all_recommendations = events_df.iloc[sport_indices][['id', 'title', 'latitude', 'longitude', 'offer_date']]\n",
    "    \n",
    "    df_date_filter = df_all_recommendations[df_all_recommendations['offer_date'] >= '2022-06-11']\n",
    "    \n",
    "    #calcullation of haversine distance for users:\n",
    "    user_latitude = get_user_loc(user_id, df = users_df)['user_latitude']\n",
    "    user_longitude = get_user_loc(user_id, df = users_df)['user_longitude']\n",
    "    \n",
    "    df_date_filter['user_latitude'] = user_latitude\n",
    "    df_date_filter['user_longitude'] = user_longitude\n",
    "    \n",
    "    df_date_filter[\"distance\"] = haversine_vectorized(df_date_filter.latitude, df_date_filter.longitude,\n",
    "                                                      df_date_filter.user_latitude, df_date_filter.user_longitude)\n",
    "            \n",
    "    df_location_filter = df_date_filter[df_date_filter['distance'] <= 200.0]\n",
    "    \n",
    "    \n",
    "                                                \n",
    "    #return np.unique(df_location_filter.id.values)\n",
    "    return np.unique(df_date_filter.id.values)"
   ]
  },
  {
   "cell_type": "code",
   "execution_count": null,
   "id": "e359c97a-abd6-407b-a71d-fdde2398c406",
   "metadata": {},
   "outputs": [],
   "source": [
    "save_npz(\"model_cosine_sim\", cosine_sim)"
   ]
  },
  {
   "cell_type": "code",
   "execution_count": null,
   "id": "485e3b4e-ee33-43b5-adf0-a0bbf99d3450",
   "metadata": {},
   "outputs": [],
   "source": [
    "matrix_reloaded = load_npz(\"model_cosine_sim.npz\")"
   ]
  },
  {
   "cell_type": "code",
   "execution_count": null,
   "id": "bb7010fa-e9d5-4fdd-a118-46de7958da32",
   "metadata": {},
   "outputs": [],
   "source": [
    "matrix_reloaded.shape, cosine_sim.shape"
   ]
  },
  {
   "cell_type": "code",
   "execution_count": null,
   "id": "614b482d-71ab-4d04-a0cc-acc5c51db5bf",
   "metadata": {},
   "outputs": [],
   "source": [
    "events_df[['description']].duplicated().sum()"
   ]
  },
  {
   "cell_type": "code",
   "execution_count": 73,
   "id": "b63534c1-950b-45e8-8261-929d0c38c78f",
   "metadata": {},
   "outputs": [
    {
     "name": "stderr",
     "output_type": "stream",
     "text": [
      "/tmp/ipykernel_681/3081728598.py:28: SettingWithCopyWarning: \n",
      "A value is trying to be set on a copy of a slice from a DataFrame.\n",
      "Try using .loc[row_indexer,col_indexer] = value instead\n",
      "\n",
      "See the caveats in the documentation: https://pandas.pydata.org/pandas-docs/stable/user_guide/indexing.html#returning-a-view-versus-a-copy\n",
      "  df_date_filter['user_latitude'] = user_latitude\n",
      "/tmp/ipykernel_681/3081728598.py:29: SettingWithCopyWarning: \n",
      "A value is trying to be set on a copy of a slice from a DataFrame.\n",
      "Try using .loc[row_indexer,col_indexer] = value instead\n",
      "\n",
      "See the caveats in the documentation: https://pandas.pydata.org/pandas-docs/stable/user_guide/indexing.html#returning-a-view-versus-a-copy\n",
      "  df_date_filter['user_longitude'] = user_longitude\n",
      "/tmp/ipykernel_681/3081728598.py:31: SettingWithCopyWarning: \n",
      "A value is trying to be set on a copy of a slice from a DataFrame.\n",
      "Try using .loc[row_indexer,col_indexer] = value instead\n",
      "\n",
      "See the caveats in the documentation: https://pandas.pydata.org/pandas-docs/stable/user_guide/indexing.html#returning-a-view-versus-a-copy\n",
      "  df_date_filter[\"distance\"] = haversine_vectorized(df_date_filter.latitude, df_date_filter.longitude,\n"
     ]
    },
    {
     "data": {
      "text/plain": [
       "[2531,\n",
       " 2532,\n",
       " 2560,\n",
       " 2561,\n",
       " 2581,\n",
       " 2582,\n",
       " 2584,\n",
       " 2588,\n",
       " 2591,\n",
       " 2596,\n",
       " 2777,\n",
       " 2782,\n",
       " 2787,\n",
       " 2790,\n",
       " 3007,\n",
       " 3008,\n",
       " 3009,\n",
       " 3010,\n",
       " 3015,\n",
       " 3016,\n",
       " 3017,\n",
       " 3019,\n",
       " 3020,\n",
       " 3021,\n",
       " 3022,\n",
       " 3023,\n",
       " 3024,\n",
       " 3025]"
      ]
     },
     "execution_count": 73,
     "metadata": {},
     "output_type": "execute_result"
    }
   ],
   "source": [
    "content_recommender(59, cosine_sim, events_df).tolist()"
   ]
  },
  {
   "cell_type": "code",
   "execution_count": 79,
   "id": "6a6c184a-d976-418b-aa14-26dbec08a28b",
   "metadata": {},
   "outputs": [
    {
     "name": "stderr",
     "output_type": "stream",
     "text": [
      "/tmp/ipykernel_681/3081728598.py:28: SettingWithCopyWarning: \n",
      "A value is trying to be set on a copy of a slice from a DataFrame.\n",
      "Try using .loc[row_indexer,col_indexer] = value instead\n",
      "\n",
      "See the caveats in the documentation: https://pandas.pydata.org/pandas-docs/stable/user_guide/indexing.html#returning-a-view-versus-a-copy\n",
      "  df_date_filter['user_latitude'] = user_latitude\n",
      "/tmp/ipykernel_681/3081728598.py:29: SettingWithCopyWarning: \n",
      "A value is trying to be set on a copy of a slice from a DataFrame.\n",
      "Try using .loc[row_indexer,col_indexer] = value instead\n",
      "\n",
      "See the caveats in the documentation: https://pandas.pydata.org/pandas-docs/stable/user_guide/indexing.html#returning-a-view-versus-a-copy\n",
      "  df_date_filter['user_longitude'] = user_longitude\n",
      "/tmp/ipykernel_681/3081728598.py:31: SettingWithCopyWarning: \n",
      "A value is trying to be set on a copy of a slice from a DataFrame.\n",
      "Try using .loc[row_indexer,col_indexer] = value instead\n",
      "\n",
      "See the caveats in the documentation: https://pandas.pydata.org/pandas-docs/stable/user_guide/indexing.html#returning-a-view-versus-a-copy\n",
      "  df_date_filter[\"distance\"] = haversine_vectorized(df_date_filter.latitude, df_date_filter.longitude,\n",
      "/tmp/ipykernel_681/3081728598.py:28: SettingWithCopyWarning: \n",
      "A value is trying to be set on a copy of a slice from a DataFrame.\n",
      "Try using .loc[row_indexer,col_indexer] = value instead\n",
      "\n",
      "See the caveats in the documentation: https://pandas.pydata.org/pandas-docs/stable/user_guide/indexing.html#returning-a-view-versus-a-copy\n",
      "  df_date_filter['user_latitude'] = user_latitude\n",
      "/tmp/ipykernel_681/3081728598.py:29: SettingWithCopyWarning: \n",
      "A value is trying to be set on a copy of a slice from a DataFrame.\n",
      "Try using .loc[row_indexer,col_indexer] = value instead\n",
      "\n",
      "See the caveats in the documentation: https://pandas.pydata.org/pandas-docs/stable/user_guide/indexing.html#returning-a-view-versus-a-copy\n",
      "  df_date_filter['user_longitude'] = user_longitude\n",
      "/tmp/ipykernel_681/3081728598.py:31: SettingWithCopyWarning: \n",
      "A value is trying to be set on a copy of a slice from a DataFrame.\n",
      "Try using .loc[row_indexer,col_indexer] = value instead\n",
      "\n",
      "See the caveats in the documentation: https://pandas.pydata.org/pandas-docs/stable/user_guide/indexing.html#returning-a-view-versus-a-copy\n",
      "  df_date_filter[\"distance\"] = haversine_vectorized(df_date_filter.latitude, df_date_filter.longitude,\n",
      "/tmp/ipykernel_681/3081728598.py:28: SettingWithCopyWarning: \n",
      "A value is trying to be set on a copy of a slice from a DataFrame.\n",
      "Try using .loc[row_indexer,col_indexer] = value instead\n",
      "\n",
      "See the caveats in the documentation: https://pandas.pydata.org/pandas-docs/stable/user_guide/indexing.html#returning-a-view-versus-a-copy\n",
      "  df_date_filter['user_latitude'] = user_latitude\n",
      "/tmp/ipykernel_681/3081728598.py:29: SettingWithCopyWarning: \n",
      "A value is trying to be set on a copy of a slice from a DataFrame.\n",
      "Try using .loc[row_indexer,col_indexer] = value instead\n",
      "\n",
      "See the caveats in the documentation: https://pandas.pydata.org/pandas-docs/stable/user_guide/indexing.html#returning-a-view-versus-a-copy\n",
      "  df_date_filter['user_longitude'] = user_longitude\n",
      "/tmp/ipykernel_681/3081728598.py:31: SettingWithCopyWarning: \n",
      "A value is trying to be set on a copy of a slice from a DataFrame.\n",
      "Try using .loc[row_indexer,col_indexer] = value instead\n",
      "\n",
      "See the caveats in the documentation: https://pandas.pydata.org/pandas-docs/stable/user_guide/indexing.html#returning-a-view-versus-a-copy\n",
      "  df_date_filter[\"distance\"] = haversine_vectorized(df_date_filter.latitude, df_date_filter.longitude,\n",
      "/tmp/ipykernel_681/3081728598.py:28: SettingWithCopyWarning: \n",
      "A value is trying to be set on a copy of a slice from a DataFrame.\n",
      "Try using .loc[row_indexer,col_indexer] = value instead\n",
      "\n",
      "See the caveats in the documentation: https://pandas.pydata.org/pandas-docs/stable/user_guide/indexing.html#returning-a-view-versus-a-copy\n",
      "  df_date_filter['user_latitude'] = user_latitude\n",
      "/tmp/ipykernel_681/3081728598.py:29: SettingWithCopyWarning: \n",
      "A value is trying to be set on a copy of a slice from a DataFrame.\n",
      "Try using .loc[row_indexer,col_indexer] = value instead\n",
      "\n",
      "See the caveats in the documentation: https://pandas.pydata.org/pandas-docs/stable/user_guide/indexing.html#returning-a-view-versus-a-copy\n",
      "  df_date_filter['user_longitude'] = user_longitude\n",
      "/tmp/ipykernel_681/3081728598.py:31: SettingWithCopyWarning: \n",
      "A value is trying to be set on a copy of a slice from a DataFrame.\n",
      "Try using .loc[row_indexer,col_indexer] = value instead\n",
      "\n",
      "See the caveats in the documentation: https://pandas.pydata.org/pandas-docs/stable/user_guide/indexing.html#returning-a-view-versus-a-copy\n",
      "  df_date_filter[\"distance\"] = haversine_vectorized(df_date_filter.latitude, df_date_filter.longitude,\n",
      "/tmp/ipykernel_681/3081728598.py:28: SettingWithCopyWarning: \n",
      "A value is trying to be set on a copy of a slice from a DataFrame.\n",
      "Try using .loc[row_indexer,col_indexer] = value instead\n",
      "\n",
      "See the caveats in the documentation: https://pandas.pydata.org/pandas-docs/stable/user_guide/indexing.html#returning-a-view-versus-a-copy\n",
      "  df_date_filter['user_latitude'] = user_latitude\n",
      "/tmp/ipykernel_681/3081728598.py:29: SettingWithCopyWarning: \n",
      "A value is trying to be set on a copy of a slice from a DataFrame.\n",
      "Try using .loc[row_indexer,col_indexer] = value instead\n",
      "\n",
      "See the caveats in the documentation: https://pandas.pydata.org/pandas-docs/stable/user_guide/indexing.html#returning-a-view-versus-a-copy\n",
      "  df_date_filter['user_longitude'] = user_longitude\n",
      "/tmp/ipykernel_681/3081728598.py:31: SettingWithCopyWarning: \n",
      "A value is trying to be set on a copy of a slice from a DataFrame.\n",
      "Try using .loc[row_indexer,col_indexer] = value instead\n",
      "\n",
      "See the caveats in the documentation: https://pandas.pydata.org/pandas-docs/stable/user_guide/indexing.html#returning-a-view-versus-a-copy\n",
      "  df_date_filter[\"distance\"] = haversine_vectorized(df_date_filter.latitude, df_date_filter.longitude,\n",
      "/tmp/ipykernel_681/3081728598.py:28: SettingWithCopyWarning: \n",
      "A value is trying to be set on a copy of a slice from a DataFrame.\n",
      "Try using .loc[row_indexer,col_indexer] = value instead\n",
      "\n",
      "See the caveats in the documentation: https://pandas.pydata.org/pandas-docs/stable/user_guide/indexing.html#returning-a-view-versus-a-copy\n",
      "  df_date_filter['user_latitude'] = user_latitude\n",
      "/tmp/ipykernel_681/3081728598.py:29: SettingWithCopyWarning: \n",
      "A value is trying to be set on a copy of a slice from a DataFrame.\n",
      "Try using .loc[row_indexer,col_indexer] = value instead\n",
      "\n",
      "See the caveats in the documentation: https://pandas.pydata.org/pandas-docs/stable/user_guide/indexing.html#returning-a-view-versus-a-copy\n",
      "  df_date_filter['user_longitude'] = user_longitude\n",
      "/tmp/ipykernel_681/3081728598.py:31: SettingWithCopyWarning: \n",
      "A value is trying to be set on a copy of a slice from a DataFrame.\n",
      "Try using .loc[row_indexer,col_indexer] = value instead\n",
      "\n",
      "See the caveats in the documentation: https://pandas.pydata.org/pandas-docs/stable/user_guide/indexing.html#returning-a-view-versus-a-copy\n",
      "  df_date_filter[\"distance\"] = haversine_vectorized(df_date_filter.latitude, df_date_filter.longitude,\n"
     ]
    }
   ],
   "source": [
    "result = {}\n",
    "for user_id in users_df.id.values:\n",
    "    events = content_recommender(user_id, cosine_sim, events_df).tolist()\n",
    "    if user_id not in result.keys():\n",
    "        result[str(user_id)] = events"
   ]
  },
  {
   "cell_type": "code",
   "execution_count": 80,
   "id": "6c025504-dd4b-4689-99db-bf3695a40b8d",
   "metadata": {},
   "outputs": [
    {
     "data": {
      "text/plain": [
       "{'55': [2336,\n",
       "  2337,\n",
       "  2338,\n",
       "  2339,\n",
       "  2376,\n",
       "  2393,\n",
       "  2397,\n",
       "  2398,\n",
       "  2461,\n",
       "  2477,\n",
       "  2511,\n",
       "  2513,\n",
       "  2518,\n",
       "  2598,\n",
       "  2599,\n",
       "  2600,\n",
       "  2660,\n",
       "  2814,\n",
       "  2944,\n",
       "  2947,\n",
       "  2957,\n",
       "  2996,\n",
       "  3086,\n",
       "  3087,\n",
       "  3088,\n",
       "  3092,\n",
       "  3093,\n",
       "  3135,\n",
       "  3193,\n",
       "  3194,\n",
       "  3202,\n",
       "  3203],\n",
       " '56': [2364,\n",
       "  2376,\n",
       "  2487,\n",
       "  2660,\n",
       "  2717,\n",
       "  2719,\n",
       "  2731,\n",
       "  2733,\n",
       "  2737,\n",
       "  2753,\n",
       "  2754,\n",
       "  2756,\n",
       "  2794,\n",
       "  2844,\n",
       "  2860,\n",
       "  2866,\n",
       "  2873,\n",
       "  2874,\n",
       "  2875,\n",
       "  2883,\n",
       "  2885,\n",
       "  2898,\n",
       "  2900,\n",
       "  2902,\n",
       "  2903,\n",
       "  2906,\n",
       "  2907,\n",
       "  2908,\n",
       "  2909,\n",
       "  2912,\n",
       "  2913,\n",
       "  2914,\n",
       "  2917,\n",
       "  2950,\n",
       "  3012,\n",
       "  3015,\n",
       "  3016,\n",
       "  3017,\n",
       "  3022,\n",
       "  3024,\n",
       "  3050,\n",
       "  3052,\n",
       "  3054,\n",
       "  3086,\n",
       "  3087,\n",
       "  3088,\n",
       "  3092,\n",
       "  3093,\n",
       "  3098,\n",
       "  3108,\n",
       "  3109,\n",
       "  3110,\n",
       "  3111,\n",
       "  3112,\n",
       "  3115,\n",
       "  3116,\n",
       "  3117,\n",
       "  3167,\n",
       "  3193,\n",
       "  3194,\n",
       "  3198,\n",
       "  3199,\n",
       "  3212],\n",
       " '57': [],\n",
       " '58': [],\n",
       " '61': [],\n",
       " '62': [],\n",
       " '63': [],\n",
       " '64': [2342,\n",
       "  2343,\n",
       "  2346,\n",
       "  2347,\n",
       "  2353,\n",
       "  2354,\n",
       "  2379,\n",
       "  2466,\n",
       "  2470,\n",
       "  2474,\n",
       "  2602,\n",
       "  2807,\n",
       "  2814,\n",
       "  3029,\n",
       "  3032,\n",
       "  3033,\n",
       "  3035,\n",
       "  3036,\n",
       "  3037,\n",
       "  3043,\n",
       "  3054,\n",
       "  3081],\n",
       " '65': [2432,\n",
       "  2435,\n",
       "  2437,\n",
       "  2623,\n",
       "  2624,\n",
       "  2737,\n",
       "  2739,\n",
       "  2740,\n",
       "  2743,\n",
       "  2744,\n",
       "  2745,\n",
       "  2764,\n",
       "  2766,\n",
       "  2768,\n",
       "  2769,\n",
       "  2808,\n",
       "  2990,\n",
       "  2992,\n",
       "  2993,\n",
       "  2994,\n",
       "  3012],\n",
       " '60': [2336,\n",
       "  2337,\n",
       "  2338,\n",
       "  2750,\n",
       "  2753,\n",
       "  2754,\n",
       "  2875,\n",
       "  2883,\n",
       "  2885,\n",
       "  2907,\n",
       "  2908,\n",
       "  2909,\n",
       "  2913,\n",
       "  2914,\n",
       "  2996,\n",
       "  3015,\n",
       "  3016,\n",
       "  3017,\n",
       "  3022,\n",
       "  3024,\n",
       "  3086,\n",
       "  3087,\n",
       "  3088,\n",
       "  3092,\n",
       "  3093,\n",
       "  3108,\n",
       "  3109,\n",
       "  3110,\n",
       "  3111,\n",
       "  3112,\n",
       "  3115,\n",
       "  3116,\n",
       "  3117,\n",
       "  3193,\n",
       "  3194,\n",
       "  3198,\n",
       "  3199],\n",
       " '59': [2531,\n",
       "  2532,\n",
       "  2560,\n",
       "  2561,\n",
       "  2581,\n",
       "  2582,\n",
       "  2584,\n",
       "  2588,\n",
       "  2591,\n",
       "  2596,\n",
       "  2777,\n",
       "  2782,\n",
       "  2787,\n",
       "  2790,\n",
       "  3007,\n",
       "  3008,\n",
       "  3009,\n",
       "  3010,\n",
       "  3015,\n",
       "  3016,\n",
       "  3017,\n",
       "  3019,\n",
       "  3020,\n",
       "  3021,\n",
       "  3022,\n",
       "  3023,\n",
       "  3024,\n",
       "  3025]}"
      ]
     },
     "execution_count": 80,
     "metadata": {},
     "output_type": "execute_result"
    }
   ],
   "source": [
    "result"
   ]
  },
  {
   "cell_type": "code",
   "execution_count": 85,
   "id": "c53ec50a-746e-48bb-8c58-7e987997bf0d",
   "metadata": {},
   "outputs": [],
   "source": [
    "with open('recommender.json', 'w') as fp:\n",
    "    json.dump(result, fp)"
   ]
  },
  {
   "cell_type": "code",
   "execution_count": 82,
   "id": "8ccb36aa-080b-47db-95ac-ac13f653f672",
   "metadata": {},
   "outputs": [],
   "source": [
    "with open('recommender.json', 'r') as fp:\n",
    "    data = json.load(fp)"
   ]
  },
  {
   "cell_type": "code",
   "execution_count": 87,
   "id": "2659398c-e737-496c-897b-0a8aee0ddeef",
   "metadata": {},
   "outputs": [],
   "source": [
    "upload_file_to_gs('recommender.json')"
   ]
  }
 ],
 "metadata": {
  "kernelspec": {
   "display_name": "Python 3 (ipykernel)",
   "language": "python",
   "name": "python3"
  },
  "language_info": {
   "codemirror_mode": {
    "name": "ipython",
    "version": 3
   },
   "file_extension": ".py",
   "mimetype": "text/x-python",
   "name": "python",
   "nbconvert_exporter": "python",
   "pygments_lexer": "ipython3",
   "version": "3.8.12"
  },
  "toc": {
   "base_numbering": 1,
   "nav_menu": {},
   "number_sections": true,
   "sideBar": true,
   "skip_h1_title": false,
   "title_cell": "Table of Contents",
   "title_sidebar": "Contents",
   "toc_cell": false,
   "toc_position": {},
   "toc_section_display": true,
   "toc_window_display": false
  }
 },
 "nbformat": 4,
 "nbformat_minor": 5
}
