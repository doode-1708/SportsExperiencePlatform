{
 "cells": [
  {
   "cell_type": "code",
   "execution_count": 6,
   "id": "331f49a1-fb5f-49e3-bc92-1d3f5c48b997",
   "metadata": {},
   "outputs": [],
   "source": [
    "import requests\n",
    "import pandas as pd\n",
    "import numpy as np"
   ]
  },
  {
   "cell_type": "code",
   "execution_count": null,
   "id": "363f64af-946a-4324-9221-a705416f8ed2",
   "metadata": {},
   "outputs": [],
   "source": [
    "cities_lat_lon = ((52.520008, 13.404954), (47.259659, 11.400375), (51.515419, -0.141099))\n",
    "radius = 100\n",
    "activities = [\n",
    "    'fitness'\n",
    "    , 'running'\n",
    "    #, 'yoga'\n",
    "    , 'cycling'\n",
    "    , 'soccer'\n",
    "    , 'laufen'\n",
    "    , 'fussball'\n",
    "    , 'hockey'\n",
    "    , 'radfahren'\n",
    "    , 'wandern'\n",
    "    , 'ski'\n",
    "    #, 'hiking'\n",
    "]"
   ]
  },
  {
   "cell_type": "code",
   "execution_count": null,
   "id": "75169aeb-d82e-4ba6-b6ed-6f9d53f0e96c",
   "metadata": {},
   "outputs": [],
   "source": [
    "events = []\n",
    "for lat, lon in cities_lat_lon:\n",
    "    for activity in activities:\n",
    "        events_url = f\"https://event-collector-api.herokuapp.com/meetupql?activity={activity}&lat={lat}&lon={lon}&radius={radius}\"\n",
    "        print(events_url)\n",
    "        response = requests.get(events_url).json()\n",
    "        \n",
    "        if response:\n",
    "            for event in response['Data']:\n",
    "                if event['venue'] == None:\n",
    "                    event_lat = lat\n",
    "                    event_lng = lon\n",
    "                else:\n",
    "                    event_lat = event['venue']['lat']\n",
    "                    event_lng = event['venue']['lng']\n",
    "\n",
    "                events.append([event['title'], event['description'], event_lat, event_lng])"
   ]
  },
  {
   "cell_type": "code",
   "execution_count": null,
   "id": "0a2f3e2c-54b2-4cdf-a4cd-7012970be76e",
   "metadata": {},
   "outputs": [],
   "source": [
    "pd.DataFrame(events, columns=['title', 'description', 'lat', 'lng']).to_csv('events')"
   ]
  },
  {
   "cell_type": "code",
   "execution_count": null,
   "id": "12348260-4438-4222-8e19-0f4cc268adb2",
   "metadata": {},
   "outputs": [],
   "source": [
    "events_url = \"https://event-collector-api.herokuapp.com/meetupql?activity=fitness&lat=52.520008&lon=13.404954&radius=100\""
   ]
  },
  {
   "cell_type": "code",
   "execution_count": null,
   "id": "3e300da8-9ab7-4499-9195-58200a01644b",
   "metadata": {},
   "outputs": [],
   "source": [
    "response = requests.get(events_url).json()"
   ]
  },
  {
   "cell_type": "code",
   "execution_count": null,
   "id": "78c23621-59a5-409f-8034-efc1a5159152",
   "metadata": {},
   "outputs": [],
   "source": [
    "events = []\n",
    "\n",
    "for event in response['Data']:\n",
    "    if event['venue'] == None:\n",
    "        event_lat = 52.520008\n",
    "        event_lng = 13.404954\n",
    "    else:\n",
    "        event_lat = event['venue']['lat']\n",
    "        event_lng = event['venue']['lng']\n",
    "\n",
    "    events.append([event['title'], event['description'], event_lat, event_lng])    \n",
    "\n",
    "pd.DataFrame(events, columns=['title', 'description', 'lat', 'lng'])"
   ]
  },
  {
   "cell_type": "code",
   "execution_count": 1,
   "id": "4eeb9312-0316-4079-8162-0344ebf0a002",
   "metadata": {},
   "outputs": [],
   "source": [
    "from SportsExperiencePlatform.data import get_data, connect_db"
   ]
  },
  {
   "cell_type": "code",
   "execution_count": 2,
   "id": "da41c326-0087-45b3-ae42-e38e54f5d19b",
   "metadata": {},
   "outputs": [
    {
     "name": "stderr",
     "output_type": "stream",
     "text": [
      "/home/daniel/.pyenv/versions/3.8.12/envs/SportsExperiencePlatform/lib/python3.8/site-packages/pandas/io/sql.py:761: UserWarning: pandas only support SQLAlchemy connectable(engine/connection) ordatabase string URI or sqlite3 DBAPI2 connectionother DBAPI2 objects are not tested, please consider using SQLAlchemy\n",
      "  warnings.warn(\n",
      "/home/daniel/.pyenv/versions/3.8.12/envs/SportsExperiencePlatform/lib/python3.8/site-packages/pandas/io/sql.py:761: UserWarning: pandas only support SQLAlchemy connectable(engine/connection) ordatabase string URI or sqlite3 DBAPI2 connectionother DBAPI2 objects are not tested, please consider using SQLAlchemy\n",
      "  warnings.warn(\n"
     ]
    }
   ],
   "source": [
    "conn = connect_db()\n",
    "users_df, events_df = get_data(conn)"
   ]
  },
  {
   "cell_type": "code",
   "execution_count": 3,
   "id": "3abd38c3-8e0d-4e7b-b57a-4799a812a82b",
   "metadata": {},
   "outputs": [
    {
     "data": {
      "text/plain": [
       "(9, 13)"
      ]
     },
     "execution_count": 3,
     "metadata": {},
     "output_type": "execute_result"
    }
   ],
   "source": [
    "users_df.shape"
   ]
  },
  {
   "cell_type": "code",
   "execution_count": 4,
   "id": "29a60af5-d7ab-45aa-a1fc-8bb058cd8495",
   "metadata": {},
   "outputs": [
    {
     "data": {
      "text/plain": [
       "(155, 17)"
      ]
     },
     "execution_count": 4,
     "metadata": {},
     "output_type": "execute_result"
    }
   ],
   "source": [
    "events_df.shape"
   ]
  },
  {
   "cell_type": "code",
   "execution_count": 7,
   "id": "b6b8b2c4-1138-4429-975c-feaf01f440cc",
   "metadata": {},
   "outputs": [],
   "source": [
    "df = pd.read_csv('events.csv')"
   ]
  },
  {
   "cell_type": "code",
   "execution_count": 8,
   "id": "74f40900-dfe1-46c7-b081-f95cc87fc4fc",
   "metadata": {},
   "outputs": [
    {
     "data": {
      "text/plain": [
       "0       Diese Gruppe ist für alle gedacht, die gerne d...\n",
       "1       Diese Gruppe ist für alle gedacht, die gerne d...\n",
       "2       Diese Gruppe ist für alle gedacht, die gerne d...\n",
       "3       Diese Gruppe ist für alle gedacht, die gerne d...\n",
       "4       Diese Gruppe ist für alle gedacht, die gerne d...\n",
       "                              ...                        \n",
       "1184    Join us for a chance to socialise and (optiona...\n",
       "1185    Join us for a chance to socialise and (optiona...\n",
       "1186    Join us for a chance to socialise and (optiona...\n",
       "1187    Hello, hello all! It is time to get all excite...\n",
       "1188    Lyngen Alps Crossing - from fjord to mountain\\...\n",
       "Name: description, Length: 1189, dtype: object"
      ]
     },
     "execution_count": 8,
     "metadata": {},
     "output_type": "execute_result"
    }
   ],
   "source": [
    "df.description"
   ]
  }
 ],
 "metadata": {
  "kernelspec": {
   "display_name": "Python 3 (ipykernel)",
   "language": "python",
   "name": "python3"
  },
  "language_info": {
   "codemirror_mode": {
    "name": "ipython",
    "version": 3
   },
   "file_extension": ".py",
   "mimetype": "text/x-python",
   "name": "python",
   "nbconvert_exporter": "python",
   "pygments_lexer": "ipython3",
   "version": "3.8.12"
  }
 },
 "nbformat": 4,
 "nbformat_minor": 5
}
