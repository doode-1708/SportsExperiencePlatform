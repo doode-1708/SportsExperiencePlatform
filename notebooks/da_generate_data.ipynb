{
 "cells": [
  {
   "cell_type": "code",
   "execution_count": 1,
   "id": "331f49a1-fb5f-49e3-bc92-1d3f5c48b997",
   "metadata": {},
   "outputs": [],
   "source": [
    "import requests\n",
    "import pandas as pd\n",
    "import numpy as np"
   ]
  },
  {
   "cell_type": "code",
   "execution_count": 49,
   "id": "363f64af-946a-4324-9221-a705416f8ed2",
   "metadata": {},
   "outputs": [],
   "source": [
    "cities_lat_lon = ((52.520008, 13.404954), (47.259659, 11.400375), (51.515419, -0.141099))\n",
    "radius = 100\n",
    "activities = [\n",
    "    'fitness'\n",
    "    , 'running'\n",
    "    #, 'yoga'\n",
    "    , 'cycling'\n",
    "    , 'soccer'\n",
    "    , 'laufen'\n",
    "    , 'fussball'\n",
    "    , 'hockey'\n",
    "    , 'radfahren'\n",
    "    , 'wandern'\n",
    "    , 'ski'\n",
    "    #, 'hiking'\n",
    "]"
   ]
  },
  {
   "cell_type": "code",
   "execution_count": 46,
   "id": "75169aeb-d82e-4ba6-b6ed-6f9d53f0e96c",
   "metadata": {},
   "outputs": [
    {
     "name": "stdout",
     "output_type": "stream",
     "text": [
      "https://event-collector-api.herokuapp.com/meetupql?activity=fitness&lat=52.520008&lon=13.404954&radius=100\n",
      "https://event-collector-api.herokuapp.com/meetupql?activity=running&lat=52.520008&lon=13.404954&radius=100\n",
      "https://event-collector-api.herokuapp.com/meetupql?activity=cycling&lat=52.520008&lon=13.404954&radius=100\n",
      "https://event-collector-api.herokuapp.com/meetupql?activity=soccer&lat=52.520008&lon=13.404954&radius=100\n",
      "https://event-collector-api.herokuapp.com/meetupql?activity=laufen&lat=52.520008&lon=13.404954&radius=100\n",
      "https://event-collector-api.herokuapp.com/meetupql?activity=fussball&lat=52.520008&lon=13.404954&radius=100\n",
      "https://event-collector-api.herokuapp.com/meetupql?activity=hockey&lat=52.520008&lon=13.404954&radius=100\n",
      "https://event-collector-api.herokuapp.com/meetupql?activity=radfahren&lat=52.520008&lon=13.404954&radius=100\n",
      "https://event-collector-api.herokuapp.com/meetupql?activity=wandern&lat=52.520008&lon=13.404954&radius=100\n",
      "https://event-collector-api.herokuapp.com/meetupql?activity=ski&lat=52.520008&lon=13.404954&radius=100\n",
      "https://event-collector-api.herokuapp.com/meetupql?activity=hiking&lat=52.520008&lon=13.404954&radius=100\n",
      "https://event-collector-api.herokuapp.com/meetupql?activity=fitness&lat=47.259659&lon=11.400375&radius=100\n",
      "https://event-collector-api.herokuapp.com/meetupql?activity=running&lat=47.259659&lon=11.400375&radius=100\n",
      "https://event-collector-api.herokuapp.com/meetupql?activity=cycling&lat=47.259659&lon=11.400375&radius=100\n",
      "https://event-collector-api.herokuapp.com/meetupql?activity=soccer&lat=47.259659&lon=11.400375&radius=100\n",
      "https://event-collector-api.herokuapp.com/meetupql?activity=laufen&lat=47.259659&lon=11.400375&radius=100\n",
      "https://event-collector-api.herokuapp.com/meetupql?activity=fussball&lat=47.259659&lon=11.400375&radius=100\n",
      "https://event-collector-api.herokuapp.com/meetupql?activity=hockey&lat=47.259659&lon=11.400375&radius=100\n",
      "https://event-collector-api.herokuapp.com/meetupql?activity=radfahren&lat=47.259659&lon=11.400375&radius=100\n",
      "https://event-collector-api.herokuapp.com/meetupql?activity=wandern&lat=47.259659&lon=11.400375&radius=100\n",
      "https://event-collector-api.herokuapp.com/meetupql?activity=ski&lat=47.259659&lon=11.400375&radius=100\n",
      "https://event-collector-api.herokuapp.com/meetupql?activity=hiking&lat=47.259659&lon=11.400375&radius=100\n",
      "https://event-collector-api.herokuapp.com/meetupql?activity=fitness&lat=51.515419&lon=-0.141099&radius=100\n",
      "https://event-collector-api.herokuapp.com/meetupql?activity=running&lat=51.515419&lon=-0.141099&radius=100\n",
      "https://event-collector-api.herokuapp.com/meetupql?activity=cycling&lat=51.515419&lon=-0.141099&radius=100\n",
      "https://event-collector-api.herokuapp.com/meetupql?activity=soccer&lat=51.515419&lon=-0.141099&radius=100\n",
      "https://event-collector-api.herokuapp.com/meetupql?activity=laufen&lat=51.515419&lon=-0.141099&radius=100\n",
      "https://event-collector-api.herokuapp.com/meetupql?activity=fussball&lat=51.515419&lon=-0.141099&radius=100\n",
      "https://event-collector-api.herokuapp.com/meetupql?activity=hockey&lat=51.515419&lon=-0.141099&radius=100\n",
      "https://event-collector-api.herokuapp.com/meetupql?activity=radfahren&lat=51.515419&lon=-0.141099&radius=100\n",
      "https://event-collector-api.herokuapp.com/meetupql?activity=wandern&lat=51.515419&lon=-0.141099&radius=100\n",
      "https://event-collector-api.herokuapp.com/meetupql?activity=ski&lat=51.515419&lon=-0.141099&radius=100\n",
      "https://event-collector-api.herokuapp.com/meetupql?activity=hiking&lat=51.515419&lon=-0.141099&radius=100\n"
     ]
    },
    {
     "ename": "JSONDecodeError",
     "evalue": "[Errno Expecting value] <!DOCTYPE html>\n\t<html>\n\t  <head>\n\t\t<meta name=\"viewport\" content=\"width=device-width, initial-scale=1\">\n\t\t<meta charset=\"utf-8\">\n\t\t<title>Application Error</title>\n\t\t<style media=\"screen\">\n\t\t  html,body,iframe {\n\t\t\tmargin: 0;\n\t\t\tpadding: 0;\n\t\t  }\n\t\t  html,body {\n\t\t\theight: 100%;\n\t\t\toverflow: hidden;\n\t\t  }\n\t\t  iframe {\n\t\t\twidth: 100%;\n\t\t\theight: 100%;\n\t\t\tborder: 0;\n\t\t  }\n\t\t</style>\n\t  </head>\n\t  <body>\n\t\t<iframe src=\"//www.herokucdn.com/error-pages/application-error.html\"></iframe>\n\t  </body>\n\t</html>: 0",
     "output_type": "error",
     "traceback": [
      "\u001b[0;31m---------------------------------------------------------------------------\u001b[0m",
      "\u001b[0;31mJSONDecodeError\u001b[0m                           Traceback (most recent call last)",
      "File \u001b[0;32m~/.pyenv/versions/3.8.12/envs/SportsExperiencePlatform/lib/python3.8/site-packages/requests/models.py:910\u001b[0m, in \u001b[0;36mResponse.json\u001b[0;34m(self, **kwargs)\u001b[0m\n\u001b[1;32m    909\u001b[0m \u001b[38;5;28;01mtry\u001b[39;00m:\n\u001b[0;32m--> 910\u001b[0m     \u001b[38;5;28;01mreturn\u001b[39;00m \u001b[43mcomplexjson\u001b[49m\u001b[38;5;241;43m.\u001b[39;49m\u001b[43mloads\u001b[49m\u001b[43m(\u001b[49m\u001b[38;5;28;43mself\u001b[39;49m\u001b[38;5;241;43m.\u001b[39;49m\u001b[43mtext\u001b[49m\u001b[43m,\u001b[49m\u001b[43m \u001b[49m\u001b[38;5;241;43m*\u001b[39;49m\u001b[38;5;241;43m*\u001b[39;49m\u001b[43mkwargs\u001b[49m\u001b[43m)\u001b[49m\n\u001b[1;32m    911\u001b[0m \u001b[38;5;28;01mexcept\u001b[39;00m JSONDecodeError \u001b[38;5;28;01mas\u001b[39;00m e:\n\u001b[1;32m    912\u001b[0m     \u001b[38;5;66;03m# Catch JSON-related errors and raise as requests.JSONDecodeError\u001b[39;00m\n\u001b[1;32m    913\u001b[0m     \u001b[38;5;66;03m# This aliases json.JSONDecodeError and simplejson.JSONDecodeError\u001b[39;00m\n",
      "File \u001b[0;32m~/.pyenv/versions/3.8.12/lib/python3.8/json/__init__.py:357\u001b[0m, in \u001b[0;36mloads\u001b[0;34m(s, cls, object_hook, parse_float, parse_int, parse_constant, object_pairs_hook, **kw)\u001b[0m\n\u001b[1;32m    354\u001b[0m \u001b[38;5;28;01mif\u001b[39;00m (\u001b[38;5;28mcls\u001b[39m \u001b[38;5;129;01mis\u001b[39;00m \u001b[38;5;28;01mNone\u001b[39;00m \u001b[38;5;129;01mand\u001b[39;00m object_hook \u001b[38;5;129;01mis\u001b[39;00m \u001b[38;5;28;01mNone\u001b[39;00m \u001b[38;5;129;01mand\u001b[39;00m\n\u001b[1;32m    355\u001b[0m         parse_int \u001b[38;5;129;01mis\u001b[39;00m \u001b[38;5;28;01mNone\u001b[39;00m \u001b[38;5;129;01mand\u001b[39;00m parse_float \u001b[38;5;129;01mis\u001b[39;00m \u001b[38;5;28;01mNone\u001b[39;00m \u001b[38;5;129;01mand\u001b[39;00m\n\u001b[1;32m    356\u001b[0m         parse_constant \u001b[38;5;129;01mis\u001b[39;00m \u001b[38;5;28;01mNone\u001b[39;00m \u001b[38;5;129;01mand\u001b[39;00m object_pairs_hook \u001b[38;5;129;01mis\u001b[39;00m \u001b[38;5;28;01mNone\u001b[39;00m \u001b[38;5;129;01mand\u001b[39;00m \u001b[38;5;129;01mnot\u001b[39;00m kw):\n\u001b[0;32m--> 357\u001b[0m     \u001b[38;5;28;01mreturn\u001b[39;00m \u001b[43m_default_decoder\u001b[49m\u001b[38;5;241;43m.\u001b[39;49m\u001b[43mdecode\u001b[49m\u001b[43m(\u001b[49m\u001b[43ms\u001b[49m\u001b[43m)\u001b[49m\n\u001b[1;32m    358\u001b[0m \u001b[38;5;28;01mif\u001b[39;00m \u001b[38;5;28mcls\u001b[39m \u001b[38;5;129;01mis\u001b[39;00m \u001b[38;5;28;01mNone\u001b[39;00m:\n",
      "File \u001b[0;32m~/.pyenv/versions/3.8.12/lib/python3.8/json/decoder.py:337\u001b[0m, in \u001b[0;36mJSONDecoder.decode\u001b[0;34m(self, s, _w)\u001b[0m\n\u001b[1;32m    333\u001b[0m \u001b[38;5;124;03m\"\"\"Return the Python representation of ``s`` (a ``str`` instance\u001b[39;00m\n\u001b[1;32m    334\u001b[0m \u001b[38;5;124;03mcontaining a JSON document).\u001b[39;00m\n\u001b[1;32m    335\u001b[0m \n\u001b[1;32m    336\u001b[0m \u001b[38;5;124;03m\"\"\"\u001b[39;00m\n\u001b[0;32m--> 337\u001b[0m obj, end \u001b[38;5;241m=\u001b[39m \u001b[38;5;28;43mself\u001b[39;49m\u001b[38;5;241;43m.\u001b[39;49m\u001b[43mraw_decode\u001b[49m\u001b[43m(\u001b[49m\u001b[43ms\u001b[49m\u001b[43m,\u001b[49m\u001b[43m \u001b[49m\u001b[43midx\u001b[49m\u001b[38;5;241;43m=\u001b[39;49m\u001b[43m_w\u001b[49m\u001b[43m(\u001b[49m\u001b[43ms\u001b[49m\u001b[43m,\u001b[49m\u001b[43m \u001b[49m\u001b[38;5;241;43m0\u001b[39;49m\u001b[43m)\u001b[49m\u001b[38;5;241;43m.\u001b[39;49m\u001b[43mend\u001b[49m\u001b[43m(\u001b[49m\u001b[43m)\u001b[49m\u001b[43m)\u001b[49m\n\u001b[1;32m    338\u001b[0m end \u001b[38;5;241m=\u001b[39m _w(s, end)\u001b[38;5;241m.\u001b[39mend()\n",
      "File \u001b[0;32m~/.pyenv/versions/3.8.12/lib/python3.8/json/decoder.py:355\u001b[0m, in \u001b[0;36mJSONDecoder.raw_decode\u001b[0;34m(self, s, idx)\u001b[0m\n\u001b[1;32m    354\u001b[0m \u001b[38;5;28;01mexcept\u001b[39;00m \u001b[38;5;167;01mStopIteration\u001b[39;00m \u001b[38;5;28;01mas\u001b[39;00m err:\n\u001b[0;32m--> 355\u001b[0m     \u001b[38;5;28;01mraise\u001b[39;00m JSONDecodeError(\u001b[38;5;124m\"\u001b[39m\u001b[38;5;124mExpecting value\u001b[39m\u001b[38;5;124m\"\u001b[39m, s, err\u001b[38;5;241m.\u001b[39mvalue) \u001b[38;5;28;01mfrom\u001b[39;00m \u001b[38;5;28mNone\u001b[39m\n\u001b[1;32m    356\u001b[0m \u001b[38;5;28;01mreturn\u001b[39;00m obj, end\n",
      "\u001b[0;31mJSONDecodeError\u001b[0m: Expecting value: line 1 column 1 (char 0)",
      "\nDuring handling of the above exception, another exception occurred:\n",
      "\u001b[0;31mJSONDecodeError\u001b[0m                           Traceback (most recent call last)",
      "Input \u001b[0;32mIn [46]\u001b[0m, in \u001b[0;36m<cell line: 2>\u001b[0;34m()\u001b[0m\n\u001b[1;32m      4\u001b[0m events_url \u001b[38;5;241m=\u001b[39m \u001b[38;5;124mf\u001b[39m\u001b[38;5;124m\"\u001b[39m\u001b[38;5;124mhttps://event-collector-api.herokuapp.com/meetupql?activity=\u001b[39m\u001b[38;5;132;01m{\u001b[39;00mactivity\u001b[38;5;132;01m}\u001b[39;00m\u001b[38;5;124m&lat=\u001b[39m\u001b[38;5;132;01m{\u001b[39;00mlat\u001b[38;5;132;01m}\u001b[39;00m\u001b[38;5;124m&lon=\u001b[39m\u001b[38;5;132;01m{\u001b[39;00mlon\u001b[38;5;132;01m}\u001b[39;00m\u001b[38;5;124m&radius=\u001b[39m\u001b[38;5;132;01m{\u001b[39;00mradius\u001b[38;5;132;01m}\u001b[39;00m\u001b[38;5;124m\"\u001b[39m\n\u001b[1;32m      5\u001b[0m \u001b[38;5;28mprint\u001b[39m(events_url)\n\u001b[0;32m----> 6\u001b[0m response \u001b[38;5;241m=\u001b[39m \u001b[43mrequests\u001b[49m\u001b[38;5;241;43m.\u001b[39;49m\u001b[43mget\u001b[49m\u001b[43m(\u001b[49m\u001b[43mevents_url\u001b[49m\u001b[43m)\u001b[49m\u001b[38;5;241;43m.\u001b[39;49m\u001b[43mjson\u001b[49m\u001b[43m(\u001b[49m\u001b[43m)\u001b[49m\n\u001b[1;32m      8\u001b[0m \u001b[38;5;28;01mif\u001b[39;00m response:\n\u001b[1;32m      9\u001b[0m     \u001b[38;5;28;01mfor\u001b[39;00m event \u001b[38;5;129;01min\u001b[39;00m response[\u001b[38;5;124m'\u001b[39m\u001b[38;5;124mData\u001b[39m\u001b[38;5;124m'\u001b[39m]:\n",
      "File \u001b[0;32m~/.pyenv/versions/3.8.12/envs/SportsExperiencePlatform/lib/python3.8/site-packages/requests/models.py:917\u001b[0m, in \u001b[0;36mResponse.json\u001b[0;34m(self, **kwargs)\u001b[0m\n\u001b[1;32m    915\u001b[0m     \u001b[38;5;28;01mraise\u001b[39;00m RequestsJSONDecodeError(e\u001b[38;5;241m.\u001b[39mmessage)\n\u001b[1;32m    916\u001b[0m \u001b[38;5;28;01melse\u001b[39;00m:\n\u001b[0;32m--> 917\u001b[0m     \u001b[38;5;28;01mraise\u001b[39;00m RequestsJSONDecodeError(e\u001b[38;5;241m.\u001b[39mmsg, e\u001b[38;5;241m.\u001b[39mdoc, e\u001b[38;5;241m.\u001b[39mpos)\n",
      "\u001b[0;31mJSONDecodeError\u001b[0m: [Errno Expecting value] <!DOCTYPE html>\n\t<html>\n\t  <head>\n\t\t<meta name=\"viewport\" content=\"width=device-width, initial-scale=1\">\n\t\t<meta charset=\"utf-8\">\n\t\t<title>Application Error</title>\n\t\t<style media=\"screen\">\n\t\t  html,body,iframe {\n\t\t\tmargin: 0;\n\t\t\tpadding: 0;\n\t\t  }\n\t\t  html,body {\n\t\t\theight: 100%;\n\t\t\toverflow: hidden;\n\t\t  }\n\t\t  iframe {\n\t\t\twidth: 100%;\n\t\t\theight: 100%;\n\t\t\tborder: 0;\n\t\t  }\n\t\t</style>\n\t  </head>\n\t  <body>\n\t\t<iframe src=\"//www.herokucdn.com/error-pages/application-error.html\"></iframe>\n\t  </body>\n\t</html>: 0"
     ]
    }
   ],
   "source": [
    "events = []\n",
    "for lat, lon in cities_lat_lon:\n",
    "    for activity in activities:\n",
    "        events_url = f\"https://event-collector-api.herokuapp.com/meetupql?activity={activity}&lat={lat}&lon={lon}&radius={radius}\"\n",
    "        print(events_url)\n",
    "        response = requests.get(events_url).json()\n",
    "        \n",
    "        if response:\n",
    "            for event in response['Data']:\n",
    "                if event['venue'] == None:\n",
    "                    event_lat = lat\n",
    "                    event_lng = lon\n",
    "                else:\n",
    "                    event_lat = event['venue']['lat']\n",
    "                    event_lng = event['venue']['lng']\n",
    "\n",
    "                events.append([event['title'], event['description'], event_lat, event_lng])"
   ]
  },
  {
   "cell_type": "code",
   "execution_count": 48,
   "id": "0a2f3e2c-54b2-4cdf-a4cd-7012970be76e",
   "metadata": {},
   "outputs": [],
   "source": [
    "pd.DataFrame(events, columns=['title', 'description', 'lat', 'lng']).to_csv('events')"
   ]
  },
  {
   "cell_type": "code",
   "execution_count": 5,
   "id": "12348260-4438-4222-8e19-0f4cc268adb2",
   "metadata": {},
   "outputs": [],
   "source": [
    "events_url = \"https://event-collector-api.herokuapp.com/meetupql?activity=fitness&lat=52.520008&lon=13.404954&radius=100\""
   ]
  },
  {
   "cell_type": "code",
   "execution_count": 6,
   "id": "3e300da8-9ab7-4499-9195-58200a01644b",
   "metadata": {},
   "outputs": [],
   "source": [
    "response = requests.get(events_url).json()"
   ]
  },
  {
   "cell_type": "code",
   "execution_count": 39,
   "id": "78c23621-59a5-409f-8034-efc1a5159152",
   "metadata": {},
   "outputs": [
    {
     "data": {
      "text/html": [
       "<div>\n",
       "<style scoped>\n",
       "    .dataframe tbody tr th:only-of-type {\n",
       "        vertical-align: middle;\n",
       "    }\n",
       "\n",
       "    .dataframe tbody tr th {\n",
       "        vertical-align: top;\n",
       "    }\n",
       "\n",
       "    .dataframe thead th {\n",
       "        text-align: right;\n",
       "    }\n",
       "</style>\n",
       "<table border=\"1\" class=\"dataframe\">\n",
       "  <thead>\n",
       "    <tr style=\"text-align: right;\">\n",
       "      <th></th>\n",
       "      <th>title</th>\n",
       "      <th>description</th>\n",
       "      <th>lat</th>\n",
       "      <th>lng</th>\n",
       "    </tr>\n",
       "  </thead>\n",
       "  <tbody>\n",
       "    <tr>\n",
       "      <th>0</th>\n",
       "      <td>Berlin Outdoor Fitness Volkspark Wilmersdorf</td>\n",
       "      <td>Diese Gruppe ist für alle gedacht, die gerne d...</td>\n",
       "      <td>52.520008</td>\n",
       "      <td>13.330232</td>\n",
       "    </tr>\n",
       "    <tr>\n",
       "      <th>1</th>\n",
       "      <td>Berlin Outdoor Fitness Volkspark Wilmersdorf</td>\n",
       "      <td>Diese Gruppe ist für alle gedacht, die gerne d...</td>\n",
       "      <td>52.520008</td>\n",
       "      <td>13.330050</td>\n",
       "    </tr>\n",
       "    <tr>\n",
       "      <th>2</th>\n",
       "      <td>Berlin Outdoor Fitness Volkspark Wilmersdorf</td>\n",
       "      <td>Diese Gruppe ist für alle gedacht, die gerne d...</td>\n",
       "      <td>52.520008</td>\n",
       "      <td>13.330232</td>\n",
       "    </tr>\n",
       "    <tr>\n",
       "      <th>3</th>\n",
       "      <td>Berlin Outdoor Fitness Volkspark Wilmersdorf</td>\n",
       "      <td>Diese Gruppe ist für alle gedacht, die gerne d...</td>\n",
       "      <td>52.520008</td>\n",
       "      <td>13.330050</td>\n",
       "    </tr>\n",
       "    <tr>\n",
       "      <th>4</th>\n",
       "      <td>Berlin Outdoor Fitness Volkspark Wilmersdorf</td>\n",
       "      <td>Diese Gruppe ist für alle gedacht, die gerne d...</td>\n",
       "      <td>52.520008</td>\n",
       "      <td>13.330050</td>\n",
       "    </tr>\n",
       "    <tr>\n",
       "      <th>...</th>\n",
       "      <td>...</td>\n",
       "      <td>...</td>\n",
       "      <td>...</td>\n",
       "      <td>...</td>\n",
       "    </tr>\n",
       "    <tr>\n",
       "      <th>66</th>\n",
       "      <td>Cycle &amp; dine - Asparagus in Beelitz, part 4</td>\n",
       "      <td>========== FACTS ==========\\nROUTE: Potsdam &gt; ...</td>\n",
       "      <td>52.391064</td>\n",
       "      <td>13.066641</td>\n",
       "    </tr>\n",
       "    <tr>\n",
       "      <th>67</th>\n",
       "      <td>Adidas City Night run Berlin 2022</td>\n",
       "      <td>Join us at the start at the **fastest night in...</td>\n",
       "      <td>52.504818</td>\n",
       "      <td>13.335082</td>\n",
       "    </tr>\n",
       "    <tr>\n",
       "      <th>68</th>\n",
       "      <td>Nature Day</td>\n",
       "      <td>I invite you to come to my monthly guided walk...</td>\n",
       "      <td>52.760796</td>\n",
       "      <td>13.563776</td>\n",
       "    </tr>\n",
       "    <tr>\n",
       "      <th>69</th>\n",
       "      <td>Nature Walk</td>\n",
       "      <td>I invite you to come to my monthly guided walk...</td>\n",
       "      <td>52.760796</td>\n",
       "      <td>13.563776</td>\n",
       "    </tr>\n",
       "    <tr>\n",
       "      <th>70</th>\n",
       "      <td>Nature Day</td>\n",
       "      <td>I invite you to come to my monthly guided walk...</td>\n",
       "      <td>52.760796</td>\n",
       "      <td>13.563776</td>\n",
       "    </tr>\n",
       "  </tbody>\n",
       "</table>\n",
       "<p>71 rows × 4 columns</p>\n",
       "</div>"
      ],
      "text/plain": [
       "                                           title  \\\n",
       "0   Berlin Outdoor Fitness Volkspark Wilmersdorf   \n",
       "1   Berlin Outdoor Fitness Volkspark Wilmersdorf   \n",
       "2   Berlin Outdoor Fitness Volkspark Wilmersdorf   \n",
       "3   Berlin Outdoor Fitness Volkspark Wilmersdorf   \n",
       "4   Berlin Outdoor Fitness Volkspark Wilmersdorf   \n",
       "..                                           ...   \n",
       "66   Cycle & dine - Asparagus in Beelitz, part 4   \n",
       "67            Adidas City Night run Berlin 2022    \n",
       "68                                    Nature Day   \n",
       "69                                   Nature Walk   \n",
       "70                                    Nature Day   \n",
       "\n",
       "                                          description        lat        lng  \n",
       "0   Diese Gruppe ist für alle gedacht, die gerne d...  52.520008  13.330232  \n",
       "1   Diese Gruppe ist für alle gedacht, die gerne d...  52.520008  13.330050  \n",
       "2   Diese Gruppe ist für alle gedacht, die gerne d...  52.520008  13.330232  \n",
       "3   Diese Gruppe ist für alle gedacht, die gerne d...  52.520008  13.330050  \n",
       "4   Diese Gruppe ist für alle gedacht, die gerne d...  52.520008  13.330050  \n",
       "..                                                ...        ...        ...  \n",
       "66  ========== FACTS ==========\\nROUTE: Potsdam > ...  52.391064  13.066641  \n",
       "67  Join us at the start at the **fastest night in...  52.504818  13.335082  \n",
       "68  I invite you to come to my monthly guided walk...  52.760796  13.563776  \n",
       "69  I invite you to come to my monthly guided walk...  52.760796  13.563776  \n",
       "70  I invite you to come to my monthly guided walk...  52.760796  13.563776  \n",
       "\n",
       "[71 rows x 4 columns]"
      ]
     },
     "execution_count": 39,
     "metadata": {},
     "output_type": "execute_result"
    }
   ],
   "source": [
    "events = []\n",
    "\n",
    "for event in response['Data']:\n",
    "    if event['venue'] == None:\n",
    "        event_lat = 52.520008\n",
    "        event_lng = 13.404954\n",
    "    else:\n",
    "        event_lat = event['venue']['lat']\n",
    "        event_lng = event['venue']['lng']\n",
    "\n",
    "    events.append([event['title'], event['description'], event_lat, event_lng])    \n",
    "\n",
    "pd.DataFrame(events, columns=['title', 'description', 'lat', 'lng'])"
   ]
  },
  {
   "cell_type": "code",
   "execution_count": 50,
   "id": "4eeb9312-0316-4079-8162-0344ebf0a002",
   "metadata": {},
   "outputs": [],
   "source": [
    "from SportsExperiencePlatform.data import get_data, connect_db"
   ]
  },
  {
   "cell_type": "code",
   "execution_count": 51,
   "id": "da41c326-0087-45b3-ae42-e38e54f5d19b",
   "metadata": {},
   "outputs": [
    {
     "name": "stderr",
     "output_type": "stream",
     "text": [
      "/home/daniel/.pyenv/versions/3.8.12/envs/SportsExperiencePlatform/lib/python3.8/site-packages/pandas/io/sql.py:761: UserWarning: pandas only support SQLAlchemy connectable(engine/connection) ordatabase string URI or sqlite3 DBAPI2 connectionother DBAPI2 objects are not tested, please consider using SQLAlchemy\n",
      "  warnings.warn(\n",
      "/home/daniel/.pyenv/versions/3.8.12/envs/SportsExperiencePlatform/lib/python3.8/site-packages/pandas/io/sql.py:761: UserWarning: pandas only support SQLAlchemy connectable(engine/connection) ordatabase string URI or sqlite3 DBAPI2 connectionother DBAPI2 objects are not tested, please consider using SQLAlchemy\n",
      "  warnings.warn(\n"
     ]
    }
   ],
   "source": [
    "conn = connect_db()\n",
    "users_df, events_df = get_data(conn)"
   ]
  },
  {
   "cell_type": "code",
   "execution_count": 52,
   "id": "3abd38c3-8e0d-4e7b-b57a-4799a812a82b",
   "metadata": {},
   "outputs": [
    {
     "data": {
      "text/plain": [
       "(9, 13)"
      ]
     },
     "execution_count": 52,
     "metadata": {},
     "output_type": "execute_result"
    }
   ],
   "source": [
    "users_df.shape"
   ]
  },
  {
   "cell_type": "code",
   "execution_count": 53,
   "id": "29a60af5-d7ab-45aa-a1fc-8bb058cd8495",
   "metadata": {},
   "outputs": [
    {
     "data": {
      "text/plain": [
       "(0, 17)"
      ]
     },
     "execution_count": 53,
     "metadata": {},
     "output_type": "execute_result"
    }
   ],
   "source": [
    "events_df.shape"
   ]
  },
  {
   "cell_type": "code",
   "execution_count": 54,
   "id": "b6b8b2c4-1138-4429-975c-feaf01f440cc",
   "metadata": {},
   "outputs": [],
   "source": [
    "df = pd.read_csv('events.csv')"
   ]
  }
 ],
 "metadata": {
  "kernelspec": {
   "display_name": "Python 3 (ipykernel)",
   "language": "python",
   "name": "python3"
  },
  "language_info": {
   "codemirror_mode": {
    "name": "ipython",
    "version": 3
   },
   "file_extension": ".py",
   "mimetype": "text/x-python",
   "name": "python",
   "nbconvert_exporter": "python",
   "pygments_lexer": "ipython3",
   "version": "3.8.12"
  }
 },
 "nbformat": 4,
 "nbformat_minor": 5
}
