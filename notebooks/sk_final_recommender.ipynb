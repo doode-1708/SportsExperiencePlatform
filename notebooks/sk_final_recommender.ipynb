{
 "cells": [
  {
   "cell_type": "markdown",
   "id": "e30b4f55",
   "metadata": {},
   "source": [
    "# importing data from database"
   ]
  },
  {
   "cell_type": "code",
   "execution_count": 2,
   "id": "f24eedd9",
   "metadata": {},
   "outputs": [],
   "source": [
    "import numpy as np\n",
    "import pandas as pd\n",
    "from SportsExperiencePlatform.data import connect_db, get_data\n",
    "import nltk\n",
    "from nltk.corpus import stopwords\n",
    "from nltk.tokenize import word_tokenize\n",
    "from nltk.stem import WordNetLemmatizer\n",
    "import string\n",
    "from sklearn.feature_extraction.text import TfidfVectorizer, CountVectorizer\n",
    "from scipy.sparse import save_npz, load_npz"
   ]
  },
  {
   "cell_type": "code",
   "execution_count": 3,
   "id": "497125d6",
   "metadata": {},
   "outputs": [],
   "source": [
    "# nltk.download('stopwords')\n",
    "# nltk.download('punkt')\n",
    "# nltk.download('wordnet')\n",
    "# nltk.download('omw-1.4')"
   ]
  },
  {
   "cell_type": "code",
   "execution_count": 108,
   "id": "15cb4996",
   "metadata": {},
   "outputs": [
    {
     "name": "stderr",
     "output_type": "stream",
     "text": [
      "/Users/shreetamakarmakar/.pyenv/versions/3.8.13/envs/SportsExperiencePlatform/lib/python3.8/site-packages/pandas/io/sql.py:761: UserWarning: pandas only support SQLAlchemy connectable(engine/connection) ordatabase string URI or sqlite3 DBAPI2 connectionother DBAPI2 objects are not tested, please consider using SQLAlchemy\n",
      "  warnings.warn(\n",
      "/Users/shreetamakarmakar/.pyenv/versions/3.8.13/envs/SportsExperiencePlatform/lib/python3.8/site-packages/pandas/io/sql.py:761: UserWarning: pandas only support SQLAlchemy connectable(engine/connection) ordatabase string URI or sqlite3 DBAPI2 connectionother DBAPI2 objects are not tested, please consider using SQLAlchemy\n",
      "  warnings.warn(\n",
      "/Users/shreetamakarmakar/.pyenv/versions/3.8.13/envs/SportsExperiencePlatform/lib/python3.8/site-packages/pandas/io/sql.py:761: UserWarning: pandas only support SQLAlchemy connectable(engine/connection) ordatabase string URI or sqlite3 DBAPI2 connectionother DBAPI2 objects are not tested, please consider using SQLAlchemy\n",
      "  warnings.warn(\n"
     ]
    }
   ],
   "source": [
    "conn = connect_db()\n",
    "\n",
    "if conn:\n",
    "    users_df, events_df, ahoy_events_df = get_data(conn)"
   ]
  },
  {
   "cell_type": "code",
   "execution_count": 109,
   "id": "265479b4",
   "metadata": {},
   "outputs": [
    {
     "data": {
      "text/plain": [
       "((10, 16), (964, 17), (10, 6))"
      ]
     },
     "execution_count": 109,
     "metadata": {},
     "output_type": "execute_result"
    }
   ],
   "source": [
    "users_df.shape, events_df.shape, ahoy_events_df.shape"
   ]
  },
  {
   "cell_type": "code",
   "execution_count": 6,
   "id": "a348ae09",
   "metadata": {},
   "outputs": [
    {
     "data": {
      "text/plain": [
       "Index(['id', 'email', 'encrypted_password', 'reset_password_token',\n",
       "       'reset_password_sent_at', 'remember_created_at', 'created_at',\n",
       "       'updated_at', 'first_name', 'last_name', 'description', 'date_of_birth',\n",
       "       'gender', 'location', 'latitude', 'longitude'],\n",
       "      dtype='object')"
      ]
     },
     "execution_count": 6,
     "metadata": {},
     "output_type": "execute_result"
    }
   ],
   "source": [
    "users_df.columns"
   ]
  },
  {
   "cell_type": "code",
   "execution_count": 7,
   "id": "43797391",
   "metadata": {},
   "outputs": [
    {
     "data": {
      "text/html": [
       "<div>\n",
       "<style scoped>\n",
       "    .dataframe tbody tr th:only-of-type {\n",
       "        vertical-align: middle;\n",
       "    }\n",
       "\n",
       "    .dataframe tbody tr th {\n",
       "        vertical-align: top;\n",
       "    }\n",
       "\n",
       "    .dataframe thead th {\n",
       "        text-align: right;\n",
       "    }\n",
       "</style>\n",
       "<table border=\"1\" class=\"dataframe\">\n",
       "  <thead>\n",
       "    <tr style=\"text-align: right;\">\n",
       "      <th></th>\n",
       "      <th>id</th>\n",
       "      <th>title</th>\n",
       "      <th>description</th>\n",
       "      <th>price_per_person</th>\n",
       "      <th>capacity</th>\n",
       "      <th>address</th>\n",
       "      <th>latitude</th>\n",
       "      <th>longitude</th>\n",
       "      <th>is_external</th>\n",
       "      <th>url</th>\n",
       "      <th>offer_date</th>\n",
       "      <th>offer_time</th>\n",
       "      <th>created_at</th>\n",
       "      <th>updated_at</th>\n",
       "      <th>user_id</th>\n",
       "      <th>tag_id</th>\n",
       "      <th>external_image_url</th>\n",
       "    </tr>\n",
       "  </thead>\n",
       "  <tbody>\n",
       "    <tr>\n",
       "      <th>0</th>\n",
       "      <td>1371</td>\n",
       "      <td>Berlin Skylarks Baseball and Softball Training</td>\n",
       "      <td>We are the Berlin Skylarks, the baseball and s...</td>\n",
       "      <td>150</td>\n",
       "      <td>10.0</td>\n",
       "      <td>Rathausstraße 7, 10178 Berlin</td>\n",
       "      <td>52.519710</td>\n",
       "      <td>13.410720</td>\n",
       "      <td>False</td>\n",
       "      <td>None</td>\n",
       "      <td>2022-06-02</td>\n",
       "      <td>19:06:57</td>\n",
       "      <td>2022-05-28 12:44:02.156122</td>\n",
       "      <td>2022-05-28 12:44:02.209019</td>\n",
       "      <td>None</td>\n",
       "      <td>87</td>\n",
       "      <td>None</td>\n",
       "    </tr>\n",
       "    <tr>\n",
       "      <th>1</th>\n",
       "      <td>1372</td>\n",
       "      <td>Roter Stern Berlin 2012 e.V.</td>\n",
       "      <td>As part of Roter Stern Berlin 2012 e.V., we or...</td>\n",
       "      <td>56</td>\n",
       "      <td>12.0</td>\n",
       "      <td>Böttgerstraße 8, 13357 Berlin</td>\n",
       "      <td>13.379800</td>\n",
       "      <td>52.520062</td>\n",
       "      <td>False</td>\n",
       "      <td>None</td>\n",
       "      <td>2022-06-03</td>\n",
       "      <td>17:41:59</td>\n",
       "      <td>2022-05-28 12:44:05.034852</td>\n",
       "      <td>2022-05-28 12:44:05.055855</td>\n",
       "      <td>None</td>\n",
       "      <td>88</td>\n",
       "      <td>None</td>\n",
       "    </tr>\n",
       "    <tr>\n",
       "      <th>2</th>\n",
       "      <td>1373</td>\n",
       "      <td>Basement Boulderstudio Highlight</td>\n",
       "      <td>Bouldering is quickly becoming one of the most...</td>\n",
       "      <td>33</td>\n",
       "      <td>12.0</td>\n",
       "      <td>Stresemannstraße 72, 10963 Berlin</td>\n",
       "      <td>13.384420</td>\n",
       "      <td>52.549310</td>\n",
       "      <td>False</td>\n",
       "      <td>None</td>\n",
       "      <td>2022-06-12</td>\n",
       "      <td>20:46:24</td>\n",
       "      <td>2022-05-28 12:44:08.444229</td>\n",
       "      <td>2022-05-28 12:44:08.475776</td>\n",
       "      <td>None</td>\n",
       "      <td>94</td>\n",
       "      <td>None</td>\n",
       "    </tr>\n",
       "    <tr>\n",
       "      <th>3</th>\n",
       "      <td>1374</td>\n",
       "      <td>Kajak Berlin Tours</td>\n",
       "      <td>Enjoy the stunning waterscape of the legendary...</td>\n",
       "      <td>50</td>\n",
       "      <td>6.0</td>\n",
       "      <td>Kayak-Truck vis-á-vis Cafe A.Horn, Carl-Herz-U...</td>\n",
       "      <td>13.405571</td>\n",
       "      <td>52.495747</td>\n",
       "      <td>False</td>\n",
       "      <td>None</td>\n",
       "      <td>2022-05-30</td>\n",
       "      <td>19:48:00</td>\n",
       "      <td>2022-05-28 12:44:11.583752</td>\n",
       "      <td>2022-05-28 12:44:11.602994</td>\n",
       "      <td>None</td>\n",
       "      <td>111</td>\n",
       "      <td>None</td>\n",
       "    </tr>\n",
       "    <tr>\n",
       "      <th>4</th>\n",
       "      <td>1375</td>\n",
       "      <td>Berlin Gym Mitte</td>\n",
       "      <td>The Berlin Gym offers you a special selection ...</td>\n",
       "      <td>150</td>\n",
       "      <td>6.0</td>\n",
       "      <td>Philippstraße 13, 10115 Berlin</td>\n",
       "      <td>13.410610</td>\n",
       "      <td>52.516270</td>\n",
       "      <td>False</td>\n",
       "      <td>None</td>\n",
       "      <td>2022-06-04</td>\n",
       "      <td>21:00:02</td>\n",
       "      <td>2022-05-28 12:44:14.322352</td>\n",
       "      <td>2022-05-28 12:44:14.338771</td>\n",
       "      <td>None</td>\n",
       "      <td>96</td>\n",
       "      <td>None</td>\n",
       "    </tr>\n",
       "  </tbody>\n",
       "</table>\n",
       "</div>"
      ],
      "text/plain": [
       "     id                                           title  \\\n",
       "0  1371  Berlin Skylarks Baseball and Softball Training   \n",
       "1  1372                    Roter Stern Berlin 2012 e.V.   \n",
       "2  1373                Basement Boulderstudio Highlight   \n",
       "3  1374                              Kajak Berlin Tours   \n",
       "4  1375                                Berlin Gym Mitte   \n",
       "\n",
       "                                         description  price_per_person  \\\n",
       "0  We are the Berlin Skylarks, the baseball and s...               150   \n",
       "1  As part of Roter Stern Berlin 2012 e.V., we or...                56   \n",
       "2  Bouldering is quickly becoming one of the most...                33   \n",
       "3  Enjoy the stunning waterscape of the legendary...                50   \n",
       "4  The Berlin Gym offers you a special selection ...               150   \n",
       "\n",
       "   capacity                                            address   latitude  \\\n",
       "0      10.0                      Rathausstraße 7, 10178 Berlin  52.519710   \n",
       "1      12.0                      Böttgerstraße 8, 13357 Berlin  13.379800   \n",
       "2      12.0                  Stresemannstraße 72, 10963 Berlin  13.384420   \n",
       "3       6.0  Kayak-Truck vis-á-vis Cafe A.Horn, Carl-Herz-U...  13.405571   \n",
       "4       6.0                     Philippstraße 13, 10115 Berlin  13.410610   \n",
       "\n",
       "   longitude  is_external   url  offer_date offer_time  \\\n",
       "0  13.410720        False  None  2022-06-02   19:06:57   \n",
       "1  52.520062        False  None  2022-06-03   17:41:59   \n",
       "2  52.549310        False  None  2022-06-12   20:46:24   \n",
       "3  52.495747        False  None  2022-05-30   19:48:00   \n",
       "4  52.516270        False  None  2022-06-04   21:00:02   \n",
       "\n",
       "                  created_at                 updated_at user_id  tag_id  \\\n",
       "0 2022-05-28 12:44:02.156122 2022-05-28 12:44:02.209019    None      87   \n",
       "1 2022-05-28 12:44:05.034852 2022-05-28 12:44:05.055855    None      88   \n",
       "2 2022-05-28 12:44:08.444229 2022-05-28 12:44:08.475776    None      94   \n",
       "3 2022-05-28 12:44:11.583752 2022-05-28 12:44:11.602994    None     111   \n",
       "4 2022-05-28 12:44:14.322352 2022-05-28 12:44:14.338771    None      96   \n",
       "\n",
       "  external_image_url  \n",
       "0               None  \n",
       "1               None  \n",
       "2               None  \n",
       "3               None  \n",
       "4               None  "
      ]
     },
     "execution_count": 7,
     "metadata": {},
     "output_type": "execute_result"
    }
   ],
   "source": [
    "events_df.head()"
   ]
  },
  {
   "cell_type": "code",
   "execution_count": 8,
   "id": "41c5e653",
   "metadata": {},
   "outputs": [
    {
     "data": {
      "text/html": [
       "<div>\n",
       "<style scoped>\n",
       "    .dataframe tbody tr th:only-of-type {\n",
       "        vertical-align: middle;\n",
       "    }\n",
       "\n",
       "    .dataframe tbody tr th {\n",
       "        vertical-align: top;\n",
       "    }\n",
       "\n",
       "    .dataframe thead th {\n",
       "        text-align: right;\n",
       "    }\n",
       "</style>\n",
       "<table border=\"1\" class=\"dataframe\">\n",
       "  <thead>\n",
       "    <tr style=\"text-align: right;\">\n",
       "      <th></th>\n",
       "      <th>id</th>\n",
       "      <th>visit_id</th>\n",
       "      <th>user_id</th>\n",
       "      <th>name</th>\n",
       "      <th>properties</th>\n",
       "      <th>time</th>\n",
       "    </tr>\n",
       "  </thead>\n",
       "  <tbody>\n",
       "    <tr>\n",
       "      <th>0</th>\n",
       "      <td>12</td>\n",
       "      <td>51</td>\n",
       "      <td>64</td>\n",
       "      <td>View Offer Page ID 1841</td>\n",
       "      <td>{'user': 64, 'offer': 1841}</td>\n",
       "      <td>2022-05-28 13:38:01.802118</td>\n",
       "    </tr>\n",
       "    <tr>\n",
       "      <th>1</th>\n",
       "      <td>13</td>\n",
       "      <td>51</td>\n",
       "      <td>64</td>\n",
       "      <td>View Offer Page ID 1804</td>\n",
       "      <td>{'user': 64, 'offer': 1804}</td>\n",
       "      <td>2022-05-28 13:38:18.486753</td>\n",
       "    </tr>\n",
       "    <tr>\n",
       "      <th>2</th>\n",
       "      <td>14</td>\n",
       "      <td>51</td>\n",
       "      <td>64</td>\n",
       "      <td>View Offer Page ID 1676</td>\n",
       "      <td>{'user': 64, 'offer': 1676}</td>\n",
       "      <td>2022-05-28 13:38:44.105830</td>\n",
       "    </tr>\n",
       "    <tr>\n",
       "      <th>3</th>\n",
       "      <td>15</td>\n",
       "      <td>51</td>\n",
       "      <td>64</td>\n",
       "      <td>View Offer Page ID 1841</td>\n",
       "      <td>{'user': 64, 'offer': 1841}</td>\n",
       "      <td>2022-05-28 13:38:54.335809</td>\n",
       "    </tr>\n",
       "    <tr>\n",
       "      <th>4</th>\n",
       "      <td>16</td>\n",
       "      <td>51</td>\n",
       "      <td>64</td>\n",
       "      <td>View Offer Page ID 1443</td>\n",
       "      <td>{'user': 64, 'offer': 1443}</td>\n",
       "      <td>2022-05-28 13:39:00.433517</td>\n",
       "    </tr>\n",
       "  </tbody>\n",
       "</table>\n",
       "</div>"
      ],
      "text/plain": [
       "   id  visit_id  user_id                     name  \\\n",
       "0  12        51       64  View Offer Page ID 1841   \n",
       "1  13        51       64  View Offer Page ID 1804   \n",
       "2  14        51       64  View Offer Page ID 1676   \n",
       "3  15        51       64  View Offer Page ID 1841   \n",
       "4  16        51       64  View Offer Page ID 1443   \n",
       "\n",
       "                    properties                       time  \n",
       "0  {'user': 64, 'offer': 1841} 2022-05-28 13:38:01.802118  \n",
       "1  {'user': 64, 'offer': 1804} 2022-05-28 13:38:18.486753  \n",
       "2  {'user': 64, 'offer': 1676} 2022-05-28 13:38:44.105830  \n",
       "3  {'user': 64, 'offer': 1841} 2022-05-28 13:38:54.335809  \n",
       "4  {'user': 64, 'offer': 1443} 2022-05-28 13:39:00.433517  "
      ]
     },
     "execution_count": 8,
     "metadata": {},
     "output_type": "execute_result"
    }
   ],
   "source": [
    "ahoy_events_df.head()"
   ]
  },
  {
   "cell_type": "markdown",
   "id": "6d3ffdc2",
   "metadata": {},
   "source": []
  },
  {
   "cell_type": "code",
   "execution_count": null,
   "id": "25704954",
   "metadata": {},
   "outputs": [],
   "source": []
  },
  {
   "cell_type": "code",
   "execution_count": null,
   "id": "78f7128c",
   "metadata": {},
   "outputs": [],
   "source": []
  },
  {
   "cell_type": "code",
   "execution_count": null,
   "id": "893b4b98",
   "metadata": {},
   "outputs": [],
   "source": []
  },
  {
   "cell_type": "code",
   "execution_count": null,
   "id": "1b069b4f",
   "metadata": {},
   "outputs": [],
   "source": []
  },
  {
   "cell_type": "markdown",
   "id": "f2f91469",
   "metadata": {},
   "source": [
    "# simple tfidf model: using the raw description"
   ]
  },
  {
   "cell_type": "markdown",
   "id": "bf9f1642",
   "metadata": {},
   "source": [
    "## advanced cleaning of data"
   ]
  },
  {
   "cell_type": "code",
   "execution_count": 21,
   "id": "5c4acc8f",
   "metadata": {},
   "outputs": [],
   "source": [
    "import pandas as pd\n",
    "import re\n",
    "import string\n",
    "from bs4 import BeautifulSoup\n",
    "import nltk\n",
    "from nltk.stem import PorterStemmer\n",
    "from nltk.stem.wordnet import WordNetLemmatizer\n",
    "import spacy\n",
    "from googletrans import Translator"
   ]
  },
  {
   "cell_type": "code",
   "execution_count": 22,
   "id": "72665efc",
   "metadata": {},
   "outputs": [
    {
     "name": "stderr",
     "output_type": "stream",
     "text": [
      "[nltk_data] Downloading package stopwords to\n",
      "[nltk_data]     /Users/shreetamakarmakar/nltk_data...\n",
      "[nltk_data]   Package stopwords is already up-to-date!\n"
     ]
    },
    {
     "data": {
      "text/plain": [
       "True"
      ]
     },
     "execution_count": 22,
     "metadata": {},
     "output_type": "execute_result"
    }
   ],
   "source": [
    "import nltk\n",
    "nltk.download('stopwords')"
   ]
  },
  {
   "cell_type": "code",
   "execution_count": 23,
   "id": "8078cbab",
   "metadata": {},
   "outputs": [],
   "source": [
    "\n",
    "# def to_english(string):\n",
    "    \n",
    "\n",
    "# # result.src\n",
    "# if translator.detect(string).lang != 'en':\n",
    "#     result = translator.translate(string)\n",
    "#     result.text"
   ]
  },
  {
   "cell_type": "code",
   "execution_count": 55,
   "id": "6879a57b",
   "metadata": {},
   "outputs": [],
   "source": [
    "from googletrans import Translator\n",
    "def language_translation(string):\n",
    "    \n",
    "    translator = Translator()\n",
    "    if translator.detect(string).lang != 'en':\n",
    "        result = translator.translate(string)\n",
    "        return result.text\n",
    "    else:\n",
    "        return string"
   ]
  },
  {
   "cell_type": "code",
   "execution_count": 59,
   "id": "fca124b1",
   "metadata": {},
   "outputs": [
    {
     "data": {
      "text/plain": [
       "'I do not know'"
      ]
     },
     "execution_count": 59,
     "metadata": {},
     "output_type": "execute_result"
    }
   ],
   "source": [
    "language_translation('yo no sabe')"
   ]
  },
  {
   "cell_type": "code",
   "execution_count": 65,
   "id": "821ae26c",
   "metadata": {},
   "outputs": [
    {
     "data": {
      "text/html": [
       "<div>\n",
       "<style scoped>\n",
       "    .dataframe tbody tr th:only-of-type {\n",
       "        vertical-align: middle;\n",
       "    }\n",
       "\n",
       "    .dataframe tbody tr th {\n",
       "        vertical-align: top;\n",
       "    }\n",
       "\n",
       "    .dataframe thead th {\n",
       "        text-align: right;\n",
       "    }\n",
       "</style>\n",
       "<table border=\"1\" class=\"dataframe\">\n",
       "  <thead>\n",
       "    <tr style=\"text-align: right;\">\n",
       "      <th></th>\n",
       "      <th>id</th>\n",
       "      <th>visit_id</th>\n",
       "      <th>user_id</th>\n",
       "      <th>name</th>\n",
       "      <th>properties</th>\n",
       "      <th>time</th>\n",
       "    </tr>\n",
       "  </thead>\n",
       "  <tbody>\n",
       "    <tr>\n",
       "      <th>0</th>\n",
       "      <td>12</td>\n",
       "      <td>51</td>\n",
       "      <td>64</td>\n",
       "      <td>View Offer Page ID 1841</td>\n",
       "      <td>{'user': 64, 'offer': 1841}</td>\n",
       "      <td>2022-05-28 13:38:01.802118</td>\n",
       "    </tr>\n",
       "    <tr>\n",
       "      <th>1</th>\n",
       "      <td>13</td>\n",
       "      <td>51</td>\n",
       "      <td>64</td>\n",
       "      <td>View Offer Page ID 1804</td>\n",
       "      <td>{'user': 64, 'offer': 1804}</td>\n",
       "      <td>2022-05-28 13:38:18.486753</td>\n",
       "    </tr>\n",
       "    <tr>\n",
       "      <th>2</th>\n",
       "      <td>14</td>\n",
       "      <td>51</td>\n",
       "      <td>64</td>\n",
       "      <td>View Offer Page ID 1676</td>\n",
       "      <td>{'user': 64, 'offer': 1676}</td>\n",
       "      <td>2022-05-28 13:38:44.105830</td>\n",
       "    </tr>\n",
       "    <tr>\n",
       "      <th>3</th>\n",
       "      <td>15</td>\n",
       "      <td>51</td>\n",
       "      <td>64</td>\n",
       "      <td>View Offer Page ID 1841</td>\n",
       "      <td>{'user': 64, 'offer': 1841}</td>\n",
       "      <td>2022-05-28 13:38:54.335809</td>\n",
       "    </tr>\n",
       "    <tr>\n",
       "      <th>4</th>\n",
       "      <td>16</td>\n",
       "      <td>51</td>\n",
       "      <td>64</td>\n",
       "      <td>View Offer Page ID 1443</td>\n",
       "      <td>{'user': 64, 'offer': 1443}</td>\n",
       "      <td>2022-05-28 13:39:00.433517</td>\n",
       "    </tr>\n",
       "  </tbody>\n",
       "</table>\n",
       "</div>"
      ],
      "text/plain": [
       "   id  visit_id  user_id                     name  \\\n",
       "0  12        51       64  View Offer Page ID 1841   \n",
       "1  13        51       64  View Offer Page ID 1804   \n",
       "2  14        51       64  View Offer Page ID 1676   \n",
       "3  15        51       64  View Offer Page ID 1841   \n",
       "4  16        51       64  View Offer Page ID 1443   \n",
       "\n",
       "                    properties                       time  \n",
       "0  {'user': 64, 'offer': 1841} 2022-05-28 13:38:01.802118  \n",
       "1  {'user': 64, 'offer': 1804} 2022-05-28 13:38:18.486753  \n",
       "2  {'user': 64, 'offer': 1676} 2022-05-28 13:38:44.105830  \n",
       "3  {'user': 64, 'offer': 1841} 2022-05-28 13:38:54.335809  \n",
       "4  {'user': 64, 'offer': 1443} 2022-05-28 13:39:00.433517  "
      ]
     },
     "execution_count": 65,
     "metadata": {},
     "output_type": "execute_result"
    }
   ],
   "source": [
    "ahoy_events_df.head()"
   ]
  },
  {
   "cell_type": "code",
   "execution_count": 67,
   "id": "63e07759",
   "metadata": {},
   "outputs": [
    {
     "data": {
      "text/html": [
       "<div>\n",
       "<style scoped>\n",
       "    .dataframe tbody tr th:only-of-type {\n",
       "        vertical-align: middle;\n",
       "    }\n",
       "\n",
       "    .dataframe tbody tr th {\n",
       "        vertical-align: top;\n",
       "    }\n",
       "\n",
       "    .dataframe thead th {\n",
       "        text-align: right;\n",
       "    }\n",
       "</style>\n",
       "<table border=\"1\" class=\"dataframe\">\n",
       "  <thead>\n",
       "    <tr style=\"text-align: right;\">\n",
       "      <th></th>\n",
       "      <th>0</th>\n",
       "      <th>1</th>\n",
       "      <th>2</th>\n",
       "      <th>3</th>\n",
       "      <th>4</th>\n",
       "    </tr>\n",
       "  </thead>\n",
       "  <tbody>\n",
       "    <tr>\n",
       "      <th>id</th>\n",
       "      <td>55</td>\n",
       "      <td>56</td>\n",
       "      <td>57</td>\n",
       "      <td>58</td>\n",
       "      <td>59</td>\n",
       "    </tr>\n",
       "    <tr>\n",
       "      <th>email</th>\n",
       "      <td>johanna@gmail.com</td>\n",
       "      <td>anjali@gmail.com</td>\n",
       "      <td>alexandra@gmail.com</td>\n",
       "      <td>ieva@gmail.com</td>\n",
       "      <td>daniel@gmail.com</td>\n",
       "    </tr>\n",
       "    <tr>\n",
       "      <th>encrypted_password</th>\n",
       "      <td>$2a$12$CqtujmUxnctn4PYh/LQ7Yen4N9zGBa8mAkW5lJk...</td>\n",
       "      <td>$2a$12$zoaJySL5quI21u316oCrzuwLap5n3iaoJoFEt8O...</td>\n",
       "      <td>$2a$12$EFJExS3e79KnS1Sj5SU7iuA0oE4Fe3cghnIcWCj...</td>\n",
       "      <td>$2a$12$2KfdqVXZIU7RbiktQW1GAuaBnIcIfHBSc68kwWc...</td>\n",
       "      <td>$2a$12$/DCExarGzhiUF8AS44/Tt.5P4SLPySCFgkqStUW...</td>\n",
       "    </tr>\n",
       "    <tr>\n",
       "      <th>reset_password_token</th>\n",
       "      <td>None</td>\n",
       "      <td>None</td>\n",
       "      <td>None</td>\n",
       "      <td>None</td>\n",
       "      <td>None</td>\n",
       "    </tr>\n",
       "    <tr>\n",
       "      <th>reset_password_sent_at</th>\n",
       "      <td>None</td>\n",
       "      <td>None</td>\n",
       "      <td>None</td>\n",
       "      <td>None</td>\n",
       "      <td>None</td>\n",
       "    </tr>\n",
       "    <tr>\n",
       "      <th>remember_created_at</th>\n",
       "      <td>None</td>\n",
       "      <td>None</td>\n",
       "      <td>None</td>\n",
       "      <td>None</td>\n",
       "      <td>None</td>\n",
       "    </tr>\n",
       "    <tr>\n",
       "      <th>created_at</th>\n",
       "      <td>2022-05-28 12:26:38.267750</td>\n",
       "      <td>2022-05-28 12:26:39.191914</td>\n",
       "      <td>2022-05-28 12:26:40.648549</td>\n",
       "      <td>2022-05-28 12:26:41.476255</td>\n",
       "      <td>2022-05-28 12:26:42.260631</td>\n",
       "    </tr>\n",
       "    <tr>\n",
       "      <th>updated_at</th>\n",
       "      <td>2022-05-28 12:26:38.283275</td>\n",
       "      <td>2022-05-28 12:26:39.203232</td>\n",
       "      <td>2022-05-28 12:26:40.656142</td>\n",
       "      <td>2022-05-28 12:26:41.484819</td>\n",
       "      <td>2022-05-28 12:26:42.268129</td>\n",
       "    </tr>\n",
       "    <tr>\n",
       "      <th>first_name</th>\n",
       "      <td>Johanna</td>\n",
       "      <td>Anjali</td>\n",
       "      <td>Alexandra</td>\n",
       "      <td>Ieva</td>\n",
       "      <td>Daniel</td>\n",
       "    </tr>\n",
       "    <tr>\n",
       "      <th>last_name</th>\n",
       "      <td>Maier</td>\n",
       "      <td>Kumar</td>\n",
       "      <td>Stroe</td>\n",
       "      <td>Jirgensone</td>\n",
       "      <td>Angerer</td>\n",
       "    </tr>\n",
       "    <tr>\n",
       "      <th>description</th>\n",
       "      <td>Hi, my name is Johanna! I want to go on my nex...</td>\n",
       "      <td>Hi, my name is Anjali! I want to go on my next...</td>\n",
       "      <td>Hi, my name is Alexandra! I want to go on my n...</td>\n",
       "      <td>Hi, my name is Ieva! I want to go on my next s...</td>\n",
       "      <td>Hi, my name is Daniel! I want to go on my next...</td>\n",
       "    </tr>\n",
       "    <tr>\n",
       "      <th>date_of_birth</th>\n",
       "      <td>1993-01-25</td>\n",
       "      <td>1993-01-25</td>\n",
       "      <td>1993-01-25</td>\n",
       "      <td>1993-01-25</td>\n",
       "      <td>1993-01-25</td>\n",
       "    </tr>\n",
       "    <tr>\n",
       "      <th>gender</th>\n",
       "      <td>female</td>\n",
       "      <td>female</td>\n",
       "      <td>female</td>\n",
       "      <td>female</td>\n",
       "      <td>male</td>\n",
       "    </tr>\n",
       "    <tr>\n",
       "      <th>location</th>\n",
       "      <td>Munich</td>\n",
       "      <td>Berlin</td>\n",
       "      <td>Berlin</td>\n",
       "      <td>Hamburg</td>\n",
       "      <td>Munich</td>\n",
       "    </tr>\n",
       "    <tr>\n",
       "      <th>latitude</th>\n",
       "      <td>48.135124</td>\n",
       "      <td>52.520008</td>\n",
       "      <td>52.520008</td>\n",
       "      <td>53.551086</td>\n",
       "      <td>48.135124</td>\n",
       "    </tr>\n",
       "    <tr>\n",
       "      <th>longitude</th>\n",
       "      <td>11.581981</td>\n",
       "      <td>13.404954</td>\n",
       "      <td>13.404954</td>\n",
       "      <td>9.993682</td>\n",
       "      <td>11.581981</td>\n",
       "    </tr>\n",
       "  </tbody>\n",
       "</table>\n",
       "</div>"
      ],
      "text/plain": [
       "                                                                        0  \\\n",
       "id                                                                     55   \n",
       "email                                                   johanna@gmail.com   \n",
       "encrypted_password      $2a$12$CqtujmUxnctn4PYh/LQ7Yen4N9zGBa8mAkW5lJk...   \n",
       "reset_password_token                                                 None   \n",
       "reset_password_sent_at                                               None   \n",
       "remember_created_at                                                  None   \n",
       "created_at                                     2022-05-28 12:26:38.267750   \n",
       "updated_at                                     2022-05-28 12:26:38.283275   \n",
       "first_name                                                        Johanna   \n",
       "last_name                                                           Maier   \n",
       "description             Hi, my name is Johanna! I want to go on my nex...   \n",
       "date_of_birth                                                  1993-01-25   \n",
       "gender                                                             female   \n",
       "location                                                           Munich   \n",
       "latitude                                                        48.135124   \n",
       "longitude                                                       11.581981   \n",
       "\n",
       "                                                                        1  \\\n",
       "id                                                                     56   \n",
       "email                                                    anjali@gmail.com   \n",
       "encrypted_password      $2a$12$zoaJySL5quI21u316oCrzuwLap5n3iaoJoFEt8O...   \n",
       "reset_password_token                                                 None   \n",
       "reset_password_sent_at                                               None   \n",
       "remember_created_at                                                  None   \n",
       "created_at                                     2022-05-28 12:26:39.191914   \n",
       "updated_at                                     2022-05-28 12:26:39.203232   \n",
       "first_name                                                         Anjali   \n",
       "last_name                                                           Kumar   \n",
       "description             Hi, my name is Anjali! I want to go on my next...   \n",
       "date_of_birth                                                  1993-01-25   \n",
       "gender                                                             female   \n",
       "location                                                           Berlin   \n",
       "latitude                                                        52.520008   \n",
       "longitude                                                       13.404954   \n",
       "\n",
       "                                                                        2  \\\n",
       "id                                                                     57   \n",
       "email                                                 alexandra@gmail.com   \n",
       "encrypted_password      $2a$12$EFJExS3e79KnS1Sj5SU7iuA0oE4Fe3cghnIcWCj...   \n",
       "reset_password_token                                                 None   \n",
       "reset_password_sent_at                                               None   \n",
       "remember_created_at                                                  None   \n",
       "created_at                                     2022-05-28 12:26:40.648549   \n",
       "updated_at                                     2022-05-28 12:26:40.656142   \n",
       "first_name                                                      Alexandra   \n",
       "last_name                                                           Stroe   \n",
       "description             Hi, my name is Alexandra! I want to go on my n...   \n",
       "date_of_birth                                                  1993-01-25   \n",
       "gender                                                             female   \n",
       "location                                                           Berlin   \n",
       "latitude                                                        52.520008   \n",
       "longitude                                                       13.404954   \n",
       "\n",
       "                                                                        3  \\\n",
       "id                                                                     58   \n",
       "email                                                      ieva@gmail.com   \n",
       "encrypted_password      $2a$12$2KfdqVXZIU7RbiktQW1GAuaBnIcIfHBSc68kwWc...   \n",
       "reset_password_token                                                 None   \n",
       "reset_password_sent_at                                               None   \n",
       "remember_created_at                                                  None   \n",
       "created_at                                     2022-05-28 12:26:41.476255   \n",
       "updated_at                                     2022-05-28 12:26:41.484819   \n",
       "first_name                                                           Ieva   \n",
       "last_name                                                      Jirgensone   \n",
       "description             Hi, my name is Ieva! I want to go on my next s...   \n",
       "date_of_birth                                                  1993-01-25   \n",
       "gender                                                             female   \n",
       "location                                                          Hamburg   \n",
       "latitude                                                        53.551086   \n",
       "longitude                                                        9.993682   \n",
       "\n",
       "                                                                        4  \n",
       "id                                                                     59  \n",
       "email                                                    daniel@gmail.com  \n",
       "encrypted_password      $2a$12$/DCExarGzhiUF8AS44/Tt.5P4SLPySCFgkqStUW...  \n",
       "reset_password_token                                                 None  \n",
       "reset_password_sent_at                                               None  \n",
       "remember_created_at                                                  None  \n",
       "created_at                                     2022-05-28 12:26:42.260631  \n",
       "updated_at                                     2022-05-28 12:26:42.268129  \n",
       "first_name                                                         Daniel  \n",
       "last_name                                                         Angerer  \n",
       "description             Hi, my name is Daniel! I want to go on my next...  \n",
       "date_of_birth                                                  1993-01-25  \n",
       "gender                                                               male  \n",
       "location                                                           Munich  \n",
       "latitude                                                        48.135124  \n",
       "longitude                                                       11.581981  "
      ]
     },
     "execution_count": 67,
     "metadata": {},
     "output_type": "execute_result"
    }
   ],
   "source": [
    "users_df.head().T"
   ]
  },
  {
   "cell_type": "code",
   "execution_count": 68,
   "id": "f0a7c78e",
   "metadata": {},
   "outputs": [],
   "source": [
    "events_df['translated_title'] = events_df['title'].apply(lambda x: language_translation(x))\n",
    "events_df['translated_description'] = events_df['description'].apply(lambda x: language_translation(x))"
   ]
  },
  {
   "cell_type": "code",
   "execution_count": 69,
   "id": "07a5bac1",
   "metadata": {},
   "outputs": [],
   "source": [
    "8# load spacy\n",
    "nlp = spacy.load('en_core_web_sm')\n",
    "\n",
    "def clean_string(text,stem=\"None\"):\n",
    "\n",
    "    final_string = \"\"\n",
    "\n",
    "    # make lower\n",
    "    text = text.lower()\n",
    "    \n",
    "    # remove http\n",
    "    text = re.sub(r\"http.*\\.[a-z]{2,3}\",\"\",text)\n",
    "\n",
    "    # remove www\n",
    "    text = re.sub(r\"www.*\\.[a-z]{2,3}\",\"\",text)\n",
    "    \n",
    "    # remove line breaks\n",
    "    text = re.sub(r'\\n','',text)\n",
    "\n",
    "    # remove puncuation\n",
    "    translator = str.maketrans('','',string.punctuation)\n",
    "    text = text.translate(translator)\n",
    "\n",
    "    # remove stop words\n",
    "    text = text.split()\n",
    "    useless_words = nltk.corpus.stopwords.words(\"english\")\n",
    "    text_filtered = [word for word in text if not word in useless_words]\n",
    "\n",
    "    # remove numbers\n",
    "    text_filtered = [re.sub(r'\\w*\\d\\w*','',w) for w in text_filtered]\n",
    "\n",
    "    # stem or lemmatize\n",
    "    if stem == 'Stem':\n",
    "        stemmer = PorterStemmer() \n",
    "        text_stemmed = [stemmer.stem(y) for y in text_filtered]\n",
    "    elif stem == 'Lem':\n",
    "        lem = WordNetLemmatizer()\n",
    "        text_stemmed = [lem.lemmatize(y) for y in text_filtered]\n",
    "    elif stem == 'Spacy':\n",
    "        text_filtered = nlp(' '.join(text_filtered))\n",
    "        text_stemmed = [y.lemma_ for y in text_filtered]\n",
    "    else:\n",
    "        text_stemmed = text_filtered\n",
    "\n",
    "    final_string = ' '.join(text_stemmed)\n",
    "\n",
    "    return final_string\n",
    "        \n",
    "        "
   ]
  },
  {
   "cell_type": "code",
   "execution_count": 70,
   "id": "d1c0a99a",
   "metadata": {},
   "outputs": [],
   "source": [
    "events_df['clean_description'] = events_df['translated_description'].apply(lambda x: clean_string(x))\n",
    "events_df['clean_title'] = events_df['translated_title'].apply(lambda x: clean_string(x))"
   ]
  },
  {
   "cell_type": "code",
   "execution_count": null,
   "id": "108eceec",
   "metadata": {},
   "outputs": [],
   "source": []
  },
  {
   "cell_type": "code",
   "execution_count": null,
   "id": "ad1e06ae",
   "metadata": {},
   "outputs": [],
   "source": []
  },
  {
   "cell_type": "code",
   "execution_count": 71,
   "id": "bcc31cfd",
   "metadata": {},
   "outputs": [
    {
     "data": {
      "text/plain": [
       "964"
      ]
     },
     "execution_count": 71,
     "metadata": {},
     "output_type": "execute_result"
    }
   ],
   "source": [
    "events_df.shape[0]"
   ]
  },
  {
   "cell_type": "code",
   "execution_count": 80,
   "id": "0cbcf46f",
   "metadata": {},
   "outputs": [
    {
     "data": {
      "text/plain": [
       "'Willkommen!\\n\\nIn diesem Kurs geht es darum, den Zustand der Meditation zu erreichen, zu festigen und zu vertiefen.\\n\\nAuch Neueinsteiger, die mutig ins kalte Wasser springen wollen, sind herzlich willkommen! Euch bieten wir Mittwochs um 19:30 Uhr zusätzlich den Kurs “Unser inneres Energiesystem” an.\\n\\nWas benötigt ihr für die Teilnahme?\\n- einen ruhigen Ort\\n- einen Sitzplatz: auf einem Sofa, Stuhl, Bett oder auf dem Boden\\n- einen Computer, ein Laptop oder ein Smartphone\\n- eine Internet-Verbindung\\n- wir haben mit Google Chrome als Browser die besten Erfahrungen gemacht\\n\\nOnline Live Seminarraum\\nÜber diesen Link gelangt ihr zu unserem Seminarraum:\\nhttps://pruffme.com/landing/u99439/germinate\\nKlickt dann auf \"Dem Webinar beitreten\" und loggt euch ein.\\n\\nFalls es Probleme gibt, hilft unsere Bedienungsanleitung weiter:\\nhttps://docs.google.com/document/d/189sx4cBuTkgMEMaNnxufQwKx6OSws019eVrRA5rCDTc\\n\\nUnser Team\\nWir leiten seit vielen Jahren in verschiedenen Städten Sahaja Yoga Meditationskurse und arbeiten jetzt zusammen an diesem deutschsprachigen Online Angebot, das wir in zahlreichen Meetup-Gruppen bewerben. Wir übernehmen abwechselnd die Verantwortung für einen einzelnen Abend und verbessern unser Angebot Schritt für Schritt. - Ehrenamtlich -\\n\\nWir freuen uns auf euch!'"
      ]
     },
     "execution_count": 80,
     "metadata": {},
     "output_type": "execute_result"
    }
   ],
   "source": [
    "events_df['description'][962]"
   ]
  },
  {
   "cell_type": "code",
   "execution_count": 81,
   "id": "43f6c0fa",
   "metadata": {},
   "outputs": [
    {
     "data": {
      "text/plain": [
       "'welcomethis course reaching consolidating deepening state meditationnewcomers want bravely jump cold water also welcome also offer course “our inner energy system” wednesdays  pmwhat need participate quiet place seat sofa chair bed floor computer laptop smartphone internet connection best experience google chrome browseronline live seminar roomthis link take seminar  click join webinar log inif problems operating instructions  teamwe leading sahaja yoga meditation courses various cities many years working together germanlanguage online offer promoting numerous meetup groups take turns taking responsibility single evening improving offer step step voluntarily look forward'"
      ]
     },
     "execution_count": 81,
     "metadata": {},
     "output_type": "execute_result"
    }
   ],
   "source": [
    "events_df['clean_description'][962]"
   ]
  },
  {
   "cell_type": "markdown",
   "id": "34ffa0c3",
   "metadata": {},
   "source": [
    "#  recommender combining both title and description"
   ]
  },
  {
   "cell_type": "markdown",
   "id": "90d78d66",
   "metadata": {},
   "source": [
    "## mashup of title and description"
   ]
  },
  {
   "cell_type": "code",
   "execution_count": 82,
   "id": "de9b188b",
   "metadata": {},
   "outputs": [],
   "source": [
    "import random\n",
    "'''this may be a bit dangerous but doing just for fun!!!'''\n",
    "def random_generate_list(x):\n",
    "    names = list(x.split())\n",
    "    random.shuffle(names)\n",
    "    if len(names) > 5:\n",
    "        names = names[:5]\n",
    "            \n",
    "        \n",
    "    return names\n",
    "\n",
    "def random_generate_long_list(x):\n",
    "    names = list(x.split())\n",
    "    random.shuffle(names)\n",
    "    if len(names) > 200:\n",
    "        names = names[:200]\n",
    "            \n",
    "        \n",
    "    return names"
   ]
  },
  {
   "cell_type": "code",
   "execution_count": 83,
   "id": "b7a24497",
   "metadata": {},
   "outputs": [],
   "source": [
    "events_df['random_title'] = events_df['clean_title'].apply(lambda x: random_generate_list(x))\n",
    "events_df['random_description'] = events_df['clean_description'].apply(lambda x: random_generate_long_list(x))"
   ]
  },
  {
   "cell_type": "code",
   "execution_count": 84,
   "id": "8cb58539",
   "metadata": {},
   "outputs": [
    {
     "data": {
      "text/plain": [
       "['baseball',\n",
       " 'softball',\n",
       " 'skylarks',\n",
       " 'berlin',\n",
       " 'training',\n",
       " 'improving',\n",
       " 'problems',\n",
       " 'webinar',\n",
       " 'take',\n",
       " 'forward',\n",
       " 'want',\n",
       " 'connection',\n",
       " '“our',\n",
       " 'inif',\n",
       " 'participate',\n",
       " 'deepening',\n",
       " 'computer',\n",
       " 'seat',\n",
       " 'teamwe',\n",
       " 'cities',\n",
       " 'yoga',\n",
       " 'evening',\n",
       " 'quiet',\n",
       " 'roomthis',\n",
       " 'cold',\n",
       " 'welcome',\n",
       " 'seminar',\n",
       " 'click',\n",
       " 'seminar',\n",
       " 'promoting',\n",
       " 'wednesdays',\n",
       " 'turns',\n",
       " 'take',\n",
       " 'sahaja',\n",
       " 'bed',\n",
       " 'best',\n",
       " 'chrome',\n",
       " 'bravely',\n",
       " 'water',\n",
       " 'offer',\n",
       " 'live',\n",
       " 'course',\n",
       " 'meetup',\n",
       " 'step',\n",
       " 'responsibility',\n",
       " 'groups',\n",
       " 'germanlanguage',\n",
       " 'meditation',\n",
       " 'voluntarily',\n",
       " 'instructions',\n",
       " 'working',\n",
       " 'reaching',\n",
       " 'also',\n",
       " 'single',\n",
       " 'link',\n",
       " 'online',\n",
       " 'look',\n",
       " 'step',\n",
       " 'state',\n",
       " 'pmwhat',\n",
       " 'many',\n",
       " 'google',\n",
       " 'join',\n",
       " 'together',\n",
       " 'jump',\n",
       " 'sofa',\n",
       " 'energy',\n",
       " 'leading',\n",
       " 'numerous',\n",
       " 'consolidating',\n",
       " 'laptop',\n",
       " 'experience',\n",
       " 'meditationnewcomers',\n",
       " 'courses',\n",
       " 'system”',\n",
       " 'years',\n",
       " 'various',\n",
       " 'inner',\n",
       " 'need',\n",
       " 'chair',\n",
       " 'smartphone',\n",
       " 'log',\n",
       " 'browseronline',\n",
       " 'operating',\n",
       " 'also',\n",
       " 'course',\n",
       " 'offer',\n",
       " 'place',\n",
       " 'internet',\n",
       " 'welcomethis',\n",
       " 'offer',\n",
       " 'floor',\n",
       " 'taking']"
      ]
     },
     "execution_count": 84,
     "metadata": {},
     "output_type": "execute_result"
    }
   ],
   "source": [
    "(' '.join(events_df[\"random_title\"][0]) + ' ' + ' '.join(events_df[\"random_description\"][962])).split()"
   ]
  },
  {
   "cell_type": "code",
   "execution_count": 85,
   "id": "5a75619e",
   "metadata": {},
   "outputs": [],
   "source": [
    "def create_soup(x):\n",
    "    soup = (\" \".join(x[\"random_title\"]) + \" \" + \" \".join(x[\"random_description\"])).split()\n",
    "    random.shuffle(soup)\n",
    "    return ' '.join(soup)\n",
    "# df[\"soup\"] = df.apply(create_soup, axis = 1)\n",
    "# df[\"soup\"].head(3)"
   ]
  },
  {
   "cell_type": "code",
   "execution_count": 86,
   "id": "9388708b",
   "metadata": {},
   "outputs": [],
   "source": [
    "events_df['soup'] = events_df.apply(create_soup, axis = 1)"
   ]
  },
  {
   "cell_type": "code",
   "execution_count": 87,
   "id": "25379a94",
   "metadata": {},
   "outputs": [
    {
     "data": {
      "text/plain": [
       "'years place operating chair seminar voluntarily reaching inif offer deepening chrome inner problems state seminar various numerous meditation step consolidating also seat log computer pmwhat best energy cities also meetup online look course take sahaja internet wednesdays laptop yoga roomthis online taking working offer need experience time teamwe click connection bed instructions welcomethis welcome smartphone browseronline step meditationnewcomers improving forward system” promoting many cold participate sofa turns responsibility floor live groups single jump want evening take courses google course link bravely meditation quiet “our leading offer water germanlanguage together join webinar'"
      ]
     },
     "execution_count": 87,
     "metadata": {},
     "output_type": "execute_result"
    }
   ],
   "source": [
    "events_df.soup[962]"
   ]
  },
  {
   "cell_type": "markdown",
   "id": "57cbba7a",
   "metadata": {},
   "source": [
    "## tfidf on clean data"
   ]
  },
  {
   "cell_type": "code",
   "execution_count": 88,
   "id": "09dd9571",
   "metadata": {},
   "outputs": [],
   "source": [
    "from sklearn.feature_extraction.text import TfidfVectorizer, CountVectorizer\n",
    "\n",
    "tfidf = TfidfVectorizer(stop_words=\"english\")"
   ]
  },
  {
   "cell_type": "code",
   "execution_count": 89,
   "id": "fe129670",
   "metadata": {},
   "outputs": [
    {
     "data": {
      "text/plain": [
       "(964, 8250)"
      ]
     },
     "execution_count": 89,
     "metadata": {},
     "output_type": "execute_result"
    }
   ],
   "source": [
    "tfidf_matrix = tfidf.fit_transform(events_df[\"soup\"])\n",
    "tfidf_matrix.shape"
   ]
  },
  {
   "cell_type": "code",
   "execution_count": 90,
   "id": "302cb92e",
   "metadata": {},
   "outputs": [],
   "source": [
    "cosine_sim = tfidf_matrix.dot(tfidf_matrix.T)"
   ]
  },
  {
   "cell_type": "code",
   "execution_count": 91,
   "id": "ddef232a",
   "metadata": {},
   "outputs": [
    {
     "data": {
      "text/html": [
       "<div>\n",
       "<style scoped>\n",
       "    .dataframe tbody tr th:only-of-type {\n",
       "        vertical-align: middle;\n",
       "    }\n",
       "\n",
       "    .dataframe tbody tr th {\n",
       "        vertical-align: top;\n",
       "    }\n",
       "\n",
       "    .dataframe thead th {\n",
       "        text-align: right;\n",
       "    }\n",
       "</style>\n",
       "<table border=\"1\" class=\"dataframe\">\n",
       "  <thead>\n",
       "    <tr style=\"text-align: right;\">\n",
       "      <th></th>\n",
       "      <th>id</th>\n",
       "      <th>visit_id</th>\n",
       "      <th>user_id</th>\n",
       "      <th>name</th>\n",
       "      <th>properties</th>\n",
       "      <th>time</th>\n",
       "    </tr>\n",
       "  </thead>\n",
       "  <tbody>\n",
       "    <tr>\n",
       "      <th>0</th>\n",
       "      <td>12</td>\n",
       "      <td>51</td>\n",
       "      <td>64</td>\n",
       "      <td>View Offer Page ID 1841</td>\n",
       "      <td>{'user': 64, 'offer': 1841}</td>\n",
       "      <td>2022-05-28 13:38:01.802118</td>\n",
       "    </tr>\n",
       "    <tr>\n",
       "      <th>1</th>\n",
       "      <td>13</td>\n",
       "      <td>51</td>\n",
       "      <td>64</td>\n",
       "      <td>View Offer Page ID 1804</td>\n",
       "      <td>{'user': 64, 'offer': 1804}</td>\n",
       "      <td>2022-05-28 13:38:18.486753</td>\n",
       "    </tr>\n",
       "    <tr>\n",
       "      <th>2</th>\n",
       "      <td>14</td>\n",
       "      <td>51</td>\n",
       "      <td>64</td>\n",
       "      <td>View Offer Page ID 1676</td>\n",
       "      <td>{'user': 64, 'offer': 1676}</td>\n",
       "      <td>2022-05-28 13:38:44.105830</td>\n",
       "    </tr>\n",
       "    <tr>\n",
       "      <th>3</th>\n",
       "      <td>15</td>\n",
       "      <td>51</td>\n",
       "      <td>64</td>\n",
       "      <td>View Offer Page ID 1841</td>\n",
       "      <td>{'user': 64, 'offer': 1841}</td>\n",
       "      <td>2022-05-28 13:38:54.335809</td>\n",
       "    </tr>\n",
       "    <tr>\n",
       "      <th>4</th>\n",
       "      <td>16</td>\n",
       "      <td>51</td>\n",
       "      <td>64</td>\n",
       "      <td>View Offer Page ID 1443</td>\n",
       "      <td>{'user': 64, 'offer': 1443}</td>\n",
       "      <td>2022-05-28 13:39:00.433517</td>\n",
       "    </tr>\n",
       "  </tbody>\n",
       "</table>\n",
       "</div>"
      ],
      "text/plain": [
       "   id  visit_id  user_id                     name  \\\n",
       "0  12        51       64  View Offer Page ID 1841   \n",
       "1  13        51       64  View Offer Page ID 1804   \n",
       "2  14        51       64  View Offer Page ID 1676   \n",
       "3  15        51       64  View Offer Page ID 1841   \n",
       "4  16        51       64  View Offer Page ID 1443   \n",
       "\n",
       "                    properties                       time  \n",
       "0  {'user': 64, 'offer': 1841} 2022-05-28 13:38:01.802118  \n",
       "1  {'user': 64, 'offer': 1804} 2022-05-28 13:38:18.486753  \n",
       "2  {'user': 64, 'offer': 1676} 2022-05-28 13:38:44.105830  \n",
       "3  {'user': 64, 'offer': 1841} 2022-05-28 13:38:54.335809  \n",
       "4  {'user': 64, 'offer': 1443} 2022-05-28 13:39:00.433517  "
      ]
     },
     "execution_count": 91,
     "metadata": {},
     "output_type": "execute_result"
    }
   ],
   "source": [
    "ahoy_events_df.head()"
   ]
  },
  {
   "cell_type": "code",
   "execution_count": null,
   "id": "0447f9f6",
   "metadata": {},
   "outputs": [],
   "source": []
  },
  {
   "cell_type": "code",
   "execution_count": null,
   "id": "0fe641e7",
   "metadata": {},
   "outputs": [],
   "source": []
  },
  {
   "cell_type": "code",
   "execution_count": null,
   "id": "ddb39443",
   "metadata": {},
   "outputs": [],
   "source": []
  },
  {
   "cell_type": "code",
   "execution_count": 92,
   "id": "13396afd",
   "metadata": {},
   "outputs": [],
   "source": [
    "title_to_index = pd.Series(events_df.index, index = events_df[\"title\"]).drop_duplicates()"
   ]
  },
  {
   "cell_type": "code",
   "execution_count": 113,
   "id": "1eb14788",
   "metadata": {},
   "outputs": [
    {
     "data": {
      "text/plain": [
       "array([64, 55, 59])"
      ]
     },
     "execution_count": 113,
     "metadata": {},
     "output_type": "execute_result"
    }
   ],
   "source": [
    "ahoy_events_df.user_id.unique()"
   ]
  },
  {
   "cell_type": "code",
   "execution_count": 100,
   "id": "e2e2887b",
   "metadata": {},
   "outputs": [],
   "source": [
    "# event_idx = ahoy_events_df[ahoy_events_df['user_id']==46].iloc[0].properties['offer']\n",
    "# # now we get the title of the event\n",
    "# title = events_df[events_df['id']==event_idx].title"
   ]
  },
  {
   "cell_type": "code",
   "execution_count": 121,
   "id": "77edd5a8",
   "metadata": {},
   "outputs": [
    {
     "data": {
      "text/html": [
       "<div>\n",
       "<style scoped>\n",
       "    .dataframe tbody tr th:only-of-type {\n",
       "        vertical-align: middle;\n",
       "    }\n",
       "\n",
       "    .dataframe tbody tr th {\n",
       "        vertical-align: top;\n",
       "    }\n",
       "\n",
       "    .dataframe thead th {\n",
       "        text-align: right;\n",
       "    }\n",
       "</style>\n",
       "<table border=\"1\" class=\"dataframe\">\n",
       "  <thead>\n",
       "    <tr style=\"text-align: right;\">\n",
       "      <th></th>\n",
       "      <th>id</th>\n",
       "      <th>title</th>\n",
       "      <th>description</th>\n",
       "      <th>price_per_person</th>\n",
       "      <th>capacity</th>\n",
       "      <th>address</th>\n",
       "      <th>latitude</th>\n",
       "      <th>longitude</th>\n",
       "      <th>is_external</th>\n",
       "      <th>url</th>\n",
       "      <th>offer_date</th>\n",
       "      <th>offer_time</th>\n",
       "      <th>created_at</th>\n",
       "      <th>updated_at</th>\n",
       "      <th>user_id</th>\n",
       "      <th>tag_id</th>\n",
       "      <th>external_image_url</th>\n",
       "    </tr>\n",
       "  </thead>\n",
       "  <tbody>\n",
       "    <tr>\n",
       "      <th>0</th>\n",
       "      <td>1371</td>\n",
       "      <td>Berlin Skylarks Baseball and Softball Training</td>\n",
       "      <td>We are the Berlin Skylarks, the baseball and s...</td>\n",
       "      <td>150</td>\n",
       "      <td>10.0</td>\n",
       "      <td>Rathausstraße 7, 10178 Berlin</td>\n",
       "      <td>52.519710</td>\n",
       "      <td>13.410720</td>\n",
       "      <td>False</td>\n",
       "      <td>None</td>\n",
       "      <td>2022-06-02</td>\n",
       "      <td>19:06:57</td>\n",
       "      <td>2022-05-28 12:44:02.156122</td>\n",
       "      <td>2022-05-28 12:44:02.209019</td>\n",
       "      <td>None</td>\n",
       "      <td>87</td>\n",
       "      <td>None</td>\n",
       "    </tr>\n",
       "    <tr>\n",
       "      <th>1</th>\n",
       "      <td>1372</td>\n",
       "      <td>Roter Stern Berlin 2012 e.V.</td>\n",
       "      <td>As part of Roter Stern Berlin 2012 e.V., we or...</td>\n",
       "      <td>56</td>\n",
       "      <td>12.0</td>\n",
       "      <td>Böttgerstraße 8, 13357 Berlin</td>\n",
       "      <td>13.379800</td>\n",
       "      <td>52.520062</td>\n",
       "      <td>False</td>\n",
       "      <td>None</td>\n",
       "      <td>2022-06-03</td>\n",
       "      <td>17:41:59</td>\n",
       "      <td>2022-05-28 12:44:05.034852</td>\n",
       "      <td>2022-05-28 12:44:05.055855</td>\n",
       "      <td>None</td>\n",
       "      <td>88</td>\n",
       "      <td>None</td>\n",
       "    </tr>\n",
       "    <tr>\n",
       "      <th>2</th>\n",
       "      <td>1373</td>\n",
       "      <td>Basement Boulderstudio Highlight</td>\n",
       "      <td>Bouldering is quickly becoming one of the most...</td>\n",
       "      <td>33</td>\n",
       "      <td>12.0</td>\n",
       "      <td>Stresemannstraße 72, 10963 Berlin</td>\n",
       "      <td>13.384420</td>\n",
       "      <td>52.549310</td>\n",
       "      <td>False</td>\n",
       "      <td>None</td>\n",
       "      <td>2022-06-12</td>\n",
       "      <td>20:46:24</td>\n",
       "      <td>2022-05-28 12:44:08.444229</td>\n",
       "      <td>2022-05-28 12:44:08.475776</td>\n",
       "      <td>None</td>\n",
       "      <td>94</td>\n",
       "      <td>None</td>\n",
       "    </tr>\n",
       "    <tr>\n",
       "      <th>3</th>\n",
       "      <td>1374</td>\n",
       "      <td>Kajak Berlin Tours</td>\n",
       "      <td>Enjoy the stunning waterscape of the legendary...</td>\n",
       "      <td>50</td>\n",
       "      <td>6.0</td>\n",
       "      <td>Kayak-Truck vis-á-vis Cafe A.Horn, Carl-Herz-U...</td>\n",
       "      <td>13.405571</td>\n",
       "      <td>52.495747</td>\n",
       "      <td>False</td>\n",
       "      <td>None</td>\n",
       "      <td>2022-05-30</td>\n",
       "      <td>19:48:00</td>\n",
       "      <td>2022-05-28 12:44:11.583752</td>\n",
       "      <td>2022-05-28 12:44:11.602994</td>\n",
       "      <td>None</td>\n",
       "      <td>111</td>\n",
       "      <td>None</td>\n",
       "    </tr>\n",
       "    <tr>\n",
       "      <th>4</th>\n",
       "      <td>1375</td>\n",
       "      <td>Berlin Gym Mitte</td>\n",
       "      <td>The Berlin Gym offers you a special selection ...</td>\n",
       "      <td>150</td>\n",
       "      <td>6.0</td>\n",
       "      <td>Philippstraße 13, 10115 Berlin</td>\n",
       "      <td>13.410610</td>\n",
       "      <td>52.516270</td>\n",
       "      <td>False</td>\n",
       "      <td>None</td>\n",
       "      <td>2022-06-04</td>\n",
       "      <td>21:00:02</td>\n",
       "      <td>2022-05-28 12:44:14.322352</td>\n",
       "      <td>2022-05-28 12:44:14.338771</td>\n",
       "      <td>None</td>\n",
       "      <td>96</td>\n",
       "      <td>None</td>\n",
       "    </tr>\n",
       "  </tbody>\n",
       "</table>\n",
       "</div>"
      ],
      "text/plain": [
       "     id                                           title  \\\n",
       "0  1371  Berlin Skylarks Baseball and Softball Training   \n",
       "1  1372                    Roter Stern Berlin 2012 e.V.   \n",
       "2  1373                Basement Boulderstudio Highlight   \n",
       "3  1374                              Kajak Berlin Tours   \n",
       "4  1375                                Berlin Gym Mitte   \n",
       "\n",
       "                                         description  price_per_person  \\\n",
       "0  We are the Berlin Skylarks, the baseball and s...               150   \n",
       "1  As part of Roter Stern Berlin 2012 e.V., we or...                56   \n",
       "2  Bouldering is quickly becoming one of the most...                33   \n",
       "3  Enjoy the stunning waterscape of the legendary...                50   \n",
       "4  The Berlin Gym offers you a special selection ...               150   \n",
       "\n",
       "   capacity                                            address   latitude  \\\n",
       "0      10.0                      Rathausstraße 7, 10178 Berlin  52.519710   \n",
       "1      12.0                      Böttgerstraße 8, 13357 Berlin  13.379800   \n",
       "2      12.0                  Stresemannstraße 72, 10963 Berlin  13.384420   \n",
       "3       6.0  Kayak-Truck vis-á-vis Cafe A.Horn, Carl-Herz-U...  13.405571   \n",
       "4       6.0                     Philippstraße 13, 10115 Berlin  13.410610   \n",
       "\n",
       "   longitude  is_external   url  offer_date offer_time  \\\n",
       "0  13.410720        False  None  2022-06-02   19:06:57   \n",
       "1  52.520062        False  None  2022-06-03   17:41:59   \n",
       "2  52.549310        False  None  2022-06-12   20:46:24   \n",
       "3  52.495747        False  None  2022-05-30   19:48:00   \n",
       "4  52.516270        False  None  2022-06-04   21:00:02   \n",
       "\n",
       "                  created_at                 updated_at user_id  tag_id  \\\n",
       "0 2022-05-28 12:44:02.156122 2022-05-28 12:44:02.209019    None      87   \n",
       "1 2022-05-28 12:44:05.034852 2022-05-28 12:44:05.055855    None      88   \n",
       "2 2022-05-28 12:44:08.444229 2022-05-28 12:44:08.475776    None      94   \n",
       "3 2022-05-28 12:44:11.583752 2022-05-28 12:44:11.602994    None     111   \n",
       "4 2022-05-28 12:44:14.322352 2022-05-28 12:44:14.338771    None      96   \n",
       "\n",
       "  external_image_url  \n",
       "0               None  \n",
       "1               None  \n",
       "2               None  \n",
       "3               None  \n",
       "4               None  "
      ]
     },
     "execution_count": 121,
     "metadata": {},
     "output_type": "execute_result"
    }
   ],
   "source": [
    "events_df.head()"
   ]
  },
  {
   "cell_type": "code",
   "execution_count": 125,
   "id": "cca4e409",
   "metadata": {},
   "outputs": [],
   "source": [
    "import datetime"
   ]
  },
  {
   "cell_type": "code",
   "execution_count": 134,
   "id": "11d51f51",
   "metadata": {},
   "outputs": [],
   "source": [
    "from datetime import date\n",
    "\n",
    "def get_title(user_id, df = ahoy_events_df):\n",
    "    ''' this finction grabs the title of an event used by an user from ahoy_events dataset'''\n",
    "    \n",
    "    event_idx = ahoy_events_df[ahoy_events_df['user_id']== user_id].iloc[0].properties['offer']\n",
    "    # now we get the title of the event\n",
    "    title = events_df[events_df['id']==event_idx].title\n",
    "    \n",
    "    return title\n",
    "\n",
    "# def get_current_date():\n",
    "    \n",
    "    \n",
    "    \n",
    "# def get_user_loc():   \n",
    "\n",
    "def content_recommender(user_id, cosine_sim = cosine_sim, df = events_df, title_to_index = title_to_index):\n",
    "    '''This recommender finds out 20 closest matches with a given event'''\n",
    "    \n",
    "    #calling user id from ahoy_events\n",
    "    \n",
    "    title = get_title(user_id, df = ahoy_events_df)\n",
    "    \n",
    "    idx = title_to_index[title]\n",
    "    \n",
    "    sim_scores = list(enumerate(cosine_sim[idx].todense().tolist()[0]))\n",
    "    # list of set [(index, sim score), (index, sim score), ...]\n",
    "    \n",
    "    sim_scores = sorted(sim_scores, key = lambda x: x[1], reverse = True)\n",
    "    # Sort the list of set by sim score, index with highest simlirarity\n",
    "    # Will be at the beginning of the list\n",
    "    \n",
    "    sim_scores = sim_scores[1:101] # top 100 events (first one is our input events so we ignore it)\n",
    "    \n",
    "    sport_indices = [i[0] for i in sim_scores] # we grab the indices of those 10 events\n",
    "    \n",
    "    \n",
    "    return df['title'].iloc[sport_indices]"
   ]
  },
  {
   "cell_type": "code",
   "execution_count": null,
   "id": "7e3013e0",
   "metadata": {},
   "outputs": [],
   "source": []
  },
  {
   "cell_type": "code",
   "execution_count": null,
   "id": "051b0120",
   "metadata": {},
   "outputs": [],
   "source": []
  },
  {
   "cell_type": "code",
   "execution_count": 135,
   "id": "f9c51fa6",
   "metadata": {},
   "outputs": [
    {
     "data": {
      "text/plain": [
       "85                   Bulgaria 🇧🇬 - Seven Rila lakes hike\n",
       "472    Swiss 🇨🇭 Geneva - France 🇫🇷- Mont Blanc (hike ...\n",
       "533                     Poland 🇵🇱- City break in Poznan \n",
       "531    Swedish Lake: Join us on an idyllic hike aroun...\n",
       "619         Visit Black Forest and Switzerland 🇨🇭- Basel\n",
       "                             ...                        \n",
       "271             50 Districts: Crossing Düsseldorf Vol. 5\n",
       "359    Hiking in High Tatras and Slovak Paradise Nati...\n",
       "525    Hiking in High Tatras and Slovak Paradise Nati...\n",
       "88                                           Via Ferrata\n",
       "360    Teufelstättkopf via Schleifmühlklamm Hike (17k...\n",
       "Name: title, Length: 100, dtype: object"
      ]
     },
     "execution_count": 135,
     "metadata": {},
     "output_type": "execute_result"
    }
   ],
   "source": [
    "content_recommender(64)"
   ]
  },
  {
   "cell_type": "code",
   "execution_count": null,
   "id": "5ebfd843",
   "metadata": {},
   "outputs": [],
   "source": []
  },
  {
   "cell_type": "code",
   "execution_count": null,
   "id": "61f85338",
   "metadata": {},
   "outputs": [],
   "source": [
    "content_recommender(\"Along the shore of the Elbe to Aumühle (52 km/ hard)\")"
   ]
  },
  {
   "cell_type": "code",
   "execution_count": 215,
   "id": "caf12bf7",
   "metadata": {},
   "outputs": [
    {
     "data": {
      "text/plain": [
       "numpy.float64"
      ]
     },
     "execution_count": 215,
     "metadata": {},
     "output_type": "execute_result"
    }
   ],
   "source": [
    "type(events_df.latitude[0])"
   ]
  },
  {
   "cell_type": "code",
   "execution_count": 277,
   "id": "3fd8a201",
   "metadata": {},
   "outputs": [],
   "source": [
    "def haversine_vectorized(user_lat,\n",
    "                         user_lon,\n",
    "                         event_lat,\n",
    "                         event_lon):\n",
    "    \"\"\"\n",
    "        Calculate the great circle distance between two points\n",
    "        on the earth (specified in decimal degrees).\n",
    "        Vectorized version of the haversine distance for pandas df\n",
    "        Computes distance in kms\n",
    "    \"\"\"\n",
    "\n",
    "    lat_1_rad, lon_1_rad = np.radians(user_lat), np.radians(user_lon)\n",
    "    lat_2_rad, lon_2_rad = np.radians(event_lat), np.radians(event_lon)\n",
    "    dlon = lon_2_rad - lon_1_rad\n",
    "    dlat = lat_2_rad - lat_1_rad\n",
    "\n",
    "    a = np.sin(dlat / 2.0) ** 2 + np.cos(lat_1_rad) * np.cos(lat_2_rad) * np.sin(dlon / 2.0) ** 2\n",
    "    c = 2 * np.arcsin(np.sqrt(a))\n",
    "    return 6371 * c"
   ]
  },
  {
   "cell_type": "code",
   "execution_count": 283,
   "id": "6b95a595",
   "metadata": {},
   "outputs": [
    {
     "data": {
      "text/plain": [
       "134.0816183723369"
      ]
     },
     "execution_count": 283,
     "metadata": {},
     "output_type": "execute_result"
    }
   ],
   "source": [
    "haversine_vectorized(48.135124, 11.581981, 47.135124, 12.581981)"
   ]
  },
  {
   "cell_type": "code",
   "execution_count": 294,
   "id": "ae81fb50",
   "metadata": {},
   "outputs": [
    {
     "data": {
      "text/plain": [
       "array([55, 56, 57, 58, 59, 60, 61, 62, 63, 64])"
      ]
     },
     "execution_count": 294,
     "metadata": {},
     "output_type": "execute_result"
    }
   ],
   "source": [
    "users_df.id.unique()"
   ]
  },
  {
   "cell_type": "code",
   "execution_count": 305,
   "id": "a0a3c36c",
   "metadata": {},
   "outputs": [
    {
     "data": {
      "text/plain": [
       "{'user_latitude': 48.775845, 'user_longitude': 9.182932}"
      ]
     },
     "execution_count": 305,
     "metadata": {},
     "output_type": "execute_result"
    }
   ],
   "source": [
    "get_user_loc(63, df = users_df)"
   ]
  },
  {
   "cell_type": "markdown",
   "id": "40d99477",
   "metadata": {},
   "source": [
    "#  recommemder filter for future dates and nearest places "
   ]
  },
  {
   "cell_type": "code",
   "execution_count": 342,
   "id": "beed556b",
   "metadata": {},
   "outputs": [],
   "source": [
    "from datetime import date\n",
    "\n",
    "def get_title(user_id, df = ahoy_events_df):\n",
    "    ''' this finction grabs the title of an event used by an user from ahoy_events dataset'''\n",
    "    \n",
    "    event_idx = ahoy_events_df[ahoy_events_df['user_id']== user_id].iloc[0].properties['offer']\n",
    "    # now we get the title of the event\n",
    "    title = events_df[events_df['id']==event_idx].title\n",
    "    \n",
    "    return title  \n",
    "\n",
    "def get_user_loc(user_id, df = users_df):   \n",
    "    ''' this finction grabs the location of an user from ahoy_events dataset'''\n",
    "    \n",
    "    users_idx = users_df[users_df['id']== user_id]\n",
    "    # now we get the user's latitude and longitude\n",
    "    \n",
    "    location_dict = {'user_latitude' : float(users_idx.latitude.values), \n",
    "                     \n",
    "                     'user_longitude' : float(users_idx.longitude.values)\n",
    "                        }\n",
    "     \n",
    "    return location_dict\n",
    "\n",
    "\n",
    "def content_recommender(user_id, cosine_sim = cosine_sim, df = events_df, title_to_index = title_to_index):\n",
    "    '''This recommender finds out 20 closest matches with a given event'''\n",
    "    \n",
    "    #calling user id from ahoy_events\n",
    "    \n",
    "    title = get_title(user_id, df = ahoy_events_df)\n",
    "    \n",
    "    idx = title_to_index[title]\n",
    "    \n",
    "    sim_scores = list(enumerate(cosine_sim[idx].todense().tolist()[0]))\n",
    "    # list of set [(index, sim score), (index, sim score), ...]\n",
    "    \n",
    "    sim_scores = sorted(sim_scores, key = lambda x: x[1], reverse = True)\n",
    "    # Sort the list of set by sim score, index with highest simlirarity\n",
    "    # Will be at the beginning of the list\n",
    "    \n",
    "    sim_scores = sim_scores[1:101] # top 100 events (first one is our input events so we ignore it)\n",
    "    \n",
    "    sport_indices = [i[0] for i in sim_scores] # we grab the indices of those 10 events\n",
    "    \n",
    "    df_all_recommendations = df.iloc[sport_indices][['title', 'latitude', 'longitude', 'offer_date']]\n",
    "    \n",
    "    df_date_filter = df_all_recommendations[df_all_recommendations['offer_date'] >= datetime.date.today()]\n",
    "    \n",
    "    #calcullation of haversine distance for users:\n",
    "    user_latitude = get_user_loc(user_id, df = users_df)['user_latitude']\n",
    "    user_longitude = get_user_loc(user_id, df = users_df)['user_longitude']\n",
    "    \n",
    "    df_date_filter['user_latitude'] = user_latitude\n",
    "    df_date_filter['user_longitude'] = user_longitude\n",
    "    \n",
    "    df_date_filter[\"distance\"] = haversine_vectorized(df_date_filter.latitude, df_date_filter.longitude,\n",
    "                                                      df_date_filter.user_latitude, df_date_filter.user_longitude)\n",
    "            \n",
    "    df_location_filter = df_date_filter[df_date_filter['distance'] <= 200.0]\n",
    "    \n",
    "    \n",
    "                                                \n",
    "    return df_location_filter.title\n",
    "#     return user_latitude"
   ]
  },
  {
   "cell_type": "code",
   "execution_count": null,
   "id": "3154d954",
   "metadata": {},
   "outputs": [],
   "source": []
  },
  {
   "cell_type": "code",
   "execution_count": 343,
   "id": "0851baec",
   "metadata": {},
   "outputs": [
    {
     "data": {
      "text/plain": [
       "array([64, 55, 59])"
      ]
     },
     "execution_count": 343,
     "metadata": {},
     "output_type": "execute_result"
    }
   ],
   "source": [
    "ahoy_events_df.user_id.unique()"
   ]
  },
  {
   "cell_type": "code",
   "execution_count": null,
   "id": "71d5b948",
   "metadata": {},
   "outputs": [],
   "source": []
  },
  {
   "cell_type": "code",
   "execution_count": 344,
   "id": "a3d46ad8",
   "metadata": {},
   "outputs": [
    {
     "data": {
      "text/plain": [
       "302                         Women’s Trial Day Bruncharoo\n",
       "409    Outdoor Fitness Bootcamp - DEU/ENG - West (Pay...\n",
       "407    Outdoor Fitness Bootcamp - DEU/ENG - West (Pay...\n",
       "410    Outdoor Fitness Bootcamp - DEU/ENG - West (Pay...\n",
       "Name: title, dtype: object"
      ]
     },
     "execution_count": 344,
     "metadata": {},
     "output_type": "execute_result"
    }
   ],
   "source": [
    "content_recommender(55)"
   ]
  },
  {
   "cell_type": "markdown",
   "id": "e61226fd",
   "metadata": {},
   "source": []
  },
  {
   "cell_type": "markdown",
   "id": "7f30f6bf",
   "metadata": {},
   "source": [
    "# package installations"
   ]
  },
  {
   "cell_type": "code",
   "execution_count": null,
   "id": "cecfcf2f",
   "metadata": {},
   "outputs": [],
   "source": []
  },
  {
   "cell_type": "code",
   "execution_count": null,
   "id": "cb6f46bb",
   "metadata": {},
   "outputs": [],
   "source": []
  },
  {
   "cell_type": "code",
   "execution_count": null,
   "id": "6afc835c",
   "metadata": {},
   "outputs": [],
   "source": []
  },
  {
   "cell_type": "code",
   "execution_count": null,
   "id": "f524500c",
   "metadata": {},
   "outputs": [],
   "source": []
  },
  {
   "cell_type": "code",
   "execution_count": null,
   "id": "f8b5cf5e",
   "metadata": {},
   "outputs": [],
   "source": []
  },
  {
   "cell_type": "code",
   "execution_count": null,
   "id": "d18a73e0",
   "metadata": {},
   "outputs": [],
   "source": []
  },
  {
   "cell_type": "code",
   "execution_count": null,
   "id": "f7af1ad9",
   "metadata": {},
   "outputs": [],
   "source": []
  },
  {
   "cell_type": "markdown",
   "id": "ad648f35",
   "metadata": {},
   "source": []
  },
  {
   "cell_type": "code",
   "execution_count": null,
   "id": "eead4081",
   "metadata": {},
   "outputs": [],
   "source": []
  },
  {
   "cell_type": "code",
   "execution_count": null,
   "id": "a6ece3cd",
   "metadata": {},
   "outputs": [],
   "source": []
  },
  {
   "cell_type": "code",
   "execution_count": null,
   "id": "2a1a33f7",
   "metadata": {},
   "outputs": [],
   "source": []
  },
  {
   "cell_type": "code",
   "execution_count": null,
   "id": "1673bc22",
   "metadata": {},
   "outputs": [],
   "source": []
  },
  {
   "cell_type": "markdown",
   "id": "27f518a8",
   "metadata": {},
   "source": []
  },
  {
   "cell_type": "code",
   "execution_count": null,
   "id": "ee35009a",
   "metadata": {},
   "outputs": [],
   "source": []
  },
  {
   "cell_type": "code",
   "execution_count": null,
   "id": "bef611f3",
   "metadata": {},
   "outputs": [],
   "source": []
  },
  {
   "cell_type": "code",
   "execution_count": null,
   "id": "fb2e0c09",
   "metadata": {},
   "outputs": [],
   "source": []
  }
 ],
 "metadata": {
  "kernelspec": {
   "display_name": "Python 3 (ipykernel)",
   "language": "python",
   "name": "python3"
  },
  "language_info": {
   "codemirror_mode": {
    "name": "ipython",
    "version": 3
   },
   "file_extension": ".py",
   "mimetype": "text/x-python",
   "name": "python",
   "nbconvert_exporter": "python",
   "pygments_lexer": "ipython3",
   "version": "3.8.12"
  },
  "toc": {
   "base_numbering": 1,
   "nav_menu": {},
   "number_sections": true,
   "sideBar": true,
   "skip_h1_title": false,
   "title_cell": "Table of Contents",
   "title_sidebar": "Contents",
   "toc_cell": false,
   "toc_position": {},
   "toc_section_display": true,
   "toc_window_display": false
  }
 },
 "nbformat": 4,
 "nbformat_minor": 5
}
