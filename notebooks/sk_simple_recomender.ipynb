{
 "cells": [
  {
   "cell_type": "markdown",
   "id": "e30b4f55",
   "metadata": {},
   "source": [
    "# importing data from json"
   ]
  },
  {
   "cell_type": "code",
   "execution_count": 1,
   "id": "248bf3da",
   "metadata": {},
   "outputs": [],
   "source": [
    "import numpy as np\n",
    "import pandas as pd\n",
    "import json\n",
    "import os"
   ]
  },
  {
   "cell_type": "code",
   "execution_count": 2,
   "id": "be8d8504",
   "metadata": {},
   "outputs": [
    {
     "name": "stdout",
     "output_type": "stream",
     "text": [
      "['berlin_hiking.json', 'london_sports.json', 'frankfurt_running.json', 'berlin_cycling.json', 'berlin_running.json', 'berlin_yoga.json', 'berlin_sports.json', 'frankfurt_yoga.json', 'frankfurt_hiking.json', 'berlin_canoeing.json']\n"
     ]
    }
   ],
   "source": [
    "\n",
    "data_path = os.path.join(os.path.dirname(os.getcwd()), 'raw_data/')\n",
    "json_files = [files for files in os.listdir(data_path) if files.endswith('.json')]\n",
    "print(json_files)"
   ]
  },
  {
   "cell_type": "code",
   "execution_count": 3,
   "id": "267ffd61",
   "metadata": {},
   "outputs": [],
   "source": [
    "user_df = pd.read_csv(f'{data_path}users.csv')"
   ]
  },
  {
   "cell_type": "code",
   "execution_count": 4,
   "id": "e365c9a8",
   "metadata": {},
   "outputs": [
    {
     "data": {
      "text/html": [
       "<div>\n",
       "<style scoped>\n",
       "    .dataframe tbody tr th:only-of-type {\n",
       "        vertical-align: middle;\n",
       "    }\n",
       "\n",
       "    .dataframe tbody tr th {\n",
       "        vertical-align: top;\n",
       "    }\n",
       "\n",
       "    .dataframe thead th {\n",
       "        text-align: right;\n",
       "    }\n",
       "</style>\n",
       "<table border=\"1\" class=\"dataframe\">\n",
       "  <thead>\n",
       "    <tr style=\"text-align: right;\">\n",
       "      <th></th>\n",
       "      <th>0</th>\n",
       "      <th>1</th>\n",
       "      <th>2</th>\n",
       "      <th>3</th>\n",
       "      <th>4</th>\n",
       "    </tr>\n",
       "  </thead>\n",
       "  <tbody>\n",
       "    <tr>\n",
       "      <th>Unnamed: 0</th>\n",
       "      <td>0</td>\n",
       "      <td>1</td>\n",
       "      <td>2</td>\n",
       "      <td>3</td>\n",
       "      <td>4</td>\n",
       "    </tr>\n",
       "    <tr>\n",
       "      <th>id</th>\n",
       "      <td>19</td>\n",
       "      <td>20</td>\n",
       "      <td>21</td>\n",
       "      <td>22</td>\n",
       "      <td>23</td>\n",
       "    </tr>\n",
       "    <tr>\n",
       "      <th>email</th>\n",
       "      <td>johanna@gmail.com</td>\n",
       "      <td>anjali@gmail.com</td>\n",
       "      <td>alexandra@gmail.com</td>\n",
       "      <td>ieva@gmail.com</td>\n",
       "      <td>daniel@gmail.com</td>\n",
       "    </tr>\n",
       "    <tr>\n",
       "      <th>encrypted_password</th>\n",
       "      <td>$2a$12$rZkuGDgbHIHpi3sYfS4or.EmNEd61QoDhi3IEEL...</td>\n",
       "      <td>$2a$12$L.9JFRFJeF6GMfrvHQ9ycuxwAOS3ddYMeuhj7Qr...</td>\n",
       "      <td>$2a$12$ZBcWOyC2RU8aP5nWLKMlee54mNk4gmRIkFZPYL7...</td>\n",
       "      <td>$2a$12$xRfA6rvHxBLt0ETNb.fGputBmPcU1tEd6KiEXIr...</td>\n",
       "      <td>$2a$12$iElgTE/LWI.UAdBDKEUxYOpdme2qXF/nQyiuM2i...</td>\n",
       "    </tr>\n",
       "    <tr>\n",
       "      <th>reset_password_token</th>\n",
       "      <td>NaN</td>\n",
       "      <td>NaN</td>\n",
       "      <td>NaN</td>\n",
       "      <td>NaN</td>\n",
       "      <td>NaN</td>\n",
       "    </tr>\n",
       "    <tr>\n",
       "      <th>reset_password_sent_at</th>\n",
       "      <td>NaN</td>\n",
       "      <td>NaN</td>\n",
       "      <td>NaN</td>\n",
       "      <td>NaN</td>\n",
       "      <td>NaN</td>\n",
       "    </tr>\n",
       "    <tr>\n",
       "      <th>remember_created_at</th>\n",
       "      <td>NaN</td>\n",
       "      <td>NaN</td>\n",
       "      <td>NaN</td>\n",
       "      <td>NaN</td>\n",
       "      <td>NaN</td>\n",
       "    </tr>\n",
       "    <tr>\n",
       "      <th>created_at</th>\n",
       "      <td>2022-05-21 10:12:18.076423</td>\n",
       "      <td>2022-05-21 10:12:18.316674</td>\n",
       "      <td>2022-05-21 10:12:18.556628</td>\n",
       "      <td>2022-05-21 10:12:18.796555</td>\n",
       "      <td>2022-05-21 10:12:19.041699</td>\n",
       "    </tr>\n",
       "    <tr>\n",
       "      <th>updated_at</th>\n",
       "      <td>2022-05-21 10:12:18.076423</td>\n",
       "      <td>2022-05-21 10:12:18.316674</td>\n",
       "      <td>2022-05-21 10:12:18.556628</td>\n",
       "      <td>2022-05-21 10:12:18.796555</td>\n",
       "      <td>2022-05-21 10:12:19.041699</td>\n",
       "    </tr>\n",
       "    <tr>\n",
       "      <th>first_name</th>\n",
       "      <td>Johanna</td>\n",
       "      <td>Anjali</td>\n",
       "      <td>Alexandra</td>\n",
       "      <td>Ieva</td>\n",
       "      <td>Daniel</td>\n",
       "    </tr>\n",
       "    <tr>\n",
       "      <th>last_name</th>\n",
       "      <td>Maier</td>\n",
       "      <td>Kumar</td>\n",
       "      <td>Stroe</td>\n",
       "      <td>Jirgensone</td>\n",
       "      <td>Angerer</td>\n",
       "    </tr>\n",
       "    <tr>\n",
       "      <th>description</th>\n",
       "      <td>Hi, my name is Johanna! I want to go on my nex...</td>\n",
       "      <td>Hi, my name is Anjali! I want to go on my next...</td>\n",
       "      <td>Hi, my name is Alexandra! I want to go on my n...</td>\n",
       "      <td>Hi, my name is Ieva! I want to go on my next s...</td>\n",
       "      <td>Hi, my name is Daniel! I want to go on my next...</td>\n",
       "    </tr>\n",
       "    <tr>\n",
       "      <th>date_of_birth</th>\n",
       "      <td>1993-01-25</td>\n",
       "      <td>1993-01-25</td>\n",
       "      <td>1993-01-25</td>\n",
       "      <td>1993-01-25</td>\n",
       "      <td>1993-01-25</td>\n",
       "    </tr>\n",
       "    <tr>\n",
       "      <th>gender</th>\n",
       "      <td>female</td>\n",
       "      <td>female</td>\n",
       "      <td>female</td>\n",
       "      <td>female</td>\n",
       "      <td>male</td>\n",
       "    </tr>\n",
       "  </tbody>\n",
       "</table>\n",
       "</div>"
      ],
      "text/plain": [
       "                                                                        0  \\\n",
       "Unnamed: 0                                                              0   \n",
       "id                                                                     19   \n",
       "email                                                   johanna@gmail.com   \n",
       "encrypted_password      $2a$12$rZkuGDgbHIHpi3sYfS4or.EmNEd61QoDhi3IEEL...   \n",
       "reset_password_token                                                  NaN   \n",
       "reset_password_sent_at                                                NaN   \n",
       "remember_created_at                                                   NaN   \n",
       "created_at                                     2022-05-21 10:12:18.076423   \n",
       "updated_at                                     2022-05-21 10:12:18.076423   \n",
       "first_name                                                        Johanna   \n",
       "last_name                                                           Maier   \n",
       "description             Hi, my name is Johanna! I want to go on my nex...   \n",
       "date_of_birth                                                  1993-01-25   \n",
       "gender                                                             female   \n",
       "\n",
       "                                                                        1  \\\n",
       "Unnamed: 0                                                              1   \n",
       "id                                                                     20   \n",
       "email                                                    anjali@gmail.com   \n",
       "encrypted_password      $2a$12$L.9JFRFJeF6GMfrvHQ9ycuxwAOS3ddYMeuhj7Qr...   \n",
       "reset_password_token                                                  NaN   \n",
       "reset_password_sent_at                                                NaN   \n",
       "remember_created_at                                                   NaN   \n",
       "created_at                                     2022-05-21 10:12:18.316674   \n",
       "updated_at                                     2022-05-21 10:12:18.316674   \n",
       "first_name                                                         Anjali   \n",
       "last_name                                                           Kumar   \n",
       "description             Hi, my name is Anjali! I want to go on my next...   \n",
       "date_of_birth                                                  1993-01-25   \n",
       "gender                                                             female   \n",
       "\n",
       "                                                                        2  \\\n",
       "Unnamed: 0                                                              2   \n",
       "id                                                                     21   \n",
       "email                                                 alexandra@gmail.com   \n",
       "encrypted_password      $2a$12$ZBcWOyC2RU8aP5nWLKMlee54mNk4gmRIkFZPYL7...   \n",
       "reset_password_token                                                  NaN   \n",
       "reset_password_sent_at                                                NaN   \n",
       "remember_created_at                                                   NaN   \n",
       "created_at                                     2022-05-21 10:12:18.556628   \n",
       "updated_at                                     2022-05-21 10:12:18.556628   \n",
       "first_name                                                      Alexandra   \n",
       "last_name                                                           Stroe   \n",
       "description             Hi, my name is Alexandra! I want to go on my n...   \n",
       "date_of_birth                                                  1993-01-25   \n",
       "gender                                                             female   \n",
       "\n",
       "                                                                        3  \\\n",
       "Unnamed: 0                                                              3   \n",
       "id                                                                     22   \n",
       "email                                                      ieva@gmail.com   \n",
       "encrypted_password      $2a$12$xRfA6rvHxBLt0ETNb.fGputBmPcU1tEd6KiEXIr...   \n",
       "reset_password_token                                                  NaN   \n",
       "reset_password_sent_at                                                NaN   \n",
       "remember_created_at                                                   NaN   \n",
       "created_at                                     2022-05-21 10:12:18.796555   \n",
       "updated_at                                     2022-05-21 10:12:18.796555   \n",
       "first_name                                                           Ieva   \n",
       "last_name                                                      Jirgensone   \n",
       "description             Hi, my name is Ieva! I want to go on my next s...   \n",
       "date_of_birth                                                  1993-01-25   \n",
       "gender                                                             female   \n",
       "\n",
       "                                                                        4  \n",
       "Unnamed: 0                                                              4  \n",
       "id                                                                     23  \n",
       "email                                                    daniel@gmail.com  \n",
       "encrypted_password      $2a$12$iElgTE/LWI.UAdBDKEUxYOpdme2qXF/nQyiuM2i...  \n",
       "reset_password_token                                                  NaN  \n",
       "reset_password_sent_at                                                NaN  \n",
       "remember_created_at                                                   NaN  \n",
       "created_at                                     2022-05-21 10:12:19.041699  \n",
       "updated_at                                     2022-05-21 10:12:19.041699  \n",
       "first_name                                                         Daniel  \n",
       "last_name                                                         Angerer  \n",
       "description             Hi, my name is Daniel! I want to go on my next...  \n",
       "date_of_birth                                                  1993-01-25  \n",
       "gender                                                               male  "
      ]
     },
     "execution_count": 4,
     "metadata": {},
     "output_type": "execute_result"
    }
   ],
   "source": [
    "user_df.head().T"
   ]
  },
  {
   "cell_type": "code",
   "execution_count": 5,
   "id": "a7819752",
   "metadata": {},
   "outputs": [],
   "source": [
    "offers_df = pd.read_csv(f'{data_path}offers.csv')"
   ]
  },
  {
   "cell_type": "code",
   "execution_count": 6,
   "id": "94bfa728",
   "metadata": {
    "scrolled": true
   },
   "outputs": [
    {
     "name": "stdout",
     "output_type": "stream",
     "text": [
      "{'title': 'ONLINE YOGA | Jivamukti Yoga Advanced', 'description': 'Yoga mit Nina Bettermann\\n\\nSonntags 17 Uhr — 18:30 Uhr\\n\\n90 Minuten intensive, ausgiebige Asana-Praxis mit wechselndem Schwerpunkt sowie Meditation stehen immer auf dem Programm. Unterrichtet wird die Stunde von Jivamuktilehrerin Nina Bettermann.\\n\\nUnterrichtssprache ist Deutsch - English if required!!\\n\\nNina Bettermann\\n\\nNina ist 800-Stunden zertifizierte Jivamukti-Lehrerin. 2005 besuchte sie ihre erste Yogastunde. Was anfangs als Ausgleich zum stressigen Studium gedacht war, wurde schnell zur unverzichtbaren täglichen Praxis. Nachdem sie verschiedene Yogastile ausprobiert hatte, fand sie schließlich im Jivamukti Yoga ihr Zuhause. Daher entschloss sie sich im Winter 2010, nach dem Abschluss ihres Pharmaziestudiums, das Jivamukti Yoga Teacher Training mit Sharon Gannon, David Life Patrick Broome und Yogeswari zu absolvieren. 2014 folgte das 800hrs-Apprenticeship bei ihrer Mentorin Vera. Seitdem unterrichtet Nina, neben ihrer Tätigkeit als Apothekerin, in mehreren Berliner Yogastudios. Dabei ist ihr aber die eigene tägliche Praxis weiterhin heilig. Denn nur was man selber erlebt hat, kann man auch authentisch weitergeben und unterrichten :)\\n\\nThe balance recommended:\\nDonation-Drop-In 13-16€\\nUSC Members Welcome: USC M (4x), L (8x), XL (8x)\\nStudiocard Price: https://www.yogaatlobeblock.de/preise', 'priceTier': 'paid', 'numberOfAllowedGuests': 3, 'dateTime': '2022-06-12T17:00+02:00', 'timezone': 'Europe/Berlin', 'eventUrl': 'https://www.meetup.com/Berlin-Yoga-Club/events/286093739', 'imageUrl': 'https://secure-content.meetupstatic.com/images/classic-events/481766032/676x380.webp', 'venue': {'name': 'Online event', 'address': '', 'city': '', 'state': '', 'postalCode': '', 'country': '', 'lat': 52.548897, 'lng': 13.381073}, 'fee': 0}\n"
     ]
    }
   ],
   "source": [
    "data_path = os.path.join(os.path.dirname(os.getcwd()), 'raw_data/')\n",
    "file_berlin = 'berlin_yoga.json'\n",
    "with open(data_path+file_berlin) as f:\n",
    "    data = json.load(f)\n",
    "print(data['Data'][2])"
   ]
  },
  {
   "cell_type": "code",
   "execution_count": 7,
   "id": "181d195f",
   "metadata": {},
   "outputs": [],
   "source": [
    "data_path = os.path.join(os.path.dirname(os.getcwd()), 'raw_data/')\n",
    "\n",
    "json_files = [files for files in os.listdir(data_path) if files.endswith('.json')]\n",
    "#print(json_files)\n",
    "data_dict = []\n",
    "for val in json_files:\n",
    "    with open(data_path+val) as f:\n",
    "        data = json.load(f)\n",
    "         \n",
    "        for val in data['Data']:\n",
    "            if val['venue'] != None:\n",
    "                \n",
    "                data_dict.append({'title': val['title'], \n",
    "                                  'description': val['description'],\n",
    "                                  'event_date':val['dateTime'],\n",
    "                                  'event_latitude': val['venue']['lat'],\n",
    "                                  'event_longitude': val['venue']['lng']\n",
    "\n",
    "\n",
    "\n",
    "                                 })\n",
    "\n"
   ]
  },
  {
   "cell_type": "code",
   "execution_count": 8,
   "id": "7395001d",
   "metadata": {},
   "outputs": [
    {
     "data": {
      "text/plain": [
       "(1257, 5)"
      ]
     },
     "execution_count": 8,
     "metadata": {},
     "output_type": "execute_result"
    }
   ],
   "source": [
    "df = pd.DataFrame.from_dict(data_dict).drop_duplicates()\n",
    "df.shape"
   ]
  },
  {
   "cell_type": "code",
   "execution_count": 9,
   "id": "a516457f",
   "metadata": {},
   "outputs": [
    {
     "data": {
      "text/plain": [
       "0"
      ]
     },
     "execution_count": 9,
     "metadata": {},
     "output_type": "execute_result"
    }
   ],
   "source": [
    "df.duplicated().sum()"
   ]
  },
  {
   "cell_type": "code",
   "execution_count": null,
   "id": "454dcaa8",
   "metadata": {},
   "outputs": [],
   "source": []
  },
  {
   "cell_type": "markdown",
   "id": "6d3ffdc2",
   "metadata": {},
   "source": [
    "## simple cleaning of description"
   ]
  },
  {
   "cell_type": "code",
   "execution_count": 10,
   "id": "25704954",
   "metadata": {},
   "outputs": [
    {
     "data": {
      "text/plain": [
       "'!\"#$%&\\'()*+,-./:;<=>?@[\\\\]^_`{|}~'"
      ]
     },
     "execution_count": 10,
     "metadata": {},
     "output_type": "execute_result"
    }
   ],
   "source": [
    "import re\n",
    "import string\n",
    "string.punctuation"
   ]
  },
  {
   "cell_type": "code",
   "execution_count": 11,
   "id": "78f7128c",
   "metadata": {},
   "outputs": [],
   "source": [
    "def remove_punctuation(text):\n",
    "    no_punct=[words for words in text if words not in string.punctuation]\n",
    "    words_wo_punct=''.join(no_punct)\n",
    "    return words_wo_punct"
   ]
  },
  {
   "cell_type": "code",
   "execution_count": null,
   "id": "893b4b98",
   "metadata": {},
   "outputs": [],
   "source": []
  },
  {
   "cell_type": "code",
   "execution_count": 12,
   "id": "fefaa728",
   "metadata": {},
   "outputs": [
    {
     "data": {
      "text/plain": [
       "['This',\n",
       " 'event',\n",
       " 'is',\n",
       " 'ideal',\n",
       " 'for',\n",
       " 'nature',\n",
       " 'lovers',\n",
       " 'and',\n",
       " 'outdoor',\n",
       " 'people.',\n",
       " 'We',\n",
       " 'will',\n",
       " 'be',\n",
       " 'hiking',\n",
       " 'in',\n",
       " '2',\n",
       " 'national',\n",
       " 'parks,',\n",
       " 'the',\n",
       " 'High',\n",
       " 'Tatras',\n",
       " 'and',\n",
       " 'Slovak',\n",
       " 'Paradise.',\n",
       " 'Each',\n",
       " 'walk',\n",
       " 'is',\n",
       " 'done',\n",
       " 'in',\n",
       " 'one',\n",
       " 'day,',\n",
       " 'so',\n",
       " 'at',\n",
       " 'the',\n",
       " 'end',\n",
       " 'of',\n",
       " 'the',\n",
       " 'day,',\n",
       " 'we',\n",
       " 'will',\n",
       " 'bring',\n",
       " 'you',\n",
       " 'back',\n",
       " 'to',\n",
       " 'your',\n",
       " 'accommodation',\n",
       " 'where',\n",
       " 'you',\n",
       " 'will',\n",
       " 'comfortably',\n",
       " 'spend',\n",
       " 'the',\n",
       " 'night.',\n",
       " 'Although',\n",
       " 'some',\n",
       " 'hikes',\n",
       " 'might',\n",
       " 'be',\n",
       " 'a',\n",
       " 'bit',\n",
       " 'more',\n",
       " 'demanding,',\n",
       " 'this',\n",
       " 'tour',\n",
       " 'is',\n",
       " 'designed',\n",
       " 'for',\n",
       " 'people',\n",
       " 'of',\n",
       " 'a',\n",
       " 'good',\n",
       " 'fitness',\n",
       " 'level,',\n",
       " 'but',\n",
       " 'not',\n",
       " 'necessarily',\n",
       " 'highly',\n",
       " 'physically',\n",
       " 'fit.',\n",
       " 'For',\n",
       " 'more',\n",
       " 'information',\n",
       " 'and',\n",
       " 'prices',\n",
       " 'click',\n",
       " 'on',\n",
       " 'the',\n",
       " 'link',\n",
       " 'below.',\n",
       " '[Tour',\n",
       " 'Itinerary',\n",
       " 'and',\n",
       " 'Info](https://www.experienceslovakianow.com/copy-of-new-page)',\n",
       " 'You',\n",
       " 'can',\n",
       " 'fly',\n",
       " 'to',\n",
       " 'Poprad',\n",
       " 'Tatry',\n",
       " 'airport',\n",
       " 'or',\n",
       " 'Kosice',\n",
       " 'airport.',\n",
       " 'From',\n",
       " 'Krakow',\n",
       " 'or',\n",
       " 'Budapest',\n",
       " 'you',\n",
       " 'can',\n",
       " 'take',\n",
       " 'a',\n",
       " 'direct',\n",
       " 'bus,',\n",
       " 'Flixbus',\n",
       " 'to',\n",
       " 'Poprad.',\n",
       " 'From',\n",
       " 'Prague,',\n",
       " 'Bratislava',\n",
       " 'or',\n",
       " 'Vienna',\n",
       " 'there',\n",
       " 'are',\n",
       " 'direct',\n",
       " 'trains',\n",
       " 'to',\n",
       " 'Poprad,',\n",
       " 'too.']"
      ]
     },
     "execution_count": 12,
     "metadata": {},
     "output_type": "execute_result"
    }
   ],
   "source": [
    "df['description'][0].split()"
   ]
  },
  {
   "cell_type": "code",
   "execution_count": null,
   "id": "1b069b4f",
   "metadata": {},
   "outputs": [],
   "source": []
  },
  {
   "cell_type": "code",
   "execution_count": 13,
   "id": "187c0795",
   "metadata": {},
   "outputs": [],
   "source": [
    "df['description_clean'] = df['description'].apply(lambda x: remove_punctuation(str(x)).lower().split())\n",
    "#df['description_clean'] = df['description'].apply(lambda x: remove_punctuation(x))\n",
    "#df['description_clean'] = df['description'].apply(lambda x: str(x).split())\n",
    "#df['description'] = df['description'].apply(lambda x: re.sub('[^A-Za-z0-9] ', '', str(x)))\n",
    "\n",
    "#df['description'] = df['description'].apply(lambda x: re.sub('^(http:+|https:)// ', '', str(x)))"
   ]
  },
  {
   "cell_type": "code",
   "execution_count": 14,
   "id": "440fbdd9",
   "metadata": {},
   "outputs": [
    {
     "data": {
      "text/plain": [
       "0       [this, event, is, ideal, for, nature, lovers, ...\n",
       "1       [the, most, awaited, trip, seven, rila, lakes,...\n",
       "2       [discover, the, mystical, sunken, birch, fores...\n",
       "3       [trip, highlights, visit, geneva, chamonix, hi...\n",
       "4       [discover, the, mystical, sunken, birch, fores...\n",
       "                              ...                        \n",
       "1294    [gönn, dir, den, spiritu, firetalk, um, ins, g...\n",
       "1295    [ein, mitmachwildkräuterkochevent, mit, feuerm...\n",
       "1296    [de, eventbeschreibung, hallo, zusammen, egal,...\n",
       "1297    [wir, machen, uns, auf, den, weg, durch, die, ...\n",
       "1298    [on, request, a, small, tour, 5km, 179, meters...\n",
       "Name: description_clean, Length: 1257, dtype: object"
      ]
     },
     "execution_count": 14,
     "metadata": {},
     "output_type": "execute_result"
    }
   ],
   "source": [
    "df.description_clean"
   ]
  },
  {
   "cell_type": "markdown",
   "id": "f2f91469",
   "metadata": {},
   "source": [
    "# simple tfidf model: using the raw description"
   ]
  },
  {
   "cell_type": "markdown",
   "id": "bf9f1642",
   "metadata": {},
   "source": [
    "## advanced cleaning of data"
   ]
  },
  {
   "cell_type": "code",
   "execution_count": 15,
   "id": "5c4acc8f",
   "metadata": {},
   "outputs": [],
   "source": [
    "import pandas as pd\n",
    "import re\n",
    "import string\n",
    "from bs4 import BeautifulSoup\n",
    "import nltk\n",
    "from nltk.stem import PorterStemmer\n",
    "from nltk.stem.wordnet import WordNetLemmatizer\n",
    "import spacy"
   ]
  },
  {
   "cell_type": "code",
   "execution_count": 16,
   "id": "72665efc",
   "metadata": {},
   "outputs": [
    {
     "name": "stderr",
     "output_type": "stream",
     "text": [
      "[nltk_data] Downloading package stopwords to\n",
      "[nltk_data]     /Users/shreetamakarmakar/nltk_data...\n",
      "[nltk_data]   Package stopwords is already up-to-date!\n"
     ]
    },
    {
     "data": {
      "text/plain": [
       "True"
      ]
     },
     "execution_count": 16,
     "metadata": {},
     "output_type": "execute_result"
    }
   ],
   "source": [
    "import nltk\n",
    "nltk.download('stopwords')"
   ]
  },
  {
   "cell_type": "code",
   "execution_count": 40,
   "id": "07a5bac1",
   "metadata": {},
   "outputs": [],
   "source": [
    "8# load spacy\n",
    "nlp = spacy.load('en_core_web_sm')\n",
    "\n",
    "def clean_string(text,stem=\"None\"):\n",
    "\n",
    "    final_string = \"\"\n",
    "\n",
    "    # make lower\n",
    "    text = text.lower()\n",
    "    \n",
    "    # remove http\n",
    "    text = re.sub(r\"http.*\\.[a-z]{2,3}\",\"\",text)\n",
    "\n",
    "    # remove www\n",
    "    text = re.sub(r\"www.*\\.[a-z]{2,3}\",\"\",text)\n",
    "    \n",
    "    # remove line breaks\n",
    "    text = re.sub(r'\\n','',text)\n",
    "\n",
    "    # remove puncuation\n",
    "    translator = str.maketrans('','',string.punctuation)\n",
    "    text = text.translate(translator)\n",
    "\n",
    "    # remove stop words\n",
    "    text = text.split()\n",
    "    useless_words = nltk.corpus.stopwords.words(\"english\")\n",
    "    text_filtered = [word for word in text if not word in useless_words]\n",
    "\n",
    "    # remove numbers\n",
    "    text_filtered = [re.sub(r'\\w*\\d\\w*','',w) for w in text_filtered]\n",
    "\n",
    "    # stem or lemmatize\n",
    "    if stem == 'Stem':\n",
    "        stemmer = PorterStemmer() \n",
    "        text_stemmed = [stemmer.stem(y) for y in text_filtered]\n",
    "    elif stem == 'Lem':\n",
    "        lem = WordNetLemmatizer()\n",
    "        text_stemmed = [lem.lemmatize(y) for y in text_filtered]\n",
    "    elif stem == 'Spacy':\n",
    "        text_filtered = nlp(' '.join(text_filtered))\n",
    "        text_stemmed = [y.lemma_ for y in text_filtered]\n",
    "    else:\n",
    "        text_stemmed = text_filtered\n",
    "\n",
    "    final_string = ' '.join(text_stemmed)\n",
    "\n",
    "    return final_string\n",
    "        \n",
    "        "
   ]
  },
  {
   "cell_type": "code",
   "execution_count": 41,
   "id": "d1c0a99a",
   "metadata": {},
   "outputs": [],
   "source": [
    "df['clean_description'] = df['description'].apply(lambda x: clean_string(x))\n",
    "df['clean_title'] = df['title'].apply(lambda x: clean_string(x))"
   ]
  },
  {
   "cell_type": "code",
   "execution_count": 56,
   "id": "108eceec",
   "metadata": {},
   "outputs": [
    {
     "ename": "AttributeError",
     "evalue": "'NoneType' object has no attribute 'append'",
     "output_type": "error",
     "traceback": [
      "\u001b[0;31m---------------------------------------------------------------------------\u001b[0m",
      "\u001b[0;31mAttributeError\u001b[0m                            Traceback (most recent call last)",
      "Input \u001b[0;32mIn [56]\u001b[0m, in \u001b[0;36m<cell line: 2>\u001b[0;34m()\u001b[0m\n\u001b[1;32m      1\u001b[0m l\u001b[38;5;241m=\u001b[39m []\n\u001b[1;32m      2\u001b[0m \u001b[38;5;28;01mfor\u001b[39;00m i \u001b[38;5;129;01min\u001b[39;00m np\u001b[38;5;241m.\u001b[39marange(\u001b[38;5;241m0\u001b[39m, df\u001b[38;5;241m.\u001b[39mshape[\u001b[38;5;241m0\u001b[39m]):\n\u001b[0;32m----> 3\u001b[0m     l \u001b[38;5;241m=\u001b[39m \u001b[43ml\u001b[49m\u001b[38;5;241;43m.\u001b[39;49m\u001b[43mappend\u001b[49m(\u001b[38;5;28mlen\u001b[39m(df[\u001b[38;5;124m'\u001b[39m\u001b[38;5;124mclean_description\u001b[39m\u001b[38;5;124m'\u001b[39m][i]\u001b[38;5;241m.\u001b[39msplit()))\n\u001b[1;32m      5\u001b[0m \u001b[38;5;28mprint\u001b[39m(l)\n",
      "\u001b[0;31mAttributeError\u001b[0m: 'NoneType' object has no attribute 'append'"
     ]
    }
   ],
   "source": [
    "l= []\n",
    "for i in np.arange(0, df.shape[0]):\n",
    "    l = l.append(len(df['clean_description'][i].split()))\n",
    "    \n",
    "print(l)"
   ]
  },
  {
   "cell_type": "code",
   "execution_count": 57,
   "id": "ad1e06ae",
   "metadata": {},
   "outputs": [
    {
     "ename": "TypeError",
     "evalue": "'method' object is not iterable",
     "output_type": "error",
     "traceback": [
      "\u001b[0;31m---------------------------------------------------------------------------\u001b[0m",
      "\u001b[0;31mTypeError\u001b[0m                                 Traceback (most recent call last)",
      "Input \u001b[0;32mIn [57]\u001b[0m, in \u001b[0;36m<cell line: 1>\u001b[0;34m()\u001b[0m\n\u001b[0;32m----> 1\u001b[0m \u001b[38;5;28;01mfor\u001b[39;00m col \u001b[38;5;129;01min\u001b[39;00m df\u001b[38;5;241m.\u001b[39miterrows:\n\u001b[1;32m      2\u001b[0m     \u001b[38;5;28mprint\u001b[39m(col)\n",
      "\u001b[0;31mTypeError\u001b[0m: 'method' object is not iterable"
     ]
    }
   ],
   "source": [
    "for col in df.iterrows:\n",
    "    print(col)"
   ]
  },
  {
   "cell_type": "code",
   "execution_count": 51,
   "id": "bcc31cfd",
   "metadata": {},
   "outputs": [
    {
     "data": {
      "text/plain": [
       "1257"
      ]
     },
     "execution_count": 51,
     "metadata": {},
     "output_type": "execute_result"
    }
   ],
   "source": [
    "df.shape[0]"
   ]
  },
  {
   "cell_type": "code",
   "execution_count": 45,
   "id": "0cbcf46f",
   "metadata": {},
   "outputs": [
    {
     "data": {
      "text/plain": [
       "\"The most awaited trip - Seven Rila lakes hike - Bulgaria (Limited group)\\n\\nHighlights\\n\\n* 2 Days hiking ( cable car available)\\n* Stay in huts on top of mountains\\n* Visit Sofia and Plovdiv\\n\\n**Rough Itinerary**\\n\\nFlights from BERLIN are super expensive, so STARTING point of the trip is COLOGNE (Either we reach before night or in the morning-Let's plan with final participants)\\n\\n**Travel dates: 16th June to 20th June - Long weekend**\\n\\n**16th June**\\n\\n* 08:20 - Take flight to Sofia from COLOGNE\\n* 12:00 - Reach Sofia\\n* 13:00 - Reach city center and stop for lunch in Sofia, meanwhile Organizing team will rent a car\\n* 14:00 - Start ride to Sapareva\\n* 16:00 - A small hike and Check-in hotel on the top of the mountains. We will be staying in huts (Dorms or sharing)\\n\\nWe will be exploring the mountain area till evening. Night we make a bonfire and chill (singing, dancing people are most welcome)\\n\\n**17th June - (Hiking-total 15km - 800m uphill) or cable car**\\n\\n* 09:00 - Start to Seven Rila lakes(pack food)\\n* 10:00 - Reach Rila lakes\\n* 11:00 - We going to start hike from base cable car station\\n\\nTill evening, we going to explore the seven rila lakes preserve covering all lakes and skakavitsa waterfall.\\n\\n* 17:00 - Return to Huts\\n\\n**18th June (Hiking - total 16km - 700m uphill) or cable car**\\n\\n* 09:00 - Start to Vitosha National reserver park\\n* 11:00 - Leave luggage in the car and start hike to Vitosha (If people are tired due to first day hiking, they can opt cable car )\\n* Till 15 uhr we going to explore on top of mountains there are several places to visit. See Sofia city from top, source of Struma river etc.,\\n* 17:00 uhr - We return to Sofia, check in Hotel\\n* 20 :00 uhr - Night walk and Dinner at Vistosha area.\\n\\n**19th June - Day trip to Plodiv**\\n\\n* 09:00 - Start ride to Plodiv\\n* Till evening, we will explore the city and return to Sofia at night\\n* 20th June - Sofia\\n* 10:00 - Keep luggage at the hotel and check out.\\n* 10:00 - 13:00 - City walk covering St George church, Cathedral, Synagogue and Vistosha\\n* 13:00 -15:00 - One last Lunch together :)\\n* 20:55 - Flight to Berlin\\n\\n**Cost to the trip:**\\n\\n* Flights (Cologne -> Sofia -> Cologne -> Berlin) - 120 Euro\\n* Accommodation - 60/80/100 Euro or less (4 - Nights)\\n* Transport - Car rental - 80 Euro (3 days) Approx. Depends on number of participants\\n* Organizing expense - 60 Euro\\n\\nI will share all further details(flights, hotels etc.,) in WhatsApp group -\\nPlease join only if you are serious about the trip- https://chat.whatsapp.com/LLUBL9NadfQ19BKikVyN2W\""
      ]
     },
     "execution_count": 45,
     "metadata": {},
     "output_type": "execute_result"
    }
   ],
   "source": [
    "df['description'][1]"
   ]
  },
  {
   "cell_type": "markdown",
   "id": "34ffa0c3",
   "metadata": {},
   "source": [
    "#  recommender combining both title and description"
   ]
  },
  {
   "cell_type": "markdown",
   "id": "90d78d66",
   "metadata": {},
   "source": [
    "## mashup of title and description"
   ]
  },
  {
   "cell_type": "code",
   "execution_count": 19,
   "id": "de9b188b",
   "metadata": {},
   "outputs": [],
   "source": [
    "import random\n",
    "'''this may be a bit dangerous but doing just for fun!!!'''\n",
    "def random_generate_list(x):\n",
    "    names = list(x.split())\n",
    "    random.shuffle(names)\n",
    "    if len(names) > 5:\n",
    "        names = names[:5]\n",
    "            \n",
    "        \n",
    "    return names\n",
    "\n",
    "def random_generate_long_list(x):\n",
    "    names = list(x.split())\n",
    "    random.shuffle(names)\n",
    "    if len(names) > 200:\n",
    "        names = names[:200]\n",
    "            \n",
    "        \n",
    "    return names"
   ]
  },
  {
   "cell_type": "code",
   "execution_count": 20,
   "id": "b7a24497",
   "metadata": {},
   "outputs": [],
   "source": [
    "df['random_title'] = df['clean_title'].apply(lambda x: random_generate_list(x))\n",
    "df['random_description'] = df['clean_description'].apply(lambda x: random_generate_long_list(x))"
   ]
  },
  {
   "cell_type": "code",
   "execution_count": 21,
   "id": "8cb58539",
   "metadata": {},
   "outputs": [
    {
     "data": {
      "text/plain": [
       "['parks',\n",
       " 'paradise',\n",
       " 'slovak',\n",
       " 'high',\n",
       " 'hiking',\n",
       " 'krakow',\n",
       " 'bratislava',\n",
       " 'tatry',\n",
       " 'level',\n",
       " 'fly',\n",
       " 'ideal',\n",
       " 'link',\n",
       " 'kosice',\n",
       " 'direct',\n",
       " 'prague',\n",
       " 'bus',\n",
       " 'bit',\n",
       " 'click',\n",
       " 'poprad',\n",
       " 'airport',\n",
       " 'one',\n",
       " 'flixbus',\n",
       " 'back',\n",
       " 'comfortably',\n",
       " 'infocopyofnewpageyou',\n",
       " 'end',\n",
       " 'walk',\n",
       " 'designed',\n",
       " 'necessarily',\n",
       " 'poprad',\n",
       " 'spend',\n",
       " 'take',\n",
       " 'itinerary',\n",
       " 'poprad',\n",
       " 'done',\n",
       " 'hiking',\n",
       " 'good',\n",
       " 'high',\n",
       " 'physically',\n",
       " 'direct',\n",
       " 'fitness',\n",
       " 'belowtour',\n",
       " 'budapest',\n",
       " 'night',\n",
       " 'tour',\n",
       " 'vienna',\n",
       " 'nature',\n",
       " 'outdoor',\n",
       " 'prices',\n",
       " 'highly',\n",
       " 'tatras',\n",
       " 'fitfor',\n",
       " 'parks',\n",
       " 'hikes',\n",
       " 'people',\n",
       " 'bring',\n",
       " 'accommodation',\n",
       " 'slovak',\n",
       " 'people',\n",
       " 'airport',\n",
       " 'paradise',\n",
       " 'might',\n",
       " 'event',\n",
       " 'day',\n",
       " 'information',\n",
       " 'lovers',\n",
       " 'trains',\n",
       " 'demanding',\n",
       " 'although',\n",
       " 'day',\n",
       " 'national']"
      ]
     },
     "execution_count": 21,
     "metadata": {},
     "output_type": "execute_result"
    }
   ],
   "source": [
    "(' '.join(df[\"random_title\"][0]) + ' ' + ' '.join(df[\"random_description\"][0])).split()"
   ]
  },
  {
   "cell_type": "code",
   "execution_count": 22,
   "id": "5a75619e",
   "metadata": {},
   "outputs": [],
   "source": [
    "def create_soup(x):\n",
    "    soup = (\" \".join(x[\"random_title\"]) + \" \" + \" \".join(x[\"random_description\"])).split()\n",
    "    random.shuffle(soup)\n",
    "    return ' '.join(soup)\n",
    "# df[\"soup\"] = df.apply(create_soup, axis = 1)\n",
    "# df[\"soup\"].head(3)"
   ]
  },
  {
   "cell_type": "code",
   "execution_count": 23,
   "id": "9388708b",
   "metadata": {},
   "outputs": [],
   "source": [
    "df['soup'] = df.apply(create_soup, axis = 1)"
   ]
  },
  {
   "cell_type": "code",
   "execution_count": 24,
   "id": "25379a94",
   "metadata": {},
   "outputs": [
    {
     "data": {
      "text/plain": [
       "'mountains top car june stop singing cable itineraryflights several berlincost hike luggage take sofia june meanwhile euro places lunch going june start exploring top please st car start sharingwe plovdivrough evening organizing people depends 🇧🇬 keep whatsapp mountains vitosha either base bulgaria lakes hotels uhr dinner euro start days church berlin hike explore rila less one till reserver stationtill check vistosha sofia uhr vitosha night accommodation hotel number first walk going small cable people rent car visit days sofia hiking hotel june june city hiking etc city source return mountains reach rila trip flight river reach hiking plan final sofia see make etc evening bonfire cable reach flight opt awaited euro ride night mountain car cologne cologne visit trip lakes hikingtotal till point huts sofia luggage george sapareva sofia organizing area explore super car hike trip rila walk sofia car start join trip morninglets start lakespack national going chill dates last city covering hike dancing evening ride euroi lakes food available day due lunch synagogue top nights berlin starting rila skakavitsa huts grouphighlights explore together plodiv cologne car long struma detailsflights rental seven hotel staying sofia rila top reach uphill group seven return flights check seven leave cologne start june night trip preserve team return'"
      ]
     },
     "execution_count": 24,
     "metadata": {},
     "output_type": "execute_result"
    }
   ],
   "source": [
    "df.soup[1]"
   ]
  },
  {
   "cell_type": "markdown",
   "id": "57cbba7a",
   "metadata": {},
   "source": [
    "## tfidf on clean data"
   ]
  },
  {
   "cell_type": "code",
   "execution_count": 25,
   "id": "09dd9571",
   "metadata": {},
   "outputs": [],
   "source": [
    "from sklearn.feature_extraction.text import TfidfVectorizer, CountVectorizer\n",
    "\n",
    "tfidf = TfidfVectorizer(stop_words=\"english\")"
   ]
  },
  {
   "cell_type": "code",
   "execution_count": 26,
   "id": "fe129670",
   "metadata": {},
   "outputs": [
    {
     "data": {
      "text/plain": [
       "(1257, 9871)"
      ]
     },
     "execution_count": 26,
     "metadata": {},
     "output_type": "execute_result"
    }
   ],
   "source": [
    "tfidf_matrix = tfidf.fit_transform(df[\"soup\"])\n",
    "tfidf_matrix.shape"
   ]
  },
  {
   "cell_type": "code",
   "execution_count": 27,
   "id": "302cb92e",
   "metadata": {},
   "outputs": [],
   "source": [
    "cosine_sim = tfidf_matrix.dot(tfidf_matrix.T)"
   ]
  },
  {
   "cell_type": "code",
   "execution_count": 28,
   "id": "13396afd",
   "metadata": {},
   "outputs": [],
   "source": [
    "title_to_index = pd.Series(df.index, index = df[\"title\"]).drop_duplicates()"
   ]
  },
  {
   "cell_type": "code",
   "execution_count": null,
   "id": "1eb14788",
   "metadata": {},
   "outputs": [],
   "source": []
  },
  {
   "cell_type": "code",
   "execution_count": 29,
   "id": "11d51f51",
   "metadata": {},
   "outputs": [],
   "source": [
    "def content_recommender(title, cosine_sim = cosine_sim, df = df, title_to_index = title_to_index):\n",
    "    '''This recommender finds out 20 closest matches with a given event'''\n",
    "    idx = title_to_index[title]\n",
    "    \n",
    "    sim_scores = list(enumerate(cosine_sim[idx].todense().tolist()[0]))\n",
    "    # list of set [(index, sim score), (index, sim score), ...]\n",
    "    \n",
    "    sim_scores = sorted(sim_scores, key = lambda x: x[1], reverse = True)\n",
    "    # Sort the list of set by sim score, index with highest simlirarity\n",
    "    # Will be at the beginning of the list\n",
    "    \n",
    "    sim_scores = sim_scores[1:21] # top 10 events (first one is our input events so we ignore it)\n",
    "    \n",
    "    sport_indices = [i[0] for i in sim_scores] # we grab the indices of those 10 events\n",
    "    \n",
    "    return df[\"title\"].iloc[sport_indices]"
   ]
  },
  {
   "cell_type": "code",
   "execution_count": 30,
   "id": "f9c51fa6",
   "metadata": {},
   "outputs": [
    {
     "data": {
      "text/plain": [
       "'Adventure in Spain Gran Canaria las Palmas. You will never forget this adventure'"
      ]
     },
     "execution_count": 30,
     "metadata": {},
     "output_type": "execute_result"
    }
   ],
   "source": [
    "df.title[400]"
   ]
  },
  {
   "cell_type": "code",
   "execution_count": 31,
   "id": "61f85338",
   "metadata": {},
   "outputs": [
    {
     "data": {
      "text/plain": [
       "538    WALES Snowdonia Camping and Hiking Adventure W...\n",
       "536    Camping and Hiking in the Peak District. With ...\n",
       "468          Introduction to Wild Camping with BBQ fire.\n",
       "400    Adventure in Spain Gran Canaria las Palmas. Yo...\n",
       "3      Swiss 🇨🇭 Geneva - France 🇫🇷- Mont Blanc (hike ...\n",
       "102    Camping and Hiking in Wales Snowdonia. With BB...\n",
       "23                                            Nature Day\n",
       "28                                            Nature Day\n",
       "24                                           Nature Walk\n",
       "586    Adventure in Spain Canary Islands.  La Palma a...\n",
       "533    Wales Camping and Hiking Adventure - with BBQ ...\n",
       "26     Four Towers: Top-voted hike along rolling hill...\n",
       "100           Camping and Hiking in Wales. With BBQ fire\n",
       "20     Four Towers: Top-voted hike along rolling hill...\n",
       "604              Cycle Ride with English Class & Picnic!\n",
       "606              Cycle Ride with English Class & Picnic!\n",
       "617            Cycle Ride with English Class and Picnic!\n",
       "618            Cycle Ride with English Class and Picnic!\n",
       "40      Italy 🇮🇹- Hiking in Dolomities - Verona & Venice\n",
       "1                   Bulgaria  🇧🇬 - Seven Rila lakes hike\n",
       "Name: title, dtype: object"
      ]
     },
     "execution_count": 31,
     "metadata": {},
     "output_type": "execute_result"
    }
   ],
   "source": [
    "content_recommender(\"Hiking in High Tatras and Slovak Paradise National Parks\")"
   ]
  },
  {
   "cell_type": "markdown",
   "id": "498f7912",
   "metadata": {},
   "source": []
  },
  {
   "cell_type": "code",
   "execution_count": null,
   "id": "3fd8a201",
   "metadata": {},
   "outputs": [],
   "source": []
  },
  {
   "cell_type": "markdown",
   "id": "40d99477",
   "metadata": {},
   "source": [
    "#  recommemder filter for future dates and nearest places "
   ]
  },
  {
   "cell_type": "code",
   "execution_count": 32,
   "id": "beed556b",
   "metadata": {},
   "outputs": [
    {
     "data": {
      "text/html": [
       "<div>\n",
       "<style scoped>\n",
       "    .dataframe tbody tr th:only-of-type {\n",
       "        vertical-align: middle;\n",
       "    }\n",
       "\n",
       "    .dataframe tbody tr th {\n",
       "        vertical-align: top;\n",
       "    }\n",
       "\n",
       "    .dataframe thead th {\n",
       "        text-align: right;\n",
       "    }\n",
       "</style>\n",
       "<table border=\"1\" class=\"dataframe\">\n",
       "  <thead>\n",
       "    <tr style=\"text-align: right;\">\n",
       "      <th></th>\n",
       "      <th>0</th>\n",
       "      <th>1</th>\n",
       "      <th>2</th>\n",
       "      <th>3</th>\n",
       "      <th>4</th>\n",
       "    </tr>\n",
       "  </thead>\n",
       "  <tbody>\n",
       "    <tr>\n",
       "      <th>title</th>\n",
       "      <td>Hiking in High Tatras and Slovak Paradise Nati...</td>\n",
       "      <td>Bulgaria  🇧🇬 - Seven Rila lakes hike</td>\n",
       "      <td>Fairytale Forest: Hike through the mystical la...</td>\n",
       "      <td>Swiss 🇨🇭 Geneva - France 🇫🇷- Mont Blanc (hike ...</td>\n",
       "      <td>Fairytale Forest: Hike through the mystical la...</td>\n",
       "    </tr>\n",
       "    <tr>\n",
       "      <th>description</th>\n",
       "      <td>This event is ideal for nature lovers and outd...</td>\n",
       "      <td>The most awaited trip - Seven Rila lakes hike ...</td>\n",
       "      <td>Discover the mystical sunken birch forest, the...</td>\n",
       "      <td>Trip highlights\\n\\n* Visit Geneva, Chamonix\\n*...</td>\n",
       "      <td>*Discover the mystical sunken birch forest, th...</td>\n",
       "    </tr>\n",
       "    <tr>\n",
       "      <th>event_date</th>\n",
       "      <td>2022-06-10T15:00+02:00</td>\n",
       "      <td>2022-06-16T07:00+02:00</td>\n",
       "      <td>2022-06-05T11:15+02:00</td>\n",
       "      <td>2022-06-04T06:00+02:00</td>\n",
       "      <td>2022-06-18T11:15+02:00</td>\n",
       "    </tr>\n",
       "    <tr>\n",
       "      <th>event_latitude</th>\n",
       "      <td>52.520008</td>\n",
       "      <td>52.520008</td>\n",
       "      <td>52.71254</td>\n",
       "      <td>52.520008</td>\n",
       "      <td>52.71254</td>\n",
       "    </tr>\n",
       "    <tr>\n",
       "      <th>event_longitude</th>\n",
       "      <td>13.404954</td>\n",
       "      <td>13.404954</td>\n",
       "      <td>13.33537</td>\n",
       "      <td>13.404954</td>\n",
       "      <td>13.33537</td>\n",
       "    </tr>\n",
       "    <tr>\n",
       "      <th>description_clean</th>\n",
       "      <td>[this, event, is, ideal, for, nature, lovers, ...</td>\n",
       "      <td>[the, most, awaited, trip, seven, rila, lakes,...</td>\n",
       "      <td>[discover, the, mystical, sunken, birch, fores...</td>\n",
       "      <td>[trip, highlights, visit, geneva, chamonix, hi...</td>\n",
       "      <td>[discover, the, mystical, sunken, birch, fores...</td>\n",
       "    </tr>\n",
       "    <tr>\n",
       "      <th>clean_description</th>\n",
       "      <td>event ideal nature lovers outdoor people hikin...</td>\n",
       "      <td>awaited trip seven rila lakes hike bulgaria li...</td>\n",
       "      <td>discover mystical sunken birch forest valley u...</td>\n",
       "      <td>trip highlights visit geneva chamonix hiking a...</td>\n",
       "      <td>discover mystical sunken birch forest valley u...</td>\n",
       "    </tr>\n",
       "    <tr>\n",
       "      <th>clean_title</th>\n",
       "      <td>hiking high tatras slovak paradise national parks</td>\n",
       "      <td>bulgaria 🇧🇬 seven rila lakes hike</td>\n",
       "      <td>fairytale forest hike mystical landscape bries...</td>\n",
       "      <td>swiss 🇨🇭 geneva france 🇫🇷 mont blanc hike gondola</td>\n",
       "      <td>fairytale forest hike mystical landscape bries...</td>\n",
       "    </tr>\n",
       "    <tr>\n",
       "      <th>random_title</th>\n",
       "      <td>[parks, paradise, slovak, high, hiking]</td>\n",
       "      <td>[rila, seven, hike, 🇧🇬, bulgaria]</td>\n",
       "      <td>[mystical, briesetal, hike, landscape, forest]</td>\n",
       "      <td>[gondola, swiss, 🇨🇭, mont, france]</td>\n",
       "      <td>[hike, landscape, forest, fairytale, briesetal]</td>\n",
       "    </tr>\n",
       "    <tr>\n",
       "      <th>random_description</th>\n",
       "      <td>[krakow, bratislava, tatry, level, fly, ideal,...</td>\n",
       "      <td>[vitosha, berlin, vitosha, hiking, hotel, euro...</td>\n",
       "      <td>[formed, donate, around, ticket, unspoilt, don...</td>\n",
       "      <td>[june, cable, city, water, details, mon, aigui...</td>\n",
       "      <td>[donate, planks, formed, mostly, trip, languag...</td>\n",
       "    </tr>\n",
       "    <tr>\n",
       "      <th>soup</th>\n",
       "      <td>direct might poprad high although belowtour ne...</td>\n",
       "      <td>mountains top car june stop singing cable itin...</td>\n",
       "      <td>natural booking valley forest recharge nature ...</td>\n",
       "      <td>hostel june dont expense cable dates grand vis...</td>\n",
       "      <td>english rsvp hike group quiet easy roads fores...</td>\n",
       "    </tr>\n",
       "  </tbody>\n",
       "</table>\n",
       "</div>"
      ],
      "text/plain": [
       "                                                                    0  \\\n",
       "title               Hiking in High Tatras and Slovak Paradise Nati...   \n",
       "description         This event is ideal for nature lovers and outd...   \n",
       "event_date                                     2022-06-10T15:00+02:00   \n",
       "event_latitude                                              52.520008   \n",
       "event_longitude                                             13.404954   \n",
       "description_clean   [this, event, is, ideal, for, nature, lovers, ...   \n",
       "clean_description   event ideal nature lovers outdoor people hikin...   \n",
       "clean_title         hiking high tatras slovak paradise national parks   \n",
       "random_title                  [parks, paradise, slovak, high, hiking]   \n",
       "random_description  [krakow, bratislava, tatry, level, fly, ideal,...   \n",
       "soup                direct might poprad high although belowtour ne...   \n",
       "\n",
       "                                                                    1  \\\n",
       "title                            Bulgaria  🇧🇬 - Seven Rila lakes hike   \n",
       "description         The most awaited trip - Seven Rila lakes hike ...   \n",
       "event_date                                     2022-06-16T07:00+02:00   \n",
       "event_latitude                                              52.520008   \n",
       "event_longitude                                             13.404954   \n",
       "description_clean   [the, most, awaited, trip, seven, rila, lakes,...   \n",
       "clean_description   awaited trip seven rila lakes hike bulgaria li...   \n",
       "clean_title                         bulgaria 🇧🇬 seven rila lakes hike   \n",
       "random_title                        [rila, seven, hike, 🇧🇬, bulgaria]   \n",
       "random_description  [vitosha, berlin, vitosha, hiking, hotel, euro...   \n",
       "soup                mountains top car june stop singing cable itin...   \n",
       "\n",
       "                                                                    2  \\\n",
       "title               Fairytale Forest: Hike through the mystical la...   \n",
       "description         Discover the mystical sunken birch forest, the...   \n",
       "event_date                                     2022-06-05T11:15+02:00   \n",
       "event_latitude                                               52.71254   \n",
       "event_longitude                                              13.33537   \n",
       "description_clean   [discover, the, mystical, sunken, birch, fores...   \n",
       "clean_description   discover mystical sunken birch forest valley u...   \n",
       "clean_title         fairytale forest hike mystical landscape bries...   \n",
       "random_title           [mystical, briesetal, hike, landscape, forest]   \n",
       "random_description  [formed, donate, around, ticket, unspoilt, don...   \n",
       "soup                natural booking valley forest recharge nature ...   \n",
       "\n",
       "                                                                    3  \\\n",
       "title               Swiss 🇨🇭 Geneva - France 🇫🇷- Mont Blanc (hike ...   \n",
       "description         Trip highlights\\n\\n* Visit Geneva, Chamonix\\n*...   \n",
       "event_date                                     2022-06-04T06:00+02:00   \n",
       "event_latitude                                              52.520008   \n",
       "event_longitude                                             13.404954   \n",
       "description_clean   [trip, highlights, visit, geneva, chamonix, hi...   \n",
       "clean_description   trip highlights visit geneva chamonix hiking a...   \n",
       "clean_title         swiss 🇨🇭 geneva france 🇫🇷 mont blanc hike gondola   \n",
       "random_title                       [gondola, swiss, 🇨🇭, mont, france]   \n",
       "random_description  [june, cable, city, water, details, mon, aigui...   \n",
       "soup                hostel june dont expense cable dates grand vis...   \n",
       "\n",
       "                                                                    4  \n",
       "title               Fairytale Forest: Hike through the mystical la...  \n",
       "description         *Discover the mystical sunken birch forest, th...  \n",
       "event_date                                     2022-06-18T11:15+02:00  \n",
       "event_latitude                                               52.71254  \n",
       "event_longitude                                              13.33537  \n",
       "description_clean   [discover, the, mystical, sunken, birch, fores...  \n",
       "clean_description   discover mystical sunken birch forest valley u...  \n",
       "clean_title         fairytale forest hike mystical landscape bries...  \n",
       "random_title          [hike, landscape, forest, fairytale, briesetal]  \n",
       "random_description  [donate, planks, formed, mostly, trip, languag...  \n",
       "soup                english rsvp hike group quiet easy roads fores...  "
      ]
     },
     "execution_count": 32,
     "metadata": {},
     "output_type": "execute_result"
    }
   ],
   "source": [
    "df.head().T"
   ]
  },
  {
   "cell_type": "code",
   "execution_count": null,
   "id": "a3d46ad8",
   "metadata": {},
   "outputs": [],
   "source": []
  },
  {
   "cell_type": "markdown",
   "id": "e61226fd",
   "metadata": {},
   "source": []
  },
  {
   "cell_type": "markdown",
   "id": "7f30f6bf",
   "metadata": {},
   "source": [
    "# package installations"
   ]
  },
  {
   "cell_type": "code",
   "execution_count": 37,
   "id": "cecfcf2f",
   "metadata": {},
   "outputs": [],
   "source": [
    "from googletrans import Translator\n",
    "translator = Translator()\n",
    "result = translator.translate('안녕하세요.')"
   ]
  },
  {
   "cell_type": "code",
   "execution_count": 38,
   "id": "cb6f46bb",
   "metadata": {},
   "outputs": [
    {
     "data": {
      "text/plain": [
       "'hello.'"
      ]
     },
     "execution_count": 38,
     "metadata": {},
     "output_type": "execute_result"
    }
   ],
   "source": [
    "result.text"
   ]
  },
  {
   "cell_type": "code",
   "execution_count": null,
   "id": "6afc835c",
   "metadata": {},
   "outputs": [],
   "source": [
    "deu_text = 'hallo ich bin Shreetama'"
   ]
  },
  {
   "cell_type": "code",
   "execution_count": 39,
   "id": "f524500c",
   "metadata": {},
   "outputs": [
    {
     "ename": "NameError",
     "evalue": "name 'deu_test' is not defined",
     "output_type": "error",
     "traceback": [
      "\u001b[0;31m---------------------------------------------------------------------------\u001b[0m",
      "\u001b[0;31mNameError\u001b[0m                                 Traceback (most recent call last)",
      "Input \u001b[0;32mIn [39]\u001b[0m, in \u001b[0;36m<cell line: 1>\u001b[0;34m()\u001b[0m\n\u001b[0;32m----> 1\u001b[0m \u001b[43mdeu_test\u001b[49m\u001b[38;5;241m.\u001b[39mdest\n",
      "\u001b[0;31mNameError\u001b[0m: name 'deu_test' is not defined"
     ]
    }
   ],
   "source": [
    "deu_test.dest"
   ]
  },
  {
   "cell_type": "code",
   "execution_count": null,
   "id": "f8b5cf5e",
   "metadata": {},
   "outputs": [],
   "source": []
  },
  {
   "cell_type": "code",
   "execution_count": null,
   "id": "d18a73e0",
   "metadata": {},
   "outputs": [],
   "source": []
  },
  {
   "cell_type": "code",
   "execution_count": null,
   "id": "f7af1ad9",
   "metadata": {},
   "outputs": [],
   "source": []
  },
  {
   "cell_type": "markdown",
   "id": "ad648f35",
   "metadata": {},
   "source": []
  },
  {
   "cell_type": "code",
   "execution_count": null,
   "id": "eead4081",
   "metadata": {},
   "outputs": [],
   "source": []
  },
  {
   "cell_type": "code",
   "execution_count": null,
   "id": "a6ece3cd",
   "metadata": {},
   "outputs": [],
   "source": []
  },
  {
   "cell_type": "code",
   "execution_count": null,
   "id": "2a1a33f7",
   "metadata": {},
   "outputs": [],
   "source": []
  },
  {
   "cell_type": "code",
   "execution_count": null,
   "id": "1673bc22",
   "metadata": {},
   "outputs": [],
   "source": []
  },
  {
   "cell_type": "markdown",
   "id": "27f518a8",
   "metadata": {},
   "source": []
  },
  {
   "cell_type": "code",
   "execution_count": null,
   "id": "ee35009a",
   "metadata": {},
   "outputs": [],
   "source": []
  },
  {
   "cell_type": "code",
   "execution_count": null,
   "id": "bef611f3",
   "metadata": {},
   "outputs": [],
   "source": []
  },
  {
   "cell_type": "code",
   "execution_count": null,
   "id": "fb2e0c09",
   "metadata": {},
   "outputs": [],
   "source": []
  }
 ],
 "metadata": {
  "kernelspec": {
   "display_name": "Python 3 (ipykernel)",
   "language": "python",
   "name": "python3"
  },
  "language_info": {
   "codemirror_mode": {
    "name": "ipython",
    "version": 3
   },
   "file_extension": ".py",
   "mimetype": "text/x-python",
   "name": "python",
   "nbconvert_exporter": "python",
   "pygments_lexer": "ipython3",
   "version": "3.8.13"
  },
  "toc": {
   "base_numbering": 1,
   "nav_menu": {},
   "number_sections": true,
   "sideBar": true,
   "skip_h1_title": false,
   "title_cell": "Table of Contents",
   "title_sidebar": "Contents",
   "toc_cell": false,
   "toc_position": {},
   "toc_section_display": true,
   "toc_window_display": false
  }
 },
 "nbformat": 4,
 "nbformat_minor": 5
}
