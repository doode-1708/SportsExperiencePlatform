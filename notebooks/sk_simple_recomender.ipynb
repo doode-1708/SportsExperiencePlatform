{
 "cells": [
  {
   "cell_type": "markdown",
   "id": "e30b4f55",
   "metadata": {},
   "source": [
    "# importing data from database"
   ]
  },
  {
   "cell_type": "code",
   "execution_count": 1,
   "id": "f24eedd9",
   "metadata": {},
   "outputs": [],
   "source": [
    "import numpy as np\n",
    "import pandas as pd\n",
    "from SportsExperiencePlatform.data import connect_db, get_data\n",
    "import nltk\n",
    "from nltk.corpus import stopwords\n",
    "from nltk.tokenize import word_tokenize\n",
    "from nltk.stem import WordNetLemmatizer\n",
    "import string\n",
    "from sklearn.feature_extraction.text import TfidfVectorizer, CountVectorizer\n",
    "from scipy.sparse import save_npz, load_npz"
   ]
  },
  {
   "cell_type": "code",
   "execution_count": 2,
   "id": "497125d6",
   "metadata": {},
   "outputs": [],
   "source": [
    "# nltk.download('stopwords')\n",
    "# nltk.download('punkt')\n",
    "# nltk.download('wordnet')\n",
    "# nltk.download('omw-1.4')"
   ]
  },
  {
   "cell_type": "code",
   "execution_count": 3,
   "id": "15cb4996",
   "metadata": {},
   "outputs": [
    {
     "name": "stderr",
     "output_type": "stream",
     "text": [
      "/Users/shreetamakarmakar/.pyenv/versions/3.8.13/envs/SportsExperiencePlatform/lib/python3.8/site-packages/pandas/io/sql.py:761: UserWarning: pandas only support SQLAlchemy connectable(engine/connection) ordatabase string URI or sqlite3 DBAPI2 connectionother DBAPI2 objects are not tested, please consider using SQLAlchemy\n",
      "  warnings.warn(\n",
      "/Users/shreetamakarmakar/.pyenv/versions/3.8.13/envs/SportsExperiencePlatform/lib/python3.8/site-packages/pandas/io/sql.py:761: UserWarning: pandas only support SQLAlchemy connectable(engine/connection) ordatabase string URI or sqlite3 DBAPI2 connectionother DBAPI2 objects are not tested, please consider using SQLAlchemy\n",
      "  warnings.warn(\n",
      "/Users/shreetamakarmakar/.pyenv/versions/3.8.13/envs/SportsExperiencePlatform/lib/python3.8/site-packages/pandas/io/sql.py:761: UserWarning: pandas only support SQLAlchemy connectable(engine/connection) ordatabase string URI or sqlite3 DBAPI2 connectionother DBAPI2 objects are not tested, please consider using SQLAlchemy\n",
      "  warnings.warn(\n"
     ]
    }
   ],
   "source": [
    "conn = connect_db()\n",
    "\n",
    "if conn:\n",
    "    users_df, events_df, ahoy_events_df = get_data(conn)"
   ]
  },
  {
   "cell_type": "code",
   "execution_count": 4,
   "id": "265479b4",
   "metadata": {},
   "outputs": [
    {
     "data": {
      "text/plain": [
       "((11, 16), (882, 17), (31, 6))"
      ]
     },
     "execution_count": 4,
     "metadata": {},
     "output_type": "execute_result"
    }
   ],
   "source": [
    "users_df.shape, events_df.shape, ahoy_events_df.shape"
   ]
  },
  {
   "cell_type": "code",
   "execution_count": 5,
   "id": "6a4c06ac",
   "metadata": {},
   "outputs": [
    {
     "data": {
      "text/plain": [
       "Index(['id', 'email', 'encrypted_password', 'reset_password_token',\n",
       "       'reset_password_sent_at', 'remember_created_at', 'created_at',\n",
       "       'updated_at', 'first_name', 'last_name', 'description', 'date_of_birth',\n",
       "       'gender', 'location', 'latitude', 'longitude'],\n",
       "      dtype='object')"
      ]
     },
     "execution_count": 5,
     "metadata": {},
     "output_type": "execute_result"
    }
   ],
   "source": [
    "users_df.columns"
   ]
  },
  {
   "cell_type": "code",
   "execution_count": 6,
   "id": "11997f05",
   "metadata": {},
   "outputs": [
    {
     "data": {
      "text/html": [
       "<div>\n",
       "<style scoped>\n",
       "    .dataframe tbody tr th:only-of-type {\n",
       "        vertical-align: middle;\n",
       "    }\n",
       "\n",
       "    .dataframe tbody tr th {\n",
       "        vertical-align: top;\n",
       "    }\n",
       "\n",
       "    .dataframe thead th {\n",
       "        text-align: right;\n",
       "    }\n",
       "</style>\n",
       "<table border=\"1\" class=\"dataframe\">\n",
       "  <thead>\n",
       "    <tr style=\"text-align: right;\">\n",
       "      <th></th>\n",
       "      <th>location</th>\n",
       "      <th>latitude</th>\n",
       "      <th>longitude</th>\n",
       "    </tr>\n",
       "  </thead>\n",
       "  <tbody>\n",
       "    <tr>\n",
       "      <th>0</th>\n",
       "      <td>Munich</td>\n",
       "      <td>48.135124</td>\n",
       "      <td>11.581981</td>\n",
       "    </tr>\n",
       "    <tr>\n",
       "      <th>1</th>\n",
       "      <td>Berlin</td>\n",
       "      <td>52.520008</td>\n",
       "      <td>13.404954</td>\n",
       "    </tr>\n",
       "    <tr>\n",
       "      <th>2</th>\n",
       "      <td>Berlin</td>\n",
       "      <td>52.520008</td>\n",
       "      <td>13.404954</td>\n",
       "    </tr>\n",
       "    <tr>\n",
       "      <th>3</th>\n",
       "      <td>Hamburg</td>\n",
       "      <td>53.551086</td>\n",
       "      <td>9.993682</td>\n",
       "    </tr>\n",
       "    <tr>\n",
       "      <th>4</th>\n",
       "      <td>Cologne</td>\n",
       "      <td>50.937531</td>\n",
       "      <td>6.960279</td>\n",
       "    </tr>\n",
       "    <tr>\n",
       "      <th>5</th>\n",
       "      <td>Cologne</td>\n",
       "      <td>50.937531</td>\n",
       "      <td>6.960279</td>\n",
       "    </tr>\n",
       "    <tr>\n",
       "      <th>6</th>\n",
       "      <td>Stuttgart</td>\n",
       "      <td>48.775845</td>\n",
       "      <td>9.182932</td>\n",
       "    </tr>\n",
       "    <tr>\n",
       "      <th>7</th>\n",
       "      <td>None</td>\n",
       "      <td>NaN</td>\n",
       "      <td>NaN</td>\n",
       "    </tr>\n",
       "    <tr>\n",
       "      <th>8</th>\n",
       "      <td>None</td>\n",
       "      <td>NaN</td>\n",
       "      <td>NaN</td>\n",
       "    </tr>\n",
       "    <tr>\n",
       "      <th>9</th>\n",
       "      <td>Hamburg</td>\n",
       "      <td>53.551086</td>\n",
       "      <td>9.993682</td>\n",
       "    </tr>\n",
       "    <tr>\n",
       "      <th>10</th>\n",
       "      <td>Berlin</td>\n",
       "      <td>52.520008</td>\n",
       "      <td>13.404954</td>\n",
       "    </tr>\n",
       "  </tbody>\n",
       "</table>\n",
       "</div>"
      ],
      "text/plain": [
       "     location   latitude  longitude\n",
       "0      Munich  48.135124  11.581981\n",
       "1      Berlin  52.520008  13.404954\n",
       "2      Berlin  52.520008  13.404954\n",
       "3     Hamburg  53.551086   9.993682\n",
       "4     Cologne  50.937531   6.960279\n",
       "5     Cologne  50.937531   6.960279\n",
       "6   Stuttgart  48.775845   9.182932\n",
       "7        None        NaN        NaN\n",
       "8        None        NaN        NaN\n",
       "9     Hamburg  53.551086   9.993682\n",
       "10     Berlin  52.520008  13.404954"
      ]
     },
     "execution_count": 6,
     "metadata": {},
     "output_type": "execute_result"
    }
   ],
   "source": [
    "user_loc_df = users_df[['location','latitude','longitude']]\n",
    "user_loc_df.head(15)"
   ]
  },
  {
   "cell_type": "code",
   "execution_count": 7,
   "id": "f1261a7b",
   "metadata": {},
   "outputs": [],
   "source": [
    "users_df.at[8, 'location'] = 'Berlin'"
   ]
  },
  {
   "cell_type": "code",
   "execution_count": 8,
   "id": "fbf7c6e3",
   "metadata": {},
   "outputs": [],
   "source": [
    "users_df.at[8, 'latitude'] = 52.520008 \n",
    "users_df.at[8, 'longitude'] = 13.404954\n",
    "users_df.at[11, 'location'] = 'Berlin'\n",
    "users_df.at[11, 'location'] = 'Berlin'\n",
    "users_df.at[11, 'latitude'] = 52.520008 \n",
    "users_df.at[11, 'longitude'] = 13.404954\n",
    "users_df.at[10, 'location'] = 'Berlin'\n",
    "users_df.at[10, 'latitude'] = 52.520008 \n",
    "users_df.at[10, 'longitude'] = 13.404954"
   ]
  },
  {
   "cell_type": "code",
   "execution_count": 9,
   "id": "29bc8346",
   "metadata": {},
   "outputs": [
    {
     "data": {
      "text/html": [
       "<div>\n",
       "<style scoped>\n",
       "    .dataframe tbody tr th:only-of-type {\n",
       "        vertical-align: middle;\n",
       "    }\n",
       "\n",
       "    .dataframe tbody tr th {\n",
       "        vertical-align: top;\n",
       "    }\n",
       "\n",
       "    .dataframe thead th {\n",
       "        text-align: right;\n",
       "    }\n",
       "</style>\n",
       "<table border=\"1\" class=\"dataframe\">\n",
       "  <thead>\n",
       "    <tr style=\"text-align: right;\">\n",
       "      <th></th>\n",
       "      <th>id</th>\n",
       "      <th>email</th>\n",
       "      <th>encrypted_password</th>\n",
       "      <th>reset_password_token</th>\n",
       "      <th>reset_password_sent_at</th>\n",
       "      <th>remember_created_at</th>\n",
       "      <th>created_at</th>\n",
       "      <th>updated_at</th>\n",
       "      <th>first_name</th>\n",
       "      <th>last_name</th>\n",
       "      <th>description</th>\n",
       "      <th>date_of_birth</th>\n",
       "      <th>gender</th>\n",
       "      <th>location</th>\n",
       "      <th>latitude</th>\n",
       "      <th>longitude</th>\n",
       "    </tr>\n",
       "  </thead>\n",
       "  <tbody>\n",
       "    <tr>\n",
       "      <th>0</th>\n",
       "      <td>55.0</td>\n",
       "      <td>johanna@gmail.com</td>\n",
       "      <td>$2a$12$CqtujmUxnctn4PYh/LQ7Yen4N9zGBa8mAkW5lJk...</td>\n",
       "      <td>None</td>\n",
       "      <td>None</td>\n",
       "      <td>NaT</td>\n",
       "      <td>2022-05-28 12:26:38.267750</td>\n",
       "      <td>2022-05-28 12:26:38.283275</td>\n",
       "      <td>Johanna</td>\n",
       "      <td>Maier</td>\n",
       "      <td>Hi, my name is Johanna! I want to go on my nex...</td>\n",
       "      <td>1993-01-25</td>\n",
       "      <td>female</td>\n",
       "      <td>Munich</td>\n",
       "      <td>48.135124</td>\n",
       "      <td>11.581981</td>\n",
       "    </tr>\n",
       "    <tr>\n",
       "      <th>1</th>\n",
       "      <td>56.0</td>\n",
       "      <td>anjali@gmail.com</td>\n",
       "      <td>$2a$12$zoaJySL5quI21u316oCrzuwLap5n3iaoJoFEt8O...</td>\n",
       "      <td>None</td>\n",
       "      <td>None</td>\n",
       "      <td>NaT</td>\n",
       "      <td>2022-05-28 12:26:39.191914</td>\n",
       "      <td>2022-05-28 12:26:39.203232</td>\n",
       "      <td>Anjali</td>\n",
       "      <td>Kumar</td>\n",
       "      <td>Hi, my name is Anjali! I want to go on my next...</td>\n",
       "      <td>1993-01-25</td>\n",
       "      <td>female</td>\n",
       "      <td>Berlin</td>\n",
       "      <td>52.520008</td>\n",
       "      <td>13.404954</td>\n",
       "    </tr>\n",
       "    <tr>\n",
       "      <th>2</th>\n",
       "      <td>57.0</td>\n",
       "      <td>alexandra@gmail.com</td>\n",
       "      <td>$2a$12$EFJExS3e79KnS1Sj5SU7iuA0oE4Fe3cghnIcWCj...</td>\n",
       "      <td>None</td>\n",
       "      <td>None</td>\n",
       "      <td>NaT</td>\n",
       "      <td>2022-05-28 12:26:40.648549</td>\n",
       "      <td>2022-05-28 12:26:40.656142</td>\n",
       "      <td>Alexandra</td>\n",
       "      <td>Stroe</td>\n",
       "      <td>Hi, my name is Alexandra! I want to go on my n...</td>\n",
       "      <td>1993-01-25</td>\n",
       "      <td>female</td>\n",
       "      <td>Berlin</td>\n",
       "      <td>52.520008</td>\n",
       "      <td>13.404954</td>\n",
       "    </tr>\n",
       "    <tr>\n",
       "      <th>3</th>\n",
       "      <td>58.0</td>\n",
       "      <td>ieva@gmail.com</td>\n",
       "      <td>$2a$12$2KfdqVXZIU7RbiktQW1GAuaBnIcIfHBSc68kwWc...</td>\n",
       "      <td>None</td>\n",
       "      <td>None</td>\n",
       "      <td>NaT</td>\n",
       "      <td>2022-05-28 12:26:41.476255</td>\n",
       "      <td>2022-05-28 12:26:41.484819</td>\n",
       "      <td>Ieva</td>\n",
       "      <td>Jirgensone</td>\n",
       "      <td>Hi, my name is Ieva! I want to go on my next s...</td>\n",
       "      <td>1993-01-25</td>\n",
       "      <td>female</td>\n",
       "      <td>Hamburg</td>\n",
       "      <td>53.551086</td>\n",
       "      <td>9.993682</td>\n",
       "    </tr>\n",
       "    <tr>\n",
       "      <th>4</th>\n",
       "      <td>61.0</td>\n",
       "      <td>shreetama@gmail.com</td>\n",
       "      <td>$2a$12$Y3BZQdV7MhHLkHWNjXNI2.0/xszGFofvoLFtvwq...</td>\n",
       "      <td>None</td>\n",
       "      <td>None</td>\n",
       "      <td>NaT</td>\n",
       "      <td>2022-05-28 12:26:43.898237</td>\n",
       "      <td>2022-05-28 12:26:43.910509</td>\n",
       "      <td>Shreetama</td>\n",
       "      <td>Karmakar</td>\n",
       "      <td>Hi, my name is Shreetama! I want to go on my n...</td>\n",
       "      <td>1993-01-25</td>\n",
       "      <td>female</td>\n",
       "      <td>Cologne</td>\n",
       "      <td>50.937531</td>\n",
       "      <td>6.960279</td>\n",
       "    </tr>\n",
       "    <tr>\n",
       "      <th>5</th>\n",
       "      <td>62.0</td>\n",
       "      <td>andrew@gmail.com</td>\n",
       "      <td>$2a$12$WQNQrH8cu5Pmvk228dOzCONyjixPUEhV.snxt1j...</td>\n",
       "      <td>None</td>\n",
       "      <td>None</td>\n",
       "      <td>NaT</td>\n",
       "      <td>2022-05-28 12:26:44.867437</td>\n",
       "      <td>2022-05-28 12:26:44.878280</td>\n",
       "      <td>Andrew</td>\n",
       "      <td>Erlanger</td>\n",
       "      <td>Hi, my name is Andrew! I want to go on my next...</td>\n",
       "      <td>1993-01-25</td>\n",
       "      <td>male</td>\n",
       "      <td>Cologne</td>\n",
       "      <td>50.937531</td>\n",
       "      <td>6.960279</td>\n",
       "    </tr>\n",
       "    <tr>\n",
       "      <th>6</th>\n",
       "      <td>63.0</td>\n",
       "      <td>killian@gmail.com</td>\n",
       "      <td>$2a$12$EGWPW0BWsJk07er5uGiXjeNaLFqubjkIvSaq6VS...</td>\n",
       "      <td>None</td>\n",
       "      <td>None</td>\n",
       "      <td>NaT</td>\n",
       "      <td>2022-05-28 12:26:45.774583</td>\n",
       "      <td>2022-05-28 12:26:45.784615</td>\n",
       "      <td>Killian</td>\n",
       "      <td>Dectot</td>\n",
       "      <td>Hi, my name is Killian! I want to go on my nex...</td>\n",
       "      <td>1993-01-25</td>\n",
       "      <td>male</td>\n",
       "      <td>Stuttgart</td>\n",
       "      <td>48.775845</td>\n",
       "      <td>9.182932</td>\n",
       "    </tr>\n",
       "    <tr>\n",
       "      <th>7</th>\n",
       "      <td>64.0</td>\n",
       "      <td>shreetama1985@gmail.com</td>\n",
       "      <td>$2a$12$8O0AVmviqFX4G.eP/ual6uGUfv6wiq3C5Y.5VcS...</td>\n",
       "      <td>None</td>\n",
       "      <td>None</td>\n",
       "      <td>NaT</td>\n",
       "      <td>2022-05-28 13:37:08.002699</td>\n",
       "      <td>2022-05-28 13:37:08.002699</td>\n",
       "      <td>Shreetama</td>\n",
       "      <td>Karmakar</td>\n",
       "      <td>None</td>\n",
       "      <td>None</td>\n",
       "      <td>None</td>\n",
       "      <td>None</td>\n",
       "      <td>NaN</td>\n",
       "      <td>NaN</td>\n",
       "    </tr>\n",
       "    <tr>\n",
       "      <th>8</th>\n",
       "      <td>65.0</td>\n",
       "      <td>rpadev7@yahoo.com</td>\n",
       "      <td>$2a$12$MdWAEIjH9EyMqA6dg5Xz8e5DuUlOkGN.nR2PH9d...</td>\n",
       "      <td>None</td>\n",
       "      <td>None</td>\n",
       "      <td>NaT</td>\n",
       "      <td>2022-06-04 08:04:14.868248</td>\n",
       "      <td>2022-06-04 08:04:14.868248</td>\n",
       "      <td>Julian</td>\n",
       "      <td>Mühlbauer</td>\n",
       "      <td>None</td>\n",
       "      <td>None</td>\n",
       "      <td>None</td>\n",
       "      <td>Berlin</td>\n",
       "      <td>52.520008</td>\n",
       "      <td>13.404954</td>\n",
       "    </tr>\n",
       "    <tr>\n",
       "      <th>9</th>\n",
       "      <td>60.0</td>\n",
       "      <td>julian@gmail.com</td>\n",
       "      <td>$2a$12$JaT8SCjL4GJ4gokRU/GO5.1YpDCt00/GwNj8ChD...</td>\n",
       "      <td>None</td>\n",
       "      <td>None</td>\n",
       "      <td>2022-06-04 15:51:57.870746</td>\n",
       "      <td>2022-05-28 12:26:43.051327</td>\n",
       "      <td>2022-06-04 15:51:57.871148</td>\n",
       "      <td>Julian</td>\n",
       "      <td>Muhlbauer</td>\n",
       "      <td>Hi, my name is Julian! I want to go on my next...</td>\n",
       "      <td>1993-01-25</td>\n",
       "      <td>male</td>\n",
       "      <td>Hamburg</td>\n",
       "      <td>53.551086</td>\n",
       "      <td>9.993682</td>\n",
       "    </tr>\n",
       "    <tr>\n",
       "      <th>10</th>\n",
       "      <td>59.0</td>\n",
       "      <td>daniel@gmail.com</td>\n",
       "      <td>$2a$12$/DCExarGzhiUF8AS44/Tt.5P4SLPySCFgkqStUW...</td>\n",
       "      <td>None</td>\n",
       "      <td>None</td>\n",
       "      <td>NaT</td>\n",
       "      <td>2022-05-28 12:26:42.260631</td>\n",
       "      <td>2022-05-28 12:26:42.268129</td>\n",
       "      <td>Daniel</td>\n",
       "      <td>Angerer</td>\n",
       "      <td>Hi, my name is Daniel! I want to go on my next...</td>\n",
       "      <td>1993-01-25</td>\n",
       "      <td>male</td>\n",
       "      <td>Berlin</td>\n",
       "      <td>52.520008</td>\n",
       "      <td>13.404954</td>\n",
       "    </tr>\n",
       "    <tr>\n",
       "      <th>11</th>\n",
       "      <td>NaN</td>\n",
       "      <td>NaN</td>\n",
       "      <td>NaN</td>\n",
       "      <td>NaN</td>\n",
       "      <td>NaN</td>\n",
       "      <td>NaT</td>\n",
       "      <td>NaT</td>\n",
       "      <td>NaT</td>\n",
       "      <td>NaN</td>\n",
       "      <td>NaN</td>\n",
       "      <td>NaN</td>\n",
       "      <td>NaN</td>\n",
       "      <td>NaN</td>\n",
       "      <td>Berlin</td>\n",
       "      <td>52.520008</td>\n",
       "      <td>13.404954</td>\n",
       "    </tr>\n",
       "  </tbody>\n",
       "</table>\n",
       "</div>"
      ],
      "text/plain": [
       "      id                    email  \\\n",
       "0   55.0        johanna@gmail.com   \n",
       "1   56.0         anjali@gmail.com   \n",
       "2   57.0      alexandra@gmail.com   \n",
       "3   58.0           ieva@gmail.com   \n",
       "4   61.0      shreetama@gmail.com   \n",
       "5   62.0         andrew@gmail.com   \n",
       "6   63.0        killian@gmail.com   \n",
       "7   64.0  shreetama1985@gmail.com   \n",
       "8   65.0        rpadev7@yahoo.com   \n",
       "9   60.0         julian@gmail.com   \n",
       "10  59.0         daniel@gmail.com   \n",
       "11   NaN                      NaN   \n",
       "\n",
       "                                   encrypted_password reset_password_token  \\\n",
       "0   $2a$12$CqtujmUxnctn4PYh/LQ7Yen4N9zGBa8mAkW5lJk...                 None   \n",
       "1   $2a$12$zoaJySL5quI21u316oCrzuwLap5n3iaoJoFEt8O...                 None   \n",
       "2   $2a$12$EFJExS3e79KnS1Sj5SU7iuA0oE4Fe3cghnIcWCj...                 None   \n",
       "3   $2a$12$2KfdqVXZIU7RbiktQW1GAuaBnIcIfHBSc68kwWc...                 None   \n",
       "4   $2a$12$Y3BZQdV7MhHLkHWNjXNI2.0/xszGFofvoLFtvwq...                 None   \n",
       "5   $2a$12$WQNQrH8cu5Pmvk228dOzCONyjixPUEhV.snxt1j...                 None   \n",
       "6   $2a$12$EGWPW0BWsJk07er5uGiXjeNaLFqubjkIvSaq6VS...                 None   \n",
       "7   $2a$12$8O0AVmviqFX4G.eP/ual6uGUfv6wiq3C5Y.5VcS...                 None   \n",
       "8   $2a$12$MdWAEIjH9EyMqA6dg5Xz8e5DuUlOkGN.nR2PH9d...                 None   \n",
       "9   $2a$12$JaT8SCjL4GJ4gokRU/GO5.1YpDCt00/GwNj8ChD...                 None   \n",
       "10  $2a$12$/DCExarGzhiUF8AS44/Tt.5P4SLPySCFgkqStUW...                 None   \n",
       "11                                                NaN                  NaN   \n",
       "\n",
       "   reset_password_sent_at        remember_created_at  \\\n",
       "0                    None                        NaT   \n",
       "1                    None                        NaT   \n",
       "2                    None                        NaT   \n",
       "3                    None                        NaT   \n",
       "4                    None                        NaT   \n",
       "5                    None                        NaT   \n",
       "6                    None                        NaT   \n",
       "7                    None                        NaT   \n",
       "8                    None                        NaT   \n",
       "9                    None 2022-06-04 15:51:57.870746   \n",
       "10                   None                        NaT   \n",
       "11                    NaN                        NaT   \n",
       "\n",
       "                   created_at                 updated_at first_name  \\\n",
       "0  2022-05-28 12:26:38.267750 2022-05-28 12:26:38.283275    Johanna   \n",
       "1  2022-05-28 12:26:39.191914 2022-05-28 12:26:39.203232     Anjali   \n",
       "2  2022-05-28 12:26:40.648549 2022-05-28 12:26:40.656142  Alexandra   \n",
       "3  2022-05-28 12:26:41.476255 2022-05-28 12:26:41.484819       Ieva   \n",
       "4  2022-05-28 12:26:43.898237 2022-05-28 12:26:43.910509  Shreetama   \n",
       "5  2022-05-28 12:26:44.867437 2022-05-28 12:26:44.878280     Andrew   \n",
       "6  2022-05-28 12:26:45.774583 2022-05-28 12:26:45.784615    Killian   \n",
       "7  2022-05-28 13:37:08.002699 2022-05-28 13:37:08.002699  Shreetama   \n",
       "8  2022-06-04 08:04:14.868248 2022-06-04 08:04:14.868248     Julian   \n",
       "9  2022-05-28 12:26:43.051327 2022-06-04 15:51:57.871148     Julian   \n",
       "10 2022-05-28 12:26:42.260631 2022-05-28 12:26:42.268129     Daniel   \n",
       "11                        NaT                        NaT        NaN   \n",
       "\n",
       "     last_name                                        description  \\\n",
       "0        Maier  Hi, my name is Johanna! I want to go on my nex...   \n",
       "1        Kumar  Hi, my name is Anjali! I want to go on my next...   \n",
       "2        Stroe  Hi, my name is Alexandra! I want to go on my n...   \n",
       "3   Jirgensone  Hi, my name is Ieva! I want to go on my next s...   \n",
       "4     Karmakar  Hi, my name is Shreetama! I want to go on my n...   \n",
       "5     Erlanger  Hi, my name is Andrew! I want to go on my next...   \n",
       "6       Dectot  Hi, my name is Killian! I want to go on my nex...   \n",
       "7     Karmakar                                               None   \n",
       "8    Mühlbauer                                               None   \n",
       "9    Muhlbauer  Hi, my name is Julian! I want to go on my next...   \n",
       "10     Angerer  Hi, my name is Daniel! I want to go on my next...   \n",
       "11         NaN                                                NaN   \n",
       "\n",
       "   date_of_birth  gender   location   latitude  longitude  \n",
       "0     1993-01-25  female     Munich  48.135124  11.581981  \n",
       "1     1993-01-25  female     Berlin  52.520008  13.404954  \n",
       "2     1993-01-25  female     Berlin  52.520008  13.404954  \n",
       "3     1993-01-25  female    Hamburg  53.551086   9.993682  \n",
       "4     1993-01-25  female    Cologne  50.937531   6.960279  \n",
       "5     1993-01-25    male    Cologne  50.937531   6.960279  \n",
       "6     1993-01-25    male  Stuttgart  48.775845   9.182932  \n",
       "7           None    None       None        NaN        NaN  \n",
       "8           None    None     Berlin  52.520008  13.404954  \n",
       "9     1993-01-25    male    Hamburg  53.551086   9.993682  \n",
       "10    1993-01-25    male     Berlin  52.520008  13.404954  \n",
       "11           NaN     NaN     Berlin  52.520008  13.404954  "
      ]
     },
     "execution_count": 9,
     "metadata": {},
     "output_type": "execute_result"
    }
   ],
   "source": [
    "users_df.head(15)"
   ]
  },
  {
   "cell_type": "code",
   "execution_count": 10,
   "id": "a348ae09",
   "metadata": {},
   "outputs": [
    {
     "data": {
      "text/plain": [
       "(31, 6)"
      ]
     },
     "execution_count": 10,
     "metadata": {},
     "output_type": "execute_result"
    }
   ],
   "source": [
    "ahoy_events_df.shape"
   ]
  },
  {
   "cell_type": "code",
   "execution_count": 11,
   "id": "43797391",
   "metadata": {},
   "outputs": [
    {
     "data": {
      "text/plain": [
       "array([64, 55, 65, 60, 56, 59])"
      ]
     },
     "execution_count": 11,
     "metadata": {},
     "output_type": "execute_result"
    }
   ],
   "source": [
    "ahoy_events_df.user_id.unique()"
   ]
  },
  {
   "cell_type": "code",
   "execution_count": 12,
   "id": "41c5e653",
   "metadata": {},
   "outputs": [
    {
     "data": {
      "text/html": [
       "<div>\n",
       "<style scoped>\n",
       "    .dataframe tbody tr th:only-of-type {\n",
       "        vertical-align: middle;\n",
       "    }\n",
       "\n",
       "    .dataframe tbody tr th {\n",
       "        vertical-align: top;\n",
       "    }\n",
       "\n",
       "    .dataframe thead th {\n",
       "        text-align: right;\n",
       "    }\n",
       "</style>\n",
       "<table border=\"1\" class=\"dataframe\">\n",
       "  <thead>\n",
       "    <tr style=\"text-align: right;\">\n",
       "      <th></th>\n",
       "      <th>id</th>\n",
       "      <th>visit_id</th>\n",
       "      <th>user_id</th>\n",
       "      <th>name</th>\n",
       "      <th>properties</th>\n",
       "      <th>time</th>\n",
       "    </tr>\n",
       "  </thead>\n",
       "  <tbody>\n",
       "    <tr>\n",
       "      <th>0</th>\n",
       "      <td>12</td>\n",
       "      <td>51</td>\n",
       "      <td>64</td>\n",
       "      <td>View Offer Page ID 1841</td>\n",
       "      <td>{'user': 64, 'offer': 1841}</td>\n",
       "      <td>2022-05-28 13:38:01.802118</td>\n",
       "    </tr>\n",
       "    <tr>\n",
       "      <th>1</th>\n",
       "      <td>13</td>\n",
       "      <td>51</td>\n",
       "      <td>64</td>\n",
       "      <td>View Offer Page ID 1804</td>\n",
       "      <td>{'user': 64, 'offer': 1804}</td>\n",
       "      <td>2022-05-28 13:38:18.486753</td>\n",
       "    </tr>\n",
       "    <tr>\n",
       "      <th>2</th>\n",
       "      <td>14</td>\n",
       "      <td>51</td>\n",
       "      <td>64</td>\n",
       "      <td>View Offer Page ID 1676</td>\n",
       "      <td>{'user': 64, 'offer': 1676}</td>\n",
       "      <td>2022-05-28 13:38:44.105830</td>\n",
       "    </tr>\n",
       "    <tr>\n",
       "      <th>3</th>\n",
       "      <td>15</td>\n",
       "      <td>51</td>\n",
       "      <td>64</td>\n",
       "      <td>View Offer Page ID 1841</td>\n",
       "      <td>{'user': 64, 'offer': 1841}</td>\n",
       "      <td>2022-05-28 13:38:54.335809</td>\n",
       "    </tr>\n",
       "    <tr>\n",
       "      <th>4</th>\n",
       "      <td>16</td>\n",
       "      <td>51</td>\n",
       "      <td>64</td>\n",
       "      <td>View Offer Page ID 1443</td>\n",
       "      <td>{'user': 64, 'offer': 1443}</td>\n",
       "      <td>2022-05-28 13:39:00.433517</td>\n",
       "    </tr>\n",
       "  </tbody>\n",
       "</table>\n",
       "</div>"
      ],
      "text/plain": [
       "   id  visit_id  user_id                     name  \\\n",
       "0  12        51       64  View Offer Page ID 1841   \n",
       "1  13        51       64  View Offer Page ID 1804   \n",
       "2  14        51       64  View Offer Page ID 1676   \n",
       "3  15        51       64  View Offer Page ID 1841   \n",
       "4  16        51       64  View Offer Page ID 1443   \n",
       "\n",
       "                    properties                       time  \n",
       "0  {'user': 64, 'offer': 1841} 2022-05-28 13:38:01.802118  \n",
       "1  {'user': 64, 'offer': 1804} 2022-05-28 13:38:18.486753  \n",
       "2  {'user': 64, 'offer': 1676} 2022-05-28 13:38:44.105830  \n",
       "3  {'user': 64, 'offer': 1841} 2022-05-28 13:38:54.335809  \n",
       "4  {'user': 64, 'offer': 1443} 2022-05-28 13:39:00.433517  "
      ]
     },
     "execution_count": 12,
     "metadata": {},
     "output_type": "execute_result"
    }
   ],
   "source": [
    "ahoy_events_df.head()"
   ]
  },
  {
   "cell_type": "markdown",
   "id": "6d3ffdc2",
   "metadata": {},
   "source": []
  },
  {
   "cell_type": "code",
   "execution_count": null,
   "id": "25704954",
   "metadata": {},
   "outputs": [],
   "source": []
  },
  {
   "cell_type": "code",
   "execution_count": null,
   "id": "78f7128c",
   "metadata": {},
   "outputs": [],
   "source": []
  },
  {
   "cell_type": "code",
   "execution_count": null,
   "id": "893b4b98",
   "metadata": {},
   "outputs": [],
   "source": []
  },
  {
   "cell_type": "code",
   "execution_count": null,
   "id": "1b069b4f",
   "metadata": {},
   "outputs": [],
   "source": []
  },
  {
   "cell_type": "markdown",
   "id": "f2f91469",
   "metadata": {},
   "source": [
    "# simple tfidf model: using the raw description"
   ]
  },
  {
   "cell_type": "markdown",
   "id": "bf9f1642",
   "metadata": {},
   "source": [
    "## advanced cleaning of data"
   ]
  },
  {
   "cell_type": "code",
   "execution_count": 13,
   "id": "5c4acc8f",
   "metadata": {},
   "outputs": [],
   "source": [
    "import pandas as pd\n",
    "import re\n",
    "import string\n",
    "from bs4 import BeautifulSoup\n",
    "import nltk\n",
    "from nltk.stem import PorterStemmer\n",
    "from nltk.stem.wordnet import WordNetLemmatizer\n",
    "import spacy\n",
    "from googletrans import Translator"
   ]
  },
  {
   "cell_type": "code",
   "execution_count": 14,
   "id": "72665efc",
   "metadata": {},
   "outputs": [
    {
     "name": "stderr",
     "output_type": "stream",
     "text": [
      "[nltk_data] Downloading package stopwords to\n",
      "[nltk_data]     /Users/shreetamakarmakar/nltk_data...\n",
      "[nltk_data]   Package stopwords is already up-to-date!\n"
     ]
    },
    {
     "data": {
      "text/plain": [
       "True"
      ]
     },
     "execution_count": 14,
     "metadata": {},
     "output_type": "execute_result"
    }
   ],
   "source": [
    "import nltk\n",
    "nltk.download('stopwords')"
   ]
  },
  {
   "cell_type": "code",
   "execution_count": 15,
   "id": "8078cbab",
   "metadata": {},
   "outputs": [],
   "source": [
    "\n",
    "# def to_english(string):\n",
    "    \n",
    "\n",
    "# # result.src\n",
    "# if translator.detect(string).lang != 'en':\n",
    "#     result = translator.translate(string)\n",
    "#     result.text"
   ]
  },
  {
   "cell_type": "code",
   "execution_count": 16,
   "id": "6879a57b",
   "metadata": {},
   "outputs": [],
   "source": [
    "from googletrans import Translator\n",
    "def language_translation(string):\n",
    "    \n",
    "    translator = Translator()\n",
    "    if translator.detect(string).lang != 'en':\n",
    "        result = translator.translate(string)\n",
    "        return result.text\n",
    "    else:\n",
    "        return string"
   ]
  },
  {
   "cell_type": "code",
   "execution_count": 17,
   "id": "fca124b1",
   "metadata": {},
   "outputs": [
    {
     "data": {
      "text/plain": [
       "'I do not know'"
      ]
     },
     "execution_count": 17,
     "metadata": {},
     "output_type": "execute_result"
    }
   ],
   "source": [
    "language_translation('yo no sabe')"
   ]
  },
  {
   "cell_type": "code",
   "execution_count": 18,
   "id": "821ae26c",
   "metadata": {},
   "outputs": [
    {
     "data": {
      "text/html": [
       "<div>\n",
       "<style scoped>\n",
       "    .dataframe tbody tr th:only-of-type {\n",
       "        vertical-align: middle;\n",
       "    }\n",
       "\n",
       "    .dataframe tbody tr th {\n",
       "        vertical-align: top;\n",
       "    }\n",
       "\n",
       "    .dataframe thead th {\n",
       "        text-align: right;\n",
       "    }\n",
       "</style>\n",
       "<table border=\"1\" class=\"dataframe\">\n",
       "  <thead>\n",
       "    <tr style=\"text-align: right;\">\n",
       "      <th></th>\n",
       "      <th>id</th>\n",
       "      <th>visit_id</th>\n",
       "      <th>user_id</th>\n",
       "      <th>name</th>\n",
       "      <th>properties</th>\n",
       "      <th>time</th>\n",
       "    </tr>\n",
       "  </thead>\n",
       "  <tbody>\n",
       "    <tr>\n",
       "      <th>0</th>\n",
       "      <td>12</td>\n",
       "      <td>51</td>\n",
       "      <td>64</td>\n",
       "      <td>View Offer Page ID 1841</td>\n",
       "      <td>{'user': 64, 'offer': 1841}</td>\n",
       "      <td>2022-05-28 13:38:01.802118</td>\n",
       "    </tr>\n",
       "    <tr>\n",
       "      <th>1</th>\n",
       "      <td>13</td>\n",
       "      <td>51</td>\n",
       "      <td>64</td>\n",
       "      <td>View Offer Page ID 1804</td>\n",
       "      <td>{'user': 64, 'offer': 1804}</td>\n",
       "      <td>2022-05-28 13:38:18.486753</td>\n",
       "    </tr>\n",
       "    <tr>\n",
       "      <th>2</th>\n",
       "      <td>14</td>\n",
       "      <td>51</td>\n",
       "      <td>64</td>\n",
       "      <td>View Offer Page ID 1676</td>\n",
       "      <td>{'user': 64, 'offer': 1676}</td>\n",
       "      <td>2022-05-28 13:38:44.105830</td>\n",
       "    </tr>\n",
       "    <tr>\n",
       "      <th>3</th>\n",
       "      <td>15</td>\n",
       "      <td>51</td>\n",
       "      <td>64</td>\n",
       "      <td>View Offer Page ID 1841</td>\n",
       "      <td>{'user': 64, 'offer': 1841}</td>\n",
       "      <td>2022-05-28 13:38:54.335809</td>\n",
       "    </tr>\n",
       "    <tr>\n",
       "      <th>4</th>\n",
       "      <td>16</td>\n",
       "      <td>51</td>\n",
       "      <td>64</td>\n",
       "      <td>View Offer Page ID 1443</td>\n",
       "      <td>{'user': 64, 'offer': 1443}</td>\n",
       "      <td>2022-05-28 13:39:00.433517</td>\n",
       "    </tr>\n",
       "  </tbody>\n",
       "</table>\n",
       "</div>"
      ],
      "text/plain": [
       "   id  visit_id  user_id                     name  \\\n",
       "0  12        51       64  View Offer Page ID 1841   \n",
       "1  13        51       64  View Offer Page ID 1804   \n",
       "2  14        51       64  View Offer Page ID 1676   \n",
       "3  15        51       64  View Offer Page ID 1841   \n",
       "4  16        51       64  View Offer Page ID 1443   \n",
       "\n",
       "                    properties                       time  \n",
       "0  {'user': 64, 'offer': 1841} 2022-05-28 13:38:01.802118  \n",
       "1  {'user': 64, 'offer': 1804} 2022-05-28 13:38:18.486753  \n",
       "2  {'user': 64, 'offer': 1676} 2022-05-28 13:38:44.105830  \n",
       "3  {'user': 64, 'offer': 1841} 2022-05-28 13:38:54.335809  \n",
       "4  {'user': 64, 'offer': 1443} 2022-05-28 13:39:00.433517  "
      ]
     },
     "execution_count": 18,
     "metadata": {},
     "output_type": "execute_result"
    }
   ],
   "source": [
    "ahoy_events_df.head()"
   ]
  },
  {
   "cell_type": "code",
   "execution_count": 19,
   "id": "63e07759",
   "metadata": {},
   "outputs": [
    {
     "data": {
      "text/html": [
       "<div>\n",
       "<style scoped>\n",
       "    .dataframe tbody tr th:only-of-type {\n",
       "        vertical-align: middle;\n",
       "    }\n",
       "\n",
       "    .dataframe tbody tr th {\n",
       "        vertical-align: top;\n",
       "    }\n",
       "\n",
       "    .dataframe thead th {\n",
       "        text-align: right;\n",
       "    }\n",
       "</style>\n",
       "<table border=\"1\" class=\"dataframe\">\n",
       "  <thead>\n",
       "    <tr style=\"text-align: right;\">\n",
       "      <th></th>\n",
       "      <th>0</th>\n",
       "      <th>1</th>\n",
       "      <th>2</th>\n",
       "      <th>3</th>\n",
       "      <th>4</th>\n",
       "    </tr>\n",
       "  </thead>\n",
       "  <tbody>\n",
       "    <tr>\n",
       "      <th>id</th>\n",
       "      <td>55.0</td>\n",
       "      <td>56.0</td>\n",
       "      <td>57.0</td>\n",
       "      <td>58.0</td>\n",
       "      <td>61.0</td>\n",
       "    </tr>\n",
       "    <tr>\n",
       "      <th>email</th>\n",
       "      <td>johanna@gmail.com</td>\n",
       "      <td>anjali@gmail.com</td>\n",
       "      <td>alexandra@gmail.com</td>\n",
       "      <td>ieva@gmail.com</td>\n",
       "      <td>shreetama@gmail.com</td>\n",
       "    </tr>\n",
       "    <tr>\n",
       "      <th>encrypted_password</th>\n",
       "      <td>$2a$12$CqtujmUxnctn4PYh/LQ7Yen4N9zGBa8mAkW5lJk...</td>\n",
       "      <td>$2a$12$zoaJySL5quI21u316oCrzuwLap5n3iaoJoFEt8O...</td>\n",
       "      <td>$2a$12$EFJExS3e79KnS1Sj5SU7iuA0oE4Fe3cghnIcWCj...</td>\n",
       "      <td>$2a$12$2KfdqVXZIU7RbiktQW1GAuaBnIcIfHBSc68kwWc...</td>\n",
       "      <td>$2a$12$Y3BZQdV7MhHLkHWNjXNI2.0/xszGFofvoLFtvwq...</td>\n",
       "    </tr>\n",
       "    <tr>\n",
       "      <th>reset_password_token</th>\n",
       "      <td>None</td>\n",
       "      <td>None</td>\n",
       "      <td>None</td>\n",
       "      <td>None</td>\n",
       "      <td>None</td>\n",
       "    </tr>\n",
       "    <tr>\n",
       "      <th>reset_password_sent_at</th>\n",
       "      <td>None</td>\n",
       "      <td>None</td>\n",
       "      <td>None</td>\n",
       "      <td>None</td>\n",
       "      <td>None</td>\n",
       "    </tr>\n",
       "    <tr>\n",
       "      <th>remember_created_at</th>\n",
       "      <td>NaT</td>\n",
       "      <td>NaT</td>\n",
       "      <td>NaT</td>\n",
       "      <td>NaT</td>\n",
       "      <td>NaT</td>\n",
       "    </tr>\n",
       "    <tr>\n",
       "      <th>created_at</th>\n",
       "      <td>2022-05-28 12:26:38.267750</td>\n",
       "      <td>2022-05-28 12:26:39.191914</td>\n",
       "      <td>2022-05-28 12:26:40.648549</td>\n",
       "      <td>2022-05-28 12:26:41.476255</td>\n",
       "      <td>2022-05-28 12:26:43.898237</td>\n",
       "    </tr>\n",
       "    <tr>\n",
       "      <th>updated_at</th>\n",
       "      <td>2022-05-28 12:26:38.283275</td>\n",
       "      <td>2022-05-28 12:26:39.203232</td>\n",
       "      <td>2022-05-28 12:26:40.656142</td>\n",
       "      <td>2022-05-28 12:26:41.484819</td>\n",
       "      <td>2022-05-28 12:26:43.910509</td>\n",
       "    </tr>\n",
       "    <tr>\n",
       "      <th>first_name</th>\n",
       "      <td>Johanna</td>\n",
       "      <td>Anjali</td>\n",
       "      <td>Alexandra</td>\n",
       "      <td>Ieva</td>\n",
       "      <td>Shreetama</td>\n",
       "    </tr>\n",
       "    <tr>\n",
       "      <th>last_name</th>\n",
       "      <td>Maier</td>\n",
       "      <td>Kumar</td>\n",
       "      <td>Stroe</td>\n",
       "      <td>Jirgensone</td>\n",
       "      <td>Karmakar</td>\n",
       "    </tr>\n",
       "    <tr>\n",
       "      <th>description</th>\n",
       "      <td>Hi, my name is Johanna! I want to go on my nex...</td>\n",
       "      <td>Hi, my name is Anjali! I want to go on my next...</td>\n",
       "      <td>Hi, my name is Alexandra! I want to go on my n...</td>\n",
       "      <td>Hi, my name is Ieva! I want to go on my next s...</td>\n",
       "      <td>Hi, my name is Shreetama! I want to go on my n...</td>\n",
       "    </tr>\n",
       "    <tr>\n",
       "      <th>date_of_birth</th>\n",
       "      <td>1993-01-25</td>\n",
       "      <td>1993-01-25</td>\n",
       "      <td>1993-01-25</td>\n",
       "      <td>1993-01-25</td>\n",
       "      <td>1993-01-25</td>\n",
       "    </tr>\n",
       "    <tr>\n",
       "      <th>gender</th>\n",
       "      <td>female</td>\n",
       "      <td>female</td>\n",
       "      <td>female</td>\n",
       "      <td>female</td>\n",
       "      <td>female</td>\n",
       "    </tr>\n",
       "    <tr>\n",
       "      <th>location</th>\n",
       "      <td>Munich</td>\n",
       "      <td>Berlin</td>\n",
       "      <td>Berlin</td>\n",
       "      <td>Hamburg</td>\n",
       "      <td>Cologne</td>\n",
       "    </tr>\n",
       "    <tr>\n",
       "      <th>latitude</th>\n",
       "      <td>48.135124</td>\n",
       "      <td>52.520008</td>\n",
       "      <td>52.520008</td>\n",
       "      <td>53.551086</td>\n",
       "      <td>50.937531</td>\n",
       "    </tr>\n",
       "    <tr>\n",
       "      <th>longitude</th>\n",
       "      <td>11.581981</td>\n",
       "      <td>13.404954</td>\n",
       "      <td>13.404954</td>\n",
       "      <td>9.993682</td>\n",
       "      <td>6.960279</td>\n",
       "    </tr>\n",
       "  </tbody>\n",
       "</table>\n",
       "</div>"
      ],
      "text/plain": [
       "                                                                        0  \\\n",
       "id                                                                   55.0   \n",
       "email                                                   johanna@gmail.com   \n",
       "encrypted_password      $2a$12$CqtujmUxnctn4PYh/LQ7Yen4N9zGBa8mAkW5lJk...   \n",
       "reset_password_token                                                 None   \n",
       "reset_password_sent_at                                               None   \n",
       "remember_created_at                                                   NaT   \n",
       "created_at                                     2022-05-28 12:26:38.267750   \n",
       "updated_at                                     2022-05-28 12:26:38.283275   \n",
       "first_name                                                        Johanna   \n",
       "last_name                                                           Maier   \n",
       "description             Hi, my name is Johanna! I want to go on my nex...   \n",
       "date_of_birth                                                  1993-01-25   \n",
       "gender                                                             female   \n",
       "location                                                           Munich   \n",
       "latitude                                                        48.135124   \n",
       "longitude                                                       11.581981   \n",
       "\n",
       "                                                                        1  \\\n",
       "id                                                                   56.0   \n",
       "email                                                    anjali@gmail.com   \n",
       "encrypted_password      $2a$12$zoaJySL5quI21u316oCrzuwLap5n3iaoJoFEt8O...   \n",
       "reset_password_token                                                 None   \n",
       "reset_password_sent_at                                               None   \n",
       "remember_created_at                                                   NaT   \n",
       "created_at                                     2022-05-28 12:26:39.191914   \n",
       "updated_at                                     2022-05-28 12:26:39.203232   \n",
       "first_name                                                         Anjali   \n",
       "last_name                                                           Kumar   \n",
       "description             Hi, my name is Anjali! I want to go on my next...   \n",
       "date_of_birth                                                  1993-01-25   \n",
       "gender                                                             female   \n",
       "location                                                           Berlin   \n",
       "latitude                                                        52.520008   \n",
       "longitude                                                       13.404954   \n",
       "\n",
       "                                                                        2  \\\n",
       "id                                                                   57.0   \n",
       "email                                                 alexandra@gmail.com   \n",
       "encrypted_password      $2a$12$EFJExS3e79KnS1Sj5SU7iuA0oE4Fe3cghnIcWCj...   \n",
       "reset_password_token                                                 None   \n",
       "reset_password_sent_at                                               None   \n",
       "remember_created_at                                                   NaT   \n",
       "created_at                                     2022-05-28 12:26:40.648549   \n",
       "updated_at                                     2022-05-28 12:26:40.656142   \n",
       "first_name                                                      Alexandra   \n",
       "last_name                                                           Stroe   \n",
       "description             Hi, my name is Alexandra! I want to go on my n...   \n",
       "date_of_birth                                                  1993-01-25   \n",
       "gender                                                             female   \n",
       "location                                                           Berlin   \n",
       "latitude                                                        52.520008   \n",
       "longitude                                                       13.404954   \n",
       "\n",
       "                                                                        3  \\\n",
       "id                                                                   58.0   \n",
       "email                                                      ieva@gmail.com   \n",
       "encrypted_password      $2a$12$2KfdqVXZIU7RbiktQW1GAuaBnIcIfHBSc68kwWc...   \n",
       "reset_password_token                                                 None   \n",
       "reset_password_sent_at                                               None   \n",
       "remember_created_at                                                   NaT   \n",
       "created_at                                     2022-05-28 12:26:41.476255   \n",
       "updated_at                                     2022-05-28 12:26:41.484819   \n",
       "first_name                                                           Ieva   \n",
       "last_name                                                      Jirgensone   \n",
       "description             Hi, my name is Ieva! I want to go on my next s...   \n",
       "date_of_birth                                                  1993-01-25   \n",
       "gender                                                             female   \n",
       "location                                                          Hamburg   \n",
       "latitude                                                        53.551086   \n",
       "longitude                                                        9.993682   \n",
       "\n",
       "                                                                        4  \n",
       "id                                                                   61.0  \n",
       "email                                                 shreetama@gmail.com  \n",
       "encrypted_password      $2a$12$Y3BZQdV7MhHLkHWNjXNI2.0/xszGFofvoLFtvwq...  \n",
       "reset_password_token                                                 None  \n",
       "reset_password_sent_at                                               None  \n",
       "remember_created_at                                                   NaT  \n",
       "created_at                                     2022-05-28 12:26:43.898237  \n",
       "updated_at                                     2022-05-28 12:26:43.910509  \n",
       "first_name                                                      Shreetama  \n",
       "last_name                                                        Karmakar  \n",
       "description             Hi, my name is Shreetama! I want to go on my n...  \n",
       "date_of_birth                                                  1993-01-25  \n",
       "gender                                                             female  \n",
       "location                                                          Cologne  \n",
       "latitude                                                        50.937531  \n",
       "longitude                                                        6.960279  "
      ]
     },
     "execution_count": 19,
     "metadata": {},
     "output_type": "execute_result"
    }
   ],
   "source": [
    "users_df.head().T"
   ]
  },
  {
   "cell_type": "code",
   "execution_count": 27,
   "id": "3903af2f",
   "metadata": {},
   "outputs": [
    {
     "data": {
      "text/plain": [
       "0                                 Gilde Bowling Wandsbek\n",
       "1                                 Gilde Bowling Wandsbek\n",
       "2                                           Bowlingabend\n",
       "3                         Return To Love Virtual Retreat\n",
       "4      Gaelic Football Training Hamburg m/f/d - all w...\n",
       "                             ...                        \n",
       "877                   Online: Meditation - Zeit für Dich\n",
       "878                  Online: Meditate to regenerate (EN)\n",
       "879                   Online: Meditation - Zeit für Dich\n",
       "880    Sahaja Yoga Meditation für Anfänger und Fortge...\n",
       "881    Sahaja Yoga Meditation für Anfänger und Fortge...\n",
       "Name: title, Length: 882, dtype: object"
      ]
     },
     "execution_count": 27,
     "metadata": {},
     "output_type": "execute_result"
    }
   ],
   "source": [
    "events_df.title"
   ]
  },
  {
   "cell_type": "code",
   "execution_count": 28,
   "id": "f0a7c78e",
   "metadata": {},
   "outputs": [
    {
     "ename": "ReadError",
     "evalue": "[Errno 54] Connection reset by peer",
     "output_type": "error",
     "traceback": [
      "\u001b[0;31m---------------------------------------------------------------------------\u001b[0m",
      "\u001b[0;31mReadError\u001b[0m                                 Traceback (most recent call last)",
      "Input \u001b[0;32mIn [28]\u001b[0m, in \u001b[0;36m<cell line: 2>\u001b[0;34m()\u001b[0m\n\u001b[1;32m      1\u001b[0m events_df[\u001b[38;5;124m'\u001b[39m\u001b[38;5;124mtranslated_title\u001b[39m\u001b[38;5;124m'\u001b[39m] \u001b[38;5;241m=\u001b[39m events_df[\u001b[38;5;124m'\u001b[39m\u001b[38;5;124mtitle\u001b[39m\u001b[38;5;124m'\u001b[39m]\u001b[38;5;241m.\u001b[39mapply(\u001b[38;5;28;01mlambda\u001b[39;00m x: language_translation(x))\n\u001b[0;32m----> 2\u001b[0m events_df[\u001b[38;5;124m'\u001b[39m\u001b[38;5;124mtranslated_description\u001b[39m\u001b[38;5;124m'\u001b[39m] \u001b[38;5;241m=\u001b[39m \u001b[43mevents_df\u001b[49m\u001b[43m[\u001b[49m\u001b[38;5;124;43m'\u001b[39;49m\u001b[38;5;124;43mdescription\u001b[39;49m\u001b[38;5;124;43m'\u001b[39;49m\u001b[43m]\u001b[49m\u001b[38;5;241;43m.\u001b[39;49m\u001b[43mapply\u001b[49m\u001b[43m(\u001b[49m\u001b[38;5;28;43;01mlambda\u001b[39;49;00m\u001b[43m \u001b[49m\u001b[43mx\u001b[49m\u001b[43m:\u001b[49m\u001b[43m \u001b[49m\u001b[43mlanguage_translation\u001b[49m\u001b[43m(\u001b[49m\u001b[43mx\u001b[49m\u001b[43m)\u001b[49m\u001b[43m)\u001b[49m\n",
      "File \u001b[0;32m~/.pyenv/versions/3.8.13/envs/SportsExperiencePlatform/lib/python3.8/site-packages/pandas/core/series.py:4433\u001b[0m, in \u001b[0;36mSeries.apply\u001b[0;34m(self, func, convert_dtype, args, **kwargs)\u001b[0m\n\u001b[1;32m   4323\u001b[0m \u001b[38;5;28;01mdef\u001b[39;00m \u001b[38;5;21mapply\u001b[39m(\n\u001b[1;32m   4324\u001b[0m     \u001b[38;5;28mself\u001b[39m,\n\u001b[1;32m   4325\u001b[0m     func: AggFuncType,\n\u001b[0;32m   (...)\u001b[0m\n\u001b[1;32m   4328\u001b[0m     \u001b[38;5;241m*\u001b[39m\u001b[38;5;241m*\u001b[39mkwargs,\n\u001b[1;32m   4329\u001b[0m ) \u001b[38;5;241m-\u001b[39m\u001b[38;5;241m>\u001b[39m DataFrame \u001b[38;5;241m|\u001b[39m Series:\n\u001b[1;32m   4330\u001b[0m     \u001b[38;5;124;03m\"\"\"\u001b[39;00m\n\u001b[1;32m   4331\u001b[0m \u001b[38;5;124;03m    Invoke function on values of Series.\u001b[39;00m\n\u001b[1;32m   4332\u001b[0m \n\u001b[0;32m   (...)\u001b[0m\n\u001b[1;32m   4431\u001b[0m \u001b[38;5;124;03m    dtype: float64\u001b[39;00m\n\u001b[1;32m   4432\u001b[0m \u001b[38;5;124;03m    \"\"\"\u001b[39;00m\n\u001b[0;32m-> 4433\u001b[0m     \u001b[38;5;28;01mreturn\u001b[39;00m \u001b[43mSeriesApply\u001b[49m\u001b[43m(\u001b[49m\u001b[38;5;28;43mself\u001b[39;49m\u001b[43m,\u001b[49m\u001b[43m \u001b[49m\u001b[43mfunc\u001b[49m\u001b[43m,\u001b[49m\u001b[43m \u001b[49m\u001b[43mconvert_dtype\u001b[49m\u001b[43m,\u001b[49m\u001b[43m \u001b[49m\u001b[43margs\u001b[49m\u001b[43m,\u001b[49m\u001b[43m \u001b[49m\u001b[43mkwargs\u001b[49m\u001b[43m)\u001b[49m\u001b[38;5;241;43m.\u001b[39;49m\u001b[43mapply\u001b[49m\u001b[43m(\u001b[49m\u001b[43m)\u001b[49m\n",
      "File \u001b[0;32m~/.pyenv/versions/3.8.13/envs/SportsExperiencePlatform/lib/python3.8/site-packages/pandas/core/apply.py:1082\u001b[0m, in \u001b[0;36mSeriesApply.apply\u001b[0;34m(self)\u001b[0m\n\u001b[1;32m   1078\u001b[0m \u001b[38;5;28;01mif\u001b[39;00m \u001b[38;5;28misinstance\u001b[39m(\u001b[38;5;28mself\u001b[39m\u001b[38;5;241m.\u001b[39mf, \u001b[38;5;28mstr\u001b[39m):\n\u001b[1;32m   1079\u001b[0m     \u001b[38;5;66;03m# if we are a string, try to dispatch\u001b[39;00m\n\u001b[1;32m   1080\u001b[0m     \u001b[38;5;28;01mreturn\u001b[39;00m \u001b[38;5;28mself\u001b[39m\u001b[38;5;241m.\u001b[39mapply_str()\n\u001b[0;32m-> 1082\u001b[0m \u001b[38;5;28;01mreturn\u001b[39;00m \u001b[38;5;28;43mself\u001b[39;49m\u001b[38;5;241;43m.\u001b[39;49m\u001b[43mapply_standard\u001b[49m\u001b[43m(\u001b[49m\u001b[43m)\u001b[49m\n",
      "File \u001b[0;32m~/.pyenv/versions/3.8.13/envs/SportsExperiencePlatform/lib/python3.8/site-packages/pandas/core/apply.py:1137\u001b[0m, in \u001b[0;36mSeriesApply.apply_standard\u001b[0;34m(self)\u001b[0m\n\u001b[1;32m   1131\u001b[0m         values \u001b[38;5;241m=\u001b[39m obj\u001b[38;5;241m.\u001b[39mastype(\u001b[38;5;28mobject\u001b[39m)\u001b[38;5;241m.\u001b[39m_values\n\u001b[1;32m   1132\u001b[0m         \u001b[38;5;66;03m# error: Argument 2 to \"map_infer\" has incompatible type\u001b[39;00m\n\u001b[1;32m   1133\u001b[0m         \u001b[38;5;66;03m# \"Union[Callable[..., Any], str, List[Union[Callable[..., Any], str]],\u001b[39;00m\n\u001b[1;32m   1134\u001b[0m         \u001b[38;5;66;03m# Dict[Hashable, Union[Union[Callable[..., Any], str],\u001b[39;00m\n\u001b[1;32m   1135\u001b[0m         \u001b[38;5;66;03m# List[Union[Callable[..., Any], str]]]]]\"; expected\u001b[39;00m\n\u001b[1;32m   1136\u001b[0m         \u001b[38;5;66;03m# \"Callable[[Any], Any]\"\u001b[39;00m\n\u001b[0;32m-> 1137\u001b[0m         mapped \u001b[38;5;241m=\u001b[39m \u001b[43mlib\u001b[49m\u001b[38;5;241;43m.\u001b[39;49m\u001b[43mmap_infer\u001b[49m\u001b[43m(\u001b[49m\n\u001b[1;32m   1138\u001b[0m \u001b[43m            \u001b[49m\u001b[43mvalues\u001b[49m\u001b[43m,\u001b[49m\n\u001b[1;32m   1139\u001b[0m \u001b[43m            \u001b[49m\u001b[43mf\u001b[49m\u001b[43m,\u001b[49m\u001b[43m  \u001b[49m\u001b[38;5;66;43;03m# type: ignore[arg-type]\u001b[39;49;00m\n\u001b[1;32m   1140\u001b[0m \u001b[43m            \u001b[49m\u001b[43mconvert\u001b[49m\u001b[38;5;241;43m=\u001b[39;49m\u001b[38;5;28;43mself\u001b[39;49m\u001b[38;5;241;43m.\u001b[39;49m\u001b[43mconvert_dtype\u001b[49m\u001b[43m,\u001b[49m\n\u001b[1;32m   1141\u001b[0m \u001b[43m        \u001b[49m\u001b[43m)\u001b[49m\n\u001b[1;32m   1143\u001b[0m \u001b[38;5;28;01mif\u001b[39;00m \u001b[38;5;28mlen\u001b[39m(mapped) \u001b[38;5;129;01mand\u001b[39;00m \u001b[38;5;28misinstance\u001b[39m(mapped[\u001b[38;5;241m0\u001b[39m], ABCSeries):\n\u001b[1;32m   1144\u001b[0m     \u001b[38;5;66;03m# GH#43986 Need to do list(mapped) in order to get treated as nested\u001b[39;00m\n\u001b[1;32m   1145\u001b[0m     \u001b[38;5;66;03m#  See also GH#25959 regarding EA support\u001b[39;00m\n\u001b[1;32m   1146\u001b[0m     \u001b[38;5;28;01mreturn\u001b[39;00m obj\u001b[38;5;241m.\u001b[39m_constructor_expanddim(\u001b[38;5;28mlist\u001b[39m(mapped), index\u001b[38;5;241m=\u001b[39mobj\u001b[38;5;241m.\u001b[39mindex)\n",
      "File \u001b[0;32mpandas/_libs/lib.pyx:2870\u001b[0m, in \u001b[0;36mpandas._libs.lib.map_infer\u001b[0;34m()\u001b[0m\n",
      "Input \u001b[0;32mIn [28]\u001b[0m, in \u001b[0;36m<lambda>\u001b[0;34m(x)\u001b[0m\n\u001b[1;32m      1\u001b[0m events_df[\u001b[38;5;124m'\u001b[39m\u001b[38;5;124mtranslated_title\u001b[39m\u001b[38;5;124m'\u001b[39m] \u001b[38;5;241m=\u001b[39m events_df[\u001b[38;5;124m'\u001b[39m\u001b[38;5;124mtitle\u001b[39m\u001b[38;5;124m'\u001b[39m]\u001b[38;5;241m.\u001b[39mapply(\u001b[38;5;28;01mlambda\u001b[39;00m x: language_translation(x))\n\u001b[0;32m----> 2\u001b[0m events_df[\u001b[38;5;124m'\u001b[39m\u001b[38;5;124mtranslated_description\u001b[39m\u001b[38;5;124m'\u001b[39m] \u001b[38;5;241m=\u001b[39m events_df[\u001b[38;5;124m'\u001b[39m\u001b[38;5;124mdescription\u001b[39m\u001b[38;5;124m'\u001b[39m]\u001b[38;5;241m.\u001b[39mapply(\u001b[38;5;28;01mlambda\u001b[39;00m x: \u001b[43mlanguage_translation\u001b[49m\u001b[43m(\u001b[49m\u001b[43mx\u001b[49m\u001b[43m)\u001b[49m)\n",
      "Input \u001b[0;32mIn [16]\u001b[0m, in \u001b[0;36mlanguage_translation\u001b[0;34m(string)\u001b[0m\n\u001b[1;32m      2\u001b[0m \u001b[38;5;28;01mdef\u001b[39;00m \u001b[38;5;21mlanguage_translation\u001b[39m(string):\n\u001b[1;32m      4\u001b[0m     translator \u001b[38;5;241m=\u001b[39m Translator()\n\u001b[0;32m----> 5\u001b[0m     \u001b[38;5;28;01mif\u001b[39;00m \u001b[43mtranslator\u001b[49m\u001b[38;5;241;43m.\u001b[39;49m\u001b[43mdetect\u001b[49m\u001b[43m(\u001b[49m\u001b[43mstring\u001b[49m\u001b[43m)\u001b[49m\u001b[38;5;241m.\u001b[39mlang \u001b[38;5;241m!=\u001b[39m \u001b[38;5;124m'\u001b[39m\u001b[38;5;124men\u001b[39m\u001b[38;5;124m'\u001b[39m:\n\u001b[1;32m      6\u001b[0m         result \u001b[38;5;241m=\u001b[39m translator\u001b[38;5;241m.\u001b[39mtranslate(string)\n\u001b[1;32m      7\u001b[0m         \u001b[38;5;28;01mreturn\u001b[39;00m result\u001b[38;5;241m.\u001b[39mtext\n",
      "File \u001b[0;32m~/.pyenv/versions/3.8.13/envs/SportsExperiencePlatform/lib/python3.8/site-packages/googletrans/client.py:285\u001b[0m, in \u001b[0;36mTranslator.detect\u001b[0;34m(self, text, **kwargs)\u001b[0m\n\u001b[1;32m    282\u001b[0m         result\u001b[38;5;241m.\u001b[39mappend(lang)\n\u001b[1;32m    283\u001b[0m     \u001b[38;5;28;01mreturn\u001b[39;00m result\n\u001b[0;32m--> 285\u001b[0m data, response \u001b[38;5;241m=\u001b[39m \u001b[38;5;28;43mself\u001b[39;49m\u001b[38;5;241;43m.\u001b[39;49m\u001b[43m_translate\u001b[49m\u001b[43m(\u001b[49m\u001b[43mtext\u001b[49m\u001b[43m,\u001b[49m\u001b[43m \u001b[49m\u001b[38;5;124;43m'\u001b[39;49m\u001b[38;5;124;43men\u001b[39;49m\u001b[38;5;124;43m'\u001b[39;49m\u001b[43m,\u001b[49m\u001b[43m \u001b[49m\u001b[38;5;124;43m'\u001b[39;49m\u001b[38;5;124;43mauto\u001b[39;49m\u001b[38;5;124;43m'\u001b[39;49m\u001b[43m,\u001b[49m\u001b[43m \u001b[49m\u001b[43mkwargs\u001b[49m\u001b[43m)\u001b[49m\n\u001b[1;32m    287\u001b[0m \u001b[38;5;66;03m# actual source language that will be recognized by Google Translator when the\u001b[39;00m\n\u001b[1;32m    288\u001b[0m \u001b[38;5;66;03m# src passed is equal to auto.\u001b[39;00m\n\u001b[1;32m    289\u001b[0m src \u001b[38;5;241m=\u001b[39m \u001b[38;5;124m'\u001b[39m\u001b[38;5;124m'\u001b[39m\n",
      "File \u001b[0;32m~/.pyenv/versions/3.8.13/envs/SportsExperiencePlatform/lib/python3.8/site-packages/googletrans/client.py:108\u001b[0m, in \u001b[0;36mTranslator._translate\u001b[0;34m(self, text, dest, src, override)\u001b[0m\n\u001b[1;32m    104\u001b[0m params \u001b[38;5;241m=\u001b[39m utils\u001b[38;5;241m.\u001b[39mbuild_params(client\u001b[38;5;241m=\u001b[39m\u001b[38;5;28mself\u001b[39m\u001b[38;5;241m.\u001b[39mclient_type, query\u001b[38;5;241m=\u001b[39mtext, src\u001b[38;5;241m=\u001b[39msrc, dest\u001b[38;5;241m=\u001b[39mdest,\n\u001b[1;32m    105\u001b[0m                             token\u001b[38;5;241m=\u001b[39mtoken, override\u001b[38;5;241m=\u001b[39moverride)\n\u001b[1;32m    107\u001b[0m url \u001b[38;5;241m=\u001b[39m urls\u001b[38;5;241m.\u001b[39mTRANSLATE\u001b[38;5;241m.\u001b[39mformat(host\u001b[38;5;241m=\u001b[39m\u001b[38;5;28mself\u001b[39m\u001b[38;5;241m.\u001b[39m_pick_service_url())\n\u001b[0;32m--> 108\u001b[0m r \u001b[38;5;241m=\u001b[39m \u001b[38;5;28;43mself\u001b[39;49m\u001b[38;5;241;43m.\u001b[39;49m\u001b[43mclient\u001b[49m\u001b[38;5;241;43m.\u001b[39;49m\u001b[43mget\u001b[49m\u001b[43m(\u001b[49m\u001b[43murl\u001b[49m\u001b[43m,\u001b[49m\u001b[43m \u001b[49m\u001b[43mparams\u001b[49m\u001b[38;5;241;43m=\u001b[39;49m\u001b[43mparams\u001b[49m\u001b[43m)\u001b[49m\n\u001b[1;32m    110\u001b[0m \u001b[38;5;28;01mif\u001b[39;00m r\u001b[38;5;241m.\u001b[39mstatus_code \u001b[38;5;241m==\u001b[39m \u001b[38;5;241m200\u001b[39m:\n\u001b[1;32m    111\u001b[0m     data \u001b[38;5;241m=\u001b[39m utils\u001b[38;5;241m.\u001b[39mformat_json(r\u001b[38;5;241m.\u001b[39mtext)\n",
      "File \u001b[0;32m~/.pyenv/versions/3.8.13/envs/SportsExperiencePlatform/lib/python3.8/site-packages/httpx/_client.py:755\u001b[0m, in \u001b[0;36mClient.get\u001b[0;34m(self, url, params, headers, cookies, auth, allow_redirects, timeout)\u001b[0m\n\u001b[1;32m    744\u001b[0m \u001b[38;5;28;01mdef\u001b[39;00m \u001b[38;5;21mget\u001b[39m(\n\u001b[1;32m    745\u001b[0m     \u001b[38;5;28mself\u001b[39m,\n\u001b[1;32m    746\u001b[0m     url: URLTypes,\n\u001b[0;32m   (...)\u001b[0m\n\u001b[1;32m    753\u001b[0m     timeout: typing\u001b[38;5;241m.\u001b[39mUnion[TimeoutTypes, UnsetType] \u001b[38;5;241m=\u001b[39m UNSET,\n\u001b[1;32m    754\u001b[0m ) \u001b[38;5;241m-\u001b[39m\u001b[38;5;241m>\u001b[39m Response:\n\u001b[0;32m--> 755\u001b[0m     \u001b[38;5;28;01mreturn\u001b[39;00m \u001b[38;5;28;43mself\u001b[39;49m\u001b[38;5;241;43m.\u001b[39;49m\u001b[43mrequest\u001b[49m\u001b[43m(\u001b[49m\n\u001b[1;32m    756\u001b[0m \u001b[43m        \u001b[49m\u001b[38;5;124;43m\"\u001b[39;49m\u001b[38;5;124;43mGET\u001b[39;49m\u001b[38;5;124;43m\"\u001b[39;49m\u001b[43m,\u001b[49m\n\u001b[1;32m    757\u001b[0m \u001b[43m        \u001b[49m\u001b[43murl\u001b[49m\u001b[43m,\u001b[49m\n\u001b[1;32m    758\u001b[0m \u001b[43m        \u001b[49m\u001b[43mparams\u001b[49m\u001b[38;5;241;43m=\u001b[39;49m\u001b[43mparams\u001b[49m\u001b[43m,\u001b[49m\n\u001b[1;32m    759\u001b[0m \u001b[43m        \u001b[49m\u001b[43mheaders\u001b[49m\u001b[38;5;241;43m=\u001b[39;49m\u001b[43mheaders\u001b[49m\u001b[43m,\u001b[49m\n\u001b[1;32m    760\u001b[0m \u001b[43m        \u001b[49m\u001b[43mcookies\u001b[49m\u001b[38;5;241;43m=\u001b[39;49m\u001b[43mcookies\u001b[49m\u001b[43m,\u001b[49m\n\u001b[1;32m    761\u001b[0m \u001b[43m        \u001b[49m\u001b[43mauth\u001b[49m\u001b[38;5;241;43m=\u001b[39;49m\u001b[43mauth\u001b[49m\u001b[43m,\u001b[49m\n\u001b[1;32m    762\u001b[0m \u001b[43m        \u001b[49m\u001b[43mallow_redirects\u001b[49m\u001b[38;5;241;43m=\u001b[39;49m\u001b[43mallow_redirects\u001b[49m\u001b[43m,\u001b[49m\n\u001b[1;32m    763\u001b[0m \u001b[43m        \u001b[49m\u001b[43mtimeout\u001b[49m\u001b[38;5;241;43m=\u001b[39;49m\u001b[43mtimeout\u001b[49m\u001b[43m,\u001b[49m\n\u001b[1;32m    764\u001b[0m \u001b[43m    \u001b[49m\u001b[43m)\u001b[49m\n",
      "File \u001b[0;32m~/.pyenv/versions/3.8.13/envs/SportsExperiencePlatform/lib/python3.8/site-packages/httpx/_client.py:600\u001b[0m, in \u001b[0;36mClient.request\u001b[0;34m(self, method, url, data, files, json, params, headers, cookies, auth, allow_redirects, timeout)\u001b[0m\n\u001b[1;32m    575\u001b[0m \u001b[38;5;28;01mdef\u001b[39;00m \u001b[38;5;21mrequest\u001b[39m(\n\u001b[1;32m    576\u001b[0m     \u001b[38;5;28mself\u001b[39m,\n\u001b[1;32m    577\u001b[0m     method: \u001b[38;5;28mstr\u001b[39m,\n\u001b[0;32m   (...)\u001b[0m\n\u001b[1;32m    588\u001b[0m     timeout: typing\u001b[38;5;241m.\u001b[39mUnion[TimeoutTypes, UnsetType] \u001b[38;5;241m=\u001b[39m UNSET,\n\u001b[1;32m    589\u001b[0m ) \u001b[38;5;241m-\u001b[39m\u001b[38;5;241m>\u001b[39m Response:\n\u001b[1;32m    590\u001b[0m     request \u001b[38;5;241m=\u001b[39m \u001b[38;5;28mself\u001b[39m\u001b[38;5;241m.\u001b[39mbuild_request(\n\u001b[1;32m    591\u001b[0m         method\u001b[38;5;241m=\u001b[39mmethod,\n\u001b[1;32m    592\u001b[0m         url\u001b[38;5;241m=\u001b[39murl,\n\u001b[0;32m   (...)\u001b[0m\n\u001b[1;32m    598\u001b[0m         cookies\u001b[38;5;241m=\u001b[39mcookies,\n\u001b[1;32m    599\u001b[0m     )\n\u001b[0;32m--> 600\u001b[0m     \u001b[38;5;28;01mreturn\u001b[39;00m \u001b[38;5;28;43mself\u001b[39;49m\u001b[38;5;241;43m.\u001b[39;49m\u001b[43msend\u001b[49m\u001b[43m(\u001b[49m\n\u001b[1;32m    601\u001b[0m \u001b[43m        \u001b[49m\u001b[43mrequest\u001b[49m\u001b[43m,\u001b[49m\u001b[43m \u001b[49m\u001b[43mauth\u001b[49m\u001b[38;5;241;43m=\u001b[39;49m\u001b[43mauth\u001b[49m\u001b[43m,\u001b[49m\u001b[43m \u001b[49m\u001b[43mallow_redirects\u001b[49m\u001b[38;5;241;43m=\u001b[39;49m\u001b[43mallow_redirects\u001b[49m\u001b[43m,\u001b[49m\u001b[43m \u001b[49m\u001b[43mtimeout\u001b[49m\u001b[38;5;241;43m=\u001b[39;49m\u001b[43mtimeout\u001b[49m\u001b[43m,\u001b[49m\n\u001b[1;32m    602\u001b[0m \u001b[43m    \u001b[49m\u001b[43m)\u001b[49m\n",
      "File \u001b[0;32m~/.pyenv/versions/3.8.13/envs/SportsExperiencePlatform/lib/python3.8/site-packages/httpx/_client.py:620\u001b[0m, in \u001b[0;36mClient.send\u001b[0;34m(self, request, stream, auth, allow_redirects, timeout)\u001b[0m\n\u001b[1;32m    616\u001b[0m timeout \u001b[38;5;241m=\u001b[39m \u001b[38;5;28mself\u001b[39m\u001b[38;5;241m.\u001b[39mtimeout \u001b[38;5;28;01mif\u001b[39;00m \u001b[38;5;28misinstance\u001b[39m(timeout, UnsetType) \u001b[38;5;28;01melse\u001b[39;00m Timeout(timeout)\n\u001b[1;32m    618\u001b[0m auth \u001b[38;5;241m=\u001b[39m \u001b[38;5;28mself\u001b[39m\u001b[38;5;241m.\u001b[39mbuild_auth(request, auth)\n\u001b[0;32m--> 620\u001b[0m response \u001b[38;5;241m=\u001b[39m \u001b[38;5;28;43mself\u001b[39;49m\u001b[38;5;241;43m.\u001b[39;49m\u001b[43msend_handling_redirects\u001b[49m\u001b[43m(\u001b[49m\n\u001b[1;32m    621\u001b[0m \u001b[43m    \u001b[49m\u001b[43mrequest\u001b[49m\u001b[43m,\u001b[49m\u001b[43m \u001b[49m\u001b[43mauth\u001b[49m\u001b[38;5;241;43m=\u001b[39;49m\u001b[43mauth\u001b[49m\u001b[43m,\u001b[49m\u001b[43m \u001b[49m\u001b[43mtimeout\u001b[49m\u001b[38;5;241;43m=\u001b[39;49m\u001b[43mtimeout\u001b[49m\u001b[43m,\u001b[49m\u001b[43m \u001b[49m\u001b[43mallow_redirects\u001b[49m\u001b[38;5;241;43m=\u001b[39;49m\u001b[43mallow_redirects\u001b[49m\u001b[43m,\u001b[49m\n\u001b[1;32m    622\u001b[0m \u001b[43m\u001b[49m\u001b[43m)\u001b[49m\n\u001b[1;32m    624\u001b[0m \u001b[38;5;28;01mif\u001b[39;00m \u001b[38;5;129;01mnot\u001b[39;00m stream:\n\u001b[1;32m    625\u001b[0m     \u001b[38;5;28;01mtry\u001b[39;00m:\n",
      "File \u001b[0;32m~/.pyenv/versions/3.8.13/envs/SportsExperiencePlatform/lib/python3.8/site-packages/httpx/_client.py:647\u001b[0m, in \u001b[0;36mClient.send_handling_redirects\u001b[0;34m(self, request, auth, timeout, allow_redirects, history)\u001b[0m\n\u001b[1;32m    644\u001b[0m \u001b[38;5;28;01mif\u001b[39;00m \u001b[38;5;28mlen\u001b[39m(history) \u001b[38;5;241m>\u001b[39m \u001b[38;5;28mself\u001b[39m\u001b[38;5;241m.\u001b[39mmax_redirects:\n\u001b[1;32m    645\u001b[0m     \u001b[38;5;28;01mraise\u001b[39;00m TooManyRedirects()\n\u001b[0;32m--> 647\u001b[0m response \u001b[38;5;241m=\u001b[39m \u001b[38;5;28;43mself\u001b[39;49m\u001b[38;5;241;43m.\u001b[39;49m\u001b[43msend_handling_auth\u001b[49m\u001b[43m(\u001b[49m\n\u001b[1;32m    648\u001b[0m \u001b[43m    \u001b[49m\u001b[43mrequest\u001b[49m\u001b[43m,\u001b[49m\u001b[43m \u001b[49m\u001b[43mauth\u001b[49m\u001b[38;5;241;43m=\u001b[39;49m\u001b[43mauth\u001b[49m\u001b[43m,\u001b[49m\u001b[43m \u001b[49m\u001b[43mtimeout\u001b[49m\u001b[38;5;241;43m=\u001b[39;49m\u001b[43mtimeout\u001b[49m\u001b[43m,\u001b[49m\u001b[43m \u001b[49m\u001b[43mhistory\u001b[49m\u001b[38;5;241;43m=\u001b[39;49m\u001b[43mhistory\u001b[49m\n\u001b[1;32m    649\u001b[0m \u001b[43m\u001b[49m\u001b[43m)\u001b[49m\n\u001b[1;32m    650\u001b[0m response\u001b[38;5;241m.\u001b[39mhistory \u001b[38;5;241m=\u001b[39m \u001b[38;5;28mlist\u001b[39m(history)\n\u001b[1;32m    652\u001b[0m \u001b[38;5;28;01mif\u001b[39;00m \u001b[38;5;129;01mnot\u001b[39;00m response\u001b[38;5;241m.\u001b[39mis_redirect:\n",
      "File \u001b[0;32m~/.pyenv/versions/3.8.13/envs/SportsExperiencePlatform/lib/python3.8/site-packages/httpx/_client.py:684\u001b[0m, in \u001b[0;36mClient.send_handling_auth\u001b[0;34m(self, request, history, auth, timeout)\u001b[0m\n\u001b[1;32m    682\u001b[0m request \u001b[38;5;241m=\u001b[39m \u001b[38;5;28mnext\u001b[39m(auth_flow)\n\u001b[1;32m    683\u001b[0m \u001b[38;5;28;01mwhile\u001b[39;00m \u001b[38;5;28;01mTrue\u001b[39;00m:\n\u001b[0;32m--> 684\u001b[0m     response \u001b[38;5;241m=\u001b[39m \u001b[38;5;28;43mself\u001b[39;49m\u001b[38;5;241;43m.\u001b[39;49m\u001b[43msend_single_request\u001b[49m\u001b[43m(\u001b[49m\u001b[43mrequest\u001b[49m\u001b[43m,\u001b[49m\u001b[43m \u001b[49m\u001b[43mtimeout\u001b[49m\u001b[43m)\u001b[49m\n\u001b[1;32m    685\u001b[0m     \u001b[38;5;28;01mif\u001b[39;00m auth\u001b[38;5;241m.\u001b[39mrequires_response_body:\n\u001b[1;32m    686\u001b[0m         response\u001b[38;5;241m.\u001b[39mread()\n",
      "File \u001b[0;32m~/.pyenv/versions/3.8.13/envs/SportsExperiencePlatform/lib/python3.8/site-packages/httpx/_client.py:714\u001b[0m, in \u001b[0;36mClient.send_single_request\u001b[0;34m(self, request, timeout)\u001b[0m\n\u001b[1;32m    705\u001b[0m transport \u001b[38;5;241m=\u001b[39m \u001b[38;5;28mself\u001b[39m\u001b[38;5;241m.\u001b[39mtransport_for_url(request\u001b[38;5;241m.\u001b[39murl)\n\u001b[1;32m    707\u001b[0m \u001b[38;5;28;01mtry\u001b[39;00m:\n\u001b[1;32m    708\u001b[0m     (\n\u001b[1;32m    709\u001b[0m         http_version,\n\u001b[1;32m    710\u001b[0m         status_code,\n\u001b[1;32m    711\u001b[0m         reason_phrase,\n\u001b[1;32m    712\u001b[0m         headers,\n\u001b[1;32m    713\u001b[0m         stream,\n\u001b[0;32m--> 714\u001b[0m     ) \u001b[38;5;241m=\u001b[39m \u001b[43mtransport\u001b[49m\u001b[38;5;241;43m.\u001b[39;49m\u001b[43mrequest\u001b[49m\u001b[43m(\u001b[49m\n\u001b[1;32m    715\u001b[0m \u001b[43m        \u001b[49m\u001b[43mrequest\u001b[49m\u001b[38;5;241;43m.\u001b[39;49m\u001b[43mmethod\u001b[49m\u001b[38;5;241;43m.\u001b[39;49m\u001b[43mencode\u001b[49m\u001b[43m(\u001b[49m\u001b[43m)\u001b[49m\u001b[43m,\u001b[49m\n\u001b[1;32m    716\u001b[0m \u001b[43m        \u001b[49m\u001b[43mrequest\u001b[49m\u001b[38;5;241;43m.\u001b[39;49m\u001b[43murl\u001b[49m\u001b[38;5;241;43m.\u001b[39;49m\u001b[43mraw\u001b[49m\u001b[43m,\u001b[49m\n\u001b[1;32m    717\u001b[0m \u001b[43m        \u001b[49m\u001b[43mheaders\u001b[49m\u001b[38;5;241;43m=\u001b[39;49m\u001b[43mrequest\u001b[49m\u001b[38;5;241;43m.\u001b[39;49m\u001b[43mheaders\u001b[49m\u001b[38;5;241;43m.\u001b[39;49m\u001b[43mraw\u001b[49m\u001b[43m,\u001b[49m\n\u001b[1;32m    718\u001b[0m \u001b[43m        \u001b[49m\u001b[43mstream\u001b[49m\u001b[38;5;241;43m=\u001b[39;49m\u001b[43mrequest\u001b[49m\u001b[38;5;241;43m.\u001b[39;49m\u001b[43mstream\u001b[49m\u001b[43m,\u001b[49m\n\u001b[1;32m    719\u001b[0m \u001b[43m        \u001b[49m\u001b[43mtimeout\u001b[49m\u001b[38;5;241;43m=\u001b[39;49m\u001b[43mtimeout\u001b[49m\u001b[38;5;241;43m.\u001b[39;49m\u001b[43mas_dict\u001b[49m\u001b[43m(\u001b[49m\u001b[43m)\u001b[49m\u001b[43m,\u001b[49m\n\u001b[1;32m    720\u001b[0m \u001b[43m    \u001b[49m\u001b[43m)\u001b[49m\n\u001b[1;32m    721\u001b[0m \u001b[38;5;28;01mexcept\u001b[39;00m HTTPError \u001b[38;5;28;01mas\u001b[39;00m exc:\n\u001b[1;32m    722\u001b[0m     \u001b[38;5;66;03m# Add the original request to any HTTPError unless\u001b[39;00m\n\u001b[1;32m    723\u001b[0m     \u001b[38;5;66;03m# there'a already a request attached in the case of\u001b[39;00m\n\u001b[1;32m    724\u001b[0m     \u001b[38;5;66;03m# a ProxyError.\u001b[39;00m\n\u001b[1;32m    725\u001b[0m     \u001b[38;5;28;01mif\u001b[39;00m exc\u001b[38;5;241m.\u001b[39m_request \u001b[38;5;129;01mis\u001b[39;00m \u001b[38;5;28;01mNone\u001b[39;00m:\n",
      "File \u001b[0;32m~/.pyenv/versions/3.8.13/envs/SportsExperiencePlatform/lib/python3.8/site-packages/httpcore/_sync/connection_pool.py:152\u001b[0m, in \u001b[0;36mSyncConnectionPool.request\u001b[0;34m(self, method, url, headers, stream, timeout)\u001b[0m\n\u001b[1;32m    149\u001b[0m         logger\u001b[38;5;241m.\u001b[39mtrace(\u001b[38;5;124m\"\u001b[39m\u001b[38;5;124mreuse connection=\u001b[39m\u001b[38;5;132;01m%r\u001b[39;00m\u001b[38;5;124m\"\u001b[39m, connection)\n\u001b[1;32m    151\u001b[0m \u001b[38;5;28;01mtry\u001b[39;00m:\n\u001b[0;32m--> 152\u001b[0m     response \u001b[38;5;241m=\u001b[39m \u001b[43mconnection\u001b[49m\u001b[38;5;241;43m.\u001b[39;49m\u001b[43mrequest\u001b[49m\u001b[43m(\u001b[49m\n\u001b[1;32m    153\u001b[0m \u001b[43m        \u001b[49m\u001b[43mmethod\u001b[49m\u001b[43m,\u001b[49m\u001b[43m \u001b[49m\u001b[43murl\u001b[49m\u001b[43m,\u001b[49m\u001b[43m \u001b[49m\u001b[43mheaders\u001b[49m\u001b[38;5;241;43m=\u001b[39;49m\u001b[43mheaders\u001b[49m\u001b[43m,\u001b[49m\u001b[43m \u001b[49m\u001b[43mstream\u001b[49m\u001b[38;5;241;43m=\u001b[39;49m\u001b[43mstream\u001b[49m\u001b[43m,\u001b[49m\u001b[43m \u001b[49m\u001b[43mtimeout\u001b[49m\u001b[38;5;241;43m=\u001b[39;49m\u001b[43mtimeout\u001b[49m\n\u001b[1;32m    154\u001b[0m \u001b[43m    \u001b[49m\u001b[43m)\u001b[49m\n\u001b[1;32m    155\u001b[0m \u001b[38;5;28;01mexcept\u001b[39;00m NewConnectionRequired:\n\u001b[1;32m    156\u001b[0m     connection \u001b[38;5;241m=\u001b[39m \u001b[38;5;28;01mNone\u001b[39;00m\n",
      "File \u001b[0;32m~/.pyenv/versions/3.8.13/envs/SportsExperiencePlatform/lib/python3.8/site-packages/httpcore/_sync/connection.py:78\u001b[0m, in \u001b[0;36mSyncHTTPConnection.request\u001b[0;34m(self, method, url, headers, stream, timeout)\u001b[0m\n\u001b[1;32m     74\u001b[0m \u001b[38;5;28;01massert\u001b[39;00m \u001b[38;5;28mself\u001b[39m\u001b[38;5;241m.\u001b[39mconnection \u001b[38;5;129;01mis\u001b[39;00m \u001b[38;5;129;01mnot\u001b[39;00m \u001b[38;5;28;01mNone\u001b[39;00m\n\u001b[1;32m     75\u001b[0m logger\u001b[38;5;241m.\u001b[39mtrace(\n\u001b[1;32m     76\u001b[0m     \u001b[38;5;124m\"\u001b[39m\u001b[38;5;124mconnection.request method=\u001b[39m\u001b[38;5;132;01m%r\u001b[39;00m\u001b[38;5;124m url=\u001b[39m\u001b[38;5;132;01m%r\u001b[39;00m\u001b[38;5;124m headers=\u001b[39m\u001b[38;5;132;01m%r\u001b[39;00m\u001b[38;5;124m\"\u001b[39m, method, url, headers\n\u001b[1;32m     77\u001b[0m )\n\u001b[0;32m---> 78\u001b[0m \u001b[38;5;28;01mreturn\u001b[39;00m \u001b[38;5;28;43mself\u001b[39;49m\u001b[38;5;241;43m.\u001b[39;49m\u001b[43mconnection\u001b[49m\u001b[38;5;241;43m.\u001b[39;49m\u001b[43mrequest\u001b[49m\u001b[43m(\u001b[49m\u001b[43mmethod\u001b[49m\u001b[43m,\u001b[49m\u001b[43m \u001b[49m\u001b[43murl\u001b[49m\u001b[43m,\u001b[49m\u001b[43m \u001b[49m\u001b[43mheaders\u001b[49m\u001b[43m,\u001b[49m\u001b[43m \u001b[49m\u001b[43mstream\u001b[49m\u001b[43m,\u001b[49m\u001b[43m \u001b[49m\u001b[43mtimeout\u001b[49m\u001b[43m)\u001b[49m\n",
      "File \u001b[0;32m~/.pyenv/versions/3.8.13/envs/SportsExperiencePlatform/lib/python3.8/site-packages/httpcore/_sync/http2.py:118\u001b[0m, in \u001b[0;36mSyncHTTP2Connection.request\u001b[0;34m(self, method, url, headers, stream, timeout)\u001b[0m\n\u001b[1;32m    116\u001b[0m     \u001b[38;5;28mself\u001b[39m\u001b[38;5;241m.\u001b[39mstreams[stream_id] \u001b[38;5;241m=\u001b[39m h2_stream\n\u001b[1;32m    117\u001b[0m     \u001b[38;5;28mself\u001b[39m\u001b[38;5;241m.\u001b[39mevents[stream_id] \u001b[38;5;241m=\u001b[39m []\n\u001b[0;32m--> 118\u001b[0m     \u001b[38;5;28;01mreturn\u001b[39;00m \u001b[43mh2_stream\u001b[49m\u001b[38;5;241;43m.\u001b[39;49m\u001b[43mrequest\u001b[49m\u001b[43m(\u001b[49m\u001b[43mmethod\u001b[49m\u001b[43m,\u001b[49m\u001b[43m \u001b[49m\u001b[43murl\u001b[49m\u001b[43m,\u001b[49m\u001b[43m \u001b[49m\u001b[43mheaders\u001b[49m\u001b[43m,\u001b[49m\u001b[43m \u001b[49m\u001b[43mstream\u001b[49m\u001b[43m,\u001b[49m\u001b[43m \u001b[49m\u001b[43mtimeout\u001b[49m\u001b[43m)\u001b[49m\n\u001b[1;32m    119\u001b[0m \u001b[38;5;28;01mexcept\u001b[39;00m \u001b[38;5;167;01mException\u001b[39;00m:\n\u001b[1;32m    120\u001b[0m     \u001b[38;5;28mself\u001b[39m\u001b[38;5;241m.\u001b[39mmax_streams_semaphore\u001b[38;5;241m.\u001b[39mrelease()\n",
      "File \u001b[0;32m~/.pyenv/versions/3.8.13/envs/SportsExperiencePlatform/lib/python3.8/site-packages/httpcore/_sync/http2.py:292\u001b[0m, in \u001b[0;36mSyncHTTP2Stream.request\u001b[0;34m(self, method, url, headers, stream, timeout)\u001b[0m\n\u001b[1;32m    289\u001b[0m     \u001b[38;5;28mself\u001b[39m\u001b[38;5;241m.\u001b[39msend_body(stream, timeout)\n\u001b[1;32m    291\u001b[0m \u001b[38;5;66;03m# Receive the response.\u001b[39;00m\n\u001b[0;32m--> 292\u001b[0m status_code, headers \u001b[38;5;241m=\u001b[39m \u001b[38;5;28;43mself\u001b[39;49m\u001b[38;5;241;43m.\u001b[39;49m\u001b[43mreceive_response\u001b[49m\u001b[43m(\u001b[49m\u001b[43mtimeout\u001b[49m\u001b[43m)\u001b[49m\n\u001b[1;32m    293\u001b[0m reason_phrase \u001b[38;5;241m=\u001b[39m get_reason_phrase(status_code)\n\u001b[1;32m    294\u001b[0m stream \u001b[38;5;241m=\u001b[39m SyncByteStream(\n\u001b[1;32m    295\u001b[0m     iterator\u001b[38;5;241m=\u001b[39m\u001b[38;5;28mself\u001b[39m\u001b[38;5;241m.\u001b[39mbody_iter(timeout), close_func\u001b[38;5;241m=\u001b[39m\u001b[38;5;28mself\u001b[39m\u001b[38;5;241m.\u001b[39m_response_closed\n\u001b[1;32m    296\u001b[0m )\n",
      "File \u001b[0;32m~/.pyenv/versions/3.8.13/envs/SportsExperiencePlatform/lib/python3.8/site-packages/httpcore/_sync/http2.py:344\u001b[0m, in \u001b[0;36mSyncHTTP2Stream.receive_response\u001b[0;34m(self, timeout)\u001b[0m\n\u001b[1;32m    340\u001b[0m \u001b[38;5;124;03m\"\"\"\u001b[39;00m\n\u001b[1;32m    341\u001b[0m \u001b[38;5;124;03mRead the response status and headers from the network.\u001b[39;00m\n\u001b[1;32m    342\u001b[0m \u001b[38;5;124;03m\"\"\"\u001b[39;00m\n\u001b[1;32m    343\u001b[0m \u001b[38;5;28;01mwhile\u001b[39;00m \u001b[38;5;28;01mTrue\u001b[39;00m:\n\u001b[0;32m--> 344\u001b[0m     event \u001b[38;5;241m=\u001b[39m \u001b[38;5;28;43mself\u001b[39;49m\u001b[38;5;241;43m.\u001b[39;49m\u001b[43mconnection\u001b[49m\u001b[38;5;241;43m.\u001b[39;49m\u001b[43mwait_for_event\u001b[49m\u001b[43m(\u001b[49m\u001b[38;5;28;43mself\u001b[39;49m\u001b[38;5;241;43m.\u001b[39;49m\u001b[43mstream_id\u001b[49m\u001b[43m,\u001b[49m\u001b[43m \u001b[49m\u001b[43mtimeout\u001b[49m\u001b[43m)\u001b[49m\n\u001b[1;32m    345\u001b[0m     \u001b[38;5;28;01mif\u001b[39;00m \u001b[38;5;28misinstance\u001b[39m(event, h2\u001b[38;5;241m.\u001b[39mevents\u001b[38;5;241m.\u001b[39mResponseReceived):\n\u001b[1;32m    346\u001b[0m         \u001b[38;5;28;01mbreak\u001b[39;00m\n",
      "File \u001b[0;32m~/.pyenv/versions/3.8.13/envs/SportsExperiencePlatform/lib/python3.8/site-packages/httpcore/_sync/http2.py:197\u001b[0m, in \u001b[0;36mSyncHTTP2Connection.wait_for_event\u001b[0;34m(self, stream_id, timeout)\u001b[0m\n\u001b[1;32m    195\u001b[0m \u001b[38;5;28;01mwith\u001b[39;00m \u001b[38;5;28mself\u001b[39m\u001b[38;5;241m.\u001b[39mread_lock:\n\u001b[1;32m    196\u001b[0m     \u001b[38;5;28;01mwhile\u001b[39;00m \u001b[38;5;129;01mnot\u001b[39;00m \u001b[38;5;28mself\u001b[39m\u001b[38;5;241m.\u001b[39mevents[stream_id]:\n\u001b[0;32m--> 197\u001b[0m         \u001b[38;5;28;43mself\u001b[39;49m\u001b[38;5;241;43m.\u001b[39;49m\u001b[43mreceive_events\u001b[49m\u001b[43m(\u001b[49m\u001b[43mtimeout\u001b[49m\u001b[43m)\u001b[49m\n\u001b[1;32m    198\u001b[0m \u001b[38;5;28;01mreturn\u001b[39;00m \u001b[38;5;28mself\u001b[39m\u001b[38;5;241m.\u001b[39mevents[stream_id]\u001b[38;5;241m.\u001b[39mpop(\u001b[38;5;241m0\u001b[39m)\n",
      "File \u001b[0;32m~/.pyenv/versions/3.8.13/envs/SportsExperiencePlatform/lib/python3.8/site-packages/httpcore/_sync/http2.py:204\u001b[0m, in \u001b[0;36mSyncHTTP2Connection.receive_events\u001b[0;34m(self, timeout)\u001b[0m\n\u001b[1;32m    200\u001b[0m \u001b[38;5;28;01mdef\u001b[39;00m \u001b[38;5;21mreceive_events\u001b[39m(\u001b[38;5;28mself\u001b[39m, timeout: TimeoutDict) \u001b[38;5;241m-\u001b[39m\u001b[38;5;241m>\u001b[39m \u001b[38;5;28;01mNone\u001b[39;00m:\n\u001b[1;32m    201\u001b[0m     \u001b[38;5;124;03m\"\"\"\u001b[39;00m\n\u001b[1;32m    202\u001b[0m \u001b[38;5;124;03m    Read some data from the network, and update the H2 state.\u001b[39;00m\n\u001b[1;32m    203\u001b[0m \u001b[38;5;124;03m    \"\"\"\u001b[39;00m\n\u001b[0;32m--> 204\u001b[0m     data \u001b[38;5;241m=\u001b[39m \u001b[38;5;28;43mself\u001b[39;49m\u001b[38;5;241;43m.\u001b[39;49m\u001b[43msocket\u001b[49m\u001b[38;5;241;43m.\u001b[39;49m\u001b[43mread\u001b[49m\u001b[43m(\u001b[49m\u001b[38;5;28;43mself\u001b[39;49m\u001b[38;5;241;43m.\u001b[39;49m\u001b[43mREAD_NUM_BYTES\u001b[49m\u001b[43m,\u001b[49m\u001b[43m \u001b[49m\u001b[43mtimeout\u001b[49m\u001b[43m)\u001b[49m\n\u001b[1;32m    205\u001b[0m     events \u001b[38;5;241m=\u001b[39m \u001b[38;5;28mself\u001b[39m\u001b[38;5;241m.\u001b[39mh2_state\u001b[38;5;241m.\u001b[39mreceive_data(data)\n\u001b[1;32m    206\u001b[0m     \u001b[38;5;28;01mfor\u001b[39;00m event \u001b[38;5;129;01min\u001b[39;00m events:\n",
      "File \u001b[0;32m~/.pyenv/versions/3.8.13/envs/SportsExperiencePlatform/lib/python3.8/site-packages/httpcore/_backends/sync.py:62\u001b[0m, in \u001b[0;36mSyncSocketStream.read\u001b[0;34m(self, n, timeout)\u001b[0m\n\u001b[1;32m     60\u001b[0m \u001b[38;5;28;01mwith\u001b[39;00m map_exceptions(exc_map):\n\u001b[1;32m     61\u001b[0m     \u001b[38;5;28mself\u001b[39m\u001b[38;5;241m.\u001b[39msock\u001b[38;5;241m.\u001b[39msettimeout(read_timeout)\n\u001b[0;32m---> 62\u001b[0m     \u001b[38;5;28;01mreturn\u001b[39;00m \u001b[38;5;28mself\u001b[39m\u001b[38;5;241m.\u001b[39msock\u001b[38;5;241m.\u001b[39mrecv(n)\n",
      "File \u001b[0;32m~/.pyenv/versions/3.8.13/lib/python3.8/contextlib.py:131\u001b[0m, in \u001b[0;36m_GeneratorContextManager.__exit__\u001b[0;34m(self, type, value, traceback)\u001b[0m\n\u001b[1;32m    129\u001b[0m     value \u001b[38;5;241m=\u001b[39m \u001b[38;5;28mtype\u001b[39m()\n\u001b[1;32m    130\u001b[0m \u001b[38;5;28;01mtry\u001b[39;00m:\n\u001b[0;32m--> 131\u001b[0m     \u001b[38;5;28;43mself\u001b[39;49m\u001b[38;5;241;43m.\u001b[39;49m\u001b[43mgen\u001b[49m\u001b[38;5;241;43m.\u001b[39;49m\u001b[43mthrow\u001b[49m\u001b[43m(\u001b[49m\u001b[38;5;28;43mtype\u001b[39;49m\u001b[43m,\u001b[49m\u001b[43m \u001b[49m\u001b[43mvalue\u001b[49m\u001b[43m,\u001b[49m\u001b[43m \u001b[49m\u001b[43mtraceback\u001b[49m\u001b[43m)\u001b[49m\n\u001b[1;32m    132\u001b[0m \u001b[38;5;28;01mexcept\u001b[39;00m \u001b[38;5;167;01mStopIteration\u001b[39;00m \u001b[38;5;28;01mas\u001b[39;00m exc:\n\u001b[1;32m    133\u001b[0m     \u001b[38;5;66;03m# Suppress StopIteration *unless* it's the same exception that\u001b[39;00m\n\u001b[1;32m    134\u001b[0m     \u001b[38;5;66;03m# was passed to throw().  This prevents a StopIteration\u001b[39;00m\n\u001b[1;32m    135\u001b[0m     \u001b[38;5;66;03m# raised inside the \"with\" statement from being suppressed.\u001b[39;00m\n\u001b[1;32m    136\u001b[0m     \u001b[38;5;28;01mreturn\u001b[39;00m exc \u001b[38;5;129;01mis\u001b[39;00m \u001b[38;5;129;01mnot\u001b[39;00m value\n",
      "File \u001b[0;32m~/.pyenv/versions/3.8.13/envs/SportsExperiencePlatform/lib/python3.8/site-packages/httpcore/_exceptions.py:12\u001b[0m, in \u001b[0;36mmap_exceptions\u001b[0;34m(map)\u001b[0m\n\u001b[1;32m     10\u001b[0m \u001b[38;5;28;01mfor\u001b[39;00m from_exc, to_exc \u001b[38;5;129;01min\u001b[39;00m \u001b[38;5;28mmap\u001b[39m\u001b[38;5;241m.\u001b[39mitems():\n\u001b[1;32m     11\u001b[0m     \u001b[38;5;28;01mif\u001b[39;00m \u001b[38;5;28misinstance\u001b[39m(exc, from_exc):\n\u001b[0;32m---> 12\u001b[0m         \u001b[38;5;28;01mraise\u001b[39;00m to_exc(exc) \u001b[38;5;28;01mfrom\u001b[39;00m \u001b[38;5;28mNone\u001b[39m\n\u001b[1;32m     13\u001b[0m \u001b[38;5;28;01mraise\u001b[39;00m\n",
      "\u001b[0;31mReadError\u001b[0m: [Errno 54] Connection reset by peer"
     ]
    }
   ],
   "source": [
    "# events_df['translated_title'] = events_df['title'].apply(lambda x: language_translation(x))\n",
    "# events_df['translated_description'] = events_df['description'].apply(lambda x: language_translation(x))"
   ]
  },
  {
   "cell_type": "code",
   "execution_count": 29,
   "id": "07a5bac1",
   "metadata": {},
   "outputs": [],
   "source": [
    "8# load spacy\n",
    "nlp = spacy.load('en_core_web_sm')\n",
    "\n",
    "def clean_string(text,stem=\"None\"):\n",
    "\n",
    "    final_string = \"\"\n",
    "\n",
    "    # make lower\n",
    "    text = text.lower()\n",
    "    \n",
    "    # remove http\n",
    "    text = re.sub(r\"http.*\\.[a-z]{2,3}\",\"\",text)\n",
    "\n",
    "    # remove www\n",
    "    text = re.sub(r\"www.*\\.[a-z]{2,3}\",\"\",text)\n",
    "    \n",
    "    # remove line breaks\n",
    "    text = re.sub(r'\\n','',text)\n",
    "\n",
    "    # remove puncuation\n",
    "    translator = str.maketrans('','',string.punctuation)\n",
    "    text = text.translate(translator)\n",
    "\n",
    "    # remove stop words\n",
    "    text = text.split()\n",
    "    useless_words = nltk.corpus.stopwords.words(\"english\")\n",
    "    text_filtered = [word for word in text if not word in useless_words]\n",
    "\n",
    "    # remove numbers\n",
    "    text_filtered = [re.sub(r'\\w*\\d\\w*','',w) for w in text_filtered]\n",
    "\n",
    "    # stem or lemmatize\n",
    "    if stem == 'Stem':\n",
    "        stemmer = PorterStemmer() \n",
    "        text_stemmed = [stemmer.stem(y) for y in text_filtered]\n",
    "    elif stem == 'Lem':\n",
    "        lem = WordNetLemmatizer()\n",
    "        text_stemmed = [lem.lemmatize(y) for y in text_filtered]\n",
    "    elif stem == 'Spacy':\n",
    "        text_filtered = nlp(' '.join(text_filtered))\n",
    "        text_stemmed = [y.lemma_ for y in text_filtered]\n",
    "    else:\n",
    "        text_stemmed = text_filtered\n",
    "\n",
    "    final_string = ' '.join(text_stemmed)\n",
    "\n",
    "    return final_string\n",
    "        \n",
    "        "
   ]
  },
  {
   "cell_type": "code",
   "execution_count": null,
   "id": "d1c0a99a",
   "metadata": {},
   "outputs": [],
   "source": [
    "# events_df['clean_description'] = events_df['translated_description'].apply(lambda x: clean_string(x))\n",
    "# events_df['clean_title'] = events_df['translated_title'].apply(lambda x: clean_string(x))"
   ]
  },
  {
   "cell_type": "code",
   "execution_count": 30,
   "id": "ce3152ff",
   "metadata": {},
   "outputs": [],
   "source": [
    "events_df['clean_description'] = events_df['description'].apply(lambda x: clean_string(x))\n",
    "events_df['clean_title'] = events_df['title'].apply(lambda x: clean_string(x))"
   ]
  },
  {
   "cell_type": "code",
   "execution_count": null,
   "id": "7dfc29a0",
   "metadata": {},
   "outputs": [],
   "source": []
  },
  {
   "cell_type": "code",
   "execution_count": null,
   "id": "a709fdb2",
   "metadata": {},
   "outputs": [],
   "source": []
  },
  {
   "cell_type": "code",
   "execution_count": null,
   "id": "ec7045fe",
   "metadata": {},
   "outputs": [],
   "source": []
  },
  {
   "cell_type": "code",
   "execution_count": null,
   "id": "c6a77008",
   "metadata": {},
   "outputs": [],
   "source": []
  },
  {
   "cell_type": "code",
   "execution_count": null,
   "id": "1af687f2",
   "metadata": {},
   "outputs": [],
   "source": []
  },
  {
   "cell_type": "code",
   "execution_count": null,
   "id": "fd73c3ba",
   "metadata": {},
   "outputs": [],
   "source": []
  },
  {
   "cell_type": "code",
   "execution_count": null,
   "id": "8d8d6688",
   "metadata": {},
   "outputs": [],
   "source": [
    "# events_df['translated_title'] = events_df['title'].apply(lambda x: language_translation(x))\n",
    "# events_df['translated_description'] = events_df['description'].apply(lambda x: language_translation(x))"
   ]
  },
  {
   "cell_type": "code",
   "execution_count": null,
   "id": "43f74286",
   "metadata": {},
   "outputs": [],
   "source": []
  },
  {
   "cell_type": "code",
   "execution_count": 31,
   "id": "108eceec",
   "metadata": {},
   "outputs": [
    {
     "data": {
      "text/plain": [
       "array([64, 55, 65, 60, 56, 59])"
      ]
     },
     "execution_count": 31,
     "metadata": {},
     "output_type": "execute_result"
    }
   ],
   "source": [
    "ahoy_events_df.user_id.unique()"
   ]
  },
  {
   "cell_type": "code",
   "execution_count": 32,
   "id": "ad1e06ae",
   "metadata": {},
   "outputs": [
    {
     "data": {
      "text/html": [
       "<div>\n",
       "<style scoped>\n",
       "    .dataframe tbody tr th:only-of-type {\n",
       "        vertical-align: middle;\n",
       "    }\n",
       "\n",
       "    .dataframe tbody tr th {\n",
       "        vertical-align: top;\n",
       "    }\n",
       "\n",
       "    .dataframe thead th {\n",
       "        text-align: right;\n",
       "    }\n",
       "</style>\n",
       "<table border=\"1\" class=\"dataframe\">\n",
       "  <thead>\n",
       "    <tr style=\"text-align: right;\">\n",
       "      <th></th>\n",
       "      <th>id</th>\n",
       "      <th>email</th>\n",
       "      <th>encrypted_password</th>\n",
       "      <th>reset_password_token</th>\n",
       "      <th>reset_password_sent_at</th>\n",
       "      <th>remember_created_at</th>\n",
       "      <th>created_at</th>\n",
       "      <th>updated_at</th>\n",
       "      <th>first_name</th>\n",
       "      <th>last_name</th>\n",
       "      <th>description</th>\n",
       "      <th>date_of_birth</th>\n",
       "      <th>gender</th>\n",
       "      <th>location</th>\n",
       "      <th>latitude</th>\n",
       "      <th>longitude</th>\n",
       "    </tr>\n",
       "  </thead>\n",
       "  <tbody>\n",
       "    <tr>\n",
       "      <th>0</th>\n",
       "      <td>55.0</td>\n",
       "      <td>johanna@gmail.com</td>\n",
       "      <td>$2a$12$CqtujmUxnctn4PYh/LQ7Yen4N9zGBa8mAkW5lJk...</td>\n",
       "      <td>None</td>\n",
       "      <td>None</td>\n",
       "      <td>NaT</td>\n",
       "      <td>2022-05-28 12:26:38.267750</td>\n",
       "      <td>2022-05-28 12:26:38.283275</td>\n",
       "      <td>Johanna</td>\n",
       "      <td>Maier</td>\n",
       "      <td>Hi, my name is Johanna! I want to go on my nex...</td>\n",
       "      <td>1993-01-25</td>\n",
       "      <td>female</td>\n",
       "      <td>Munich</td>\n",
       "      <td>48.135124</td>\n",
       "      <td>11.581981</td>\n",
       "    </tr>\n",
       "    <tr>\n",
       "      <th>1</th>\n",
       "      <td>56.0</td>\n",
       "      <td>anjali@gmail.com</td>\n",
       "      <td>$2a$12$zoaJySL5quI21u316oCrzuwLap5n3iaoJoFEt8O...</td>\n",
       "      <td>None</td>\n",
       "      <td>None</td>\n",
       "      <td>NaT</td>\n",
       "      <td>2022-05-28 12:26:39.191914</td>\n",
       "      <td>2022-05-28 12:26:39.203232</td>\n",
       "      <td>Anjali</td>\n",
       "      <td>Kumar</td>\n",
       "      <td>Hi, my name is Anjali! I want to go on my next...</td>\n",
       "      <td>1993-01-25</td>\n",
       "      <td>female</td>\n",
       "      <td>Berlin</td>\n",
       "      <td>52.520008</td>\n",
       "      <td>13.404954</td>\n",
       "    </tr>\n",
       "    <tr>\n",
       "      <th>2</th>\n",
       "      <td>57.0</td>\n",
       "      <td>alexandra@gmail.com</td>\n",
       "      <td>$2a$12$EFJExS3e79KnS1Sj5SU7iuA0oE4Fe3cghnIcWCj...</td>\n",
       "      <td>None</td>\n",
       "      <td>None</td>\n",
       "      <td>NaT</td>\n",
       "      <td>2022-05-28 12:26:40.648549</td>\n",
       "      <td>2022-05-28 12:26:40.656142</td>\n",
       "      <td>Alexandra</td>\n",
       "      <td>Stroe</td>\n",
       "      <td>Hi, my name is Alexandra! I want to go on my n...</td>\n",
       "      <td>1993-01-25</td>\n",
       "      <td>female</td>\n",
       "      <td>Berlin</td>\n",
       "      <td>52.520008</td>\n",
       "      <td>13.404954</td>\n",
       "    </tr>\n",
       "    <tr>\n",
       "      <th>3</th>\n",
       "      <td>58.0</td>\n",
       "      <td>ieva@gmail.com</td>\n",
       "      <td>$2a$12$2KfdqVXZIU7RbiktQW1GAuaBnIcIfHBSc68kwWc...</td>\n",
       "      <td>None</td>\n",
       "      <td>None</td>\n",
       "      <td>NaT</td>\n",
       "      <td>2022-05-28 12:26:41.476255</td>\n",
       "      <td>2022-05-28 12:26:41.484819</td>\n",
       "      <td>Ieva</td>\n",
       "      <td>Jirgensone</td>\n",
       "      <td>Hi, my name is Ieva! I want to go on my next s...</td>\n",
       "      <td>1993-01-25</td>\n",
       "      <td>female</td>\n",
       "      <td>Hamburg</td>\n",
       "      <td>53.551086</td>\n",
       "      <td>9.993682</td>\n",
       "    </tr>\n",
       "    <tr>\n",
       "      <th>4</th>\n",
       "      <td>61.0</td>\n",
       "      <td>shreetama@gmail.com</td>\n",
       "      <td>$2a$12$Y3BZQdV7MhHLkHWNjXNI2.0/xszGFofvoLFtvwq...</td>\n",
       "      <td>None</td>\n",
       "      <td>None</td>\n",
       "      <td>NaT</td>\n",
       "      <td>2022-05-28 12:26:43.898237</td>\n",
       "      <td>2022-05-28 12:26:43.910509</td>\n",
       "      <td>Shreetama</td>\n",
       "      <td>Karmakar</td>\n",
       "      <td>Hi, my name is Shreetama! I want to go on my n...</td>\n",
       "      <td>1993-01-25</td>\n",
       "      <td>female</td>\n",
       "      <td>Cologne</td>\n",
       "      <td>50.937531</td>\n",
       "      <td>6.960279</td>\n",
       "    </tr>\n",
       "  </tbody>\n",
       "</table>\n",
       "</div>"
      ],
      "text/plain": [
       "     id                email  \\\n",
       "0  55.0    johanna@gmail.com   \n",
       "1  56.0     anjali@gmail.com   \n",
       "2  57.0  alexandra@gmail.com   \n",
       "3  58.0       ieva@gmail.com   \n",
       "4  61.0  shreetama@gmail.com   \n",
       "\n",
       "                                  encrypted_password reset_password_token  \\\n",
       "0  $2a$12$CqtujmUxnctn4PYh/LQ7Yen4N9zGBa8mAkW5lJk...                 None   \n",
       "1  $2a$12$zoaJySL5quI21u316oCrzuwLap5n3iaoJoFEt8O...                 None   \n",
       "2  $2a$12$EFJExS3e79KnS1Sj5SU7iuA0oE4Fe3cghnIcWCj...                 None   \n",
       "3  $2a$12$2KfdqVXZIU7RbiktQW1GAuaBnIcIfHBSc68kwWc...                 None   \n",
       "4  $2a$12$Y3BZQdV7MhHLkHWNjXNI2.0/xszGFofvoLFtvwq...                 None   \n",
       "\n",
       "  reset_password_sent_at remember_created_at                 created_at  \\\n",
       "0                   None                 NaT 2022-05-28 12:26:38.267750   \n",
       "1                   None                 NaT 2022-05-28 12:26:39.191914   \n",
       "2                   None                 NaT 2022-05-28 12:26:40.648549   \n",
       "3                   None                 NaT 2022-05-28 12:26:41.476255   \n",
       "4                   None                 NaT 2022-05-28 12:26:43.898237   \n",
       "\n",
       "                  updated_at first_name   last_name  \\\n",
       "0 2022-05-28 12:26:38.283275    Johanna       Maier   \n",
       "1 2022-05-28 12:26:39.203232     Anjali       Kumar   \n",
       "2 2022-05-28 12:26:40.656142  Alexandra       Stroe   \n",
       "3 2022-05-28 12:26:41.484819       Ieva  Jirgensone   \n",
       "4 2022-05-28 12:26:43.910509  Shreetama    Karmakar   \n",
       "\n",
       "                                         description date_of_birth  gender  \\\n",
       "0  Hi, my name is Johanna! I want to go on my nex...    1993-01-25  female   \n",
       "1  Hi, my name is Anjali! I want to go on my next...    1993-01-25  female   \n",
       "2  Hi, my name is Alexandra! I want to go on my n...    1993-01-25  female   \n",
       "3  Hi, my name is Ieva! I want to go on my next s...    1993-01-25  female   \n",
       "4  Hi, my name is Shreetama! I want to go on my n...    1993-01-25  female   \n",
       "\n",
       "  location   latitude  longitude  \n",
       "0   Munich  48.135124  11.581981  \n",
       "1   Berlin  52.520008  13.404954  \n",
       "2   Berlin  52.520008  13.404954  \n",
       "3  Hamburg  53.551086   9.993682  \n",
       "4  Cologne  50.937531   6.960279  "
      ]
     },
     "execution_count": 32,
     "metadata": {},
     "output_type": "execute_result"
    }
   ],
   "source": [
    "users_df.head()"
   ]
  },
  {
   "cell_type": "code",
   "execution_count": 33,
   "id": "bcc31cfd",
   "metadata": {},
   "outputs": [
    {
     "data": {
      "text/plain": [
       "882"
      ]
     },
     "execution_count": 33,
     "metadata": {},
     "output_type": "execute_result"
    }
   ],
   "source": [
    "events_df.shape[0]"
   ]
  },
  {
   "cell_type": "code",
   "execution_count": 34,
   "id": "0cbcf46f",
   "metadata": {},
   "outputs": [
    {
     "data": {
      "text/plain": [
       "\"On this hike you can join a small group of passionate campers and hikers from this event: [https://www.meetup.com/BerlinTravel-Meetup/events/286074116/](https://www.meetup.com/BerlinTravel-Meetup/events/286074116/). On our way, there will be several swimming opportunities - fingers crossed that the weather will be good enough!\\n\\n**Tour highlights**\\n\\n* Lake Großer Wentowsee\\n* Many little artificial lakes\\n* [Ziegeleipark Mildenberg](https://www.ziegeleipark.de/)\\n* Complete route: [View in browser](https://t1p.de/czsch) & [download as GPX/KML](https://easyupload.io/m/ohtsck)\\n\\n**How to get there**\\n\\n* Take the RE5 with direction Neustrelitz, arrival at Dannenwalde (bei Gransee) will be at 11:07.\\n* We'll meet on the platform.\\n* I recommend to buy a 9€ ticket which will be valid for the entire month in all of Germany (except intercity trains like ICE, IC, ...). If you already have an Abo for Berlin AB/ABC/whatever, this will count as a valid ticket as well.\\n\\n**Please bring**\\n\\n* Something to eat and drink\\n* Swimming equipment\""
      ]
     },
     "execution_count": 34,
     "metadata": {},
     "output_type": "execute_result"
    }
   ],
   "source": [
    "events_df['description'][190]"
   ]
  },
  {
   "cell_type": "code",
   "execution_count": 35,
   "id": "43f6c0fa",
   "metadata": {},
   "outputs": [
    {
     "data": {
      "text/plain": [
       "'hike join small group passionate campers hikers event  way several swimming opportunities fingers crossed weather good enoughtour highlights lake großer wentowsee many little artificial lakes ziegeleipark mildenberg complete route view browsermohtsckhow get take  direction neustrelitz arrival dannenwalde bei gransee  well meet platform recommend buy € ticket valid entire month germany except intercity trains like ice ic already abo berlin ababcwhatever count valid ticket wellplease bring something eat drink swimming equipment'"
      ]
     },
     "execution_count": 35,
     "metadata": {},
     "output_type": "execute_result"
    }
   ],
   "source": [
    "events_df['clean_description'][190]"
   ]
  },
  {
   "cell_type": "markdown",
   "id": "34ffa0c3",
   "metadata": {},
   "source": [
    "#  recommender combining both title and description"
   ]
  },
  {
   "cell_type": "markdown",
   "id": "90d78d66",
   "metadata": {},
   "source": [
    "## mashup of title and description"
   ]
  },
  {
   "cell_type": "code",
   "execution_count": 36,
   "id": "de9b188b",
   "metadata": {},
   "outputs": [],
   "source": [
    "import random\n",
    "'''this may be a bit dangerous but doing just for fun!!!'''\n",
    "def random_generate_list(x):\n",
    "    names = list(x.split())\n",
    "    random.shuffle(names)\n",
    "    if len(names) > 5:\n",
    "        names = names[:5]\n",
    "            \n",
    "        \n",
    "    return names\n",
    "\n",
    "def random_generate_long_list(x):\n",
    "    names = list(x.split())\n",
    "    random.shuffle(names)\n",
    "    if len(names) > 200:\n",
    "        names = names[:200]\n",
    "            \n",
    "        \n",
    "    return names"
   ]
  },
  {
   "cell_type": "code",
   "execution_count": null,
   "id": "b7a24497",
   "metadata": {},
   "outputs": [],
   "source": [
    "events_df['random_title'] = events_df['clean_title'].apply(lambda x: random_generate_list(x))\n",
    "events_df['random_description'] = events_df['clean_description'].apply(lambda x: random_generate_long_list(x))"
   ]
  },
  {
   "cell_type": "code",
   "execution_count": null,
   "id": "8cb58539",
   "metadata": {},
   "outputs": [],
   "source": [
    "(' '.join(events_df[\"random_title\"][0]) + ' ' + ' '.join(events_df[\"random_description\"][190])).split()"
   ]
  },
  {
   "cell_type": "code",
   "execution_count": null,
   "id": "5a75619e",
   "metadata": {},
   "outputs": [],
   "source": [
    "import random\n",
    "def create_soup(x):\n",
    "    soup = (\" \".join(x[\"random_title\"]) + \" \" + \" \".join(x[\"random_description\"])).split()\n",
    "    random.shuffle(soup)\n",
    "    return ' '.join(soup)\n",
    "# df[\"soup\"] = df.apply(create_soup, axis = 1)\n",
    "# df[\"soup\"].head(3)"
   ]
  },
  {
   "cell_type": "code",
   "execution_count": null,
   "id": "5277d729",
   "metadata": {},
   "outputs": [],
   "source": []
  },
  {
   "cell_type": "code",
   "execution_count": null,
   "id": "bb6c9ec5",
   "metadata": {},
   "outputs": [],
   "source": []
  },
  {
   "cell_type": "code",
   "execution_count": null,
   "id": "9388708b",
   "metadata": {},
   "outputs": [],
   "source": [
    "events_df['soup'] = events_df.apply(create_soup, axis = 1)"
   ]
  },
  {
   "cell_type": "code",
   "execution_count": null,
   "id": "25379a94",
   "metadata": {},
   "outputs": [],
   "source": [
    "events_df.soup[190]"
   ]
  },
  {
   "cell_type": "markdown",
   "id": "57cbba7a",
   "metadata": {},
   "source": [
    "## tfidf on clean data"
   ]
  },
  {
   "cell_type": "code",
   "execution_count": null,
   "id": "09dd9571",
   "metadata": {},
   "outputs": [],
   "source": [
    "from sklearn.feature_extraction.text import TfidfVectorizer, CountVectorizer\n",
    "\n",
    "tfidf = TfidfVectorizer(stop_words=\"english\")"
   ]
  },
  {
   "cell_type": "code",
   "execution_count": null,
   "id": "fe129670",
   "metadata": {},
   "outputs": [],
   "source": [
    "tfidf_matrix = tfidf.fit_transform(events_df[\"soup\"])\n",
    "tfidf_matrix.shape"
   ]
  },
  {
   "cell_type": "code",
   "execution_count": null,
   "id": "302cb92e",
   "metadata": {},
   "outputs": [],
   "source": [
    "cosine_sim = tfidf_matrix.dot(tfidf_matrix.T)"
   ]
  },
  {
   "cell_type": "code",
   "execution_count": null,
   "id": "ddef232a",
   "metadata": {},
   "outputs": [],
   "source": [
    "ahoy_events_df.head()"
   ]
  },
  {
   "cell_type": "code",
   "execution_count": null,
   "id": "0447f9f6",
   "metadata": {},
   "outputs": [],
   "source": []
  },
  {
   "cell_type": "code",
   "execution_count": null,
   "id": "0fe641e7",
   "metadata": {},
   "outputs": [],
   "source": []
  },
  {
   "cell_type": "code",
   "execution_count": null,
   "id": "ddb39443",
   "metadata": {},
   "outputs": [],
   "source": []
  },
  {
   "cell_type": "code",
   "execution_count": null,
   "id": "13396afd",
   "metadata": {},
   "outputs": [],
   "source": [
    "title_to_index = pd.Series(events_df.index, index = events_df[\"title\"]).drop_duplicates()"
   ]
  },
  {
   "cell_type": "code",
   "execution_count": null,
   "id": "1eb14788",
   "metadata": {},
   "outputs": [],
   "source": [
    "ahoy_events_df.user_id.unique()"
   ]
  },
  {
   "cell_type": "code",
   "execution_count": null,
   "id": "e2e2887b",
   "metadata": {},
   "outputs": [],
   "source": [
    "# event_idx = ahoy_events_df[ahoy_events_df['user_id']==46].iloc[0].properties['offer']\n",
    "# # now we get the title of the event\n",
    "# title = events_df[events_df['id']==event_idx].title"
   ]
  },
  {
   "cell_type": "code",
   "execution_count": null,
   "id": "77edd5a8",
   "metadata": {},
   "outputs": [],
   "source": [
    "events_df.head()"
   ]
  },
  {
   "cell_type": "code",
   "execution_count": null,
   "id": "cca4e409",
   "metadata": {},
   "outputs": [],
   "source": [
    "import datetime"
   ]
  },
  {
   "cell_type": "code",
   "execution_count": null,
   "id": "11d51f51",
   "metadata": {},
   "outputs": [],
   "source": [
    "from datetime import date\n",
    "\n",
    "def get_title(user_id, df = ahoy_events_df):\n",
    "    ''' this finction grabs the title of an event used by an user from ahoy_events dataset'''\n",
    "    \n",
    "    event_idx = ahoy_events_df[ahoy_events_df['user_id']== user_id].iloc[0].properties['offer']\n",
    "    # now we get the title of the event\n",
    "    title = events_df[events_df['id']==event_idx].title\n",
    "    \n",
    "    return title\n",
    "\n",
    "# def get_current_date():\n",
    "    \n",
    "    \n",
    "    \n",
    "# def get_user_loc():   \n",
    "\n",
    "def content_recommender(user_id, cosine_sim = cosine_sim, df = events_df, title_to_index = title_to_index):\n",
    "    '''This recommender finds out 20 closest matches with a given event'''\n",
    "    \n",
    "    #calling user id from ahoy_events\n",
    "    \n",
    "    title = get_title(user_id, df = ahoy_events_df)\n",
    "    \n",
    "    idx = title_to_index[title]\n",
    "    \n",
    "    sim_scores = list(enumerate(cosine_sim[idx].todense().tolist()[0]))\n",
    "    # list of set [(index, sim score), (index, sim score), ...]\n",
    "    \n",
    "    sim_scores = sorted(sim_scores, key = lambda x: x[1], reverse = True)\n",
    "    # Sort the list of set by sim score, index with highest simlirarity\n",
    "    # Will be at the beginning of the list\n",
    "    \n",
    "    sim_scores = sim_scores[1:101] # top 100 events (first one is our input events so we ignore it)\n",
    "    \n",
    "    sport_indices = [i[0] for i in sim_scores] # we grab the indices of those 10 events\n",
    "    \n",
    "    \n",
    "    return df['title'].iloc[sport_indices]"
   ]
  },
  {
   "cell_type": "code",
   "execution_count": null,
   "id": "7e3013e0",
   "metadata": {},
   "outputs": [],
   "source": [
    "ahoy_events_df.user_id.unique()"
   ]
  },
  {
   "cell_type": "code",
   "execution_count": null,
   "id": "051b0120",
   "metadata": {},
   "outputs": [],
   "source": []
  },
  {
   "cell_type": "code",
   "execution_count": null,
   "id": "f9c51fa6",
   "metadata": {},
   "outputs": [],
   "source": [
    "content_recommender(65)"
   ]
  },
  {
   "cell_type": "code",
   "execution_count": null,
   "id": "5ebfd843",
   "metadata": {},
   "outputs": [],
   "source": []
  },
  {
   "cell_type": "code",
   "execution_count": null,
   "id": "61f85338",
   "metadata": {},
   "outputs": [],
   "source": [
    "#content_recommender(\"Along the shore of the Elbe to Aumühle (52 km/ hard)\")"
   ]
  },
  {
   "cell_type": "code",
   "execution_count": null,
   "id": "caf12bf7",
   "metadata": {},
   "outputs": [],
   "source": [
    "type(events_df.latitude[0])"
   ]
  },
  {
   "cell_type": "code",
   "execution_count": null,
   "id": "3fd8a201",
   "metadata": {},
   "outputs": [],
   "source": [
    "def haversine_vectorized(user_lat,\n",
    "                         user_lon,\n",
    "                         event_lat,\n",
    "                         event_lon):\n",
    "    \"\"\"\n",
    "        Calculate the great circle distance between two points\n",
    "        on the earth (specified in decimal degrees).\n",
    "        Vectorized version of the haversine distance for pandas df\n",
    "        Computes distance in kms\n",
    "    \"\"\"\n",
    "\n",
    "    lat_1_rad, lon_1_rad = np.radians(user_lat), np.radians(user_lon)\n",
    "    lat_2_rad, lon_2_rad = np.radians(event_lat), np.radians(event_lon)\n",
    "    dlon = lon_2_rad - lon_1_rad\n",
    "    dlat = lat_2_rad - lat_1_rad\n",
    "\n",
    "    a = np.sin(dlat / 2.0) ** 2 + np.cos(lat_1_rad) * np.cos(lat_2_rad) * np.sin(dlon / 2.0) ** 2\n",
    "    c = 2 * np.arcsin(np.sqrt(a))\n",
    "    return 6371 * c"
   ]
  },
  {
   "cell_type": "code",
   "execution_count": null,
   "id": "6b95a595",
   "metadata": {},
   "outputs": [],
   "source": [
    "haversine_vectorized(48.135124, 11.581981, 47.135124, 12.581981)"
   ]
  },
  {
   "cell_type": "code",
   "execution_count": null,
   "id": "ae81fb50",
   "metadata": {},
   "outputs": [],
   "source": [
    "users_df.id.unique()"
   ]
  },
  {
   "cell_type": "code",
   "execution_count": null,
   "id": "a0a3c36c",
   "metadata": {},
   "outputs": [],
   "source": [
    "get_user_loc(65, df = users_df)"
   ]
  },
  {
   "cell_type": "markdown",
   "id": "40d99477",
   "metadata": {},
   "source": [
    "#  recommemder filter for future dates and nearest places "
   ]
  },
  {
   "cell_type": "code",
   "execution_count": null,
   "id": "dca90fb8",
   "metadata": {},
   "outputs": [],
   "source": [
    "ahoy_events_df.head(15)"
   ]
  },
  {
   "cell_type": "code",
   "execution_count": null,
   "id": "69d44065",
   "metadata": {},
   "outputs": [],
   "source": [
    "events_df.head()"
   ]
  },
  {
   "cell_type": "code",
   "execution_count": null,
   "id": "beed556b",
   "metadata": {},
   "outputs": [],
   "source": [
    "from datetime import date\n",
    "\n",
    "def get_title(user_id, df = ahoy_events_df):\n",
    "    ''' this finction grabs the title of an event used by an user from ahoy_events dataset'''\n",
    "    \n",
    "    event_idx = ahoy_events_df[ahoy_events_df['user_id']== user_id].iloc[0].properties['offer']\n",
    "    # now we get the title of the event\n",
    "    title = events_df[events_df['id']==event_idx].title\n",
    "    \n",
    "    return title  \n",
    "\n",
    "def get_user_loc(user_id, df = users_df):   \n",
    "    ''' this finction grabs the location of an user from ahoy_events dataset'''\n",
    "    \n",
    "    users_idx = users_df[users_df['id']== user_id]\n",
    "    # now we get the user's latitude and longitude\n",
    "    \n",
    "    location_dict = {'user_latitude' : float(users_idx.latitude.values), \n",
    "                     \n",
    "                     'user_longitude' : float(users_idx.longitude.values)\n",
    "                        }\n",
    "     \n",
    "    return location_dict\n",
    "\n",
    "\n",
    "def content_recommender(user_id, cosine_sim = cosine_sim, df = events_df, title_to_index = title_to_index):\n",
    "    '''This recommender finds out 20 closest matches with a given event'''\n",
    "    \n",
    "    #calling user id from ahoy_events\n",
    "    \n",
    "    title = get_title(user_id, df = ahoy_events_df)\n",
    "    \n",
    "    idx = title_to_index[title]\n",
    "    \n",
    "    sim_scores = list(enumerate(cosine_sim[idx].todense().tolist()[0]))\n",
    "    # list of set [(index, sim score), (index, sim score), ...]\n",
    "    \n",
    "    sim_scores = sorted(sim_scores, key = lambda x: x[1], reverse = True)\n",
    "    # Sort the list of set by sim score, index with highest simlirarity\n",
    "    # Will be at the beginning of the list\n",
    "    \n",
    "    sim_scores = sim_scores[1:101] # top 100 events (first one is our input events so we ignore it)\n",
    "    \n",
    "    sport_indices = [i[0] for i in sim_scores] # we grab the indices of those 10 events\n",
    "    \n",
    "    df_all_recommendations = df.iloc[sport_indices][[ 'id','title', 'latitude', 'longitude', 'offer_date']]\n",
    "    \n",
    "    df_date_filter = df_all_recommendations[df_all_recommendations['offer_date'] >= datetime.date.today()]\n",
    "    \n",
    "    #calcullation of haversine distance for users:\n",
    "    user_latitude = get_user_loc(user_id, df = users_df)['user_latitude']\n",
    "    user_longitude = get_user_loc(user_id, df = users_df)['user_longitude']\n",
    "    \n",
    "    df_date_filter['user_latitude'] = user_latitude\n",
    "    df_date_filter['user_longitude'] = user_longitude\n",
    "    \n",
    "    df_date_filter[\"distance\"] = haversine_vectorized(df_date_filter.latitude, df_date_filter.longitude,\n",
    "                                                      df_date_filter.user_latitude, df_date_filter.user_longitude)\n",
    "            \n",
    "    df_location_filter = df_date_filter[df_date_filter['distance'] <= 200.0]\n",
    "    \n",
    "    \n",
    "                                                \n",
    "    return df_location_filter.title\n",
    "#     return user_latitude"
   ]
  },
  {
   "cell_type": "code",
   "execution_count": null,
   "id": "3154d954",
   "metadata": {},
   "outputs": [],
   "source": []
  },
  {
   "cell_type": "code",
   "execution_count": null,
   "id": "0851baec",
   "metadata": {},
   "outputs": [],
   "source": [
    "ahoy_events_df.user_id.unique()"
   ]
  },
  {
   "cell_type": "code",
   "execution_count": null,
   "id": "71d5b948",
   "metadata": {},
   "outputs": [],
   "source": []
  },
  {
   "cell_type": "code",
   "execution_count": null,
   "id": "a3d46ad8",
   "metadata": {},
   "outputs": [],
   "source": [
    "content_recommender(65)"
   ]
  },
  {
   "cell_type": "markdown",
   "id": "e61226fd",
   "metadata": {},
   "source": []
  },
  {
   "cell_type": "markdown",
   "id": "7f30f6bf",
   "metadata": {},
   "source": [
    "# updating event prediction: finalizing stuff"
   ]
  },
  {
   "cell_type": "code",
   "execution_count": null,
   "id": "5c91513a",
   "metadata": {},
   "outputs": [],
   "source": [
    "def get_event_id(user_id):\n",
    "    ''' this finction grabs the title of an event used by an user from ahoy_events dataset'''\n",
    "    \n",
    "    event_id = ahoy_events_df[ahoy_events_df['user_id']== user_id].iloc[-1].properties['offer']\n",
    "    # now we get the title of the event\n",
    "    #event_id = events_df[events_df['id']==event_idx].title\n",
    "    \n",
    "    return event_id \n",
    "\n"
   ]
  },
  {
   "cell_type": "code",
   "execution_count": null,
   "id": "528b92e3",
   "metadata": {},
   "outputs": [],
   "source": [
    "ahoy_events_df.user_id.unique()"
   ]
  },
  {
   "cell_type": "code",
   "execution_count": null,
   "id": "58778c33",
   "metadata": {},
   "outputs": [],
   "source": [
    "get_event_id(65)"
   ]
  },
  {
   "cell_type": "code",
   "execution_count": null,
   "id": "bb0bc4fc",
   "metadata": {},
   "outputs": [],
   "source": [
    "events_df.columns"
   ]
  },
  {
   "cell_type": "code",
   "execution_count": null,
   "id": "5d7b7d2c",
   "metadata": {},
   "outputs": [],
   "source": [
    "events_df[events_df['id']== get_event_id(65)].index\n",
    "\n"
   ]
  },
  {
   "cell_type": "code",
   "execution_count": null,
   "id": "cecfcf2f",
   "metadata": {},
   "outputs": [],
   "source": [
    "#id_to_index = pd.Series(events_df.id, index = events_df[get_event_id(65)]).drop_duplicates()"
   ]
  },
  {
   "cell_type": "code",
   "execution_count": null,
   "id": "5709de08",
   "metadata": {},
   "outputs": [],
   "source": [
    "id_to_index"
   ]
  },
  {
   "cell_type": "code",
   "execution_count": null,
   "id": "33006579",
   "metadata": {},
   "outputs": [],
   "source": [
    "ahoy_events_df.user_id"
   ]
  },
  {
   "cell_type": "code",
   "execution_count": null,
   "id": "2ee947d7",
   "metadata": {},
   "outputs": [],
   "source": []
  },
  {
   "cell_type": "code",
   "execution_count": null,
   "id": "c7c346e0",
   "metadata": {},
   "outputs": [],
   "source": [
    "ahoy_events_df.head()"
   ]
  },
  {
   "cell_type": "code",
   "execution_count": null,
   "id": "3437c641",
   "metadata": {},
   "outputs": [],
   "source": [
    "users_df.head()"
   ]
  },
  {
   "cell_type": "code",
   "execution_count": null,
   "id": "cb6f46bb",
   "metadata": {},
   "outputs": [],
   "source": [
    "from datetime import date\n",
    "\n",
    "def get_event_id(user_id, df = ahoy_events_df):\n",
    "    ''' this finction grabs the title of an event used by an user from ahoy_events dataset'''\n",
    "    \n",
    "    event_id = ahoy_events_df[ahoy_events_df['user_id']== user_id].iloc[0].properties['offer']\n",
    "    # now we get the title of the event\n",
    "    #event_id = events_df[events_df['id']==event_idx].title\n",
    "    \n",
    "    return event_id \n",
    "\n",
    "def get_user_loc(user_id, df = users_df):   \n",
    "    ''' this finction grabs the location of an user from ahoy_events dataset'''\n",
    "    \n",
    "    users_idx = users_df[users_df['id']== user_id]\n",
    "    # now we get the user's latitude and longitude\n",
    "    \n",
    "    location_dict = {'user_latitude' : float(users_idx.latitude.values), \n",
    "                     \n",
    "                     'user_longitude' : float(users_idx.longitude.values)\n",
    "                        }\n",
    "     \n",
    "    return location_dict\n",
    "\n",
    "\n",
    "def content_recommender(user_id, cosine_sim = cosine_sim, df = events_df):\n",
    "    '''This recommender finds out 100 closest matches with a given event'''\n",
    "    \n",
    "    #calling user id from ahoy_events\n",
    "    \n",
    "    event_id = get_event_id(user_id, df = ahoy_events_df)\n",
    "    \n",
    "    event_idx = events_df[events_df['id']== get_event_id(user_id)].index\n",
    "\n",
    "    \n",
    "    sim_scores = list(enumerate(cosine_sim[event_idx].todense().tolist()[0]))\n",
    "    # list of set [(index, sim score), (index, sim score), ...]\n",
    "    \n",
    "    sim_scores = sorted(sim_scores, key = lambda x: x[1], reverse = True)\n",
    "    # Sort the list of set by sim score, index with highest simlirarity\n",
    "    # Will be at the beginning of the list\n",
    "    \n",
    "    sim_scores = sim_scores[1:101] # top 100 events (first one is our input events so we ignore it)\n",
    "    \n",
    "    sport_indices = [i[0] for i in sim_scores] # we grab the indices of those 10 events\n",
    "    \n",
    "    df_all_recommendations = df.iloc[sport_indices][[ 'id','title', 'latitude', 'longitude', 'offer_date']]\n",
    "    \n",
    "    df_date_filter = df_all_recommendations[df_all_recommendations['offer_date'] >= datetime.date.today()]\n",
    "    \n",
    "    #calcullation of haversine distance for users:\n",
    "    user_latitude = get_user_loc(user_id, df = users_df)['user_latitude']\n",
    "    user_longitude = get_user_loc(user_id, df = users_df)['user_longitude']\n",
    "    \n",
    "    df_date_filter['user_latitude'] = user_latitude\n",
    "    df_date_filter['user_longitude'] = user_longitude\n",
    "    \n",
    "    df_date_filter[\"distance\"] = haversine_vectorized(df_date_filter.latitude, df_date_filter.longitude,\n",
    "                                                      df_date_filter.user_latitude, df_date_filter.user_longitude)\n",
    "            \n",
    "    df_location_filter = df_date_filter[df_date_filter['distance'] <= 200.0]\n",
    "    \n",
    "    \n",
    "                                                \n",
    "    return df_location_filter.title\n",
    "#     return user_latitude"
   ]
  },
  {
   "cell_type": "code",
   "execution_count": null,
   "id": "6afc835c",
   "metadata": {},
   "outputs": [],
   "source": [
    "content_recommender(65)"
   ]
  },
  {
   "cell_type": "code",
   "execution_count": null,
   "id": "f524500c",
   "metadata": {},
   "outputs": [],
   "source": []
  },
  {
   "cell_type": "code",
   "execution_count": null,
   "id": "f8b5cf5e",
   "metadata": {},
   "outputs": [],
   "source": []
  },
  {
   "cell_type": "code",
   "execution_count": null,
   "id": "d18a73e0",
   "metadata": {},
   "outputs": [],
   "source": []
  },
  {
   "cell_type": "code",
   "execution_count": null,
   "id": "f7af1ad9",
   "metadata": {},
   "outputs": [],
   "source": []
  },
  {
   "cell_type": "markdown",
   "id": "ad648f35",
   "metadata": {},
   "source": []
  },
  {
   "cell_type": "code",
   "execution_count": null,
   "id": "eead4081",
   "metadata": {},
   "outputs": [],
   "source": []
  },
  {
   "cell_type": "code",
   "execution_count": null,
   "id": "a6ece3cd",
   "metadata": {},
   "outputs": [],
   "source": []
  },
  {
   "cell_type": "code",
   "execution_count": null,
   "id": "2a1a33f7",
   "metadata": {},
   "outputs": [],
   "source": []
  },
  {
   "cell_type": "code",
   "execution_count": null,
   "id": "1673bc22",
   "metadata": {},
   "outputs": [],
   "source": []
  },
  {
   "cell_type": "markdown",
   "id": "27f518a8",
   "metadata": {},
   "source": []
  },
  {
   "cell_type": "code",
   "execution_count": null,
   "id": "ee35009a",
   "metadata": {},
   "outputs": [],
   "source": []
  },
  {
   "cell_type": "code",
   "execution_count": null,
   "id": "bef611f3",
   "metadata": {},
   "outputs": [],
   "source": []
  },
  {
   "cell_type": "code",
   "execution_count": null,
   "id": "fb2e0c09",
   "metadata": {},
   "outputs": [],
   "source": []
  }
 ],
 "metadata": {
  "kernelspec": {
   "display_name": "Python 3 (ipykernel)",
   "language": "python",
   "name": "python3"
  },
  "language_info": {
   "codemirror_mode": {
    "name": "ipython",
    "version": 3
   },
   "file_extension": ".py",
   "mimetype": "text/x-python",
   "name": "python",
   "nbconvert_exporter": "python",
   "pygments_lexer": "ipython3",
   "version": "3.8.13"
  },
  "toc": {
   "base_numbering": 1,
   "nav_menu": {},
   "number_sections": true,
   "sideBar": true,
   "skip_h1_title": false,
   "title_cell": "Table of Contents",
   "title_sidebar": "Contents",
   "toc_cell": false,
   "toc_position": {},
   "toc_section_display": true,
   "toc_window_display": false
  }
 },
 "nbformat": 4,
 "nbformat_minor": 5
}
