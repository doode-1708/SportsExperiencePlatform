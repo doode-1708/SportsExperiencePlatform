{
 "cells": [
  {
   "cell_type": "markdown",
   "id": "e30b4f55",
   "metadata": {},
   "source": [
    "# importing data from json"
   ]
  },
  {
   "cell_type": "code",
   "execution_count": 1,
   "id": "248bf3da",
   "metadata": {},
   "outputs": [],
   "source": [
    "import numpy as np\n",
    "import pandas as pd\n",
    "import json\n",
    "import os"
   ]
  },
  {
   "cell_type": "code",
   "execution_count": 2,
   "id": "be8d8504",
   "metadata": {},
   "outputs": [
    {
     "name": "stdout",
     "output_type": "stream",
     "text": [
      "['berlin_hiking.json', 'london_sports.json', 'frankfurt_running.json', 'berlin_cycling.json', 'berlin_running.json', 'berlin_yoga.json', 'berlin_sports.json', 'frankfurt_yoga.json', 'frankfurt_hiking.json', 'berlin_canoeing.json']\n"
     ]
    }
   ],
   "source": [
    "\n",
    "data_path = os.path.join(os.path.dirname(os.getcwd()), 'raw_data/')\n",
    "json_files = [files for files in os.listdir(data_path) if files.endswith('.json')]\n",
    "print(json_files)"
   ]
  },
  {
   "cell_type": "code",
   "execution_count": 3,
   "id": "267ffd61",
   "metadata": {},
   "outputs": [],
   "source": [
    "user_df = pd.read_csv(f'{data_path}users.csv')"
   ]
  },
  {
   "cell_type": "code",
   "execution_count": 4,
   "id": "e365c9a8",
   "metadata": {},
   "outputs": [
    {
     "data": {
      "text/html": [
       "<div>\n",
       "<style scoped>\n",
       "    .dataframe tbody tr th:only-of-type {\n",
       "        vertical-align: middle;\n",
       "    }\n",
       "\n",
       "    .dataframe tbody tr th {\n",
       "        vertical-align: top;\n",
       "    }\n",
       "\n",
       "    .dataframe thead th {\n",
       "        text-align: right;\n",
       "    }\n",
       "</style>\n",
       "<table border=\"1\" class=\"dataframe\">\n",
       "  <thead>\n",
       "    <tr style=\"text-align: right;\">\n",
       "      <th></th>\n",
       "      <th>0</th>\n",
       "      <th>1</th>\n",
       "      <th>2</th>\n",
       "      <th>3</th>\n",
       "      <th>4</th>\n",
       "    </tr>\n",
       "  </thead>\n",
       "  <tbody>\n",
       "    <tr>\n",
       "      <th>Unnamed: 0</th>\n",
       "      <td>0</td>\n",
       "      <td>1</td>\n",
       "      <td>2</td>\n",
       "      <td>3</td>\n",
       "      <td>4</td>\n",
       "    </tr>\n",
       "    <tr>\n",
       "      <th>id</th>\n",
       "      <td>19</td>\n",
       "      <td>20</td>\n",
       "      <td>21</td>\n",
       "      <td>22</td>\n",
       "      <td>23</td>\n",
       "    </tr>\n",
       "    <tr>\n",
       "      <th>email</th>\n",
       "      <td>johanna@gmail.com</td>\n",
       "      <td>anjali@gmail.com</td>\n",
       "      <td>alexandra@gmail.com</td>\n",
       "      <td>ieva@gmail.com</td>\n",
       "      <td>daniel@gmail.com</td>\n",
       "    </tr>\n",
       "    <tr>\n",
       "      <th>encrypted_password</th>\n",
       "      <td>$2a$12$rZkuGDgbHIHpi3sYfS4or.EmNEd61QoDhi3IEEL...</td>\n",
       "      <td>$2a$12$L.9JFRFJeF6GMfrvHQ9ycuxwAOS3ddYMeuhj7Qr...</td>\n",
       "      <td>$2a$12$ZBcWOyC2RU8aP5nWLKMlee54mNk4gmRIkFZPYL7...</td>\n",
       "      <td>$2a$12$xRfA6rvHxBLt0ETNb.fGputBmPcU1tEd6KiEXIr...</td>\n",
       "      <td>$2a$12$iElgTE/LWI.UAdBDKEUxYOpdme2qXF/nQyiuM2i...</td>\n",
       "    </tr>\n",
       "    <tr>\n",
       "      <th>reset_password_token</th>\n",
       "      <td>NaN</td>\n",
       "      <td>NaN</td>\n",
       "      <td>NaN</td>\n",
       "      <td>NaN</td>\n",
       "      <td>NaN</td>\n",
       "    </tr>\n",
       "    <tr>\n",
       "      <th>reset_password_sent_at</th>\n",
       "      <td>NaN</td>\n",
       "      <td>NaN</td>\n",
       "      <td>NaN</td>\n",
       "      <td>NaN</td>\n",
       "      <td>NaN</td>\n",
       "    </tr>\n",
       "    <tr>\n",
       "      <th>remember_created_at</th>\n",
       "      <td>NaN</td>\n",
       "      <td>NaN</td>\n",
       "      <td>NaN</td>\n",
       "      <td>NaN</td>\n",
       "      <td>NaN</td>\n",
       "    </tr>\n",
       "    <tr>\n",
       "      <th>created_at</th>\n",
       "      <td>2022-05-21 10:12:18.076423</td>\n",
       "      <td>2022-05-21 10:12:18.316674</td>\n",
       "      <td>2022-05-21 10:12:18.556628</td>\n",
       "      <td>2022-05-21 10:12:18.796555</td>\n",
       "      <td>2022-05-21 10:12:19.041699</td>\n",
       "    </tr>\n",
       "    <tr>\n",
       "      <th>updated_at</th>\n",
       "      <td>2022-05-21 10:12:18.076423</td>\n",
       "      <td>2022-05-21 10:12:18.316674</td>\n",
       "      <td>2022-05-21 10:12:18.556628</td>\n",
       "      <td>2022-05-21 10:12:18.796555</td>\n",
       "      <td>2022-05-21 10:12:19.041699</td>\n",
       "    </tr>\n",
       "    <tr>\n",
       "      <th>first_name</th>\n",
       "      <td>Johanna</td>\n",
       "      <td>Anjali</td>\n",
       "      <td>Alexandra</td>\n",
       "      <td>Ieva</td>\n",
       "      <td>Daniel</td>\n",
       "    </tr>\n",
       "    <tr>\n",
       "      <th>last_name</th>\n",
       "      <td>Maier</td>\n",
       "      <td>Kumar</td>\n",
       "      <td>Stroe</td>\n",
       "      <td>Jirgensone</td>\n",
       "      <td>Angerer</td>\n",
       "    </tr>\n",
       "    <tr>\n",
       "      <th>description</th>\n",
       "      <td>Hi, my name is Johanna! I want to go on my nex...</td>\n",
       "      <td>Hi, my name is Anjali! I want to go on my next...</td>\n",
       "      <td>Hi, my name is Alexandra! I want to go on my n...</td>\n",
       "      <td>Hi, my name is Ieva! I want to go on my next s...</td>\n",
       "      <td>Hi, my name is Daniel! I want to go on my next...</td>\n",
       "    </tr>\n",
       "    <tr>\n",
       "      <th>date_of_birth</th>\n",
       "      <td>1993-01-25</td>\n",
       "      <td>1993-01-25</td>\n",
       "      <td>1993-01-25</td>\n",
       "      <td>1993-01-25</td>\n",
       "      <td>1993-01-25</td>\n",
       "    </tr>\n",
       "    <tr>\n",
       "      <th>gender</th>\n",
       "      <td>female</td>\n",
       "      <td>female</td>\n",
       "      <td>female</td>\n",
       "      <td>female</td>\n",
       "      <td>male</td>\n",
       "    </tr>\n",
       "  </tbody>\n",
       "</table>\n",
       "</div>"
      ],
      "text/plain": [
       "                                                                        0  \\\n",
       "Unnamed: 0                                                              0   \n",
       "id                                                                     19   \n",
       "email                                                   johanna@gmail.com   \n",
       "encrypted_password      $2a$12$rZkuGDgbHIHpi3sYfS4or.EmNEd61QoDhi3IEEL...   \n",
       "reset_password_token                                                  NaN   \n",
       "reset_password_sent_at                                                NaN   \n",
       "remember_created_at                                                   NaN   \n",
       "created_at                                     2022-05-21 10:12:18.076423   \n",
       "updated_at                                     2022-05-21 10:12:18.076423   \n",
       "first_name                                                        Johanna   \n",
       "last_name                                                           Maier   \n",
       "description             Hi, my name is Johanna! I want to go on my nex...   \n",
       "date_of_birth                                                  1993-01-25   \n",
       "gender                                                             female   \n",
       "\n",
       "                                                                        1  \\\n",
       "Unnamed: 0                                                              1   \n",
       "id                                                                     20   \n",
       "email                                                    anjali@gmail.com   \n",
       "encrypted_password      $2a$12$L.9JFRFJeF6GMfrvHQ9ycuxwAOS3ddYMeuhj7Qr...   \n",
       "reset_password_token                                                  NaN   \n",
       "reset_password_sent_at                                                NaN   \n",
       "remember_created_at                                                   NaN   \n",
       "created_at                                     2022-05-21 10:12:18.316674   \n",
       "updated_at                                     2022-05-21 10:12:18.316674   \n",
       "first_name                                                         Anjali   \n",
       "last_name                                                           Kumar   \n",
       "description             Hi, my name is Anjali! I want to go on my next...   \n",
       "date_of_birth                                                  1993-01-25   \n",
       "gender                                                             female   \n",
       "\n",
       "                                                                        2  \\\n",
       "Unnamed: 0                                                              2   \n",
       "id                                                                     21   \n",
       "email                                                 alexandra@gmail.com   \n",
       "encrypted_password      $2a$12$ZBcWOyC2RU8aP5nWLKMlee54mNk4gmRIkFZPYL7...   \n",
       "reset_password_token                                                  NaN   \n",
       "reset_password_sent_at                                                NaN   \n",
       "remember_created_at                                                   NaN   \n",
       "created_at                                     2022-05-21 10:12:18.556628   \n",
       "updated_at                                     2022-05-21 10:12:18.556628   \n",
       "first_name                                                      Alexandra   \n",
       "last_name                                                           Stroe   \n",
       "description             Hi, my name is Alexandra! I want to go on my n...   \n",
       "date_of_birth                                                  1993-01-25   \n",
       "gender                                                             female   \n",
       "\n",
       "                                                                        3  \\\n",
       "Unnamed: 0                                                              3   \n",
       "id                                                                     22   \n",
       "email                                                      ieva@gmail.com   \n",
       "encrypted_password      $2a$12$xRfA6rvHxBLt0ETNb.fGputBmPcU1tEd6KiEXIr...   \n",
       "reset_password_token                                                  NaN   \n",
       "reset_password_sent_at                                                NaN   \n",
       "remember_created_at                                                   NaN   \n",
       "created_at                                     2022-05-21 10:12:18.796555   \n",
       "updated_at                                     2022-05-21 10:12:18.796555   \n",
       "first_name                                                           Ieva   \n",
       "last_name                                                      Jirgensone   \n",
       "description             Hi, my name is Ieva! I want to go on my next s...   \n",
       "date_of_birth                                                  1993-01-25   \n",
       "gender                                                             female   \n",
       "\n",
       "                                                                        4  \n",
       "Unnamed: 0                                                              4  \n",
       "id                                                                     23  \n",
       "email                                                    daniel@gmail.com  \n",
       "encrypted_password      $2a$12$iElgTE/LWI.UAdBDKEUxYOpdme2qXF/nQyiuM2i...  \n",
       "reset_password_token                                                  NaN  \n",
       "reset_password_sent_at                                                NaN  \n",
       "remember_created_at                                                   NaN  \n",
       "created_at                                     2022-05-21 10:12:19.041699  \n",
       "updated_at                                     2022-05-21 10:12:19.041699  \n",
       "first_name                                                         Daniel  \n",
       "last_name                                                         Angerer  \n",
       "description             Hi, my name is Daniel! I want to go on my next...  \n",
       "date_of_birth                                                  1993-01-25  \n",
       "gender                                                               male  "
      ]
     },
     "execution_count": 4,
     "metadata": {},
     "output_type": "execute_result"
    }
   ],
   "source": [
    "user_df.head().T"
   ]
  },
  {
   "cell_type": "code",
   "execution_count": 5,
   "id": "a7819752",
   "metadata": {},
   "outputs": [],
   "source": [
    "offers_df = pd.read_csv(f'{data_path}offers.csv')"
   ]
  },
  {
   "cell_type": "code",
   "execution_count": 41,
   "id": "94bfa728",
   "metadata": {
    "scrolled": true
   },
   "outputs": [
    {
     "name": "stdout",
     "output_type": "stream",
     "text": [
      "{'title': 'ONLINE YOGA | Jivamukti Yoga Advanced', 'description': 'Yoga mit Nina Bettermann\\n\\nSonntags 17 Uhr — 18:30 Uhr\\n\\n90 Minuten intensive, ausgiebige Asana-Praxis mit wechselndem Schwerpunkt sowie Meditation stehen immer auf dem Programm. Unterrichtet wird die Stunde von Jivamuktilehrerin Nina Bettermann.\\n\\nUnterrichtssprache ist Deutsch - English if required!!\\n\\nNina Bettermann\\n\\nNina ist 800-Stunden zertifizierte Jivamukti-Lehrerin. 2005 besuchte sie ihre erste Yogastunde. Was anfangs als Ausgleich zum stressigen Studium gedacht war, wurde schnell zur unverzichtbaren täglichen Praxis. Nachdem sie verschiedene Yogastile ausprobiert hatte, fand sie schließlich im Jivamukti Yoga ihr Zuhause. Daher entschloss sie sich im Winter 2010, nach dem Abschluss ihres Pharmaziestudiums, das Jivamukti Yoga Teacher Training mit Sharon Gannon, David Life Patrick Broome und Yogeswari zu absolvieren. 2014 folgte das 800hrs-Apprenticeship bei ihrer Mentorin Vera. Seitdem unterrichtet Nina, neben ihrer Tätigkeit als Apothekerin, in mehreren Berliner Yogastudios. Dabei ist ihr aber die eigene tägliche Praxis weiterhin heilig. Denn nur was man selber erlebt hat, kann man auch authentisch weitergeben und unterrichten :)\\n\\nThe balance recommended:\\nDonation-Drop-In 13-16€\\nUSC Members Welcome: USC M (4x), L (8x), XL (8x)\\nStudiocard Price: https://www.yogaatlobeblock.de/preise', 'priceTier': 'paid', 'numberOfAllowedGuests': 3, 'dateTime': '2022-06-12T17:00+02:00', 'timezone': 'Europe/Berlin', 'eventUrl': 'https://www.meetup.com/Berlin-Yoga-Club/events/286093739', 'imageUrl': 'https://secure-content.meetupstatic.com/images/classic-events/481766032/676x380.webp', 'venue': {'name': 'Online event', 'address': '', 'city': '', 'state': '', 'postalCode': '', 'country': '', 'lat': 52.548897, 'lng': 13.381073}, 'fee': 0}\n"
     ]
    }
   ],
   "source": [
    "data_path = os.path.join(os.path.dirname(os.getcwd()), 'raw_data/')\n",
    "file_berlin = 'berlin_yoga.json'\n",
    "with open(data_path+file_berlin) as f:\n",
    "    data = json.load(f)\n",
    "print(data['Data'][2])"
   ]
  },
  {
   "cell_type": "code",
   "execution_count": 43,
   "id": "181d195f",
   "metadata": {},
   "outputs": [],
   "source": [
    "data_path = os.path.join(os.path.dirname(os.getcwd()), 'raw_data/')\n",
    "\n",
    "json_files = [files for files in os.listdir(data_path) if files.endswith('.json')]\n",
    "#print(json_files)\n",
    "data_dict = []\n",
    "for val in json_files:\n",
    "    with open(data_path+val) as f:\n",
    "        data = json.load(f)\n",
    "         \n",
    "        for val in data['Data']:\n",
    "            if val['venue'] != None:\n",
    "                \n",
    "                data_dict.append({'title': val['title'], \n",
    "                                  'description': val['description'],\n",
    "                                  'event_date':val['dateTime'],\n",
    "                                  'event_latitude': val['venue']['lat'],\n",
    "                                  'event_longitude': val['venue']['lng']\n",
    "\n",
    "\n",
    "\n",
    "                                 })\n",
    "\n"
   ]
  },
  {
   "cell_type": "code",
   "execution_count": 44,
   "id": "7395001d",
   "metadata": {},
   "outputs": [
    {
     "data": {
      "text/plain": [
       "(1257, 5)"
      ]
     },
     "execution_count": 44,
     "metadata": {},
     "output_type": "execute_result"
    }
   ],
   "source": [
    "df = pd.DataFrame.from_dict(data_dict).drop_duplicates()\n",
    "df.shape"
   ]
  },
  {
   "cell_type": "code",
   "execution_count": 57,
   "id": "a516457f",
   "metadata": {},
   "outputs": [
    {
     "ename": "TypeError",
     "evalue": "unhashable type: 'list'",
     "output_type": "error",
     "traceback": [
      "\u001b[0;31m---------------------------------------------------------------------------\u001b[0m",
      "\u001b[0;31mTypeError\u001b[0m                                 Traceback (most recent call last)",
      "Input \u001b[0;32mIn [57]\u001b[0m, in \u001b[0;36m<cell line: 1>\u001b[0;34m()\u001b[0m\n\u001b[0;32m----> 1\u001b[0m \u001b[43mdf\u001b[49m\u001b[38;5;241;43m.\u001b[39;49m\u001b[43mduplicated\u001b[49m\u001b[43m(\u001b[49m\u001b[43m)\u001b[49m\u001b[38;5;241m.\u001b[39msum()\n",
      "File \u001b[0;32m~/.pyenv/versions/3.8.13/envs/SportsExperiencePlatform/lib/python3.8/site-packages/pandas/core/frame.py:6253\u001b[0m, in \u001b[0;36mDataFrame.duplicated\u001b[0;34m(self, subset, keep)\u001b[0m\n\u001b[1;32m   6250\u001b[0m     \u001b[38;5;28;01mraise\u001b[39;00m \u001b[38;5;167;01mKeyError\u001b[39;00m(diff)\n\u001b[1;32m   6252\u001b[0m vals \u001b[38;5;241m=\u001b[39m (col\u001b[38;5;241m.\u001b[39mvalues \u001b[38;5;28;01mfor\u001b[39;00m name, col \u001b[38;5;129;01min\u001b[39;00m \u001b[38;5;28mself\u001b[39m\u001b[38;5;241m.\u001b[39mitems() \u001b[38;5;28;01mif\u001b[39;00m name \u001b[38;5;129;01min\u001b[39;00m subset)\n\u001b[0;32m-> 6253\u001b[0m labels, shape \u001b[38;5;241m=\u001b[39m \u001b[38;5;28mmap\u001b[39m(\u001b[38;5;28mlist\u001b[39m, \u001b[38;5;28;43mzip\u001b[39;49m\u001b[43m(\u001b[49m\u001b[38;5;241;43m*\u001b[39;49m\u001b[38;5;28;43mmap\u001b[39;49m\u001b[43m(\u001b[49m\u001b[43mf\u001b[49m\u001b[43m,\u001b[49m\u001b[43m \u001b[49m\u001b[43mvals\u001b[49m\u001b[43m)\u001b[49m\u001b[43m)\u001b[49m)\n\u001b[1;32m   6255\u001b[0m ids \u001b[38;5;241m=\u001b[39m get_group_index(\n\u001b[1;32m   6256\u001b[0m     labels,\n\u001b[1;32m   6257\u001b[0m     \u001b[38;5;66;03m# error: Argument 1 to \"tuple\" has incompatible type \"List[_T]\";\u001b[39;00m\n\u001b[0;32m   (...)\u001b[0m\n\u001b[1;32m   6261\u001b[0m     xnull\u001b[38;5;241m=\u001b[39m\u001b[38;5;28;01mFalse\u001b[39;00m,\n\u001b[1;32m   6262\u001b[0m )\n\u001b[1;32m   6263\u001b[0m result \u001b[38;5;241m=\u001b[39m \u001b[38;5;28mself\u001b[39m\u001b[38;5;241m.\u001b[39m_constructor_sliced(duplicated(ids, keep), index\u001b[38;5;241m=\u001b[39m\u001b[38;5;28mself\u001b[39m\u001b[38;5;241m.\u001b[39mindex)\n",
      "File \u001b[0;32m~/.pyenv/versions/3.8.13/envs/SportsExperiencePlatform/lib/python3.8/site-packages/pandas/core/frame.py:6226\u001b[0m, in \u001b[0;36mDataFrame.duplicated.<locals>.f\u001b[0;34m(vals)\u001b[0m\n\u001b[1;32m   6225\u001b[0m \u001b[38;5;28;01mdef\u001b[39;00m \u001b[38;5;21mf\u001b[39m(vals) \u001b[38;5;241m-\u001b[39m\u001b[38;5;241m>\u001b[39m \u001b[38;5;28mtuple\u001b[39m[np\u001b[38;5;241m.\u001b[39mndarray, \u001b[38;5;28mint\u001b[39m]:\n\u001b[0;32m-> 6226\u001b[0m     labels, shape \u001b[38;5;241m=\u001b[39m \u001b[43malgorithms\u001b[49m\u001b[38;5;241;43m.\u001b[39;49m\u001b[43mfactorize\u001b[49m\u001b[43m(\u001b[49m\u001b[43mvals\u001b[49m\u001b[43m,\u001b[49m\u001b[43m \u001b[49m\u001b[43msize_hint\u001b[49m\u001b[38;5;241;43m=\u001b[39;49m\u001b[38;5;28;43mlen\u001b[39;49m\u001b[43m(\u001b[49m\u001b[38;5;28;43mself\u001b[39;49m\u001b[43m)\u001b[49m\u001b[43m)\u001b[49m\n\u001b[1;32m   6227\u001b[0m     \u001b[38;5;28;01mreturn\u001b[39;00m labels\u001b[38;5;241m.\u001b[39mastype(\u001b[38;5;124m\"\u001b[39m\u001b[38;5;124mi8\u001b[39m\u001b[38;5;124m\"\u001b[39m, copy\u001b[38;5;241m=\u001b[39m\u001b[38;5;28;01mFalse\u001b[39;00m), \u001b[38;5;28mlen\u001b[39m(shape)\n",
      "File \u001b[0;32m~/.pyenv/versions/3.8.13/envs/SportsExperiencePlatform/lib/python3.8/site-packages/pandas/core/algorithms.py:763\u001b[0m, in \u001b[0;36mfactorize\u001b[0;34m(values, sort, na_sentinel, size_hint)\u001b[0m\n\u001b[1;32m    760\u001b[0m     \u001b[38;5;28;01melse\u001b[39;00m:\n\u001b[1;32m    761\u001b[0m         na_value \u001b[38;5;241m=\u001b[39m \u001b[38;5;28;01mNone\u001b[39;00m\n\u001b[0;32m--> 763\u001b[0m     codes, uniques \u001b[38;5;241m=\u001b[39m \u001b[43mfactorize_array\u001b[49m\u001b[43m(\u001b[49m\n\u001b[1;32m    764\u001b[0m \u001b[43m        \u001b[49m\u001b[43mvalues\u001b[49m\u001b[43m,\u001b[49m\u001b[43m \u001b[49m\u001b[43mna_sentinel\u001b[49m\u001b[38;5;241;43m=\u001b[39;49m\u001b[43mna_sentinel\u001b[49m\u001b[43m,\u001b[49m\u001b[43m \u001b[49m\u001b[43msize_hint\u001b[49m\u001b[38;5;241;43m=\u001b[39;49m\u001b[43msize_hint\u001b[49m\u001b[43m,\u001b[49m\u001b[43m \u001b[49m\u001b[43mna_value\u001b[49m\u001b[38;5;241;43m=\u001b[39;49m\u001b[43mna_value\u001b[49m\n\u001b[1;32m    765\u001b[0m \u001b[43m    \u001b[49m\u001b[43m)\u001b[49m\n\u001b[1;32m    767\u001b[0m \u001b[38;5;28;01mif\u001b[39;00m sort \u001b[38;5;129;01mand\u001b[39;00m \u001b[38;5;28mlen\u001b[39m(uniques) \u001b[38;5;241m>\u001b[39m \u001b[38;5;241m0\u001b[39m:\n\u001b[1;32m    768\u001b[0m     uniques, codes \u001b[38;5;241m=\u001b[39m safe_sort(\n\u001b[1;32m    769\u001b[0m         uniques, codes, na_sentinel\u001b[38;5;241m=\u001b[39mna_sentinel, assume_unique\u001b[38;5;241m=\u001b[39m\u001b[38;5;28;01mTrue\u001b[39;00m, verify\u001b[38;5;241m=\u001b[39m\u001b[38;5;28;01mFalse\u001b[39;00m\n\u001b[1;32m    770\u001b[0m     )\n",
      "File \u001b[0;32m~/.pyenv/versions/3.8.13/envs/SportsExperiencePlatform/lib/python3.8/site-packages/pandas/core/algorithms.py:560\u001b[0m, in \u001b[0;36mfactorize_array\u001b[0;34m(values, na_sentinel, size_hint, na_value, mask)\u001b[0m\n\u001b[1;32m    557\u001b[0m hash_klass, values \u001b[38;5;241m=\u001b[39m _get_data_algo(values)\n\u001b[1;32m    559\u001b[0m table \u001b[38;5;241m=\u001b[39m hash_klass(size_hint \u001b[38;5;129;01mor\u001b[39;00m \u001b[38;5;28mlen\u001b[39m(values))\n\u001b[0;32m--> 560\u001b[0m uniques, codes \u001b[38;5;241m=\u001b[39m \u001b[43mtable\u001b[49m\u001b[38;5;241;43m.\u001b[39;49m\u001b[43mfactorize\u001b[49m\u001b[43m(\u001b[49m\n\u001b[1;32m    561\u001b[0m \u001b[43m    \u001b[49m\u001b[43mvalues\u001b[49m\u001b[43m,\u001b[49m\u001b[43m \u001b[49m\u001b[43mna_sentinel\u001b[49m\u001b[38;5;241;43m=\u001b[39;49m\u001b[43mna_sentinel\u001b[49m\u001b[43m,\u001b[49m\u001b[43m \u001b[49m\u001b[43mna_value\u001b[49m\u001b[38;5;241;43m=\u001b[39;49m\u001b[43mna_value\u001b[49m\u001b[43m,\u001b[49m\u001b[43m \u001b[49m\u001b[43mmask\u001b[49m\u001b[38;5;241;43m=\u001b[39;49m\u001b[43mmask\u001b[49m\n\u001b[1;32m    562\u001b[0m \u001b[43m\u001b[49m\u001b[43m)\u001b[49m\n\u001b[1;32m    564\u001b[0m codes \u001b[38;5;241m=\u001b[39m ensure_platform_int(codes)\n\u001b[1;32m    565\u001b[0m \u001b[38;5;28;01mreturn\u001b[39;00m codes, uniques\n",
      "File \u001b[0;32mpandas/_libs/hashtable_class_helper.pxi:5394\u001b[0m, in \u001b[0;36mpandas._libs.hashtable.PyObjectHashTable.factorize\u001b[0;34m()\u001b[0m\n",
      "File \u001b[0;32mpandas/_libs/hashtable_class_helper.pxi:5310\u001b[0m, in \u001b[0;36mpandas._libs.hashtable.PyObjectHashTable._unique\u001b[0;34m()\u001b[0m\n",
      "\u001b[0;31mTypeError\u001b[0m: unhashable type: 'list'"
     ]
    }
   ],
   "source": [
    "df.duplicated().sum()"
   ]
  },
  {
   "cell_type": "code",
   "execution_count": null,
   "id": "454dcaa8",
   "metadata": {},
   "outputs": [],
   "source": []
  },
  {
   "cell_type": "markdown",
   "id": "6d3ffdc2",
   "metadata": {
    "heading_collapsed": true
   },
   "source": [
    "## simple cleaning of description"
   ]
  },
  {
   "cell_type": "code",
   "execution_count": 78,
   "id": "25704954",
   "metadata": {
    "hidden": true
   },
   "outputs": [
    {
     "data": {
      "text/plain": [
       "'!\"#$%&\\'()*+,-./:;<=>?@[\\\\]^_`{|}~'"
      ]
     },
     "execution_count": 78,
     "metadata": {},
     "output_type": "execute_result"
    }
   ],
   "source": [
    "import re\n",
    "import string\n",
    "string.punctuation"
   ]
  },
  {
   "cell_type": "code",
   "execution_count": 59,
   "id": "78f7128c",
   "metadata": {
    "hidden": true
   },
   "outputs": [],
   "source": [
    "def remove_punctuation(text):\n",
    "    no_punct=[words for words in text if words not in string.punctuation]\n",
    "    words_wo_punct=''.join(no_punct)\n",
    "    return words_wo_punct"
   ]
  },
  {
   "cell_type": "code",
   "execution_count": null,
   "id": "893b4b98",
   "metadata": {
    "hidden": true
   },
   "outputs": [],
   "source": []
  },
  {
   "cell_type": "code",
   "execution_count": 60,
   "id": "fefaa728",
   "metadata": {
    "hidden": true
   },
   "outputs": [
    {
     "data": {
      "text/plain": [
       "['This',\n",
       " 'event',\n",
       " 'is',\n",
       " 'ideal',\n",
       " 'for',\n",
       " 'nature',\n",
       " 'lovers',\n",
       " 'and',\n",
       " 'outdoor',\n",
       " 'people.',\n",
       " 'We',\n",
       " 'will',\n",
       " 'be',\n",
       " 'hiking',\n",
       " 'in',\n",
       " '2',\n",
       " 'national',\n",
       " 'parks,',\n",
       " 'the',\n",
       " 'High',\n",
       " 'Tatras',\n",
       " 'and',\n",
       " 'Slovak',\n",
       " 'Paradise.',\n",
       " 'Each',\n",
       " 'walk',\n",
       " 'is',\n",
       " 'done',\n",
       " 'in',\n",
       " 'one',\n",
       " 'day,',\n",
       " 'so',\n",
       " 'at',\n",
       " 'the',\n",
       " 'end',\n",
       " 'of',\n",
       " 'the',\n",
       " 'day,',\n",
       " 'we',\n",
       " 'will',\n",
       " 'bring',\n",
       " 'you',\n",
       " 'back',\n",
       " 'to',\n",
       " 'your',\n",
       " 'accommodation',\n",
       " 'where',\n",
       " 'you',\n",
       " 'will',\n",
       " 'comfortably',\n",
       " 'spend',\n",
       " 'the',\n",
       " 'night.',\n",
       " 'Although',\n",
       " 'some',\n",
       " 'hikes',\n",
       " 'might',\n",
       " 'be',\n",
       " 'a',\n",
       " 'bit',\n",
       " 'more',\n",
       " 'demanding,',\n",
       " 'this',\n",
       " 'tour',\n",
       " 'is',\n",
       " 'designed',\n",
       " 'for',\n",
       " 'people',\n",
       " 'of',\n",
       " 'a',\n",
       " 'good',\n",
       " 'fitness',\n",
       " 'level,',\n",
       " 'but',\n",
       " 'not',\n",
       " 'necessarily',\n",
       " 'highly',\n",
       " 'physically',\n",
       " 'fit.',\n",
       " 'For',\n",
       " 'more',\n",
       " 'information',\n",
       " 'and',\n",
       " 'prices',\n",
       " 'click',\n",
       " 'on',\n",
       " 'the',\n",
       " 'link',\n",
       " 'below.',\n",
       " '[Tour',\n",
       " 'Itinerary',\n",
       " 'and',\n",
       " 'Info](https://www.experienceslovakianow.com/copy-of-new-page)',\n",
       " 'You',\n",
       " 'can',\n",
       " 'fly',\n",
       " 'to',\n",
       " 'Poprad',\n",
       " 'Tatry',\n",
       " 'airport',\n",
       " 'or',\n",
       " 'Kosice',\n",
       " 'airport.',\n",
       " 'From',\n",
       " 'Krakow',\n",
       " 'or',\n",
       " 'Budapest',\n",
       " 'you',\n",
       " 'can',\n",
       " 'take',\n",
       " 'a',\n",
       " 'direct',\n",
       " 'bus,',\n",
       " 'Flixbus',\n",
       " 'to',\n",
       " 'Poprad.',\n",
       " 'From',\n",
       " 'Prague,',\n",
       " 'Bratislava',\n",
       " 'or',\n",
       " 'Vienna',\n",
       " 'there',\n",
       " 'are',\n",
       " 'direct',\n",
       " 'trains',\n",
       " 'to',\n",
       " 'Poprad,',\n",
       " 'too.']"
      ]
     },
     "execution_count": 60,
     "metadata": {},
     "output_type": "execute_result"
    }
   ],
   "source": [
    "df['description'][0].split()"
   ]
  },
  {
   "cell_type": "code",
   "execution_count": null,
   "id": "1b069b4f",
   "metadata": {
    "hidden": true
   },
   "outputs": [],
   "source": []
  },
  {
   "cell_type": "code",
   "execution_count": 61,
   "id": "187c0795",
   "metadata": {
    "hidden": true
   },
   "outputs": [],
   "source": [
    "df['description_clean'] = df['description'].apply(lambda x: remove_punctuation(str(x)).lower().split())\n",
    "#df['description_clean'] = df['description'].apply(lambda x: remove_punctuation(x))\n",
    "#df['description_clean'] = df['description'].apply(lambda x: str(x).split())\n",
    "#df['description'] = df['description'].apply(lambda x: re.sub('[^A-Za-z0-9] ', '', str(x)))\n",
    "\n",
    "#df['description'] = df['description'].apply(lambda x: re.sub('^(http:+|https:)// ', '', str(x)))"
   ]
  },
  {
   "cell_type": "code",
   "execution_count": 62,
   "id": "440fbdd9",
   "metadata": {
    "hidden": true
   },
   "outputs": [
    {
     "data": {
      "text/plain": [
       "0       [this, event, is, ideal, for, nature, lovers, ...\n",
       "1       [the, most, awaited, trip, seven, rila, lakes,...\n",
       "2       [discover, the, mystical, sunken, birch, fores...\n",
       "3       [trip, highlights, visit, geneva, chamonix, hi...\n",
       "4       [discover, the, mystical, sunken, birch, fores...\n",
       "                              ...                        \n",
       "1294    [gönn, dir, den, spiritu, firetalk, um, ins, g...\n",
       "1295    [ein, mitmachwildkräuterkochevent, mit, feuerm...\n",
       "1296    [de, eventbeschreibung, hallo, zusammen, egal,...\n",
       "1297    [wir, machen, uns, auf, den, weg, durch, die, ...\n",
       "1298    [on, request, a, small, tour, 5km, 179, meters...\n",
       "Name: description_clean, Length: 1257, dtype: object"
      ]
     },
     "execution_count": 62,
     "metadata": {},
     "output_type": "execute_result"
    }
   ],
   "source": [
    "df.description_clean"
   ]
  },
  {
   "cell_type": "markdown",
   "id": "f2f91469",
   "metadata": {},
   "source": [
    "# simple tfidf model: using the raw description"
   ]
  },
  {
   "cell_type": "markdown",
   "id": "bf9f1642",
   "metadata": {},
   "source": [
    "## advanced cleaning of data"
   ]
  },
  {
   "cell_type": "code",
   "execution_count": null,
   "id": "5c4acc8f",
   "metadata": {},
   "outputs": [],
   "source": [
    "import pandas as pd\n",
    "import re\n",
    "import string\n",
    "from bs4 import BeautifulSoup\n",
    "import nltk\n",
    "from nltk.stem import PorterStemmer\n",
    "from nltk.stem.wordnet import WordNetLemmatizer\n",
    "import spacy"
   ]
  },
  {
   "cell_type": "code",
   "execution_count": null,
   "id": "72665efc",
   "metadata": {},
   "outputs": [],
   "source": [
    "import nltk\n",
    "nltk.download('stopwords')"
   ]
  },
  {
   "cell_type": "code",
   "execution_count": 79,
   "id": "07a5bac1",
   "metadata": {},
   "outputs": [],
   "source": [
    "8# load spacy\n",
    "nlp = spacy.load('en_core_web_sm')\n",
    "\n",
    "def clean_string(text,stem=\"None\"):\n",
    "\n",
    "    final_string = \"\"\n",
    "\n",
    "    # make lower\n",
    "    text = text.lower()\n",
    "    \n",
    "    # remove http\n",
    "    text = re.sub(r\"http.*.com\",\"\",text)\n",
    "\n",
    "    # remove www\n",
    "    text = re.sub(r\"www.*.com\",\"\",text)\n",
    "    \n",
    "    # remove line breaks\n",
    "    text = re.sub(r'\\n','',text)\n",
    "\n",
    "    # remove puncuation\n",
    "    translator = str.maketrans('','',string.punctuation)\n",
    "    text = text.translate(translator)\n",
    "\n",
    "    # remove stop words\n",
    "    text = text.split()\n",
    "    useless_words = nltk.corpus.stopwords.words(\"english\")\n",
    "    text_filtered = [word for word in text if not word in useless_words]\n",
    "\n",
    "    # remove numbers\n",
    "    text_filtered = [re.sub(r'\\w*\\d\\w*','',w) for w in text_filtered]\n",
    "\n",
    "    # stem or lemmatize\n",
    "    if stem == 'Stem':\n",
    "        stemmer = PorterStemmer() \n",
    "        text_stemmed = [stemmer.stem(y) for y in text_filtered]\n",
    "    elif stem == 'Lem':\n",
    "        lem = WordNetLemmatizer()\n",
    "        text_stemmed = [lem.lemmatize(y) for y in text_filtered]\n",
    "    elif stem == 'Spacy':\n",
    "        text_filtered = nlp(' '.join(text_filtered))\n",
    "        text_stemmed = [y.lemma_ for y in text_filtered]\n",
    "    else:\n",
    "        text_stemmed = text_filtered\n",
    "\n",
    "    final_string = ' '.join(text_stemmed)\n",
    "\n",
    "    return final_string\n",
    "        \n",
    "        "
   ]
  },
  {
   "cell_type": "code",
   "execution_count": 82,
   "id": "d1c0a99a",
   "metadata": {},
   "outputs": [],
   "source": [
    "df['clean_description'] = df['description'].apply(lambda x: clean_string(x))\n",
    "df['clean_title'] = df['title'].apply(lambda x: clean_string(x))"
   ]
  },
  {
   "cell_type": "markdown",
   "id": "90d78d66",
   "metadata": {},
   "source": [
    "## mashup of title and description"
   ]
  },
  {
   "cell_type": "code",
   "execution_count": null,
   "id": "de9b188b",
   "metadata": {},
   "outputs": [],
   "source": []
  },
  {
   "cell_type": "code",
   "execution_count": null,
   "id": "b7a24497",
   "metadata": {},
   "outputs": [],
   "source": []
  },
  {
   "cell_type": "code",
   "execution_count": null,
   "id": "9388708b",
   "metadata": {},
   "outputs": [],
   "source": []
  },
  {
   "cell_type": "markdown",
   "id": "57cbba7a",
   "metadata": {},
   "source": [
    "## tfidf on clean data"
   ]
  },
  {
   "cell_type": "code",
   "execution_count": 63,
   "id": "09dd9571",
   "metadata": {},
   "outputs": [],
   "source": [
    "from sklearn.feature_extraction.text import TfidfVectorizer, CountVectorizer\n",
    "\n",
    "tfidf = TfidfVectorizer(stop_words=\"english\")"
   ]
  },
  {
   "cell_type": "code",
   "execution_count": 64,
   "id": "fe129670",
   "metadata": {},
   "outputs": [
    {
     "data": {
      "text/plain": [
       "(1257, 9497)"
      ]
     },
     "execution_count": 64,
     "metadata": {},
     "output_type": "execute_result"
    }
   ],
   "source": [
    "tfidf_matrix = tfidf.fit_transform(df[\"description\"])\n",
    "tfidf_matrix.shape"
   ]
  },
  {
   "cell_type": "code",
   "execution_count": 65,
   "id": "302cb92e",
   "metadata": {},
   "outputs": [],
   "source": [
    "cosine_sim = tfidf_matrix.dot(tfidf_matrix.T)"
   ]
  },
  {
   "cell_type": "code",
   "execution_count": 66,
   "id": "13396afd",
   "metadata": {},
   "outputs": [],
   "source": [
    "title_to_index = pd.Series(df.index, index = df[\"title\"]).drop_duplicates()"
   ]
  },
  {
   "cell_type": "code",
   "execution_count": null,
   "id": "1eb14788",
   "metadata": {},
   "outputs": [],
   "source": []
  },
  {
   "cell_type": "code",
   "execution_count": 67,
   "id": "11d51f51",
   "metadata": {},
   "outputs": [],
   "source": [
    "def content_recommender(title, cosine_sim = cosine_sim, df = df, title_to_index = title_to_index):\n",
    "    '''This recommender finds out 20 closest matches with a given event'''\n",
    "    idx = title_to_index[title]\n",
    "    \n",
    "    sim_scores = list(enumerate(cosine_sim[idx].todense().tolist()[0]))\n",
    "    # list of set [(index, sim score), (index, sim score), ...]\n",
    "    \n",
    "    sim_scores = sorted(sim_scores, key = lambda x: x[1], reverse = True)\n",
    "    # Sort the list of set by sim score, index with highest simlirarity\n",
    "    # Will be at the beginning of the list\n",
    "    \n",
    "    sim_scores = sim_scores[1:21] # top 10 events (first one is our input events so we ignore it)\n",
    "    \n",
    "    sport_indices = [i[0] for i in sim_scores] # we grab the indices of those 10 events\n",
    "    \n",
    "    return df[\"title\"].iloc[sport_indices]"
   ]
  },
  {
   "cell_type": "code",
   "execution_count": 68,
   "id": "f9c51fa6",
   "metadata": {},
   "outputs": [
    {
     "data": {
      "text/plain": [
       "'Adventure in Spain Gran Canaria las Palmas. You will never forget this adventure'"
      ]
     },
     "execution_count": 68,
     "metadata": {},
     "output_type": "execute_result"
    }
   ],
   "source": [
    "df.title[400]"
   ]
  },
  {
   "cell_type": "code",
   "execution_count": 69,
   "id": "61f85338",
   "metadata": {},
   "outputs": [
    {
     "data": {
      "text/plain": [
       "400     Adventure in Spain Gran Canaria las Palmas. Yo...\n",
       "586     Adventure in Spain Canary Islands.  La Palma a...\n",
       "536     Camping and Hiking in the Peak District. With ...\n",
       "468           Introduction to Wild Camping with BBQ fire.\n",
       "538     WALES Snowdonia Camping and Hiking Adventure W...\n",
       "102     Camping and Hiking in Wales Snowdonia. With BB...\n",
       "24                                            Nature Walk\n",
       "23                                             Nature Day\n",
       "28                                             Nature Day\n",
       "3       Swiss 🇨🇭 Geneva - France 🇫🇷- Mont Blanc (hike ...\n",
       "35                  By Bike through fascinating Uckermark\n",
       "533     Wales Camping and Hiking Adventure - with BBQ ...\n",
       "11      Nature Games in Grunewald: Let out your inner ...\n",
       "555                                  Friday Online Social\n",
       "558                                  Friday Online Social\n",
       "1104    A gathering for High Sensation Seeking, High S...\n",
       "20      Four Towers: Top-voted hike along rolling hill...\n",
       "26      Four Towers: Top-voted hike along rolling hill...\n",
       "903              Wake Up Yoga, 8am to 9am, Donation Basis\n",
       "904              Wake Up Yoga, 8am to 9am, Donation Basis\n",
       "Name: title, dtype: object"
      ]
     },
     "execution_count": 69,
     "metadata": {},
     "output_type": "execute_result"
    }
   ],
   "source": [
    "content_recommender(\"Hiking in High Tatras and Slovak Paradise National Parks\")"
   ]
  },
  {
   "cell_type": "markdown",
   "id": "498f7912",
   "metadata": {},
   "source": [
    "#  recommender combining both title and description"
   ]
  },
  {
   "cell_type": "code",
   "execution_count": 71,
   "id": "3fd8a201",
   "metadata": {},
   "outputs": [
    {
     "data": {
      "text/html": [
       "<div>\n",
       "<style scoped>\n",
       "    .dataframe tbody tr th:only-of-type {\n",
       "        vertical-align: middle;\n",
       "    }\n",
       "\n",
       "    .dataframe tbody tr th {\n",
       "        vertical-align: top;\n",
       "    }\n",
       "\n",
       "    .dataframe thead th {\n",
       "        text-align: right;\n",
       "    }\n",
       "</style>\n",
       "<table border=\"1\" class=\"dataframe\">\n",
       "  <thead>\n",
       "    <tr style=\"text-align: right;\">\n",
       "      <th></th>\n",
       "      <th>title</th>\n",
       "      <th>description</th>\n",
       "      <th>event_date</th>\n",
       "      <th>event_latitude</th>\n",
       "      <th>event_longitude</th>\n",
       "      <th>description_clean</th>\n",
       "    </tr>\n",
       "  </thead>\n",
       "  <tbody>\n",
       "    <tr>\n",
       "      <th>0</th>\n",
       "      <td>Hiking in High Tatras and Slovak Paradise Nati...</td>\n",
       "      <td>This event is ideal for nature lovers and outd...</td>\n",
       "      <td>2022-06-10T15:00+02:00</td>\n",
       "      <td>52.520008</td>\n",
       "      <td>13.404954</td>\n",
       "      <td>[this, event, is, ideal, for, nature, lovers, ...</td>\n",
       "    </tr>\n",
       "    <tr>\n",
       "      <th>1</th>\n",
       "      <td>Bulgaria  🇧🇬 - Seven Rila lakes hike</td>\n",
       "      <td>The most awaited trip - Seven Rila lakes hike ...</td>\n",
       "      <td>2022-06-16T07:00+02:00</td>\n",
       "      <td>52.520008</td>\n",
       "      <td>13.404954</td>\n",
       "      <td>[the, most, awaited, trip, seven, rila, lakes,...</td>\n",
       "    </tr>\n",
       "    <tr>\n",
       "      <th>2</th>\n",
       "      <td>Fairytale Forest: Hike through the mystical la...</td>\n",
       "      <td>Discover the mystical sunken birch forest, the...</td>\n",
       "      <td>2022-06-05T11:15+02:00</td>\n",
       "      <td>52.712540</td>\n",
       "      <td>13.335370</td>\n",
       "      <td>[discover, the, mystical, sunken, birch, fores...</td>\n",
       "    </tr>\n",
       "    <tr>\n",
       "      <th>3</th>\n",
       "      <td>Swiss 🇨🇭 Geneva - France 🇫🇷- Mont Blanc (hike ...</td>\n",
       "      <td>Trip highlights\\n\\n* Visit Geneva, Chamonix\\n*...</td>\n",
       "      <td>2022-06-04T06:00+02:00</td>\n",
       "      <td>52.520008</td>\n",
       "      <td>13.404954</td>\n",
       "      <td>[trip, highlights, visit, geneva, chamonix, hi...</td>\n",
       "    </tr>\n",
       "    <tr>\n",
       "      <th>4</th>\n",
       "      <td>Fairytale Forest: Hike through the mystical la...</td>\n",
       "      <td>*Discover the mystical sunken birch forest, th...</td>\n",
       "      <td>2022-06-18T11:15+02:00</td>\n",
       "      <td>52.712540</td>\n",
       "      <td>13.335370</td>\n",
       "      <td>[discover, the, mystical, sunken, birch, fores...</td>\n",
       "    </tr>\n",
       "  </tbody>\n",
       "</table>\n",
       "</div>"
      ],
      "text/plain": [
       "                                               title  \\\n",
       "0  Hiking in High Tatras and Slovak Paradise Nati...   \n",
       "1               Bulgaria  🇧🇬 - Seven Rila lakes hike   \n",
       "2  Fairytale Forest: Hike through the mystical la...   \n",
       "3  Swiss 🇨🇭 Geneva - France 🇫🇷- Mont Blanc (hike ...   \n",
       "4  Fairytale Forest: Hike through the mystical la...   \n",
       "\n",
       "                                         description              event_date  \\\n",
       "0  This event is ideal for nature lovers and outd...  2022-06-10T15:00+02:00   \n",
       "1  The most awaited trip - Seven Rila lakes hike ...  2022-06-16T07:00+02:00   \n",
       "2  Discover the mystical sunken birch forest, the...  2022-06-05T11:15+02:00   \n",
       "3  Trip highlights\\n\\n* Visit Geneva, Chamonix\\n*...  2022-06-04T06:00+02:00   \n",
       "4  *Discover the mystical sunken birch forest, th...  2022-06-18T11:15+02:00   \n",
       "\n",
       "   event_latitude  event_longitude  \\\n",
       "0       52.520008        13.404954   \n",
       "1       52.520008        13.404954   \n",
       "2       52.712540        13.335370   \n",
       "3       52.520008        13.404954   \n",
       "4       52.712540        13.335370   \n",
       "\n",
       "                                   description_clean  \n",
       "0  [this, event, is, ideal, for, nature, lovers, ...  \n",
       "1  [the, most, awaited, trip, seven, rila, lakes,...  \n",
       "2  [discover, the, mystical, sunken, birch, fores...  \n",
       "3  [trip, highlights, visit, geneva, chamonix, hi...  \n",
       "4  [discover, the, mystical, sunken, birch, fores...  "
      ]
     },
     "execution_count": 71,
     "metadata": {},
     "output_type": "execute_result"
    }
   ],
   "source": [
    "df.head()"
   ]
  },
  {
   "cell_type": "code",
   "execution_count": null,
   "id": "878d1e65",
   "metadata": {},
   "outputs": [],
   "source": []
  },
  {
   "cell_type": "code",
   "execution_count": null,
   "id": "beed556b",
   "metadata": {},
   "outputs": [],
   "source": []
  },
  {
   "cell_type": "code",
   "execution_count": null,
   "id": "a3d46ad8",
   "metadata": {},
   "outputs": [],
   "source": []
  },
  {
   "cell_type": "code",
   "execution_count": null,
   "id": "63a30031",
   "metadata": {},
   "outputs": [],
   "source": []
  },
  {
   "cell_type": "markdown",
   "id": "e61226fd",
   "metadata": {},
   "source": []
  },
  {
   "cell_type": "code",
   "execution_count": null,
   "id": "df4f10f4",
   "metadata": {},
   "outputs": [],
   "source": []
  },
  {
   "cell_type": "code",
   "execution_count": null,
   "id": "cecfcf2f",
   "metadata": {},
   "outputs": [],
   "source": []
  },
  {
   "cell_type": "code",
   "execution_count": null,
   "id": "cb6f46bb",
   "metadata": {},
   "outputs": [],
   "source": []
  },
  {
   "cell_type": "code",
   "execution_count": null,
   "id": "6afc835c",
   "metadata": {},
   "outputs": [],
   "source": []
  },
  {
   "cell_type": "code",
   "execution_count": null,
   "id": "f524500c",
   "metadata": {},
   "outputs": [],
   "source": []
  },
  {
   "cell_type": "code",
   "execution_count": null,
   "id": "f8b5cf5e",
   "metadata": {},
   "outputs": [],
   "source": []
  },
  {
   "cell_type": "code",
   "execution_count": null,
   "id": "d18a73e0",
   "metadata": {},
   "outputs": [],
   "source": []
  },
  {
   "cell_type": "code",
   "execution_count": null,
   "id": "f7af1ad9",
   "metadata": {},
   "outputs": [],
   "source": []
  },
  {
   "cell_type": "markdown",
   "id": "ad648f35",
   "metadata": {},
   "source": []
  },
  {
   "cell_type": "code",
   "execution_count": 72,
   "id": "eead4081",
   "metadata": {},
   "outputs": [],
   "source": []
  },
  {
   "cell_type": "code",
   "execution_count": 75,
   "id": "a6ece3cd",
   "metadata": {},
   "outputs": [
    {
     "name": "stderr",
     "output_type": "stream",
     "text": [
      "[nltk_data] Downloading package stopwords to\n",
      "[nltk_data]     /Users/shreetamakarmakar/nltk_data...\n",
      "[nltk_data]   Unzipping corpora/stopwords.zip.\n"
     ]
    },
    {
     "data": {
      "text/plain": [
       "True"
      ]
     },
     "execution_count": 75,
     "metadata": {},
     "output_type": "execute_result"
    }
   ],
   "source": []
  },
  {
   "cell_type": "code",
   "execution_count": 76,
   "id": "2a1a33f7",
   "metadata": {},
   "outputs": [],
   "source": []
  },
  {
   "cell_type": "code",
   "execution_count": 77,
   "id": "1673bc22",
   "metadata": {},
   "outputs": [
    {
     "data": {
      "text/plain": [
       "'yoga mit nina bettermannsonntags  uhr —   minuten intensive ausgiebige asanapraxis mit wechselndem schwerpunkt sowie meditation stehen immer auf dem programm unterrichtet wird die stunde von jivamuktilehrerin nina bettermannunterrichtssprache ist deutsch english requirednina bettermannnina ist  zertifizierte jivamuktilehrerin  besuchte sie ihre erste yogastunde anfangs als ausgleich zum stressigen studium gedacht war wurde schnell zur unverzichtbaren täglichen praxis nachdem sie verschiedene yogastile ausprobiert hatte fand sie schließlich im jivamukti yoga ihr zuhause daher entschloss sie sich im winter  nach dem abschluss ihres pharmaziestudiums das jivamukti yoga teacher training mit sharon gannon david life patrick broome und yogeswari zu absolvieren  folgte das  bei ihrer mentorin vera seitdem unterrichtet nina neben ihrer tätigkeit als apothekerin mehreren berliner yogastudios dabei ist ihr aber die eigene tägliche praxis weiterhin heilig denn nur man selber erlebt hat kann man auch authentisch weitergeben und unterrichten balance recommendeddonationdropin €usc members welcome'"
      ]
     },
     "execution_count": 77,
     "metadata": {},
     "output_type": "execute_result"
    }
   ],
   "source": [
    "clean_string(\"'Yoga mit Nina Bettermann\\n\\nSonntags 17 Uhr — 18:30 Uhr\\n\\n90 Minuten intensive, ausgiebige Asana-Praxis mit wechselndem Schwerpunkt sowie Meditation stehen immer auf dem Programm. Unterrichtet wird die Stunde von Jivamuktilehrerin Nina Bettermann.\\n\\nUnterrichtssprache ist Deutsch - English if required!!\\n\\nNina Bettermann\\n\\nNina ist 800-Stunden zertifizierte Jivamukti-Lehrerin. 2005 besuchte sie ihre erste Yogastunde. Was anfangs als Ausgleich zum stressigen Studium gedacht war, wurde schnell zur unverzichtbaren täglichen Praxis. Nachdem sie verschiedene Yogastile ausprobiert hatte, fand sie schließlich im Jivamukti Yoga ihr Zuhause. Daher entschloss sie sich im Winter 2010, nach dem Abschluss ihres Pharmaziestudiums, das Jivamukti Yoga Teacher Training mit Sharon Gannon, David Life Patrick Broome und Yogeswari zu absolvieren. 2014 folgte das 800hrs-Apprenticeship bei ihrer Mentorin Vera. Seitdem unterrichtet Nina, neben ihrer Tätigkeit als Apothekerin, in mehreren Berliner Yogastudios. Dabei ist ihr aber die eigene tägliche Praxis weiterhin heilig. Denn nur was man selber erlebt hat, kann man auch authentisch weitergeben und unterrichten :)\\n\\nThe balance recommended:\\nDonation-Drop-In 13-16€\\nUSC Members Welcome\")"
   ]
  },
  {
   "cell_type": "markdown",
   "id": "27f518a8",
   "metadata": {},
   "source": [
    "#  recommemder filter for future dates and nearest places "
   ]
  },
  {
   "cell_type": "code",
   "execution_count": null,
   "id": "ee35009a",
   "metadata": {},
   "outputs": [],
   "source": []
  },
  {
   "cell_type": "code",
   "execution_count": null,
   "id": "bef611f3",
   "metadata": {},
   "outputs": [],
   "source": []
  }
 ],
 "metadata": {
  "kernelspec": {
   "display_name": "Python 3 (ipykernel)",
   "language": "python",
   "name": "python3"
  },
  "language_info": {
   "codemirror_mode": {
    "name": "ipython",
    "version": 3
   },
   "file_extension": ".py",
   "mimetype": "text/x-python",
   "name": "python",
   "nbconvert_exporter": "python",
   "pygments_lexer": "ipython3",
   "version": "3.8.13"
  },
  "toc": {
   "base_numbering": 1,
   "nav_menu": {},
   "number_sections": true,
   "sideBar": true,
   "skip_h1_title": false,
   "title_cell": "Table of Contents",
   "title_sidebar": "Contents",
   "toc_cell": false,
   "toc_position": {},
   "toc_section_display": true,
   "toc_window_display": false
  }
 },
 "nbformat": 4,
 "nbformat_minor": 5
}
