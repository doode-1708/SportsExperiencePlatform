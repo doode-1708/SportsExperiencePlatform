{
 "cells": [
  {
   "cell_type": "code",
   "execution_count": 1,
   "id": "248bf3da",
   "metadata": {},
   "outputs": [],
   "source": [
    "import numpy as np\n",
    "import pandas as pd\n",
    "import json\n",
    "import os"
   ]
  },
  {
   "cell_type": "code",
   "execution_count": null,
   "id": "9a85e518",
   "metadata": {},
   "outputs": [],
   "source": []
  },
  {
   "cell_type": "code",
   "execution_count": null,
   "id": "b9a554bc",
   "metadata": {},
   "outputs": [],
   "source": []
  },
  {
   "cell_type": "code",
   "execution_count": 2,
   "id": "be8d8504",
   "metadata": {},
   "outputs": [
    {
     "name": "stdout",
     "output_type": "stream",
     "text": [
      "['berlin_swimmimg.json', 'berlin_hiking.json', 'london_sports.json', 'frankfurt_running.json', 'berlin_cycling.json', 'berlin_running.json', 'berlin_yoga.json', 'berlin_sports.json', 'frankfurt_yoga.json', 'frankfurt_hiking.json', 'berlin_canoeing.json']\n"
     ]
    }
   ],
   "source": [
    "\n",
    "data_path = os.path.join(os.path.dirname(os.getcwd()), 'raw_data/')\n",
    "json_files = [files for files in os.listdir(data_path) if files.endswith('.json')]\n",
    "print(json_files)"
   ]
  },
  {
   "cell_type": "code",
   "execution_count": 3,
   "id": "267ffd61",
   "metadata": {},
   "outputs": [],
   "source": [
    "user_df = pd.read_csv(f'{data_path}users.csv')"
   ]
  },
  {
   "cell_type": "code",
   "execution_count": 4,
   "id": "e365c9a8",
   "metadata": {},
   "outputs": [
    {
     "data": {
      "text/html": [
       "<div>\n",
       "<style scoped>\n",
       "    .dataframe tbody tr th:only-of-type {\n",
       "        vertical-align: middle;\n",
       "    }\n",
       "\n",
       "    .dataframe tbody tr th {\n",
       "        vertical-align: top;\n",
       "    }\n",
       "\n",
       "    .dataframe thead th {\n",
       "        text-align: right;\n",
       "    }\n",
       "</style>\n",
       "<table border=\"1\" class=\"dataframe\">\n",
       "  <thead>\n",
       "    <tr style=\"text-align: right;\">\n",
       "      <th></th>\n",
       "      <th>0</th>\n",
       "      <th>1</th>\n",
       "      <th>2</th>\n",
       "      <th>3</th>\n",
       "      <th>4</th>\n",
       "    </tr>\n",
       "  </thead>\n",
       "  <tbody>\n",
       "    <tr>\n",
       "      <th>Unnamed: 0</th>\n",
       "      <td>0</td>\n",
       "      <td>1</td>\n",
       "      <td>2</td>\n",
       "      <td>3</td>\n",
       "      <td>4</td>\n",
       "    </tr>\n",
       "    <tr>\n",
       "      <th>id</th>\n",
       "      <td>19</td>\n",
       "      <td>20</td>\n",
       "      <td>21</td>\n",
       "      <td>22</td>\n",
       "      <td>23</td>\n",
       "    </tr>\n",
       "    <tr>\n",
       "      <th>email</th>\n",
       "      <td>johanna@gmail.com</td>\n",
       "      <td>anjali@gmail.com</td>\n",
       "      <td>alexandra@gmail.com</td>\n",
       "      <td>ieva@gmail.com</td>\n",
       "      <td>daniel@gmail.com</td>\n",
       "    </tr>\n",
       "    <tr>\n",
       "      <th>encrypted_password</th>\n",
       "      <td>$2a$12$rZkuGDgbHIHpi3sYfS4or.EmNEd61QoDhi3IEEL...</td>\n",
       "      <td>$2a$12$L.9JFRFJeF6GMfrvHQ9ycuxwAOS3ddYMeuhj7Qr...</td>\n",
       "      <td>$2a$12$ZBcWOyC2RU8aP5nWLKMlee54mNk4gmRIkFZPYL7...</td>\n",
       "      <td>$2a$12$xRfA6rvHxBLt0ETNb.fGputBmPcU1tEd6KiEXIr...</td>\n",
       "      <td>$2a$12$iElgTE/LWI.UAdBDKEUxYOpdme2qXF/nQyiuM2i...</td>\n",
       "    </tr>\n",
       "    <tr>\n",
       "      <th>reset_password_token</th>\n",
       "      <td>NaN</td>\n",
       "      <td>NaN</td>\n",
       "      <td>NaN</td>\n",
       "      <td>NaN</td>\n",
       "      <td>NaN</td>\n",
       "    </tr>\n",
       "    <tr>\n",
       "      <th>reset_password_sent_at</th>\n",
       "      <td>NaN</td>\n",
       "      <td>NaN</td>\n",
       "      <td>NaN</td>\n",
       "      <td>NaN</td>\n",
       "      <td>NaN</td>\n",
       "    </tr>\n",
       "    <tr>\n",
       "      <th>remember_created_at</th>\n",
       "      <td>NaN</td>\n",
       "      <td>NaN</td>\n",
       "      <td>NaN</td>\n",
       "      <td>NaN</td>\n",
       "      <td>NaN</td>\n",
       "    </tr>\n",
       "    <tr>\n",
       "      <th>created_at</th>\n",
       "      <td>2022-05-21 10:12:18.076423</td>\n",
       "      <td>2022-05-21 10:12:18.316674</td>\n",
       "      <td>2022-05-21 10:12:18.556628</td>\n",
       "      <td>2022-05-21 10:12:18.796555</td>\n",
       "      <td>2022-05-21 10:12:19.041699</td>\n",
       "    </tr>\n",
       "    <tr>\n",
       "      <th>updated_at</th>\n",
       "      <td>2022-05-21 10:12:18.076423</td>\n",
       "      <td>2022-05-21 10:12:18.316674</td>\n",
       "      <td>2022-05-21 10:12:18.556628</td>\n",
       "      <td>2022-05-21 10:12:18.796555</td>\n",
       "      <td>2022-05-21 10:12:19.041699</td>\n",
       "    </tr>\n",
       "    <tr>\n",
       "      <th>first_name</th>\n",
       "      <td>Johanna</td>\n",
       "      <td>Anjali</td>\n",
       "      <td>Alexandra</td>\n",
       "      <td>Ieva</td>\n",
       "      <td>Daniel</td>\n",
       "    </tr>\n",
       "    <tr>\n",
       "      <th>last_name</th>\n",
       "      <td>Maier</td>\n",
       "      <td>Kumar</td>\n",
       "      <td>Stroe</td>\n",
       "      <td>Jirgensone</td>\n",
       "      <td>Angerer</td>\n",
       "    </tr>\n",
       "    <tr>\n",
       "      <th>description</th>\n",
       "      <td>Hi, my name is Johanna! I want to go on my nex...</td>\n",
       "      <td>Hi, my name is Anjali! I want to go on my next...</td>\n",
       "      <td>Hi, my name is Alexandra! I want to go on my n...</td>\n",
       "      <td>Hi, my name is Ieva! I want to go on my next s...</td>\n",
       "      <td>Hi, my name is Daniel! I want to go on my next...</td>\n",
       "    </tr>\n",
       "    <tr>\n",
       "      <th>date_of_birth</th>\n",
       "      <td>1993-01-25</td>\n",
       "      <td>1993-01-25</td>\n",
       "      <td>1993-01-25</td>\n",
       "      <td>1993-01-25</td>\n",
       "      <td>1993-01-25</td>\n",
       "    </tr>\n",
       "    <tr>\n",
       "      <th>gender</th>\n",
       "      <td>female</td>\n",
       "      <td>female</td>\n",
       "      <td>female</td>\n",
       "      <td>female</td>\n",
       "      <td>male</td>\n",
       "    </tr>\n",
       "  </tbody>\n",
       "</table>\n",
       "</div>"
      ],
      "text/plain": [
       "                                                                        0  \\\n",
       "Unnamed: 0                                                              0   \n",
       "id                                                                     19   \n",
       "email                                                   johanna@gmail.com   \n",
       "encrypted_password      $2a$12$rZkuGDgbHIHpi3sYfS4or.EmNEd61QoDhi3IEEL...   \n",
       "reset_password_token                                                  NaN   \n",
       "reset_password_sent_at                                                NaN   \n",
       "remember_created_at                                                   NaN   \n",
       "created_at                                     2022-05-21 10:12:18.076423   \n",
       "updated_at                                     2022-05-21 10:12:18.076423   \n",
       "first_name                                                        Johanna   \n",
       "last_name                                                           Maier   \n",
       "description             Hi, my name is Johanna! I want to go on my nex...   \n",
       "date_of_birth                                                  1993-01-25   \n",
       "gender                                                             female   \n",
       "\n",
       "                                                                        1  \\\n",
       "Unnamed: 0                                                              1   \n",
       "id                                                                     20   \n",
       "email                                                    anjali@gmail.com   \n",
       "encrypted_password      $2a$12$L.9JFRFJeF6GMfrvHQ9ycuxwAOS3ddYMeuhj7Qr...   \n",
       "reset_password_token                                                  NaN   \n",
       "reset_password_sent_at                                                NaN   \n",
       "remember_created_at                                                   NaN   \n",
       "created_at                                     2022-05-21 10:12:18.316674   \n",
       "updated_at                                     2022-05-21 10:12:18.316674   \n",
       "first_name                                                         Anjali   \n",
       "last_name                                                           Kumar   \n",
       "description             Hi, my name is Anjali! I want to go on my next...   \n",
       "date_of_birth                                                  1993-01-25   \n",
       "gender                                                             female   \n",
       "\n",
       "                                                                        2  \\\n",
       "Unnamed: 0                                                              2   \n",
       "id                                                                     21   \n",
       "email                                                 alexandra@gmail.com   \n",
       "encrypted_password      $2a$12$ZBcWOyC2RU8aP5nWLKMlee54mNk4gmRIkFZPYL7...   \n",
       "reset_password_token                                                  NaN   \n",
       "reset_password_sent_at                                                NaN   \n",
       "remember_created_at                                                   NaN   \n",
       "created_at                                     2022-05-21 10:12:18.556628   \n",
       "updated_at                                     2022-05-21 10:12:18.556628   \n",
       "first_name                                                      Alexandra   \n",
       "last_name                                                           Stroe   \n",
       "description             Hi, my name is Alexandra! I want to go on my n...   \n",
       "date_of_birth                                                  1993-01-25   \n",
       "gender                                                             female   \n",
       "\n",
       "                                                                        3  \\\n",
       "Unnamed: 0                                                              3   \n",
       "id                                                                     22   \n",
       "email                                                      ieva@gmail.com   \n",
       "encrypted_password      $2a$12$xRfA6rvHxBLt0ETNb.fGputBmPcU1tEd6KiEXIr...   \n",
       "reset_password_token                                                  NaN   \n",
       "reset_password_sent_at                                                NaN   \n",
       "remember_created_at                                                   NaN   \n",
       "created_at                                     2022-05-21 10:12:18.796555   \n",
       "updated_at                                     2022-05-21 10:12:18.796555   \n",
       "first_name                                                           Ieva   \n",
       "last_name                                                      Jirgensone   \n",
       "description             Hi, my name is Ieva! I want to go on my next s...   \n",
       "date_of_birth                                                  1993-01-25   \n",
       "gender                                                             female   \n",
       "\n",
       "                                                                        4  \n",
       "Unnamed: 0                                                              4  \n",
       "id                                                                     23  \n",
       "email                                                    daniel@gmail.com  \n",
       "encrypted_password      $2a$12$iElgTE/LWI.UAdBDKEUxYOpdme2qXF/nQyiuM2i...  \n",
       "reset_password_token                                                  NaN  \n",
       "reset_password_sent_at                                                NaN  \n",
       "remember_created_at                                                   NaN  \n",
       "created_at                                     2022-05-21 10:12:19.041699  \n",
       "updated_at                                     2022-05-21 10:12:19.041699  \n",
       "first_name                                                         Daniel  \n",
       "last_name                                                         Angerer  \n",
       "description             Hi, my name is Daniel! I want to go on my next...  \n",
       "date_of_birth                                                  1993-01-25  \n",
       "gender                                                               male  "
      ]
     },
     "execution_count": 4,
     "metadata": {},
     "output_type": "execute_result"
    }
   ],
   "source": [
    "user_df.head().T"
   ]
  },
  {
   "cell_type": "code",
   "execution_count": 5,
   "id": "a7819752",
   "metadata": {},
   "outputs": [],
   "source": [
    "offers_df = pd.read_csv(f'{data_path}offers.csv')"
   ]
  },
  {
   "cell_type": "code",
   "execution_count": 43,
   "id": "94bfa728",
   "metadata": {
    "scrolled": true
   },
   "outputs": [
    {
     "name": "stdout",
     "output_type": "stream",
     "text": [
      "52.548897\n"
     ]
    }
   ],
   "source": [
    "data_path = os.path.join(os.path.dirname(os.getcwd()), 'raw_data/')\n",
    "file_berlin = 'berlin_yoga.json'\n",
    "with open(data_path+file_berlin) as f:\n",
    "    data = json.load(f)\n",
    "print(data['Data'][2]['venue']['lat'])"
   ]
  },
  {
   "cell_type": "code",
   "execution_count": 49,
   "id": "181d195f",
   "metadata": {},
   "outputs": [],
   "source": [
    "data_path = os.path.join(os.path.dirname(os.getcwd()), 'raw_data/')\n",
    "\n",
    "json_files = [files for files in os.listdir(data_path) if files.endswith('.json')]\n",
    "#print(json_files)\n",
    "data_dict = []\n",
    "for val in json_files:\n",
    "    with open(data_path+val) as f:\n",
    "        data = json.load(f)\n",
    "         \n",
    "        for val in data['Data']:\n",
    "            if val['venue'] != None:\n",
    "                \n",
    "                data_dict.append({'title': val['title'], \n",
    "                                  'description': val['description'],\n",
    "                                  'lat': val['venue']['lat'],\n",
    "                                  'long': val['venue']['lng']\n",
    "\n",
    "\n",
    "\n",
    "                                 })\n",
    "\n"
   ]
  },
  {
   "cell_type": "code",
   "execution_count": 50,
   "id": "7395001d",
   "metadata": {},
   "outputs": [
    {
     "data": {
      "text/plain": [
       "(558, 4)"
      ]
     },
     "execution_count": 50,
     "metadata": {},
     "output_type": "execute_result"
    }
   ],
   "source": [
    "df = pd.DataFrame.from_dict(data_dict).drop_duplicates()\n",
    "df.shape"
   ]
  },
  {
   "cell_type": "code",
   "execution_count": 51,
   "id": "a516457f",
   "metadata": {},
   "outputs": [
    {
     "data": {
      "text/plain": [
       "0"
      ]
     },
     "execution_count": 51,
     "metadata": {},
     "output_type": "execute_result"
    }
   ],
   "source": [
    "df.duplicated().sum()"
   ]
  },
  {
   "cell_type": "code",
   "execution_count": null,
   "id": "454dcaa8",
   "metadata": {},
   "outputs": [],
   "source": []
  },
  {
   "cell_type": "markdown",
   "id": "6d3ffdc2",
   "metadata": {},
   "source": [
    "# simple cleaning of description"
   ]
  },
  {
   "cell_type": "code",
   "execution_count": 52,
   "id": "25704954",
   "metadata": {},
   "outputs": [
    {
     "data": {
      "text/plain": [
       "'!\"#$%&\\'()*+,-./:;<=>?@[\\\\]^_`{|}~'"
      ]
     },
     "execution_count": 52,
     "metadata": {},
     "output_type": "execute_result"
    }
   ],
   "source": [
    "import re\n",
    "import string\n",
    "string.punctuation"
   ]
  },
  {
   "cell_type": "code",
   "execution_count": 53,
   "id": "78f7128c",
   "metadata": {},
   "outputs": [],
   "source": [
    "def remove_punctuation(text):\n",
    "    no_punct=[words for words in text if words not in string.punctuation]\n",
    "    words_wo_punct=''.join(no_punct)\n",
    "    return words_wo_punct"
   ]
  },
  {
   "cell_type": "code",
   "execution_count": null,
   "id": "893b4b98",
   "metadata": {},
   "outputs": [],
   "source": []
  },
  {
   "cell_type": "code",
   "execution_count": 54,
   "id": "fefaa728",
   "metadata": {},
   "outputs": [
    {
     "data": {
      "text/plain": [
       "['This',\n",
       " 'event',\n",
       " 'is',\n",
       " 'ideal',\n",
       " 'for',\n",
       " 'nature',\n",
       " 'lovers',\n",
       " 'and',\n",
       " 'outdoor',\n",
       " 'people.',\n",
       " 'We',\n",
       " 'will',\n",
       " 'be',\n",
       " 'hiking',\n",
       " 'in',\n",
       " '2',\n",
       " 'national',\n",
       " 'parks,',\n",
       " 'the',\n",
       " 'High',\n",
       " 'Tatras',\n",
       " 'and',\n",
       " 'Slovak',\n",
       " 'Paradise.',\n",
       " 'Each',\n",
       " 'walk',\n",
       " 'is',\n",
       " 'done',\n",
       " 'in',\n",
       " 'one',\n",
       " 'day,',\n",
       " 'so',\n",
       " 'at',\n",
       " 'the',\n",
       " 'end',\n",
       " 'of',\n",
       " 'the',\n",
       " 'day,',\n",
       " 'we',\n",
       " 'will',\n",
       " 'bring',\n",
       " 'you',\n",
       " 'back',\n",
       " 'to',\n",
       " 'your',\n",
       " 'accommodation',\n",
       " 'where',\n",
       " 'you',\n",
       " 'will',\n",
       " 'comfortably',\n",
       " 'spend',\n",
       " 'the',\n",
       " 'night.',\n",
       " 'Although',\n",
       " 'some',\n",
       " 'hikes',\n",
       " 'might',\n",
       " 'be',\n",
       " 'a',\n",
       " 'bit',\n",
       " 'more',\n",
       " 'demanding,',\n",
       " 'this',\n",
       " 'tour',\n",
       " 'is',\n",
       " 'designed',\n",
       " 'for',\n",
       " 'people',\n",
       " 'of',\n",
       " 'a',\n",
       " 'good',\n",
       " 'fitness',\n",
       " 'level,',\n",
       " 'but',\n",
       " 'not',\n",
       " 'necessarily',\n",
       " 'highly',\n",
       " 'physically',\n",
       " 'fit.',\n",
       " 'For',\n",
       " 'more',\n",
       " 'information',\n",
       " 'and',\n",
       " 'prices',\n",
       " 'click',\n",
       " 'on',\n",
       " 'the',\n",
       " 'link',\n",
       " 'below.',\n",
       " '[Tour',\n",
       " 'Itinerary',\n",
       " 'and',\n",
       " 'Info](https://www.experienceslovakianow.com/copy-of-new-page)',\n",
       " 'You',\n",
       " 'can',\n",
       " 'fly',\n",
       " 'to',\n",
       " 'Poprad',\n",
       " 'Tatry',\n",
       " 'airport',\n",
       " 'or',\n",
       " 'Kosice',\n",
       " 'airport.',\n",
       " 'From',\n",
       " 'Krakow',\n",
       " 'or',\n",
       " 'Budapest',\n",
       " 'you',\n",
       " 'can',\n",
       " 'take',\n",
       " 'a',\n",
       " 'direct',\n",
       " 'bus,',\n",
       " 'Flixbus',\n",
       " 'to',\n",
       " 'Poprad.',\n",
       " 'From',\n",
       " 'Prague,',\n",
       " 'Bratislava',\n",
       " 'or',\n",
       " 'Vienna',\n",
       " 'there',\n",
       " 'are',\n",
       " 'direct',\n",
       " 'trains',\n",
       " 'to',\n",
       " 'Poprad,',\n",
       " 'too.']"
      ]
     },
     "execution_count": 54,
     "metadata": {},
     "output_type": "execute_result"
    }
   ],
   "source": [
    "df['description'][0].split()"
   ]
  },
  {
   "cell_type": "code",
   "execution_count": null,
   "id": "1b069b4f",
   "metadata": {},
   "outputs": [],
   "source": []
  },
  {
   "cell_type": "code",
   "execution_count": 55,
   "id": "187c0795",
   "metadata": {},
   "outputs": [],
   "source": [
    "df['description_clean'] = df['description'].apply(lambda x: remove_punctuation(str(x)).lower().split())\n",
    "#df['description_clean'] = df['description'].apply(lambda x: remove_punctuation(x))\n",
    "#df['description_clean'] = df['description'].apply(lambda x: str(x).split())\n",
    "#df['description'] = df['description'].apply(lambda x: re.sub('[^A-Za-z0-9] ', '', str(x)))\n",
    "\n",
    "#df['description'] = df['description'].apply(lambda x: re.sub('^(http:+|https:)// ', '', str(x)))"
   ]
  },
  {
   "cell_type": "code",
   "execution_count": 56,
   "id": "440fbdd9",
   "metadata": {},
   "outputs": [
    {
     "data": {
      "text/plain": [
       "0       [this, event, is, ideal, for, nature, lovers, ...\n",
       "1       [the, most, awaited, trip, seven, rila, lakes,...\n",
       "2       [discover, the, mystical, sunken, birch, fores...\n",
       "3       [trip, highlights, visit, geneva, chamonix, hi...\n",
       "4       [discover, the, mystical, sunken, birch, fores...\n",
       "                              ...                        \n",
       "1294    [gönn, dir, den, spiritu, firetalk, um, ins, g...\n",
       "1295    [ein, mitmachwildkräuterkochevent, mit, feuerm...\n",
       "1296    [de, eventbeschreibung, hallo, zusammen, egal,...\n",
       "1297    [wir, machen, uns, auf, den, weg, durch, die, ...\n",
       "1298    [on, request, a, small, tour, 5km, 179, meters...\n",
       "Name: description_clean, Length: 558, dtype: object"
      ]
     },
     "execution_count": 56,
     "metadata": {},
     "output_type": "execute_result"
    }
   ],
   "source": [
    "df.description_clean"
   ]
  },
  {
   "cell_type": "markdown",
   "id": "f2f91469",
   "metadata": {},
   "source": [
    "# simple tfidf model: using the raw description"
   ]
  },
  {
   "cell_type": "code",
   "execution_count": 57,
   "id": "09dd9571",
   "metadata": {},
   "outputs": [],
   "source": [
    "from sklearn.feature_extraction.text import TfidfVectorizer, CountVectorizer\n",
    "\n",
    "tfidf = TfidfVectorizer(stop_words=\"english\")"
   ]
  },
  {
   "cell_type": "code",
   "execution_count": 58,
   "id": "fe129670",
   "metadata": {},
   "outputs": [
    {
     "data": {
      "text/plain": [
       "(558, 9497)"
      ]
     },
     "execution_count": 58,
     "metadata": {},
     "output_type": "execute_result"
    }
   ],
   "source": [
    "tfidf_matrix = tfidf.fit_transform(df[\"description\"])\n",
    "tfidf_matrix.shape"
   ]
  },
  {
   "cell_type": "code",
   "execution_count": 59,
   "id": "302cb92e",
   "metadata": {},
   "outputs": [],
   "source": [
    "cosine_sim = tfidf_matrix.dot(tfidf_matrix.T)"
   ]
  },
  {
   "cell_type": "code",
   "execution_count": 60,
   "id": "13396afd",
   "metadata": {},
   "outputs": [],
   "source": [
    "title_to_index = pd.Series(df.index, index = df[\"title\"]).drop_duplicates()"
   ]
  },
  {
   "cell_type": "code",
   "execution_count": 61,
   "id": "11d51f51",
   "metadata": {},
   "outputs": [],
   "source": [
    "def content_recommender(title, cosine_sim = cosine_sim, df = df, title_to_index = title_to_index):\n",
    "    idx = title_to_index[title]\n",
    "    \n",
    "    sim_scores = list(enumerate(cosine_sim[idx].todense().tolist()[0]))\n",
    "    # list of set [(index, sim score), (index, sim score), ...]\n",
    "    \n",
    "    sim_scores = sorted(sim_scores, key = lambda x: x[1], reverse = True)\n",
    "    # Sort the list of set by sim score, index with highest simlirarity\n",
    "    # Will be at the beginning of the list\n",
    "    \n",
    "    sim_scores = sim_scores[1:11] # top 10 events (first one is our input events so we ignore it)\n",
    "    \n",
    "    sport_indices = [i[0] for i in sim_scores] # we grab the indices of those 10 events\n",
    "    \n",
    "    return df[\"title\"].iloc[sport_indices]"
   ]
  },
  {
   "cell_type": "code",
   "execution_count": 70,
   "id": "f9c51fa6",
   "metadata": {},
   "outputs": [
    {
     "data": {
      "text/plain": [
       "'Adventure in Spain Gran Canaria las Palmas. You will never forget this adventure'"
      ]
     },
     "execution_count": 70,
     "metadata": {},
     "output_type": "execute_result"
    }
   ],
   "source": [
    "df.title[400]"
   ]
  },
  {
   "cell_type": "code",
   "execution_count": 66,
   "id": "61f85338",
   "metadata": {},
   "outputs": [
    {
     "data": {
      "text/plain": [
       "400    Adventure in Spain Gran Canaria las Palmas. Yo...\n",
       "586    Adventure in Spain Canary Islands.  La Palma a...\n",
       "468          Introduction to Wild Camping with BBQ fire.\n",
       "536    Camping and Hiking in the Peak District. With ...\n",
       "538    WALES Snowdonia Camping and Hiking Adventure W...\n",
       "102    Camping and Hiking in Wales Snowdonia. With BB...\n",
       "24                                           Nature Walk\n",
       "23                                            Nature Day\n",
       "28                                            Nature Day\n",
       "3      Swiss 🇨🇭 Geneva - France 🇫🇷- Mont Blanc (hike ...\n",
       "Name: title, dtype: object"
      ]
     },
     "execution_count": 66,
     "metadata": {},
     "output_type": "execute_result"
    }
   ],
   "source": [
    "content_recommender(\"Hiking in High Tatras and Slovak Paradise National Parks\")"
   ]
  },
  {
   "cell_type": "markdown",
   "id": "498f7912",
   "metadata": {},
   "source": [
    "# advanced recommender"
   ]
  },
  {
   "cell_type": "code",
   "execution_count": 74,
   "id": "3fd8a201",
   "metadata": {},
   "outputs": [
    {
     "ename": "UnicodeDecodeError",
     "evalue": "'utf-8' codec can't decode byte 0xae in position 11: invalid start byte",
     "output_type": "error",
     "traceback": [
      "\u001b[0;31m---------------------------------------------------------------------------\u001b[0m",
      "\u001b[0;31mUnicodeDecodeError\u001b[0m                        Traceback (most recent call last)",
      "Input \u001b[0;32mIn [74]\u001b[0m, in \u001b[0;36m<cell line: 2>\u001b[0;34m()\u001b[0m\n\u001b[1;32m      1\u001b[0m sports_data \u001b[38;5;241m=\u001b[39m \u001b[38;5;124m'\u001b[39m\u001b[38;5;124mevents.csv\u001b[39m\u001b[38;5;124m'\u001b[39m\n\u001b[0;32m----> 2\u001b[0m df_da \u001b[38;5;241m=\u001b[39m \u001b[43mpd\u001b[49m\u001b[38;5;241;43m.\u001b[39;49m\u001b[43mread_csv\u001b[49m\u001b[43m(\u001b[49m\u001b[43mdata_path\u001b[49m\u001b[38;5;241;43m+\u001b[39;49m\u001b[43msports_data\u001b[49m\u001b[43m,\u001b[49m\u001b[43m \u001b[49m\u001b[43mencoding\u001b[49m\u001b[38;5;241;43m=\u001b[39;49m\u001b[38;5;124;43m'\u001b[39;49m\u001b[38;5;124;43mutf-8\u001b[39;49m\u001b[38;5;124;43m'\u001b[39;49m\u001b[43m)\u001b[49m\n",
      "File \u001b[0;32m~/.pyenv/versions/3.8.13/envs/SportsExperiencePlatform/lib/python3.8/site-packages/pandas/util/_decorators.py:311\u001b[0m, in \u001b[0;36mdeprecate_nonkeyword_arguments.<locals>.decorate.<locals>.wrapper\u001b[0;34m(*args, **kwargs)\u001b[0m\n\u001b[1;32m    305\u001b[0m \u001b[38;5;28;01mif\u001b[39;00m \u001b[38;5;28mlen\u001b[39m(args) \u001b[38;5;241m>\u001b[39m num_allow_args:\n\u001b[1;32m    306\u001b[0m     warnings\u001b[38;5;241m.\u001b[39mwarn(\n\u001b[1;32m    307\u001b[0m         msg\u001b[38;5;241m.\u001b[39mformat(arguments\u001b[38;5;241m=\u001b[39marguments),\n\u001b[1;32m    308\u001b[0m         \u001b[38;5;167;01mFutureWarning\u001b[39;00m,\n\u001b[1;32m    309\u001b[0m         stacklevel\u001b[38;5;241m=\u001b[39mstacklevel,\n\u001b[1;32m    310\u001b[0m     )\n\u001b[0;32m--> 311\u001b[0m \u001b[38;5;28;01mreturn\u001b[39;00m \u001b[43mfunc\u001b[49m\u001b[43m(\u001b[49m\u001b[38;5;241;43m*\u001b[39;49m\u001b[43margs\u001b[49m\u001b[43m,\u001b[49m\u001b[43m \u001b[49m\u001b[38;5;241;43m*\u001b[39;49m\u001b[38;5;241;43m*\u001b[39;49m\u001b[43mkwargs\u001b[49m\u001b[43m)\u001b[49m\n",
      "File \u001b[0;32m~/.pyenv/versions/3.8.13/envs/SportsExperiencePlatform/lib/python3.8/site-packages/pandas/io/parsers/readers.py:680\u001b[0m, in \u001b[0;36mread_csv\u001b[0;34m(filepath_or_buffer, sep, delimiter, header, names, index_col, usecols, squeeze, prefix, mangle_dupe_cols, dtype, engine, converters, true_values, false_values, skipinitialspace, skiprows, skipfooter, nrows, na_values, keep_default_na, na_filter, verbose, skip_blank_lines, parse_dates, infer_datetime_format, keep_date_col, date_parser, dayfirst, cache_dates, iterator, chunksize, compression, thousands, decimal, lineterminator, quotechar, quoting, doublequote, escapechar, comment, encoding, encoding_errors, dialect, error_bad_lines, warn_bad_lines, on_bad_lines, delim_whitespace, low_memory, memory_map, float_precision, storage_options)\u001b[0m\n\u001b[1;32m    665\u001b[0m kwds_defaults \u001b[38;5;241m=\u001b[39m _refine_defaults_read(\n\u001b[1;32m    666\u001b[0m     dialect,\n\u001b[1;32m    667\u001b[0m     delimiter,\n\u001b[0;32m   (...)\u001b[0m\n\u001b[1;32m    676\u001b[0m     defaults\u001b[38;5;241m=\u001b[39m{\u001b[38;5;124m\"\u001b[39m\u001b[38;5;124mdelimiter\u001b[39m\u001b[38;5;124m\"\u001b[39m: \u001b[38;5;124m\"\u001b[39m\u001b[38;5;124m,\u001b[39m\u001b[38;5;124m\"\u001b[39m},\n\u001b[1;32m    677\u001b[0m )\n\u001b[1;32m    678\u001b[0m kwds\u001b[38;5;241m.\u001b[39mupdate(kwds_defaults)\n\u001b[0;32m--> 680\u001b[0m \u001b[38;5;28;01mreturn\u001b[39;00m \u001b[43m_read\u001b[49m\u001b[43m(\u001b[49m\u001b[43mfilepath_or_buffer\u001b[49m\u001b[43m,\u001b[49m\u001b[43m \u001b[49m\u001b[43mkwds\u001b[49m\u001b[43m)\u001b[49m\n",
      "File \u001b[0;32m~/.pyenv/versions/3.8.13/envs/SportsExperiencePlatform/lib/python3.8/site-packages/pandas/io/parsers/readers.py:575\u001b[0m, in \u001b[0;36m_read\u001b[0;34m(filepath_or_buffer, kwds)\u001b[0m\n\u001b[1;32m    572\u001b[0m _validate_names(kwds\u001b[38;5;241m.\u001b[39mget(\u001b[38;5;124m\"\u001b[39m\u001b[38;5;124mnames\u001b[39m\u001b[38;5;124m\"\u001b[39m, \u001b[38;5;28;01mNone\u001b[39;00m))\n\u001b[1;32m    574\u001b[0m \u001b[38;5;66;03m# Create the parser.\u001b[39;00m\n\u001b[0;32m--> 575\u001b[0m parser \u001b[38;5;241m=\u001b[39m \u001b[43mTextFileReader\u001b[49m\u001b[43m(\u001b[49m\u001b[43mfilepath_or_buffer\u001b[49m\u001b[43m,\u001b[49m\u001b[43m \u001b[49m\u001b[38;5;241;43m*\u001b[39;49m\u001b[38;5;241;43m*\u001b[39;49m\u001b[43mkwds\u001b[49m\u001b[43m)\u001b[49m\n\u001b[1;32m    577\u001b[0m \u001b[38;5;28;01mif\u001b[39;00m chunksize \u001b[38;5;129;01mor\u001b[39;00m iterator:\n\u001b[1;32m    578\u001b[0m     \u001b[38;5;28;01mreturn\u001b[39;00m parser\n",
      "File \u001b[0;32m~/.pyenv/versions/3.8.13/envs/SportsExperiencePlatform/lib/python3.8/site-packages/pandas/io/parsers/readers.py:933\u001b[0m, in \u001b[0;36mTextFileReader.__init__\u001b[0;34m(self, f, engine, **kwds)\u001b[0m\n\u001b[1;32m    930\u001b[0m     \u001b[38;5;28mself\u001b[39m\u001b[38;5;241m.\u001b[39moptions[\u001b[38;5;124m\"\u001b[39m\u001b[38;5;124mhas_index_names\u001b[39m\u001b[38;5;124m\"\u001b[39m] \u001b[38;5;241m=\u001b[39m kwds[\u001b[38;5;124m\"\u001b[39m\u001b[38;5;124mhas_index_names\u001b[39m\u001b[38;5;124m\"\u001b[39m]\n\u001b[1;32m    932\u001b[0m \u001b[38;5;28mself\u001b[39m\u001b[38;5;241m.\u001b[39mhandles: IOHandles \u001b[38;5;241m|\u001b[39m \u001b[38;5;28;01mNone\u001b[39;00m \u001b[38;5;241m=\u001b[39m \u001b[38;5;28;01mNone\u001b[39;00m\n\u001b[0;32m--> 933\u001b[0m \u001b[38;5;28mself\u001b[39m\u001b[38;5;241m.\u001b[39m_engine \u001b[38;5;241m=\u001b[39m \u001b[38;5;28;43mself\u001b[39;49m\u001b[38;5;241;43m.\u001b[39;49m\u001b[43m_make_engine\u001b[49m\u001b[43m(\u001b[49m\u001b[43mf\u001b[49m\u001b[43m,\u001b[49m\u001b[43m \u001b[49m\u001b[38;5;28;43mself\u001b[39;49m\u001b[38;5;241;43m.\u001b[39;49m\u001b[43mengine\u001b[49m\u001b[43m)\u001b[49m\n",
      "File \u001b[0;32m~/.pyenv/versions/3.8.13/envs/SportsExperiencePlatform/lib/python3.8/site-packages/pandas/io/parsers/readers.py:1235\u001b[0m, in \u001b[0;36mTextFileReader._make_engine\u001b[0;34m(self, f, engine)\u001b[0m\n\u001b[1;32m   1232\u001b[0m     \u001b[38;5;28;01mraise\u001b[39;00m \u001b[38;5;167;01mValueError\u001b[39;00m(msg)\n\u001b[1;32m   1234\u001b[0m \u001b[38;5;28;01mtry\u001b[39;00m:\n\u001b[0;32m-> 1235\u001b[0m     \u001b[38;5;28;01mreturn\u001b[39;00m \u001b[43mmapping\u001b[49m\u001b[43m[\u001b[49m\u001b[43mengine\u001b[49m\u001b[43m]\u001b[49m\u001b[43m(\u001b[49m\u001b[43mf\u001b[49m\u001b[43m,\u001b[49m\u001b[43m \u001b[49m\u001b[38;5;241;43m*\u001b[39;49m\u001b[38;5;241;43m*\u001b[39;49m\u001b[38;5;28;43mself\u001b[39;49m\u001b[38;5;241;43m.\u001b[39;49m\u001b[43moptions\u001b[49m\u001b[43m)\u001b[49m\n\u001b[1;32m   1236\u001b[0m \u001b[38;5;28;01mexcept\u001b[39;00m \u001b[38;5;167;01mException\u001b[39;00m:\n\u001b[1;32m   1237\u001b[0m     \u001b[38;5;28;01mif\u001b[39;00m \u001b[38;5;28mself\u001b[39m\u001b[38;5;241m.\u001b[39mhandles \u001b[38;5;129;01mis\u001b[39;00m \u001b[38;5;129;01mnot\u001b[39;00m \u001b[38;5;28;01mNone\u001b[39;00m:\n",
      "File \u001b[0;32m~/.pyenv/versions/3.8.13/envs/SportsExperiencePlatform/lib/python3.8/site-packages/pandas/io/parsers/c_parser_wrapper.py:75\u001b[0m, in \u001b[0;36mCParserWrapper.__init__\u001b[0;34m(self, src, **kwds)\u001b[0m\n\u001b[1;32m     72\u001b[0m     kwds\u001b[38;5;241m.\u001b[39mpop(key, \u001b[38;5;28;01mNone\u001b[39;00m)\n\u001b[1;32m     74\u001b[0m kwds[\u001b[38;5;124m\"\u001b[39m\u001b[38;5;124mdtype\u001b[39m\u001b[38;5;124m\"\u001b[39m] \u001b[38;5;241m=\u001b[39m ensure_dtype_objs(kwds\u001b[38;5;241m.\u001b[39mget(\u001b[38;5;124m\"\u001b[39m\u001b[38;5;124mdtype\u001b[39m\u001b[38;5;124m\"\u001b[39m, \u001b[38;5;28;01mNone\u001b[39;00m))\n\u001b[0;32m---> 75\u001b[0m \u001b[38;5;28mself\u001b[39m\u001b[38;5;241m.\u001b[39m_reader \u001b[38;5;241m=\u001b[39m \u001b[43mparsers\u001b[49m\u001b[38;5;241;43m.\u001b[39;49m\u001b[43mTextReader\u001b[49m\u001b[43m(\u001b[49m\u001b[43msrc\u001b[49m\u001b[43m,\u001b[49m\u001b[43m \u001b[49m\u001b[38;5;241;43m*\u001b[39;49m\u001b[38;5;241;43m*\u001b[39;49m\u001b[43mkwds\u001b[49m\u001b[43m)\u001b[49m\n\u001b[1;32m     77\u001b[0m \u001b[38;5;28mself\u001b[39m\u001b[38;5;241m.\u001b[39munnamed_cols \u001b[38;5;241m=\u001b[39m \u001b[38;5;28mself\u001b[39m\u001b[38;5;241m.\u001b[39m_reader\u001b[38;5;241m.\u001b[39munnamed_cols\n\u001b[1;32m     79\u001b[0m \u001b[38;5;66;03m# error: Cannot determine type of 'names'\u001b[39;00m\n",
      "File \u001b[0;32mpandas/_libs/parsers.pyx:544\u001b[0m, in \u001b[0;36mpandas._libs.parsers.TextReader.__cinit__\u001b[0;34m()\u001b[0m\n",
      "File \u001b[0;32mpandas/_libs/parsers.pyx:633\u001b[0m, in \u001b[0;36mpandas._libs.parsers.TextReader._get_header\u001b[0;34m()\u001b[0m\n",
      "File \u001b[0;32mpandas/_libs/parsers.pyx:847\u001b[0m, in \u001b[0;36mpandas._libs.parsers.TextReader._tokenize_rows\u001b[0;34m()\u001b[0m\n",
      "File \u001b[0;32mpandas/_libs/parsers.pyx:1952\u001b[0m, in \u001b[0;36mpandas._libs.parsers.raise_parser_error\u001b[0;34m()\u001b[0m\n",
      "\u001b[0;31mUnicodeDecodeError\u001b[0m: 'utf-8' codec can't decode byte 0xae in position 11: invalid start byte"
     ]
    }
   ],
   "source": [
    "sports_data = 'events.csv'\n",
    "df_da = pd.read_csv(data_path+sports_data, encoding='utf-8')"
   ]
  },
  {
   "cell_type": "code",
   "execution_count": null,
   "id": "31f698dc",
   "metadata": {},
   "outputs": [],
   "source": []
  },
  {
   "cell_type": "code",
   "execution_count": null,
   "id": "df4f10f4",
   "metadata": {},
   "outputs": [],
   "source": []
  },
  {
   "cell_type": "code",
   "execution_count": null,
   "id": "cecfcf2f",
   "metadata": {},
   "outputs": [],
   "source": []
  },
  {
   "cell_type": "code",
   "execution_count": null,
   "id": "cb6f46bb",
   "metadata": {},
   "outputs": [],
   "source": []
  },
  {
   "cell_type": "code",
   "execution_count": null,
   "id": "6afc835c",
   "metadata": {},
   "outputs": [],
   "source": []
  },
  {
   "cell_type": "code",
   "execution_count": null,
   "id": "f524500c",
   "metadata": {},
   "outputs": [],
   "source": []
  },
  {
   "cell_type": "code",
   "execution_count": null,
   "id": "f8b5cf5e",
   "metadata": {},
   "outputs": [],
   "source": []
  },
  {
   "cell_type": "code",
   "execution_count": null,
   "id": "d18a73e0",
   "metadata": {},
   "outputs": [],
   "source": []
  },
  {
   "cell_type": "code",
   "execution_count": null,
   "id": "f7af1ad9",
   "metadata": {},
   "outputs": [],
   "source": []
  },
  {
   "cell_type": "markdown",
   "id": "ad648f35",
   "metadata": {},
   "source": [
    "# Advanced cleaning"
   ]
  },
  {
   "cell_type": "code",
   "execution_count": 27,
   "id": "eead4081",
   "metadata": {},
   "outputs": [],
   "source": [
    "import pandas as pd\n",
    "import re\n",
    "import string\n",
    "from bs4 import BeautifulSoup\n",
    "import nltk\n",
    "from nltk.stem import PorterStemmer\n",
    "from nltk.stem.wordnet import WordNetLemmatizer\n",
    "import spacy"
   ]
  },
  {
   "cell_type": "code",
   "execution_count": 29,
   "id": "2a1a33f7",
   "metadata": {},
   "outputs": [],
   "source": [
    "# load spacy\n",
    "nlp = spacy.load('en_core_web_sm')\n",
    "\n",
    "def clean_string(text,stem=\"None\"):\n",
    "\n",
    "    final_string = \"\"\n",
    "\n",
    "    # make lower\n",
    "    text = text.lower()\n",
    "    \n",
    "    # remove http\n",
    "    text = re.sub(r\"http.*.com\",\"\",text)\n",
    "\n",
    "    # remove www\n",
    "    text = re.sub(r\"www.*.com\",\"\",text)\n",
    "    \n",
    "    # remove line breaks\n",
    "    text = re.sub(r'\\n','',text)\n",
    "\n",
    "    # remove puncuation\n",
    "    translator = str.maketrans('','',string.punctuation)\n",
    "    text = text.translate(translator)\n",
    "\n",
    "    # remove stop words\n",
    "    text = text.split()\n",
    "    useless_words = nltk.corpus.stopwords.words(\"english\")\n",
    "    text_filtered = [word for word in text if not word in useless_words]\n",
    "\n",
    "    # remove numbers\n",
    "    text_filtered = [re.sub(r'\\w*\\d\\w*','',w) for w in text_filtered]\n",
    "\n",
    "    # stem or lemmatize\n",
    "    if stem == 'Stem':\n",
    "        stemmer = PorterStemmer() \n",
    "        text_stemmed = [stemmer.stem(y) for y in text_filtered]\n",
    "    elif stem == 'Lem':\n",
    "        lem = WordNetLemmatizer()\n",
    "        text_stemmed = [lem.lemmatize(y) for y in text_filtered]\n",
    "    elif stem == 'Spacy':\n",
    "        text_filtered = nlp(' '.join(text_filtered))\n",
    "        text_stemmed = [y.lemma_ for y in text_filtered]\n",
    "    else:\n",
    "        text_stemmed = text_filtered\n",
    "\n",
    "    final_string = ' '.join(text_stemmed)\n",
    "\n",
    "    return final_string\n",
    "        \n",
    "        "
   ]
  },
  {
   "cell_type": "code",
   "execution_count": 31,
   "id": "1673bc22",
   "metadata": {},
   "outputs": [
    {
     "ename": "LookupError",
     "evalue": "\n**********************************************************************\n  Resource \u001b[93mstopwords\u001b[0m not found.\n  Please use the NLTK Downloader to obtain the resource:\n\n  \u001b[31m>>> import nltk\n  >>> nltk.download('stopwords')\n  \u001b[0m\n  For more information see: https://www.nltk.org/data.html\n\n  Attempted to load \u001b[93mcorpora/stopwords\u001b[0m\n\n  Searched in:\n    - '/Users/shreetamakarmakar/nltk_data'\n    - '/Users/shreetamakarmakar/.pyenv/versions/3.8.13/envs/SportsExperiencePlatform/nltk_data'\n    - '/Users/shreetamakarmakar/.pyenv/versions/3.8.13/envs/SportsExperiencePlatform/share/nltk_data'\n    - '/Users/shreetamakarmakar/.pyenv/versions/3.8.13/envs/SportsExperiencePlatform/lib/nltk_data'\n    - '/usr/share/nltk_data'\n    - '/usr/local/share/nltk_data'\n    - '/usr/lib/nltk_data'\n    - '/usr/local/lib/nltk_data'\n**********************************************************************\n",
     "output_type": "error",
     "traceback": [
      "\u001b[0;31m---------------------------------------------------------------------------\u001b[0m",
      "\u001b[0;31mLookupError\u001b[0m                               Traceback (most recent call last)",
      "File \u001b[0;32m~/.pyenv/versions/3.8.13/envs/SportsExperiencePlatform/lib/python3.8/site-packages/nltk/corpus/util.py:84\u001b[0m, in \u001b[0;36mLazyCorpusLoader.__load\u001b[0;34m(self)\u001b[0m\n\u001b[1;32m     83\u001b[0m \u001b[38;5;28;01mtry\u001b[39;00m:\n\u001b[0;32m---> 84\u001b[0m     root \u001b[38;5;241m=\u001b[39m \u001b[43mnltk\u001b[49m\u001b[38;5;241;43m.\u001b[39;49m\u001b[43mdata\u001b[49m\u001b[38;5;241;43m.\u001b[39;49m\u001b[43mfind\u001b[49m\u001b[43m(\u001b[49m\u001b[38;5;124;43mf\u001b[39;49m\u001b[38;5;124;43m\"\u001b[39;49m\u001b[38;5;132;43;01m{\u001b[39;49;00m\u001b[38;5;28;43mself\u001b[39;49m\u001b[38;5;241;43m.\u001b[39;49m\u001b[43msubdir\u001b[49m\u001b[38;5;132;43;01m}\u001b[39;49;00m\u001b[38;5;124;43m/\u001b[39;49m\u001b[38;5;132;43;01m{\u001b[39;49;00m\u001b[43mzip_name\u001b[49m\u001b[38;5;132;43;01m}\u001b[39;49;00m\u001b[38;5;124;43m\"\u001b[39;49m\u001b[43m)\u001b[49m\n\u001b[1;32m     85\u001b[0m \u001b[38;5;28;01mexcept\u001b[39;00m \u001b[38;5;167;01mLookupError\u001b[39;00m:\n",
      "File \u001b[0;32m~/.pyenv/versions/3.8.13/envs/SportsExperiencePlatform/lib/python3.8/site-packages/nltk/data.py:583\u001b[0m, in \u001b[0;36mfind\u001b[0;34m(resource_name, paths)\u001b[0m\n\u001b[1;32m    582\u001b[0m resource_not_found \u001b[38;5;241m=\u001b[39m \u001b[38;5;124mf\u001b[39m\u001b[38;5;124m\"\u001b[39m\u001b[38;5;130;01m\\n\u001b[39;00m\u001b[38;5;132;01m{\u001b[39;00msep\u001b[38;5;132;01m}\u001b[39;00m\u001b[38;5;130;01m\\n\u001b[39;00m\u001b[38;5;132;01m{\u001b[39;00mmsg\u001b[38;5;132;01m}\u001b[39;00m\u001b[38;5;130;01m\\n\u001b[39;00m\u001b[38;5;132;01m{\u001b[39;00msep\u001b[38;5;132;01m}\u001b[39;00m\u001b[38;5;130;01m\\n\u001b[39;00m\u001b[38;5;124m\"\u001b[39m\n\u001b[0;32m--> 583\u001b[0m \u001b[38;5;28;01mraise\u001b[39;00m \u001b[38;5;167;01mLookupError\u001b[39;00m(resource_not_found)\n",
      "\u001b[0;31mLookupError\u001b[0m: \n**********************************************************************\n  Resource \u001b[93mstopwords\u001b[0m not found.\n  Please use the NLTK Downloader to obtain the resource:\n\n  \u001b[31m>>> import nltk\n  >>> nltk.download('stopwords')\n  \u001b[0m\n  For more information see: https://www.nltk.org/data.html\n\n  Attempted to load \u001b[93mcorpora/stopwords.zip/stopwords/\u001b[0m\n\n  Searched in:\n    - '/Users/shreetamakarmakar/nltk_data'\n    - '/Users/shreetamakarmakar/.pyenv/versions/3.8.13/envs/SportsExperiencePlatform/nltk_data'\n    - '/Users/shreetamakarmakar/.pyenv/versions/3.8.13/envs/SportsExperiencePlatform/share/nltk_data'\n    - '/Users/shreetamakarmakar/.pyenv/versions/3.8.13/envs/SportsExperiencePlatform/lib/nltk_data'\n    - '/usr/share/nltk_data'\n    - '/usr/local/share/nltk_data'\n    - '/usr/lib/nltk_data'\n    - '/usr/local/lib/nltk_data'\n**********************************************************************\n",
      "\nDuring handling of the above exception, another exception occurred:\n",
      "\u001b[0;31mLookupError\u001b[0m                               Traceback (most recent call last)",
      "Input \u001b[0;32mIn [31]\u001b[0m, in \u001b[0;36m<cell line: 1>\u001b[0;34m()\u001b[0m\n\u001b[0;32m----> 1\u001b[0m \u001b[43mclean_string\u001b[49m\u001b[43m(\u001b[49m\u001b[38;5;124;43m\"\u001b[39;49m\u001b[38;5;124;43m'\u001b[39;49m\u001b[38;5;124;43mYoga mit Nina Bettermann\u001b[39;49m\u001b[38;5;130;43;01m\\n\u001b[39;49;00m\u001b[38;5;130;43;01m\\n\u001b[39;49;00m\u001b[38;5;124;43mSonntags 17 Uhr — 18:30 Uhr\u001b[39;49m\u001b[38;5;130;43;01m\\n\u001b[39;49;00m\u001b[38;5;130;43;01m\\n\u001b[39;49;00m\u001b[38;5;124;43m90 Minuten intensive, ausgiebige Asana-Praxis mit wechselndem Schwerpunkt sowie Meditation stehen immer auf dem Programm. Unterrichtet wird die Stunde von Jivamuktilehrerin Nina Bettermann.\u001b[39;49m\u001b[38;5;130;43;01m\\n\u001b[39;49;00m\u001b[38;5;130;43;01m\\n\u001b[39;49;00m\u001b[38;5;124;43mUnterrichtssprache ist Deutsch - English if required!!\u001b[39;49m\u001b[38;5;130;43;01m\\n\u001b[39;49;00m\u001b[38;5;130;43;01m\\n\u001b[39;49;00m\u001b[38;5;124;43mNina Bettermann\u001b[39;49m\u001b[38;5;130;43;01m\\n\u001b[39;49;00m\u001b[38;5;130;43;01m\\n\u001b[39;49;00m\u001b[38;5;124;43mNina ist 800-Stunden zertifizierte Jivamukti-Lehrerin. 2005 besuchte sie ihre erste Yogastunde. Was anfangs als Ausgleich zum stressigen Studium gedacht war, wurde schnell zur unverzichtbaren täglichen Praxis. Nachdem sie verschiedene Yogastile ausprobiert hatte, fand sie schließlich im Jivamukti Yoga ihr Zuhause. Daher entschloss sie sich im Winter 2010, nach dem Abschluss ihres Pharmaziestudiums, das Jivamukti Yoga Teacher Training mit Sharon Gannon, David Life Patrick Broome und Yogeswari zu absolvieren. 2014 folgte das 800hrs-Apprenticeship bei ihrer Mentorin Vera. Seitdem unterrichtet Nina, neben ihrer Tätigkeit als Apothekerin, in mehreren Berliner Yogastudios. Dabei ist ihr aber die eigene tägliche Praxis weiterhin heilig. Denn nur was man selber erlebt hat, kann man auch authentisch weitergeben und unterrichten :)\u001b[39;49m\u001b[38;5;130;43;01m\\n\u001b[39;49;00m\u001b[38;5;130;43;01m\\n\u001b[39;49;00m\u001b[38;5;124;43mThe balance recommended:\u001b[39;49m\u001b[38;5;130;43;01m\\n\u001b[39;49;00m\u001b[38;5;124;43mDonation-Drop-In 13-16€\u001b[39;49m\u001b[38;5;130;43;01m\\n\u001b[39;49;00m\u001b[38;5;124;43mUSC Members Welcome\u001b[39;49m\u001b[38;5;124;43m\"\u001b[39;49m\u001b[43m)\u001b[49m\n",
      "Input \u001b[0;32mIn [29]\u001b[0m, in \u001b[0;36mclean_string\u001b[0;34m(text, stem)\u001b[0m\n\u001b[1;32m     24\u001b[0m \u001b[38;5;66;03m# remove stop words\u001b[39;00m\n\u001b[1;32m     25\u001b[0m text \u001b[38;5;241m=\u001b[39m text\u001b[38;5;241m.\u001b[39msplit()\n\u001b[0;32m---> 26\u001b[0m useless_words \u001b[38;5;241m=\u001b[39m \u001b[43mnltk\u001b[49m\u001b[38;5;241;43m.\u001b[39;49m\u001b[43mcorpus\u001b[49m\u001b[38;5;241;43m.\u001b[39;49m\u001b[43mstopwords\u001b[49m\u001b[38;5;241;43m.\u001b[39;49m\u001b[43mwords\u001b[49m(\u001b[38;5;124m\"\u001b[39m\u001b[38;5;124menglish\u001b[39m\u001b[38;5;124m\"\u001b[39m)\n\u001b[1;32m     27\u001b[0m text_filtered \u001b[38;5;241m=\u001b[39m [word \u001b[38;5;28;01mfor\u001b[39;00m word \u001b[38;5;129;01min\u001b[39;00m text \u001b[38;5;28;01mif\u001b[39;00m \u001b[38;5;129;01mnot\u001b[39;00m word \u001b[38;5;129;01min\u001b[39;00m useless_words]\n\u001b[1;32m     29\u001b[0m \u001b[38;5;66;03m# remove numbers\u001b[39;00m\n",
      "File \u001b[0;32m~/.pyenv/versions/3.8.13/envs/SportsExperiencePlatform/lib/python3.8/site-packages/nltk/corpus/util.py:121\u001b[0m, in \u001b[0;36mLazyCorpusLoader.__getattr__\u001b[0;34m(self, attr)\u001b[0m\n\u001b[1;32m    118\u001b[0m \u001b[38;5;28;01mif\u001b[39;00m attr \u001b[38;5;241m==\u001b[39m \u001b[38;5;124m\"\u001b[39m\u001b[38;5;124m__bases__\u001b[39m\u001b[38;5;124m\"\u001b[39m:\n\u001b[1;32m    119\u001b[0m     \u001b[38;5;28;01mraise\u001b[39;00m \u001b[38;5;167;01mAttributeError\u001b[39;00m(\u001b[38;5;124m\"\u001b[39m\u001b[38;5;124mLazyCorpusLoader object has no attribute \u001b[39m\u001b[38;5;124m'\u001b[39m\u001b[38;5;124m__bases__\u001b[39m\u001b[38;5;124m'\u001b[39m\u001b[38;5;124m\"\u001b[39m)\n\u001b[0;32m--> 121\u001b[0m \u001b[38;5;28;43mself\u001b[39;49m\u001b[38;5;241;43m.\u001b[39;49m\u001b[43m__load\u001b[49m\u001b[43m(\u001b[49m\u001b[43m)\u001b[49m\n\u001b[1;32m    122\u001b[0m \u001b[38;5;66;03m# This looks circular, but its not, since __load() changes our\u001b[39;00m\n\u001b[1;32m    123\u001b[0m \u001b[38;5;66;03m# __class__ to something new:\u001b[39;00m\n\u001b[1;32m    124\u001b[0m \u001b[38;5;28;01mreturn\u001b[39;00m \u001b[38;5;28mgetattr\u001b[39m(\u001b[38;5;28mself\u001b[39m, attr)\n",
      "File \u001b[0;32m~/.pyenv/versions/3.8.13/envs/SportsExperiencePlatform/lib/python3.8/site-packages/nltk/corpus/util.py:86\u001b[0m, in \u001b[0;36mLazyCorpusLoader.__load\u001b[0;34m(self)\u001b[0m\n\u001b[1;32m     84\u001b[0m             root \u001b[38;5;241m=\u001b[39m nltk\u001b[38;5;241m.\u001b[39mdata\u001b[38;5;241m.\u001b[39mfind(\u001b[38;5;124mf\u001b[39m\u001b[38;5;124m\"\u001b[39m\u001b[38;5;132;01m{\u001b[39;00m\u001b[38;5;28mself\u001b[39m\u001b[38;5;241m.\u001b[39msubdir\u001b[38;5;132;01m}\u001b[39;00m\u001b[38;5;124m/\u001b[39m\u001b[38;5;132;01m{\u001b[39;00mzip_name\u001b[38;5;132;01m}\u001b[39;00m\u001b[38;5;124m\"\u001b[39m)\n\u001b[1;32m     85\u001b[0m         \u001b[38;5;28;01mexcept\u001b[39;00m \u001b[38;5;167;01mLookupError\u001b[39;00m:\n\u001b[0;32m---> 86\u001b[0m             \u001b[38;5;28;01mraise\u001b[39;00m e\n\u001b[1;32m     88\u001b[0m \u001b[38;5;66;03m# Load the corpus.\u001b[39;00m\n\u001b[1;32m     89\u001b[0m corpus \u001b[38;5;241m=\u001b[39m \u001b[38;5;28mself\u001b[39m\u001b[38;5;241m.\u001b[39m__reader_cls(root, \u001b[38;5;241m*\u001b[39m\u001b[38;5;28mself\u001b[39m\u001b[38;5;241m.\u001b[39m__args, \u001b[38;5;241m*\u001b[39m\u001b[38;5;241m*\u001b[39m\u001b[38;5;28mself\u001b[39m\u001b[38;5;241m.\u001b[39m__kwargs)\n",
      "File \u001b[0;32m~/.pyenv/versions/3.8.13/envs/SportsExperiencePlatform/lib/python3.8/site-packages/nltk/corpus/util.py:81\u001b[0m, in \u001b[0;36mLazyCorpusLoader.__load\u001b[0;34m(self)\u001b[0m\n\u001b[1;32m     79\u001b[0m \u001b[38;5;28;01melse\u001b[39;00m:\n\u001b[1;32m     80\u001b[0m     \u001b[38;5;28;01mtry\u001b[39;00m:\n\u001b[0;32m---> 81\u001b[0m         root \u001b[38;5;241m=\u001b[39m \u001b[43mnltk\u001b[49m\u001b[38;5;241;43m.\u001b[39;49m\u001b[43mdata\u001b[49m\u001b[38;5;241;43m.\u001b[39;49m\u001b[43mfind\u001b[49m\u001b[43m(\u001b[49m\u001b[38;5;124;43mf\u001b[39;49m\u001b[38;5;124;43m\"\u001b[39;49m\u001b[38;5;132;43;01m{\u001b[39;49;00m\u001b[38;5;28;43mself\u001b[39;49m\u001b[38;5;241;43m.\u001b[39;49m\u001b[43msubdir\u001b[49m\u001b[38;5;132;43;01m}\u001b[39;49;00m\u001b[38;5;124;43m/\u001b[39;49m\u001b[38;5;132;43;01m{\u001b[39;49;00m\u001b[38;5;28;43mself\u001b[39;49m\u001b[38;5;241;43m.\u001b[39;49m\u001b[43m__name\u001b[49m\u001b[38;5;132;43;01m}\u001b[39;49;00m\u001b[38;5;124;43m\"\u001b[39;49m\u001b[43m)\u001b[49m\n\u001b[1;32m     82\u001b[0m     \u001b[38;5;28;01mexcept\u001b[39;00m \u001b[38;5;167;01mLookupError\u001b[39;00m \u001b[38;5;28;01mas\u001b[39;00m e:\n\u001b[1;32m     83\u001b[0m         \u001b[38;5;28;01mtry\u001b[39;00m:\n",
      "File \u001b[0;32m~/.pyenv/versions/3.8.13/envs/SportsExperiencePlatform/lib/python3.8/site-packages/nltk/data.py:583\u001b[0m, in \u001b[0;36mfind\u001b[0;34m(resource_name, paths)\u001b[0m\n\u001b[1;32m    581\u001b[0m sep \u001b[38;5;241m=\u001b[39m \u001b[38;5;124m\"\u001b[39m\u001b[38;5;124m*\u001b[39m\u001b[38;5;124m\"\u001b[39m \u001b[38;5;241m*\u001b[39m \u001b[38;5;241m70\u001b[39m\n\u001b[1;32m    582\u001b[0m resource_not_found \u001b[38;5;241m=\u001b[39m \u001b[38;5;124mf\u001b[39m\u001b[38;5;124m\"\u001b[39m\u001b[38;5;130;01m\\n\u001b[39;00m\u001b[38;5;132;01m{\u001b[39;00msep\u001b[38;5;132;01m}\u001b[39;00m\u001b[38;5;130;01m\\n\u001b[39;00m\u001b[38;5;132;01m{\u001b[39;00mmsg\u001b[38;5;132;01m}\u001b[39;00m\u001b[38;5;130;01m\\n\u001b[39;00m\u001b[38;5;132;01m{\u001b[39;00msep\u001b[38;5;132;01m}\u001b[39;00m\u001b[38;5;130;01m\\n\u001b[39;00m\u001b[38;5;124m\"\u001b[39m\n\u001b[0;32m--> 583\u001b[0m \u001b[38;5;28;01mraise\u001b[39;00m \u001b[38;5;167;01mLookupError\u001b[39;00m(resource_not_found)\n",
      "\u001b[0;31mLookupError\u001b[0m: \n**********************************************************************\n  Resource \u001b[93mstopwords\u001b[0m not found.\n  Please use the NLTK Downloader to obtain the resource:\n\n  \u001b[31m>>> import nltk\n  >>> nltk.download('stopwords')\n  \u001b[0m\n  For more information see: https://www.nltk.org/data.html\n\n  Attempted to load \u001b[93mcorpora/stopwords\u001b[0m\n\n  Searched in:\n    - '/Users/shreetamakarmakar/nltk_data'\n    - '/Users/shreetamakarmakar/.pyenv/versions/3.8.13/envs/SportsExperiencePlatform/nltk_data'\n    - '/Users/shreetamakarmakar/.pyenv/versions/3.8.13/envs/SportsExperiencePlatform/share/nltk_data'\n    - '/Users/shreetamakarmakar/.pyenv/versions/3.8.13/envs/SportsExperiencePlatform/lib/nltk_data'\n    - '/usr/share/nltk_data'\n    - '/usr/local/share/nltk_data'\n    - '/usr/lib/nltk_data'\n    - '/usr/local/lib/nltk_data'\n**********************************************************************\n"
     ]
    }
   ],
   "source": [
    "clean_string(\"'Yoga mit Nina Bettermann\\n\\nSonntags 17 Uhr — 18:30 Uhr\\n\\n90 Minuten intensive, ausgiebige Asana-Praxis mit wechselndem Schwerpunkt sowie Meditation stehen immer auf dem Programm. Unterrichtet wird die Stunde von Jivamuktilehrerin Nina Bettermann.\\n\\nUnterrichtssprache ist Deutsch - English if required!!\\n\\nNina Bettermann\\n\\nNina ist 800-Stunden zertifizierte Jivamukti-Lehrerin. 2005 besuchte sie ihre erste Yogastunde. Was anfangs als Ausgleich zum stressigen Studium gedacht war, wurde schnell zur unverzichtbaren täglichen Praxis. Nachdem sie verschiedene Yogastile ausprobiert hatte, fand sie schließlich im Jivamukti Yoga ihr Zuhause. Daher entschloss sie sich im Winter 2010, nach dem Abschluss ihres Pharmaziestudiums, das Jivamukti Yoga Teacher Training mit Sharon Gannon, David Life Patrick Broome und Yogeswari zu absolvieren. 2014 folgte das 800hrs-Apprenticeship bei ihrer Mentorin Vera. Seitdem unterrichtet Nina, neben ihrer Tätigkeit als Apothekerin, in mehreren Berliner Yogastudios. Dabei ist ihr aber die eigene tägliche Praxis weiterhin heilig. Denn nur was man selber erlebt hat, kann man auch authentisch weitergeben und unterrichten :)\\n\\nThe balance recommended:\\nDonation-Drop-In 13-16€\\nUSC Members Welcome\")"
   ]
  },
  {
   "cell_type": "code",
   "execution_count": 26,
   "id": "cf073251",
   "metadata": {},
   "outputs": [
    {
     "name": "stdout",
     "output_type": "stream",
     "text": [
      "Collecting nltk\n",
      "  Downloading nltk-3.7-py3-none-any.whl (1.5 MB)\n",
      "\u001b[2K     \u001b[90m━━━━━━━━━━━━━━━━━━━━━━━━━━━━━━━━━━━━━━━━\u001b[0m \u001b[32m1.5/1.5 MB\u001b[0m \u001b[31m3.6 MB/s\u001b[0m eta \u001b[36m0:00:00\u001b[0m00:01\u001b[0m00:01\u001b[0m\n",
      "\u001b[?25hRequirement already satisfied: click in /Users/shreetamakarmakar/.pyenv/versions/3.8.13/envs/SportsExperiencePlatform/lib/python3.8/site-packages (from nltk) (8.1.3)\n",
      "Collecting regex>=2021.8.3\n",
      "  Downloading regex-2022.4.24-cp38-cp38-macosx_10_9_x86_64.whl (289 kB)\n",
      "\u001b[2K     \u001b[90m━━━━━━━━━━━━━━━━━━━━━━━━━━━━━━━━━━━━━━━\u001b[0m \u001b[32m289.1/289.1 KB\u001b[0m \u001b[31m3.0 MB/s\u001b[0m eta \u001b[36m0:00:00\u001b[0m00:01\u001b[0m00:01\u001b[0m\n",
      "\u001b[?25hRequirement already satisfied: tqdm in /Users/shreetamakarmakar/.pyenv/versions/3.8.13/envs/SportsExperiencePlatform/lib/python3.8/site-packages (from nltk) (4.64.0)\n",
      "Requirement already satisfied: joblib in /Users/shreetamakarmakar/.pyenv/versions/3.8.13/envs/SportsExperiencePlatform/lib/python3.8/site-packages (from nltk) (1.1.0)\n",
      "Installing collected packages: regex, nltk\n",
      "Successfully installed nltk-3.7 regex-2022.4.24\n",
      "\u001b[33mWARNING: You are using pip version 22.0.4; however, version 22.1 is available.\n",
      "You should consider upgrading via the '/Users/shreetamakarmakar/.pyenv/versions/3.8.13/envs/SportsExperiencePlatform/bin/python3.8 -m pip install --upgrade pip' command.\u001b[0m\u001b[33m\n",
      "\u001b[0m"
     ]
    }
   ],
   "source": [
    "!pip install nltk"
   ]
  },
  {
   "cell_type": "code",
   "execution_count": 24,
   "id": "ee35009a",
   "metadata": {},
   "outputs": [
    {
     "name": "stdout",
     "output_type": "stream",
     "text": [
      "Collecting en-core-web-sm==3.3.0\n",
      "  Downloading https://github.com/explosion/spacy-models/releases/download/en_core_web_sm-3.3.0/en_core_web_sm-3.3.0-py3-none-any.whl (12.8 MB)\n",
      "\u001b[2K     \u001b[90m━━━━━━━━━━━━━━━━━━━━━━━━━━━━━━━━━━━━━━━━\u001b[0m \u001b[32m12.8/12.8 MB\u001b[0m \u001b[31m4.9 MB/s\u001b[0m eta \u001b[36m0:00:00\u001b[0m00:01\u001b[0m00:01\u001b[0m\n",
      "\u001b[?25hRequirement already satisfied: spacy<3.4.0,>=3.3.0.dev0 in /Users/shreetamakarmakar/.pyenv/versions/3.8.13/envs/SportsExperiencePlatform/lib/python3.8/site-packages (from en-core-web-sm==3.3.0) (3.3.0)\n",
      "Requirement already satisfied: pydantic!=1.8,!=1.8.1,<1.9.0,>=1.7.4 in /Users/shreetamakarmakar/.pyenv/versions/3.8.13/envs/SportsExperiencePlatform/lib/python3.8/site-packages (from spacy<3.4.0,>=3.3.0.dev0->en-core-web-sm==3.3.0) (1.8.2)\n",
      "Requirement already satisfied: murmurhash<1.1.0,>=0.28.0 in /Users/shreetamakarmakar/.pyenv/versions/3.8.13/envs/SportsExperiencePlatform/lib/python3.8/site-packages (from spacy<3.4.0,>=3.3.0.dev0->en-core-web-sm==3.3.0) (1.0.7)\n",
      "Requirement already satisfied: tqdm<5.0.0,>=4.38.0 in /Users/shreetamakarmakar/.pyenv/versions/3.8.13/envs/SportsExperiencePlatform/lib/python3.8/site-packages (from spacy<3.4.0,>=3.3.0.dev0->en-core-web-sm==3.3.0) (4.64.0)\n",
      "Requirement already satisfied: pathy>=0.3.5 in /Users/shreetamakarmakar/.pyenv/versions/3.8.13/envs/SportsExperiencePlatform/lib/python3.8/site-packages (from spacy<3.4.0,>=3.3.0.dev0->en-core-web-sm==3.3.0) (0.6.1)\n",
      "Requirement already satisfied: numpy>=1.15.0 in /Users/shreetamakarmakar/.pyenv/versions/3.8.13/envs/SportsExperiencePlatform/lib/python3.8/site-packages (from spacy<3.4.0,>=3.3.0.dev0->en-core-web-sm==3.3.0) (1.22.3)\n",
      "Requirement already satisfied: jinja2 in /Users/shreetamakarmakar/.pyenv/versions/3.8.13/envs/SportsExperiencePlatform/lib/python3.8/site-packages (from spacy<3.4.0,>=3.3.0.dev0->en-core-web-sm==3.3.0) (3.1.2)\n",
      "Requirement already satisfied: preshed<3.1.0,>=3.0.2 in /Users/shreetamakarmakar/.pyenv/versions/3.8.13/envs/SportsExperiencePlatform/lib/python3.8/site-packages (from spacy<3.4.0,>=3.3.0.dev0->en-core-web-sm==3.3.0) (3.0.6)\n",
      "Requirement already satisfied: langcodes<4.0.0,>=3.2.0 in /Users/shreetamakarmakar/.pyenv/versions/3.8.13/envs/SportsExperiencePlatform/lib/python3.8/site-packages (from spacy<3.4.0,>=3.3.0.dev0->en-core-web-sm==3.3.0) (3.3.0)\n",
      "Requirement already satisfied: setuptools in /Users/shreetamakarmakar/.pyenv/versions/3.8.13/envs/SportsExperiencePlatform/lib/python3.8/site-packages (from spacy<3.4.0,>=3.3.0.dev0->en-core-web-sm==3.3.0) (56.0.0)\n",
      "Requirement already satisfied: catalogue<2.1.0,>=2.0.6 in /Users/shreetamakarmakar/.pyenv/versions/3.8.13/envs/SportsExperiencePlatform/lib/python3.8/site-packages (from spacy<3.4.0,>=3.3.0.dev0->en-core-web-sm==3.3.0) (2.0.7)\n",
      "Requirement already satisfied: wasabi<1.1.0,>=0.9.1 in /Users/shreetamakarmakar/.pyenv/versions/3.8.13/envs/SportsExperiencePlatform/lib/python3.8/site-packages (from spacy<3.4.0,>=3.3.0.dev0->en-core-web-sm==3.3.0) (0.9.1)\n",
      "Requirement already satisfied: thinc<8.1.0,>=8.0.14 in /Users/shreetamakarmakar/.pyenv/versions/3.8.13/envs/SportsExperiencePlatform/lib/python3.8/site-packages (from spacy<3.4.0,>=3.3.0.dev0->en-core-web-sm==3.3.0) (8.0.16)\n",
      "Requirement already satisfied: srsly<3.0.0,>=2.4.3 in /Users/shreetamakarmakar/.pyenv/versions/3.8.13/envs/SportsExperiencePlatform/lib/python3.8/site-packages (from spacy<3.4.0,>=3.3.0.dev0->en-core-web-sm==3.3.0) (2.4.3)\n",
      "Requirement already satisfied: spacy-legacy<3.1.0,>=3.0.9 in /Users/shreetamakarmakar/.pyenv/versions/3.8.13/envs/SportsExperiencePlatform/lib/python3.8/site-packages (from spacy<3.4.0,>=3.3.0.dev0->en-core-web-sm==3.3.0) (3.0.9)\n",
      "Requirement already satisfied: spacy-loggers<2.0.0,>=1.0.0 in /Users/shreetamakarmakar/.pyenv/versions/3.8.13/envs/SportsExperiencePlatform/lib/python3.8/site-packages (from spacy<3.4.0,>=3.3.0.dev0->en-core-web-sm==3.3.0) (1.0.2)\n",
      "Requirement already satisfied: typer<0.5.0,>=0.3.0 in /Users/shreetamakarmakar/.pyenv/versions/3.8.13/envs/SportsExperiencePlatform/lib/python3.8/site-packages (from spacy<3.4.0,>=3.3.0.dev0->en-core-web-sm==3.3.0) (0.4.1)\n",
      "Requirement already satisfied: requests<3.0.0,>=2.13.0 in /Users/shreetamakarmakar/.pyenv/versions/3.8.13/envs/SportsExperiencePlatform/lib/python3.8/site-packages (from spacy<3.4.0,>=3.3.0.dev0->en-core-web-sm==3.3.0) (2.27.1)\n",
      "Requirement already satisfied: cymem<2.1.0,>=2.0.2 in /Users/shreetamakarmakar/.pyenv/versions/3.8.13/envs/SportsExperiencePlatform/lib/python3.8/site-packages (from spacy<3.4.0,>=3.3.0.dev0->en-core-web-sm==3.3.0) (2.0.6)\n",
      "Requirement already satisfied: blis<0.8.0,>=0.4.0 in /Users/shreetamakarmakar/.pyenv/versions/3.8.13/envs/SportsExperiencePlatform/lib/python3.8/site-packages (from spacy<3.4.0,>=3.3.0.dev0->en-core-web-sm==3.3.0) (0.7.7)\n",
      "Requirement already satisfied: packaging>=20.0 in /Users/shreetamakarmakar/.pyenv/versions/3.8.13/envs/SportsExperiencePlatform/lib/python3.8/site-packages (from spacy<3.4.0,>=3.3.0.dev0->en-core-web-sm==3.3.0) (21.3)\n",
      "Requirement already satisfied: pyparsing!=3.0.5,>=2.0.2 in /Users/shreetamakarmakar/.pyenv/versions/3.8.13/envs/SportsExperiencePlatform/lib/python3.8/site-packages (from packaging>=20.0->spacy<3.4.0,>=3.3.0.dev0->en-core-web-sm==3.3.0) (3.0.8)\n",
      "Requirement already satisfied: smart-open<6.0.0,>=5.0.0 in /Users/shreetamakarmakar/.pyenv/versions/3.8.13/envs/SportsExperiencePlatform/lib/python3.8/site-packages (from pathy>=0.3.5->spacy<3.4.0,>=3.3.0.dev0->en-core-web-sm==3.3.0) (5.2.1)\n",
      "Requirement already satisfied: typing-extensions>=3.7.4.3 in /Users/shreetamakarmakar/.pyenv/versions/3.8.13/envs/SportsExperiencePlatform/lib/python3.8/site-packages (from pydantic!=1.8,!=1.8.1,<1.9.0,>=1.7.4->spacy<3.4.0,>=3.3.0.dev0->en-core-web-sm==3.3.0) (4.2.0)\n",
      "Requirement already satisfied: charset-normalizer~=2.0.0 in /Users/shreetamakarmakar/.pyenv/versions/3.8.13/envs/SportsExperiencePlatform/lib/python3.8/site-packages (from requests<3.0.0,>=2.13.0->spacy<3.4.0,>=3.3.0.dev0->en-core-web-sm==3.3.0) (2.0.12)\n",
      "Requirement already satisfied: certifi>=2017.4.17 in /Users/shreetamakarmakar/.pyenv/versions/3.8.13/envs/SportsExperiencePlatform/lib/python3.8/site-packages (from requests<3.0.0,>=2.13.0->spacy<3.4.0,>=3.3.0.dev0->en-core-web-sm==3.3.0) (2021.10.8)\n",
      "Requirement already satisfied: idna<4,>=2.5 in /Users/shreetamakarmakar/.pyenv/versions/3.8.13/envs/SportsExperiencePlatform/lib/python3.8/site-packages (from requests<3.0.0,>=2.13.0->spacy<3.4.0,>=3.3.0.dev0->en-core-web-sm==3.3.0) (2.10)\n",
      "Requirement already satisfied: urllib3<1.27,>=1.21.1 in /Users/shreetamakarmakar/.pyenv/versions/3.8.13/envs/SportsExperiencePlatform/lib/python3.8/site-packages (from requests<3.0.0,>=2.13.0->spacy<3.4.0,>=3.3.0.dev0->en-core-web-sm==3.3.0) (1.26.9)\n",
      "Requirement already satisfied: click<9.0.0,>=7.1.1 in /Users/shreetamakarmakar/.pyenv/versions/3.8.13/envs/SportsExperiencePlatform/lib/python3.8/site-packages (from typer<0.5.0,>=0.3.0->spacy<3.4.0,>=3.3.0.dev0->en-core-web-sm==3.3.0) (8.1.3)\n",
      "Requirement already satisfied: MarkupSafe>=2.0 in /Users/shreetamakarmakar/.pyenv/versions/3.8.13/envs/SportsExperiencePlatform/lib/python3.8/site-packages (from jinja2->spacy<3.4.0,>=3.3.0.dev0->en-core-web-sm==3.3.0) (2.1.1)\n",
      "Installing collected packages: en-core-web-sm\n",
      "Successfully installed en-core-web-sm-3.3.0\n",
      "\u001b[33mWARNING: You are using pip version 22.0.4; however, version 22.1.1 is available.\n",
      "You should consider upgrading via the '/Users/shreetamakarmakar/.pyenv/versions/SportsExperiencePlatform/bin/python -m pip install --upgrade pip' command.\u001b[0m\u001b[33m\n",
      "\u001b[0m\u001b[38;5;2m✔ Download and installation successful\u001b[0m\n",
      "You can now load the package via spacy.load('en_core_web_sm')\n"
     ]
    }
   ],
   "source": [
    "!python -m spacy download en_core_web_sm"
   ]
  },
  {
   "cell_type": "code",
   "execution_count": null,
   "id": "bef611f3",
   "metadata": {},
   "outputs": [],
   "source": []
  }
 ],
 "metadata": {
  "kernelspec": {
   "display_name": "Python 3 (ipykernel)",
   "language": "python",
   "name": "python3"
  },
  "language_info": {
   "codemirror_mode": {
    "name": "ipython",
    "version": 3
   },
   "file_extension": ".py",
   "mimetype": "text/x-python",
   "name": "python",
   "nbconvert_exporter": "python",
   "pygments_lexer": "ipython3",
   "version": "3.8.13"
  },
  "toc": {
   "base_numbering": 1,
   "nav_menu": {},
   "number_sections": true,
   "sideBar": true,
   "skip_h1_title": false,
   "title_cell": "Table of Contents",
   "title_sidebar": "Contents",
   "toc_cell": false,
   "toc_position": {},
   "toc_section_display": true,
   "toc_window_display": false
  }
 },
 "nbformat": 4,
 "nbformat_minor": 5
}
