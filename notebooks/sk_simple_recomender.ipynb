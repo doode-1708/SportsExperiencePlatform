{
 "cells": [
  {
   "cell_type": "code",
   "execution_count": 1,
   "id": "248bf3da",
   "metadata": {},
   "outputs": [],
   "source": [
    "import numpy as np\n",
    "import pandas as pd\n",
    "import json\n",
    "import os"
   ]
  },
  {
   "cell_type": "code",
   "execution_count": null,
   "id": "9a85e518",
   "metadata": {},
   "outputs": [],
   "source": []
  },
  {
   "cell_type": "code",
   "execution_count": null,
   "id": "b9a554bc",
   "metadata": {},
   "outputs": [],
   "source": []
  },
  {
   "cell_type": "code",
   "execution_count": 2,
   "id": "be8d8504",
   "metadata": {},
   "outputs": [
    {
     "name": "stdout",
     "output_type": "stream",
     "text": [
      "['london_marathon_sk.json', 'london_cycling_sk.json', 'berlin_swimmimg.json', 'berlin_hiking.json', 'london_sports_sk.json', 'london_hiking_sk.json', 'london_fitness_sk.json', 'london_kayaking_sk.json', 'berlin_cycling.json', 'berlin_running.json', 'london_skating_sk.json', 'berlin_sports.json', 'london_yoga_sk.json', 'london_swimmimg_sk.json', 'london_football_sk.json', 'london_riding_sk.json', 'berlin_canoeing.json']\n"
     ]
    }
   ],
   "source": [
    "\n",
    "data_path = os.path.join(os.path.dirname(os.getcwd()), 'raw_data/')\n",
    "json_files = [files for files in os.listdir(data_path) if files.endswith('.json')]\n",
    "print(json_files)"
   ]
  },
  {
   "cell_type": "code",
   "execution_count": 3,
   "id": "267ffd61",
   "metadata": {},
   "outputs": [],
   "source": [
    "user_df = pd.read_csv(f'{data_path}users.csv')"
   ]
  },
  {
   "cell_type": "code",
   "execution_count": 4,
   "id": "e365c9a8",
   "metadata": {},
   "outputs": [
    {
     "data": {
      "text/html": [
       "<div>\n",
       "<style scoped>\n",
       "    .dataframe tbody tr th:only-of-type {\n",
       "        vertical-align: middle;\n",
       "    }\n",
       "\n",
       "    .dataframe tbody tr th {\n",
       "        vertical-align: top;\n",
       "    }\n",
       "\n",
       "    .dataframe thead th {\n",
       "        text-align: right;\n",
       "    }\n",
       "</style>\n",
       "<table border=\"1\" class=\"dataframe\">\n",
       "  <thead>\n",
       "    <tr style=\"text-align: right;\">\n",
       "      <th></th>\n",
       "      <th>0</th>\n",
       "      <th>1</th>\n",
       "      <th>2</th>\n",
       "      <th>3</th>\n",
       "      <th>4</th>\n",
       "    </tr>\n",
       "  </thead>\n",
       "  <tbody>\n",
       "    <tr>\n",
       "      <th>Unnamed: 0</th>\n",
       "      <td>0</td>\n",
       "      <td>1</td>\n",
       "      <td>2</td>\n",
       "      <td>3</td>\n",
       "      <td>4</td>\n",
       "    </tr>\n",
       "    <tr>\n",
       "      <th>id</th>\n",
       "      <td>19</td>\n",
       "      <td>20</td>\n",
       "      <td>21</td>\n",
       "      <td>22</td>\n",
       "      <td>23</td>\n",
       "    </tr>\n",
       "    <tr>\n",
       "      <th>email</th>\n",
       "      <td>johanna@gmail.com</td>\n",
       "      <td>anjali@gmail.com</td>\n",
       "      <td>alexandra@gmail.com</td>\n",
       "      <td>ieva@gmail.com</td>\n",
       "      <td>daniel@gmail.com</td>\n",
       "    </tr>\n",
       "    <tr>\n",
       "      <th>encrypted_password</th>\n",
       "      <td>$2a$12$rZkuGDgbHIHpi3sYfS4or.EmNEd61QoDhi3IEEL...</td>\n",
       "      <td>$2a$12$L.9JFRFJeF6GMfrvHQ9ycuxwAOS3ddYMeuhj7Qr...</td>\n",
       "      <td>$2a$12$ZBcWOyC2RU8aP5nWLKMlee54mNk4gmRIkFZPYL7...</td>\n",
       "      <td>$2a$12$xRfA6rvHxBLt0ETNb.fGputBmPcU1tEd6KiEXIr...</td>\n",
       "      <td>$2a$12$iElgTE/LWI.UAdBDKEUxYOpdme2qXF/nQyiuM2i...</td>\n",
       "    </tr>\n",
       "    <tr>\n",
       "      <th>reset_password_token</th>\n",
       "      <td>NaN</td>\n",
       "      <td>NaN</td>\n",
       "      <td>NaN</td>\n",
       "      <td>NaN</td>\n",
       "      <td>NaN</td>\n",
       "    </tr>\n",
       "    <tr>\n",
       "      <th>reset_password_sent_at</th>\n",
       "      <td>NaN</td>\n",
       "      <td>NaN</td>\n",
       "      <td>NaN</td>\n",
       "      <td>NaN</td>\n",
       "      <td>NaN</td>\n",
       "    </tr>\n",
       "    <tr>\n",
       "      <th>remember_created_at</th>\n",
       "      <td>NaN</td>\n",
       "      <td>NaN</td>\n",
       "      <td>NaN</td>\n",
       "      <td>NaN</td>\n",
       "      <td>NaN</td>\n",
       "    </tr>\n",
       "    <tr>\n",
       "      <th>created_at</th>\n",
       "      <td>2022-05-21 10:12:18.076423</td>\n",
       "      <td>2022-05-21 10:12:18.316674</td>\n",
       "      <td>2022-05-21 10:12:18.556628</td>\n",
       "      <td>2022-05-21 10:12:18.796555</td>\n",
       "      <td>2022-05-21 10:12:19.041699</td>\n",
       "    </tr>\n",
       "    <tr>\n",
       "      <th>updated_at</th>\n",
       "      <td>2022-05-21 10:12:18.076423</td>\n",
       "      <td>2022-05-21 10:12:18.316674</td>\n",
       "      <td>2022-05-21 10:12:18.556628</td>\n",
       "      <td>2022-05-21 10:12:18.796555</td>\n",
       "      <td>2022-05-21 10:12:19.041699</td>\n",
       "    </tr>\n",
       "    <tr>\n",
       "      <th>first_name</th>\n",
       "      <td>Johanna</td>\n",
       "      <td>Anjali</td>\n",
       "      <td>Alexandra</td>\n",
       "      <td>Ieva</td>\n",
       "      <td>Daniel</td>\n",
       "    </tr>\n",
       "    <tr>\n",
       "      <th>last_name</th>\n",
       "      <td>Maier</td>\n",
       "      <td>Kumar</td>\n",
       "      <td>Stroe</td>\n",
       "      <td>Jirgensone</td>\n",
       "      <td>Angerer</td>\n",
       "    </tr>\n",
       "    <tr>\n",
       "      <th>description</th>\n",
       "      <td>Hi, my name is Johanna! I want to go on my nex...</td>\n",
       "      <td>Hi, my name is Anjali! I want to go on my next...</td>\n",
       "      <td>Hi, my name is Alexandra! I want to go on my n...</td>\n",
       "      <td>Hi, my name is Ieva! I want to go on my next s...</td>\n",
       "      <td>Hi, my name is Daniel! I want to go on my next...</td>\n",
       "    </tr>\n",
       "    <tr>\n",
       "      <th>date_of_birth</th>\n",
       "      <td>1993-01-25</td>\n",
       "      <td>1993-01-25</td>\n",
       "      <td>1993-01-25</td>\n",
       "      <td>1993-01-25</td>\n",
       "      <td>1993-01-25</td>\n",
       "    </tr>\n",
       "    <tr>\n",
       "      <th>gender</th>\n",
       "      <td>female</td>\n",
       "      <td>female</td>\n",
       "      <td>female</td>\n",
       "      <td>female</td>\n",
       "      <td>male</td>\n",
       "    </tr>\n",
       "  </tbody>\n",
       "</table>\n",
       "</div>"
      ],
      "text/plain": [
       "                                                                        0  \\\n",
       "Unnamed: 0                                                              0   \n",
       "id                                                                     19   \n",
       "email                                                   johanna@gmail.com   \n",
       "encrypted_password      $2a$12$rZkuGDgbHIHpi3sYfS4or.EmNEd61QoDhi3IEEL...   \n",
       "reset_password_token                                                  NaN   \n",
       "reset_password_sent_at                                                NaN   \n",
       "remember_created_at                                                   NaN   \n",
       "created_at                                     2022-05-21 10:12:18.076423   \n",
       "updated_at                                     2022-05-21 10:12:18.076423   \n",
       "first_name                                                        Johanna   \n",
       "last_name                                                           Maier   \n",
       "description             Hi, my name is Johanna! I want to go on my nex...   \n",
       "date_of_birth                                                  1993-01-25   \n",
       "gender                                                             female   \n",
       "\n",
       "                                                                        1  \\\n",
       "Unnamed: 0                                                              1   \n",
       "id                                                                     20   \n",
       "email                                                    anjali@gmail.com   \n",
       "encrypted_password      $2a$12$L.9JFRFJeF6GMfrvHQ9ycuxwAOS3ddYMeuhj7Qr...   \n",
       "reset_password_token                                                  NaN   \n",
       "reset_password_sent_at                                                NaN   \n",
       "remember_created_at                                                   NaN   \n",
       "created_at                                     2022-05-21 10:12:18.316674   \n",
       "updated_at                                     2022-05-21 10:12:18.316674   \n",
       "first_name                                                         Anjali   \n",
       "last_name                                                           Kumar   \n",
       "description             Hi, my name is Anjali! I want to go on my next...   \n",
       "date_of_birth                                                  1993-01-25   \n",
       "gender                                                             female   \n",
       "\n",
       "                                                                        2  \\\n",
       "Unnamed: 0                                                              2   \n",
       "id                                                                     21   \n",
       "email                                                 alexandra@gmail.com   \n",
       "encrypted_password      $2a$12$ZBcWOyC2RU8aP5nWLKMlee54mNk4gmRIkFZPYL7...   \n",
       "reset_password_token                                                  NaN   \n",
       "reset_password_sent_at                                                NaN   \n",
       "remember_created_at                                                   NaN   \n",
       "created_at                                     2022-05-21 10:12:18.556628   \n",
       "updated_at                                     2022-05-21 10:12:18.556628   \n",
       "first_name                                                      Alexandra   \n",
       "last_name                                                           Stroe   \n",
       "description             Hi, my name is Alexandra! I want to go on my n...   \n",
       "date_of_birth                                                  1993-01-25   \n",
       "gender                                                             female   \n",
       "\n",
       "                                                                        3  \\\n",
       "Unnamed: 0                                                              3   \n",
       "id                                                                     22   \n",
       "email                                                      ieva@gmail.com   \n",
       "encrypted_password      $2a$12$xRfA6rvHxBLt0ETNb.fGputBmPcU1tEd6KiEXIr...   \n",
       "reset_password_token                                                  NaN   \n",
       "reset_password_sent_at                                                NaN   \n",
       "remember_created_at                                                   NaN   \n",
       "created_at                                     2022-05-21 10:12:18.796555   \n",
       "updated_at                                     2022-05-21 10:12:18.796555   \n",
       "first_name                                                           Ieva   \n",
       "last_name                                                      Jirgensone   \n",
       "description             Hi, my name is Ieva! I want to go on my next s...   \n",
       "date_of_birth                                                  1993-01-25   \n",
       "gender                                                             female   \n",
       "\n",
       "                                                                        4  \n",
       "Unnamed: 0                                                              4  \n",
       "id                                                                     23  \n",
       "email                                                    daniel@gmail.com  \n",
       "encrypted_password      $2a$12$iElgTE/LWI.UAdBDKEUxYOpdme2qXF/nQyiuM2i...  \n",
       "reset_password_token                                                  NaN  \n",
       "reset_password_sent_at                                                NaN  \n",
       "remember_created_at                                                   NaN  \n",
       "created_at                                     2022-05-21 10:12:19.041699  \n",
       "updated_at                                     2022-05-21 10:12:19.041699  \n",
       "first_name                                                         Daniel  \n",
       "last_name                                                         Angerer  \n",
       "description             Hi, my name is Daniel! I want to go on my next...  \n",
       "date_of_birth                                                  1993-01-25  \n",
       "gender                                                               male  "
      ]
     },
     "execution_count": 4,
     "metadata": {},
     "output_type": "execute_result"
    }
   ],
   "source": [
    "user_df.head().T"
   ]
  },
  {
   "cell_type": "code",
   "execution_count": 5,
   "id": "a7819752",
   "metadata": {},
   "outputs": [],
   "source": [
    "offers_df = pd.read_csv(f'{data_path}offers.csv')"
   ]
  },
  {
   "cell_type": "code",
   "execution_count": null,
   "id": "94bfa728",
   "metadata": {
    "scrolled": true
   },
   "outputs": [],
   "source": []
  },
  {
   "cell_type": "code",
   "execution_count": 6,
   "id": "181d195f",
   "metadata": {},
   "outputs": [],
   "source": [
    "data_path = os.path.join(os.path.dirname(os.getcwd()), 'raw_data/')\n",
    "\n",
    "json_files = [files for files in os.listdir(data_path) if files.endswith('.json')]\n",
    "#print(json_files)\n",
    "data_dict = []\n",
    "for val in json_files:\n",
    "    with open(data_path+val) as f:\n",
    "        data = json.load(f)\n",
    "         \n",
    "        for val in data:\n",
    "            data_dict.append({'title': val['node']['result']['title'],\n",
    "                              'description': val['node']['result']['description']\n",
    "                              \n",
    "                        \n",
    "                             })\n",
    "        \n"
   ]
  },
  {
   "cell_type": "code",
   "execution_count": 7,
   "id": "7395001d",
   "metadata": {},
   "outputs": [
    {
     "data": {
      "text/plain": [
       "(147, 2)"
      ]
     },
     "execution_count": 7,
     "metadata": {},
     "output_type": "execute_result"
    }
   ],
   "source": [
    "df = pd.DataFrame.from_dict(data_dict).drop_duplicates()\n",
    "df.shape"
   ]
  },
  {
   "cell_type": "code",
   "execution_count": 8,
   "id": "a516457f",
   "metadata": {},
   "outputs": [
    {
     "data": {
      "text/plain": [
       "0"
      ]
     },
     "execution_count": 8,
     "metadata": {},
     "output_type": "execute_result"
    }
   ],
   "source": [
    "df.duplicated().sum()"
   ]
  },
  {
   "cell_type": "code",
   "execution_count": null,
   "id": "454dcaa8",
   "metadata": {},
   "outputs": [],
   "source": []
  },
  {
   "cell_type": "markdown",
   "id": "6d3ffdc2",
   "metadata": {},
   "source": [
    "# simple cleaning of description"
   ]
  },
  {
   "cell_type": "code",
   "execution_count": 9,
   "id": "25704954",
   "metadata": {},
   "outputs": [
    {
     "data": {
      "text/plain": [
       "'!\"#$%&\\'()*+,-./:;<=>?@[\\\\]^_`{|}~'"
      ]
     },
     "execution_count": 9,
     "metadata": {},
     "output_type": "execute_result"
    }
   ],
   "source": [
    "import re\n",
    "import string\n",
    "string.punctuation"
   ]
  },
  {
   "cell_type": "code",
   "execution_count": 10,
   "id": "78f7128c",
   "metadata": {},
   "outputs": [],
   "source": [
    "def remove_punctuation(text):\n",
    "    no_punct=[words for words in text if words not in string.punctuation]\n",
    "    words_wo_punct=''.join(no_punct)\n",
    "    return words_wo_punct"
   ]
  },
  {
   "cell_type": "code",
   "execution_count": null,
   "id": "893b4b98",
   "metadata": {},
   "outputs": [],
   "source": []
  },
  {
   "cell_type": "code",
   "execution_count": 11,
   "id": "fefaa728",
   "metadata": {},
   "outputs": [
    {
     "data": {
      "text/plain": [
       "['Join',\n",
       " 'our',\n",
       " 'social',\n",
       " 'run',\n",
       " 'club!',\n",
       " 'Our',\n",
       " 'run',\n",
       " 'clubs',\n",
       " 'are',\n",
       " 'a',\n",
       " 'place',\n",
       " 'for',\n",
       " 'like-minded',\n",
       " 'runners',\n",
       " '(of',\n",
       " 'all',\n",
       " 'levels)',\n",
       " 'to',\n",
       " 'come',\n",
       " 'together,',\n",
       " 'be',\n",
       " 'active,',\n",
       " 'and',\n",
       " 'get',\n",
       " 'social.',\n",
       " 'We',\n",
       " 'run',\n",
       " 'an',\n",
       " 'open',\n",
       " 'level',\n",
       " '5k',\n",
       " 'together',\n",
       " 'every',\n",
       " 'Sunday',\n",
       " 'Morning',\n",
       " 'in',\n",
       " 'Hyde',\n",
       " 'Park,',\n",
       " 'we',\n",
       " 'go',\n",
       " 'at',\n",
       " 'the',\n",
       " 'pace',\n",
       " 'of',\n",
       " 'the',\n",
       " 'last',\n",
       " 'runner,',\n",
       " 'and',\n",
       " 'we',\n",
       " 'focus',\n",
       " 'as',\n",
       " 'much',\n",
       " 'on',\n",
       " 'the',\n",
       " 'conversation',\n",
       " 'as',\n",
       " 'on',\n",
       " 'the',\n",
       " 'run',\n",
       " 'itself.',\n",
       " 'We',\n",
       " 'began',\n",
       " 'in',\n",
       " 'June',\n",
       " '2021,',\n",
       " 'and',\n",
       " 'now',\n",
       " 'have',\n",
       " 'a',\n",
       " 'lovely',\n",
       " 'group',\n",
       " 'of',\n",
       " 'members,',\n",
       " 'ages',\n",
       " 'ranging',\n",
       " 'from',\n",
       " '17-65,',\n",
       " 'and',\n",
       " 'running',\n",
       " 'abilities',\n",
       " 'ranging',\n",
       " 'from',\n",
       " 'beginners',\n",
       " 'to',\n",
       " 'ultra-marathon',\n",
       " 'runners.',\n",
       " 'This',\n",
       " 'dynamic',\n",
       " 'is',\n",
       " 'so',\n",
       " 'special',\n",
       " 'and',\n",
       " 'has',\n",
       " 'brought',\n",
       " 'up',\n",
       " 'some',\n",
       " 'lovely',\n",
       " 'moments.',\n",
       " 'We',\n",
       " 'invite',\n",
       " 'anyone',\n",
       " 'and',\n",
       " 'everyone',\n",
       " 'to',\n",
       " 'come',\n",
       " 'join',\n",
       " 'us',\n",
       " 'and',\n",
       " 'see',\n",
       " 'what',\n",
       " 'running',\n",
       " 'as',\n",
       " 'a',\n",
       " 'group',\n",
       " 'is',\n",
       " 'all',\n",
       " 'about!',\n",
       " 'What',\n",
       " 'are',\n",
       " 'you',\n",
       " 'waiting',\n",
       " 'for?',\n",
       " \"Let's\",\n",
       " '#RunTogether.']"
      ]
     },
     "execution_count": 11,
     "metadata": {},
     "output_type": "execute_result"
    }
   ],
   "source": [
    "df['description'][0].split()"
   ]
  },
  {
   "cell_type": "code",
   "execution_count": null,
   "id": "1b069b4f",
   "metadata": {},
   "outputs": [],
   "source": []
  },
  {
   "cell_type": "code",
   "execution_count": 12,
   "id": "187c0795",
   "metadata": {},
   "outputs": [],
   "source": [
    "df['description_clean'] = df['description'].apply(lambda x: remove_punctuation(str(x)).lower().split())\n",
    "#df['description_clean'] = df['description'].apply(lambda x: remove_punctuation(x))\n",
    "#df['description_clean'] = df['description'].apply(lambda x: str(x).split())\n",
    "#df['description'] = df['description'].apply(lambda x: re.sub('[^A-Za-z0-9] ', '', str(x)))\n",
    "\n",
    "#df['description'] = df['description'].apply(lambda x: re.sub('^(http:+|https:)// ', '', str(x)))"
   ]
  },
  {
   "cell_type": "code",
   "execution_count": 13,
   "id": "440fbdd9",
   "metadata": {},
   "outputs": [
    {
     "data": {
      "text/plain": [
       "0      [join, our, social, run, club, our, run, clubs...\n",
       "3      [the, ultimate, online, law, of, attractionpos...\n",
       "4      [all, night, riichi, 6pm, saturday, till, 6am,...\n",
       "5      [“the, cyclist’s, marathon”, –, the, ride, lon...\n",
       "6      [the, ultimate, online, law, of, attractionpos...\n",
       "                             ...                        \n",
       "248    [outdoor, events, have, restarted, see, httpsw...\n",
       "252    [canoe, ride, around, the, spreewald, river, d...\n",
       "253    [canoe, ride, around, the, spreewald, river, d...\n",
       "254    [canoe, ride, around, the, spreewald, river, d...\n",
       "255    [canoe, ride, around, the, spreewald, river, d...\n",
       "Name: description_clean, Length: 147, dtype: object"
      ]
     },
     "execution_count": 13,
     "metadata": {},
     "output_type": "execute_result"
    }
   ],
   "source": [
    "df.description_clean"
   ]
  },
  {
   "cell_type": "markdown",
   "id": "f2f91469",
   "metadata": {},
   "source": [
    "# simple tfidf model: using the raw description"
   ]
  },
  {
   "cell_type": "code",
   "execution_count": 14,
   "id": "09dd9571",
   "metadata": {},
   "outputs": [],
   "source": [
    "from sklearn.feature_extraction.text import TfidfVectorizer, CountVectorizer\n",
    "\n",
    "tfidf = TfidfVectorizer(stop_words=\"english\")"
   ]
  },
  {
   "cell_type": "code",
   "execution_count": 15,
   "id": "fe129670",
   "metadata": {},
   "outputs": [
    {
     "data": {
      "text/plain": [
       "(147, 4386)"
      ]
     },
     "execution_count": 15,
     "metadata": {},
     "output_type": "execute_result"
    }
   ],
   "source": [
    "tfidf_matrix = tfidf.fit_transform(df[\"description\"])\n",
    "tfidf_matrix.shape"
   ]
  },
  {
   "cell_type": "code",
   "execution_count": 16,
   "id": "302cb92e",
   "metadata": {},
   "outputs": [],
   "source": [
    "cosine_sim = tfidf_matrix.dot(tfidf_matrix.T)"
   ]
  },
  {
   "cell_type": "code",
   "execution_count": 17,
   "id": "13396afd",
   "metadata": {},
   "outputs": [],
   "source": [
    "title_to_index = pd.Series(df.index, index = df[\"title\"]).drop_duplicates()"
   ]
  },
  {
   "cell_type": "code",
   "execution_count": 18,
   "id": "11d51f51",
   "metadata": {},
   "outputs": [],
   "source": [
    "def content_recommender(title, cosine_sim = cosine_sim, df = df, title_to_index = title_to_index):\n",
    "    idx = title_to_index[title]\n",
    "    \n",
    "    sim_scores = list(enumerate(cosine_sim[idx].todense().tolist()[0]))\n",
    "    # list of set [(index, sim score), (index, sim score), ...]\n",
    "    \n",
    "    sim_scores = sorted(sim_scores, key = lambda x: x[1], reverse = True)\n",
    "    # Sort the list of set by sim score, index with highest simlirarity\n",
    "    # Will be at the beginning of the list\n",
    "    \n",
    "    sim_scores = sim_scores[1:11] # top 10 events (first one is our input events so we ignore it)\n",
    "    \n",
    "    sport_indices = [i[0] for i in sim_scores] # we grab the indices of those 10 events\n",
    "    \n",
    "    return df[\"title\"].iloc[sport_indices]"
   ]
  },
  {
   "cell_type": "code",
   "execution_count": 19,
   "id": "f9c51fa6",
   "metadata": {},
   "outputs": [
    {
     "data": {
      "text/html": [
       "<div>\n",
       "<style scoped>\n",
       "    .dataframe tbody tr th:only-of-type {\n",
       "        vertical-align: middle;\n",
       "    }\n",
       "\n",
       "    .dataframe tbody tr th {\n",
       "        vertical-align: top;\n",
       "    }\n",
       "\n",
       "    .dataframe thead th {\n",
       "        text-align: right;\n",
       "    }\n",
       "</style>\n",
       "<table border=\"1\" class=\"dataframe\">\n",
       "  <thead>\n",
       "    <tr style=\"text-align: right;\">\n",
       "      <th></th>\n",
       "      <th>title</th>\n",
       "      <th>description</th>\n",
       "      <th>description_clean</th>\n",
       "    </tr>\n",
       "  </thead>\n",
       "  <tbody>\n",
       "    <tr>\n",
       "      <th>0</th>\n",
       "      <td>Hyde Park Social 5k Run</td>\n",
       "      <td>Join our social run club!\\n\\nOur run clubs are...</td>\n",
       "      <td>[join, our, social, run, club, our, run, clubs...</td>\n",
       "    </tr>\n",
       "    <tr>\n",
       "      <th>3</th>\n",
       "      <td>*SAT 4TH JUNE ONLINE MARATHON 2022!!!* Law Of ...</td>\n",
       "      <td>THE ULTIMATE ONLINE LAW OF ATTRACTION/POSITIVI...</td>\n",
       "      <td>[the, ultimate, online, law, of, attractionpos...</td>\n",
       "    </tr>\n",
       "    <tr>\n",
       "      <th>4</th>\n",
       "      <td>All Night Riichi Mahjong Marathon</td>\n",
       "      <td>All Night Riichi\\n===\\n\\n6pm Saturday till 6am...</td>\n",
       "      <td>[all, night, riichi, 6pm, saturday, till, 6am,...</td>\n",
       "    </tr>\n",
       "    <tr>\n",
       "      <th>5</th>\n",
       "      <td>RideLondon-Essex 100</td>\n",
       "      <td>**“The cyclist’s marathon” – the Ride London i...</td>\n",
       "      <td>[“the, cyclist’s, marathon”, –, the, ride, lon...</td>\n",
       "    </tr>\n",
       "    <tr>\n",
       "      <th>6</th>\n",
       "      <td>*SAT 2ND JULY ONLINE MARATHON 2022!!!* Law Of ...</td>\n",
       "      <td>THE ULTIMATE ONLINE LAW OF ATTRACTION/POSITIVI...</td>\n",
       "      <td>[the, ultimate, online, law, of, attractionpos...</td>\n",
       "    </tr>\n",
       "    <tr>\n",
       "      <th>...</th>\n",
       "      <td>...</td>\n",
       "      <td>...</td>\n",
       "      <td>...</td>\n",
       "    </tr>\n",
       "    <tr>\n",
       "      <th>227</th>\n",
       "      <td>Football game. CCFC (Clapham Common Football C...</td>\n",
       "      <td>A few places spare tomorrow.\\n\\nMeet up player...</td>\n",
       "      <td>[a, few, places, spare, tomorrow, meet, up, pl...</td>\n",
       "    </tr>\n",
       "    <tr>\n",
       "      <th>228</th>\n",
       "      <td>PRIME Football at Powerleague Vauxhall</td>\n",
       "      <td>Football session for over 35s on the 4G astrot...</td>\n",
       "      <td>[football, session, for, over, 35s, on, the, 4...</td>\n",
       "    </tr>\n",
       "    <tr>\n",
       "      <th>230</th>\n",
       "      <td>Walking football</td>\n",
       "      <td>Just show up at the pitch in front of the Leis...</td>\n",
       "      <td>[just, show, up, at, the, pitch, in, front, of...</td>\n",
       "    </tr>\n",
       "    <tr>\n",
       "      <th>232</th>\n",
       "      <td>Real walks &amp; cycle rides - RESTART!!</td>\n",
       "      <td>OUTDOOR EVENTS HAVE RESTARTED!!!!!!!!!!!!!!!!!...</td>\n",
       "      <td>[outdoor, events, have, restarted, see, httpsw...</td>\n",
       "    </tr>\n",
       "    <tr>\n",
       "      <th>235</th>\n",
       "      <td>Real walks and cycle rides have RESTARTED</td>\n",
       "      <td>OUTDOOR EVENTS HAVE RESTARTED!!!!!!!!!!!!!!!!!...</td>\n",
       "      <td>[outdoor, events, have, restarted, see, httpsw...</td>\n",
       "    </tr>\n",
       "  </tbody>\n",
       "</table>\n",
       "<p>142 rows × 3 columns</p>\n",
       "</div>"
      ],
      "text/plain": [
       "                                                 title  \\\n",
       "0                              Hyde Park Social 5k Run   \n",
       "3    *SAT 4TH JUNE ONLINE MARATHON 2022!!!* Law Of ...   \n",
       "4                    All Night Riichi Mahjong Marathon   \n",
       "5                                 RideLondon-Essex 100   \n",
       "6    *SAT 2ND JULY ONLINE MARATHON 2022!!!* Law Of ...   \n",
       "..                                                 ...   \n",
       "227  Football game. CCFC (Clapham Common Football C...   \n",
       "228             PRIME Football at Powerleague Vauxhall   \n",
       "230                                   Walking football   \n",
       "232               Real walks & cycle rides - RESTART!!   \n",
       "235          Real walks and cycle rides have RESTARTED   \n",
       "\n",
       "                                           description  \\\n",
       "0    Join our social run club!\\n\\nOur run clubs are...   \n",
       "3    THE ULTIMATE ONLINE LAW OF ATTRACTION/POSITIVI...   \n",
       "4    All Night Riichi\\n===\\n\\n6pm Saturday till 6am...   \n",
       "5    **“The cyclist’s marathon” – the Ride London i...   \n",
       "6    THE ULTIMATE ONLINE LAW OF ATTRACTION/POSITIVI...   \n",
       "..                                                 ...   \n",
       "227  A few places spare tomorrow.\\n\\nMeet up player...   \n",
       "228  Football session for over 35s on the 4G astrot...   \n",
       "230  Just show up at the pitch in front of the Leis...   \n",
       "232  OUTDOOR EVENTS HAVE RESTARTED!!!!!!!!!!!!!!!!!...   \n",
       "235  OUTDOOR EVENTS HAVE RESTARTED!!!!!!!!!!!!!!!!!...   \n",
       "\n",
       "                                     description_clean  \n",
       "0    [join, our, social, run, club, our, run, clubs...  \n",
       "3    [the, ultimate, online, law, of, attractionpos...  \n",
       "4    [all, night, riichi, 6pm, saturday, till, 6am,...  \n",
       "5    [“the, cyclist’s, marathon”, –, the, ride, lon...  \n",
       "6    [the, ultimate, online, law, of, attractionpos...  \n",
       "..                                                 ...  \n",
       "227  [a, few, places, spare, tomorrow, meet, up, pl...  \n",
       "228  [football, session, for, over, 35s, on, the, 4...  \n",
       "230  [just, show, up, at, the, pitch, in, front, of...  \n",
       "232  [outdoor, events, have, restarted, see, httpsw...  \n",
       "235  [outdoor, events, have, restarted, see, httpsw...  \n",
       "\n",
       "[142 rows x 3 columns]"
      ]
     },
     "execution_count": 19,
     "metadata": {},
     "output_type": "execute_result"
    }
   ],
   "source": [
    "df.head(-5)"
   ]
  },
  {
   "cell_type": "code",
   "execution_count": 21,
   "id": "61f85338",
   "metadata": {},
   "outputs": [
    {
     "ename": "KeyError",
     "evalue": "'5 km'",
     "output_type": "error",
     "traceback": [
      "\u001b[0;31m---------------------------------------------------------------------------\u001b[0m",
      "\u001b[0;31mKeyError\u001b[0m                                  Traceback (most recent call last)",
      "File \u001b[0;32m~/.pyenv/versions/3.8.13/envs/SportsExperiencePlatform/lib/python3.8/site-packages/pandas/core/indexes/base.py:3621\u001b[0m, in \u001b[0;36mIndex.get_loc\u001b[0;34m(self, key, method, tolerance)\u001b[0m\n\u001b[1;32m   3620\u001b[0m \u001b[38;5;28;01mtry\u001b[39;00m:\n\u001b[0;32m-> 3621\u001b[0m     \u001b[38;5;28;01mreturn\u001b[39;00m \u001b[38;5;28;43mself\u001b[39;49m\u001b[38;5;241;43m.\u001b[39;49m\u001b[43m_engine\u001b[49m\u001b[38;5;241;43m.\u001b[39;49m\u001b[43mget_loc\u001b[49m\u001b[43m(\u001b[49m\u001b[43mcasted_key\u001b[49m\u001b[43m)\u001b[49m\n\u001b[1;32m   3622\u001b[0m \u001b[38;5;28;01mexcept\u001b[39;00m \u001b[38;5;167;01mKeyError\u001b[39;00m \u001b[38;5;28;01mas\u001b[39;00m err:\n",
      "File \u001b[0;32mpandas/_libs/index.pyx:136\u001b[0m, in \u001b[0;36mpandas._libs.index.IndexEngine.get_loc\u001b[0;34m()\u001b[0m\n",
      "File \u001b[0;32mpandas/_libs/index.pyx:160\u001b[0m, in \u001b[0;36mpandas._libs.index.IndexEngine.get_loc\u001b[0;34m()\u001b[0m\n",
      "File \u001b[0;32mpandas/_libs/index.pyx:201\u001b[0m, in \u001b[0;36mpandas._libs.index.IndexEngine._get_loc_duplicates\u001b[0;34m()\u001b[0m\n",
      "File \u001b[0;32mpandas/_libs/index.pyx:209\u001b[0m, in \u001b[0;36mpandas._libs.index.IndexEngine._maybe_get_bool_indexer\u001b[0;34m()\u001b[0m\n",
      "File \u001b[0;32mpandas/_libs/index.pyx:107\u001b[0m, in \u001b[0;36mpandas._libs.index._unpack_bool_indexer\u001b[0;34m()\u001b[0m\n",
      "\u001b[0;31mKeyError\u001b[0m: '5 km'",
      "\nThe above exception was the direct cause of the following exception:\n",
      "\u001b[0;31mKeyError\u001b[0m                                  Traceback (most recent call last)",
      "Input \u001b[0;32mIn [21]\u001b[0m, in \u001b[0;36m<cell line: 1>\u001b[0;34m()\u001b[0m\n\u001b[0;32m----> 1\u001b[0m \u001b[43mcontent_recommender\u001b[49m\u001b[43m(\u001b[49m\u001b[38;5;124;43m\"\u001b[39;49m\u001b[38;5;124;43m5 km\u001b[39;49m\u001b[38;5;124;43m\"\u001b[39;49m\u001b[43m)\u001b[49m\n",
      "Input \u001b[0;32mIn [18]\u001b[0m, in \u001b[0;36mcontent_recommender\u001b[0;34m(title, cosine_sim, df, title_to_index)\u001b[0m\n\u001b[1;32m      1\u001b[0m \u001b[38;5;28;01mdef\u001b[39;00m \u001b[38;5;21mcontent_recommender\u001b[39m(title, cosine_sim \u001b[38;5;241m=\u001b[39m cosine_sim, df \u001b[38;5;241m=\u001b[39m df, title_to_index \u001b[38;5;241m=\u001b[39m title_to_index):\n\u001b[0;32m----> 2\u001b[0m     idx \u001b[38;5;241m=\u001b[39m \u001b[43mtitle_to_index\u001b[49m\u001b[43m[\u001b[49m\u001b[43mtitle\u001b[49m\u001b[43m]\u001b[49m\n\u001b[1;32m      4\u001b[0m     sim_scores \u001b[38;5;241m=\u001b[39m \u001b[38;5;28mlist\u001b[39m(\u001b[38;5;28menumerate\u001b[39m(cosine_sim[idx]\u001b[38;5;241m.\u001b[39mtodense()\u001b[38;5;241m.\u001b[39mtolist()[\u001b[38;5;241m0\u001b[39m]))\n\u001b[1;32m      5\u001b[0m     \u001b[38;5;66;03m# list of set [(index, sim score), (index, sim score), ...]\u001b[39;00m\n",
      "File \u001b[0;32m~/.pyenv/versions/3.8.13/envs/SportsExperiencePlatform/lib/python3.8/site-packages/pandas/core/series.py:958\u001b[0m, in \u001b[0;36mSeries.__getitem__\u001b[0;34m(self, key)\u001b[0m\n\u001b[1;32m    955\u001b[0m     \u001b[38;5;28;01mreturn\u001b[39;00m \u001b[38;5;28mself\u001b[39m\u001b[38;5;241m.\u001b[39m_values[key]\n\u001b[1;32m    957\u001b[0m \u001b[38;5;28;01melif\u001b[39;00m key_is_scalar:\n\u001b[0;32m--> 958\u001b[0m     \u001b[38;5;28;01mreturn\u001b[39;00m \u001b[38;5;28;43mself\u001b[39;49m\u001b[38;5;241;43m.\u001b[39;49m\u001b[43m_get_value\u001b[49m\u001b[43m(\u001b[49m\u001b[43mkey\u001b[49m\u001b[43m)\u001b[49m\n\u001b[1;32m    960\u001b[0m \u001b[38;5;28;01mif\u001b[39;00m is_hashable(key):\n\u001b[1;32m    961\u001b[0m     \u001b[38;5;66;03m# Otherwise index.get_value will raise InvalidIndexError\u001b[39;00m\n\u001b[1;32m    962\u001b[0m     \u001b[38;5;28;01mtry\u001b[39;00m:\n\u001b[1;32m    963\u001b[0m         \u001b[38;5;66;03m# For labels that don't resolve as scalars like tuples and frozensets\u001b[39;00m\n",
      "File \u001b[0;32m~/.pyenv/versions/3.8.13/envs/SportsExperiencePlatform/lib/python3.8/site-packages/pandas/core/series.py:1069\u001b[0m, in \u001b[0;36mSeries._get_value\u001b[0;34m(self, label, takeable)\u001b[0m\n\u001b[1;32m   1066\u001b[0m     \u001b[38;5;28;01mreturn\u001b[39;00m \u001b[38;5;28mself\u001b[39m\u001b[38;5;241m.\u001b[39m_values[label]\n\u001b[1;32m   1068\u001b[0m \u001b[38;5;66;03m# Similar to Index.get_value, but we do not fall back to positional\u001b[39;00m\n\u001b[0;32m-> 1069\u001b[0m loc \u001b[38;5;241m=\u001b[39m \u001b[38;5;28;43mself\u001b[39;49m\u001b[38;5;241;43m.\u001b[39;49m\u001b[43mindex\u001b[49m\u001b[38;5;241;43m.\u001b[39;49m\u001b[43mget_loc\u001b[49m\u001b[43m(\u001b[49m\u001b[43mlabel\u001b[49m\u001b[43m)\u001b[49m\n\u001b[1;32m   1070\u001b[0m \u001b[38;5;28;01mreturn\u001b[39;00m \u001b[38;5;28mself\u001b[39m\u001b[38;5;241m.\u001b[39mindex\u001b[38;5;241m.\u001b[39m_get_values_for_loc(\u001b[38;5;28mself\u001b[39m, loc, label)\n",
      "File \u001b[0;32m~/.pyenv/versions/3.8.13/envs/SportsExperiencePlatform/lib/python3.8/site-packages/pandas/core/indexes/base.py:3623\u001b[0m, in \u001b[0;36mIndex.get_loc\u001b[0;34m(self, key, method, tolerance)\u001b[0m\n\u001b[1;32m   3621\u001b[0m     \u001b[38;5;28;01mreturn\u001b[39;00m \u001b[38;5;28mself\u001b[39m\u001b[38;5;241m.\u001b[39m_engine\u001b[38;5;241m.\u001b[39mget_loc(casted_key)\n\u001b[1;32m   3622\u001b[0m \u001b[38;5;28;01mexcept\u001b[39;00m \u001b[38;5;167;01mKeyError\u001b[39;00m \u001b[38;5;28;01mas\u001b[39;00m err:\n\u001b[0;32m-> 3623\u001b[0m     \u001b[38;5;28;01mraise\u001b[39;00m \u001b[38;5;167;01mKeyError\u001b[39;00m(key) \u001b[38;5;28;01mfrom\u001b[39;00m \u001b[38;5;21;01merr\u001b[39;00m\n\u001b[1;32m   3624\u001b[0m \u001b[38;5;28;01mexcept\u001b[39;00m \u001b[38;5;167;01mTypeError\u001b[39;00m:\n\u001b[1;32m   3625\u001b[0m     \u001b[38;5;66;03m# If we have a listlike key, _check_indexing_error will raise\u001b[39;00m\n\u001b[1;32m   3626\u001b[0m     \u001b[38;5;66;03m#  InvalidIndexError. Otherwise we fall through and re-raise\u001b[39;00m\n\u001b[1;32m   3627\u001b[0m     \u001b[38;5;66;03m#  the TypeError.\u001b[39;00m\n\u001b[1;32m   3628\u001b[0m     \u001b[38;5;28mself\u001b[39m\u001b[38;5;241m.\u001b[39m_check_indexing_error(key)\n",
      "\u001b[0;31mKeyError\u001b[0m: '5 km'"
     ]
    }
   ],
   "source": [
    "content_recommender(\"5 km\")"
   ]
  },
  {
   "cell_type": "code",
   "execution_count": null,
   "id": "5ff218b1",
   "metadata": {},
   "outputs": [],
   "source": []
  },
  {
   "cell_type": "code",
   "execution_count": null,
   "id": "2a1a33f7",
   "metadata": {},
   "outputs": [],
   "source": []
  }
 ],
 "metadata": {
  "kernelspec": {
   "display_name": "Python 3 (ipykernel)",
   "language": "python",
   "name": "python3"
  },
  "language_info": {
   "codemirror_mode": {
    "name": "ipython",
    "version": 3
   },
   "file_extension": ".py",
   "mimetype": "text/x-python",
   "name": "python",
   "nbconvert_exporter": "python",
   "pygments_lexer": "ipython3",
   "version": "3.8.13"
  },
  "toc": {
   "base_numbering": 1,
   "nav_menu": {},
   "number_sections": true,
   "sideBar": true,
   "skip_h1_title": false,
   "title_cell": "Table of Contents",
   "title_sidebar": "Contents",
   "toc_cell": false,
   "toc_position": {},
   "toc_section_display": true,
   "toc_window_display": false
  }
 },
 "nbformat": 4,
 "nbformat_minor": 5
}
